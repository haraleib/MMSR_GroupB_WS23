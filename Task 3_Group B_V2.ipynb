{
 "cells": [
  {
   "cell_type": "markdown",
   "id": "4b45d764",
   "metadata": {},
   "source": [
    "<h1 style=\"color:rgb(0,120,170)\">344.038, KV Multimedia Search and Retrieval (WS2023/24)</h1>\n",
    "<h2 style=\"color:rgb(0,120,170)\">Task 3_Group B</h2>"
   ]
  },
  {
   "cell_type": "markdown",
   "id": "cf629014",
   "metadata": {},
   "source": [
    "| First Name | Family Name  | Matr.Nr   |\n",
    "|:-----------|:-------------|:----------|\n",
    "| Harald     | Eibensteiner | K01300179 |\n",
    "| Hadi       | Sanaei       | K11733444 |\n",
    "| Lukas      | Troyer       | K12006666 |\n",
    "| Lukas      | Wagner       | K01357626 |\n",
    "| Branko     | Paunović     | K12046370 |"
   ]
  },
  {
   "cell_type": "markdown",
   "id": "e37ef5cd",
   "metadata": {},
   "source": [
    "# Retrieval systems"
   ]
  },
  {
   "cell_type": "markdown",
   "id": "92437e32c9ea0f1f",
   "metadata": {
    "collapsed": false,
    "jupyter": {
     "outputs_hidden": false
    }
   },
   "source": [
    "#### Import datasets, setup helper interfaces"
   ]
  },
  {
   "cell_type": "code",
   "execution_count": 1,
   "id": "d6fe9727-ec04-4803-94d1-ed8d756e0db7",
   "metadata": {
    "ExecuteTime": {
     "end_time": "2023-12-13T06:10:01.826598957Z",
     "start_time": "2023-12-13T06:09:51.619931865Z"
    },
    "tags": []
   },
   "outputs": [],
   "source": [
    "%load_ext autoreload\n",
    "%autoreload 2\n",
    "\n",
    "import pandas as pd\n",
    "\n",
    "import numpy as np\n",
    "np.random.seed(42)\n",
    "\n",
    "from song import songs\n",
    "from datasets import datasets\n",
    "from retrieval import Retrieval\n",
    "retrieval = Retrieval(n=100)\n",
    "retrieval.precompute_all(threads=4)"
   ]
  },
  {
   "cell_type": "code",
   "execution_count": 3,
   "id": "1b9262d5",
   "metadata": {},
   "outputs": [],
   "source": [
    "# precompute retrievals (for frontend and chached lookup)\n",
    "\n",
    "# only do this if you want to recompute the retrieval\n",
    "\n",
    "retrieval = Retrieval(n=100)\n",
    "retrieval.precompute_all(threads=4)"
   ]
  },
  {
   "cell_type": "markdown",
   "id": "91573b97",
   "metadata": {},
   "source": [
    "#### Prompt for user input"
   ]
  },
  {
   "cell_type": "code",
   "execution_count": 3,
   "id": "dd77cca7",
   "metadata": {
    "ExecuteTime": {
     "end_time": "2023-12-13T06:10:07.069923361Z",
     "start_time": "2023-12-13T06:10:01.826507275Z"
    }
   },
   "outputs": [
    {
     "name": "stdout",
     "output_type": "stream",
     "text": [
      "Enter the number of top similar tracks:  100\n",
      "Enter the song title:  Letterman\n",
      "Enter the artist name:  Wiz Khalifa\n"
     ]
    }
   ],
   "source": [
    "# Number of similar songs to retrieve\n",
    "num_top_similar = int(input(\"Enter the number of top similar tracks: \"))\n",
    "\n",
    "# Example:\n",
    "#   - Title: Letterman\n",
    "#   - Artist: Wiz Khalifa\n",
    "query, query_row_id = songs.prompt_song_query()"
   ]
  },
  {
   "cell_type": "markdown",
   "id": "c1fb346b",
   "metadata": {},
   "source": [
    "## Video-Based(\\<similarity\\>, \\<feature\\>)\n",
    "### 1. Video-based(similarity, incp)"
   ]
  },
  {
   "cell_type": "code",
   "execution_count": 4,
   "id": "949bced0",
   "metadata": {
    "ExecuteTime": {
     "end_time": "2023-12-13T06:10:07.165515150Z",
     "start_time": "2023-12-13T06:10:07.069877645Z"
    }
   },
   "outputs": [
    {
     "name": "stdout",
     "output_type": "stream",
     "text": [
      "Error syncing cache with disk: Expecting ',' delimiter: line 1 column 37937813 (char 37937812)\n"
     ]
    },
    {
     "data": {
      "text/html": [
       "<div>\n",
       "<style scoped>\n",
       "    .dataframe tbody tr th:only-of-type {\n",
       "        vertical-align: middle;\n",
       "    }\n",
       "\n",
       "    .dataframe tbody tr th {\n",
       "        vertical-align: top;\n",
       "    }\n",
       "\n",
       "    .dataframe thead th {\n",
       "        text-align: right;\n",
       "    }\n",
       "</style>\n",
       "<table border=\"1\" class=\"dataframe\">\n",
       "  <thead>\n",
       "    <tr style=\"text-align: right;\">\n",
       "      <th></th>\n",
       "      <th>id</th>\n",
       "      <th>similarity</th>\n",
       "      <th>song</th>\n",
       "      <th>artist</th>\n",
       "      <th>album_name</th>\n",
       "    </tr>\n",
       "  </thead>\n",
       "  <tbody>\n",
       "    <tr>\n",
       "      <th>0</th>\n",
       "      <td>GY25og83Ng5O9s75</td>\n",
       "      <td>0.783461</td>\n",
       "      <td>Remind Me</td>\n",
       "      <td>Röyksopp</td>\n",
       "      <td>Melody A.M.</td>\n",
       "    </tr>\n",
       "    <tr>\n",
       "      <th>1</th>\n",
       "      <td>gw9zZ3xtxoEjmYeB</td>\n",
       "      <td>0.777114</td>\n",
       "      <td>Locos</td>\n",
       "      <td>Cypress Hill</td>\n",
       "      <td>Elephants on Acid</td>\n",
       "    </tr>\n",
       "    <tr>\n",
       "      <th>2</th>\n",
       "      <td>8syTodUYnWUZtcIo</td>\n",
       "      <td>0.771750</td>\n",
       "      <td>Voodoo Child (Slight Return)</td>\n",
       "      <td>Jimi Hendrix</td>\n",
       "      <td>Electric Ladyland</td>\n",
       "    </tr>\n",
       "    <tr>\n",
       "      <th>3</th>\n",
       "      <td>Dtf7ZV2mJSpyuvdD</td>\n",
       "      <td>0.770228</td>\n",
       "      <td>Hollow Man</td>\n",
       "      <td>R.E.M.</td>\n",
       "      <td>Accelerate</td>\n",
       "    </tr>\n",
       "    <tr>\n",
       "      <th>4</th>\n",
       "      <td>VSfGMu47DQFgMW4m</td>\n",
       "      <td>0.764065</td>\n",
       "      <td>Love Is The Drug</td>\n",
       "      <td>Grace Jones</td>\n",
       "      <td>Island Life</td>\n",
       "    </tr>\n",
       "    <tr>\n",
       "      <th>...</th>\n",
       "      <td>...</td>\n",
       "      <td>...</td>\n",
       "      <td>...</td>\n",
       "      <td>...</td>\n",
       "      <td>...</td>\n",
       "    </tr>\n",
       "    <tr>\n",
       "      <th>95</th>\n",
       "      <td>VtF32nX4mmVRGMEj</td>\n",
       "      <td>0.723284</td>\n",
       "      <td>Sweater Weather</td>\n",
       "      <td>The Neighbourhood</td>\n",
       "      <td>I Love You.</td>\n",
       "    </tr>\n",
       "    <tr>\n",
       "      <th>96</th>\n",
       "      <td>xE2N4kfcqEs2KAKR</td>\n",
       "      <td>0.722540</td>\n",
       "      <td>Quem Sabe Isso Quer Dizer Amor</td>\n",
       "      <td>Roberta Campos</td>\n",
       "      <td>Varrendo a Lua</td>\n",
       "    </tr>\n",
       "    <tr>\n",
       "      <th>97</th>\n",
       "      <td>syTw63wc7JVr6xLu</td>\n",
       "      <td>0.722504</td>\n",
       "      <td>Female Robbery</td>\n",
       "      <td>The Neighbourhood</td>\n",
       "      <td>I Love You.</td>\n",
       "    </tr>\n",
       "    <tr>\n",
       "      <th>98</th>\n",
       "      <td>xTkNXKaWbD5Koq8M</td>\n",
       "      <td>0.722439</td>\n",
       "      <td>Money</td>\n",
       "      <td>Leikeli47</td>\n",
       "      <td>Wash &amp; Set</td>\n",
       "    </tr>\n",
       "    <tr>\n",
       "      <th>99</th>\n",
       "      <td>HBeK1uQ46cJLGak4</td>\n",
       "      <td>0.722306</td>\n",
       "      <td>Mordecai</td>\n",
       "      <td>Between the Buried and Me</td>\n",
       "      <td>The Silent Circus</td>\n",
       "    </tr>\n",
       "  </tbody>\n",
       "</table>\n",
       "<p>100 rows × 5 columns</p>\n",
       "</div>"
      ],
      "text/plain": [
       "                  id  similarity                            song  \\\n",
       "0   GY25og83Ng5O9s75    0.783461                       Remind Me   \n",
       "1   gw9zZ3xtxoEjmYeB    0.777114                           Locos   \n",
       "2   8syTodUYnWUZtcIo    0.771750    Voodoo Child (Slight Return)   \n",
       "3   Dtf7ZV2mJSpyuvdD    0.770228                      Hollow Man   \n",
       "4   VSfGMu47DQFgMW4m    0.764065                Love Is The Drug   \n",
       "..               ...         ...                             ...   \n",
       "95  VtF32nX4mmVRGMEj    0.723284                 Sweater Weather   \n",
       "96  xE2N4kfcqEs2KAKR    0.722540  Quem Sabe Isso Quer Dizer Amor   \n",
       "97  syTw63wc7JVr6xLu    0.722504                  Female Robbery   \n",
       "98  xTkNXKaWbD5Koq8M    0.722439                           Money   \n",
       "99  HBeK1uQ46cJLGak4    0.722306                        Mordecai   \n",
       "\n",
       "                       artist         album_name  \n",
       "0                    Röyksopp        Melody A.M.  \n",
       "1                Cypress Hill  Elephants on Acid  \n",
       "2                Jimi Hendrix  Electric Ladyland  \n",
       "3                      R.E.M.         Accelerate  \n",
       "4                 Grace Jones        Island Life  \n",
       "..                        ...                ...  \n",
       "95          The Neighbourhood        I Love You.  \n",
       "96             Roberta Campos     Varrendo a Lua  \n",
       "97          The Neighbourhood        I Love You.  \n",
       "98                  Leikeli47         Wash & Set  \n",
       "99  Between the Buried and Me  The Silent Circus  \n",
       "\n",
       "[100 rows x 5 columns]"
      ]
     },
     "execution_count": 4,
     "metadata": {},
     "output_type": "execute_result"
    }
   ],
   "source": [
    "retN = Retrieval(n=num_top_similar)\n",
    "Retrieval.create_df_from_tracks(retN.top_similar_tracks(query_row_id, dataset=datasets.resnet))"
   ]
  },
  {
   "cell_type": "markdown",
   "id": "42a017e4",
   "metadata": {},
   "source": [
    "## Fusion-Based (\\<similarity\\>, \\<feature\\>)\n",
    "### Early Fusion (musicnn & resnet)"
   ]
  },
  {
   "cell_type": "code",
   "execution_count": 2,
   "id": "c72830e3-cd5b-4cc2-9f90-9a30ba06eba2",
   "metadata": {},
   "outputs": [],
   "source": [
    "import pandas as pd\n",
    "\n",
    "def early_fusion_dataframe(df1, df2):\n",
    "    if len(df1) != len(df2):\n",
    "        raise ValueError(\"Both dataframes must have the same number of rows\")\n",
    "\n",
    "    # Concatenate dataframes along columns (axis=1)\n",
    "    fused_df = pd.concat([df1, df2], axis=1)\n",
    "\n",
    "    return fused_df\n",
    "\n",
    "\n",
    "df_music = pd.read_csv('datasets/id_musicnn_mmsr.tsv', sep='\\t')\n",
    "df_resnet = pd.read_csv('datasets/id_resnet_mmsr.tsv', sep='\\t')\n",
    "\n",
    "\n",
    "df_ef = early_fusion_dataframe(df_music, df_resnet)\n",
    "\n",
    "\n",
    "df_ef.to_csv(\"datasets/id_early_fusion_mmsr.tsv\", sep='\\t', index=False)\n",
    "\n"
   ]
  },
  {
   "cell_type": "code",
   "execution_count": 5,
   "id": "49c78037",
   "metadata": {
    "ExecuteTime": {
     "end_time": "2023-12-13T06:10:07.347951159Z",
     "start_time": "2023-12-13T06:10:07.211999109Z"
    }
   },
   "outputs": [
    {
     "ename": "NameError",
     "evalue": "name 'num_top_similar' is not defined",
     "output_type": "error",
     "traceback": [
      "\u001b[0;31m---------------------------------------------------------------------------\u001b[0m",
      "\u001b[0;31mNameError\u001b[0m                                 Traceback (most recent call last)",
      "Cell \u001b[0;32mIn[5], line 1\u001b[0m\n\u001b[0;32m----> 1\u001b[0m retN \u001b[38;5;241m=\u001b[39m Retrieval(n\u001b[38;5;241m=\u001b[39m\u001b[43mnum_top_similar\u001b[49m)\n\u001b[1;32m      2\u001b[0m Retrieval\u001b[38;5;241m.\u001b[39mcreate_df_from_tracks(retN\u001b[38;5;241m.\u001b[39mtop_similar_tracks(query_row_id, dataset\u001b[38;5;241m=\u001b[39mdatasets\u001b[38;5;241m.\u001b[39mearly_fusion))\n",
      "\u001b[0;31mNameError\u001b[0m: name 'num_top_similar' is not defined"
     ]
    }
   ],
   "source": [
    "retN = Retrieval(n=num_top_similar)\n",
    "Retrieval.create_df_from_tracks(retN.top_similar_tracks(query_row_id, dataset=datasets.early_fusion))"
   ]
  },
  {
   "cell_type": "code",
   "execution_count": 11,
   "id": "46413a70",
   "metadata": {
    "ExecuteTime": {
     "end_time": "2023-12-13T06:10:07.436896930Z",
     "start_time": "2023-12-13T06:10:07.351671368Z"
    }
   },
   "outputs": [
    {
     "name": "stdout",
     "output_type": "stream",
     "text": [
      "Error syncing cache with disk: Expecting ',' delimiter: line 1 column 37937813 (char 37937812)\n",
      "Error syncing cache with disk: Expecting ',' delimiter: line 1 column 37937813 (char 37937812)\n",
      "Error syncing cache with disk: Expecting ',' delimiter: line 1 column 37937813 (char 37937812)\n"
     ]
    }
   ],
   "source": [
    "# Perform tf_idf retrieval\n",
    "df_tfidf = Retrieval.create_df_from_tracks(Retrieval(n=1000).top_similar_tracks(query_row_id,datasets.tf_idf))\n",
    "\n",
    "# Perform musicnn retrieval\n",
    "df_musicnn = Retrieval.create_df_from_tracks(Retrieval(n=1000).top_similar_tracks(query_row_id,datasets.musicnn))\n",
    "\n",
    "# Perform resnet retrieval\n",
    "df_resnet = Retrieval.create_df_from_tracks(Retrieval(n=1000).top_similar_tracks(query_row_id,datasets.resnet))\n",
    "\n"
   ]
  },
  {
   "cell_type": "markdown",
   "id": "e8aa96f2-1d08-4be4-b993-a7ee40a2f2a8",
   "metadata": {},
   "source": [
    "# Late fusion - Score Aggregation Fusion for two DataFrames (text and audio)"
   ]
  },
  {
   "cell_type": "code",
   "execution_count": 12,
   "id": "dec3fe73-4dde-4ebe-875f-c186368fb1d3",
   "metadata": {},
   "outputs": [
    {
     "data": {
      "text/html": [
       "<div>\n",
       "<style scoped>\n",
       "    .dataframe tbody tr th:only-of-type {\n",
       "        vertical-align: middle;\n",
       "    }\n",
       "\n",
       "    .dataframe tbody tr th {\n",
       "        vertical-align: top;\n",
       "    }\n",
       "\n",
       "    .dataframe thead th {\n",
       "        text-align: right;\n",
       "    }\n",
       "</style>\n",
       "<table border=\"1\" class=\"dataframe\">\n",
       "  <thead>\n",
       "    <tr style=\"text-align: right;\">\n",
       "      <th></th>\n",
       "      <th>id</th>\n",
       "      <th>similarity_musicnn</th>\n",
       "      <th>similarity_tfidf</th>\n",
       "      <th>song</th>\n",
       "      <th>artist</th>\n",
       "      <th>album_name</th>\n",
       "      <th>aggregated_score</th>\n",
       "    </tr>\n",
       "  </thead>\n",
       "  <tbody>\n",
       "    <tr>\n",
       "      <th>4</th>\n",
       "      <td>ezLpawJYbBm1YUwj</td>\n",
       "      <td>0.965511</td>\n",
       "      <td>0.249174</td>\n",
       "      <td>Slow</td>\n",
       "      <td>Liam Payne</td>\n",
       "      <td>First Time - EP</td>\n",
       "      <td>0.535709</td>\n",
       "    </tr>\n",
       "    <tr>\n",
       "      <th>2</th>\n",
       "      <td>iHRt8u88DH1Dq7SP</td>\n",
       "      <td>0.972653</td>\n",
       "      <td>0.236507</td>\n",
       "      <td>Loyal</td>\n",
       "      <td>Chris Brown</td>\n",
       "      <td>X (Expanded Edition)</td>\n",
       "      <td>0.530966</td>\n",
       "    </tr>\n",
       "    <tr>\n",
       "      <th>0</th>\n",
       "      <td>Zcl514gBRFkd5xgR</td>\n",
       "      <td>0.984930</td>\n",
       "      <td>0.209372</td>\n",
       "      <td>Champion</td>\n",
       "      <td>Buju Banton</td>\n",
       "      <td>'Til Shiloh</td>\n",
       "      <td>0.519595</td>\n",
       "    </tr>\n",
       "    <tr>\n",
       "      <th>1</th>\n",
       "      <td>BvavHfrEqUNNphJD</td>\n",
       "      <td>0.978782</td>\n",
       "      <td>0.195008</td>\n",
       "      <td>Believe</td>\n",
       "      <td>Eminem</td>\n",
       "      <td>Revival</td>\n",
       "      <td>0.508518</td>\n",
       "    </tr>\n",
       "    <tr>\n",
       "      <th>3</th>\n",
       "      <td>tZjLHYdgOOsBESiG</td>\n",
       "      <td>0.966721</td>\n",
       "      <td>0.193732</td>\n",
       "      <td>Halftime</td>\n",
       "      <td>Nas</td>\n",
       "      <td>Illmatic</td>\n",
       "      <td>0.502928</td>\n",
       "    </tr>\n",
       "  </tbody>\n",
       "</table>\n",
       "</div>"
      ],
      "text/plain": [
       "                 id  similarity_musicnn  similarity_tfidf      song  \\\n",
       "4  ezLpawJYbBm1YUwj            0.965511          0.249174      Slow   \n",
       "2  iHRt8u88DH1Dq7SP            0.972653          0.236507     Loyal   \n",
       "0  Zcl514gBRFkd5xgR            0.984930          0.209372  Champion   \n",
       "1  BvavHfrEqUNNphJD            0.978782          0.195008   Believe   \n",
       "3  tZjLHYdgOOsBESiG            0.966721          0.193732  Halftime   \n",
       "\n",
       "        artist            album_name  aggregated_score  \n",
       "4   Liam Payne       First Time - EP          0.535709  \n",
       "2  Chris Brown  X (Expanded Edition)          0.530966  \n",
       "0  Buju Banton           'Til Shiloh          0.519595  \n",
       "1       Eminem               Revival          0.508518  \n",
       "3          Nas              Illmatic          0.502928  "
      ]
     },
     "execution_count": 12,
     "metadata": {},
     "output_type": "execute_result"
    }
   ],
   "source": [
    "\n",
    "# Late fusion - Score Aggregation Fusion for two DataFrames (text and audio)\n",
    "def late_fusion_df(df_tfidf, df_musicnn, tfidf_weight=0.5, bert_weight=0.5):\n",
    "    \n",
    "    # Rename the 'similarity' column\n",
    "    df_tfidf = df_tfidf.rename(columns={'similarity': 'similarity_tfidf'})\n",
    "    df_musicnn = df_musicnn.rename(columns={'similarity': 'similarity_musicnn'})\n",
    "\n",
    "    # Merge DataFrames on 'id'\n",
    "    merged_df = pd.merge(df_musicnn[['id', 'similarity_musicnn']],df_tfidf, on='id')\n",
    "\n",
    "    # Assuming the scores are already normalized between 0 and 1\n",
    "    normalized_tfidf_scores = merged_df['similarity_tfidf'].values\n",
    "    normalized_musicnn_scores = merged_df['similarity_musicnn'].values\n",
    "\n",
    "    # Aggregate scores\n",
    "    aggregated_scores = tfidf_weight * normalized_tfidf_scores + musicnn_weight * normalized_musicnn_scores\n",
    "\n",
    "    # Add the aggregated scores to the DataFrame\n",
    "    merged_df['aggregated_score'] = aggregated_scores\n",
    "\n",
    "\n",
    "    # Sort DataFrame based on aggregated scores\n",
    "    sorted_fusion_df = merged_df.sort_values(by='aggregated_score', ascending=False)\n",
    "\n",
    "    return sorted_fusion_df\n",
    "\n",
    "# Example usage\n",
    "tfidf_weight = 0.6\n",
    "musicnn_weight = 0.4\n",
    "fusion_results_df = late_fusion_df(df_tfidf, df_musicnn, tfidf_weight, musicnn_weight)\n",
    "fusion_results_df\n"
   ]
  },
  {
   "cell_type": "markdown",
   "id": "7a026848-01b4-4fc4-892d-c4ba4f50d60b",
   "metadata": {},
   "source": [
    "# Late fusion - Rank-Level Fusion for two DataFrames (video and audio)\n"
   ]
  },
  {
   "cell_type": "code",
   "execution_count": 13,
   "id": "55d6f9a0-1d4c-4c84-bafb-5c4761e305a6",
   "metadata": {},
   "outputs": [
    {
     "name": "stdout",
     "output_type": "stream",
     "text": [
      "Rank-Level Fusion Results:\n",
      "                 id  similarity_video  similarity_audio  aggregated_rank\n",
      "0  2IZjV6srFH5YXkFr          0.727367          0.987323              1.6\n",
      "2  gw9zZ3xtxoEjmYeB          0.777114          0.954321              1.8\n",
      "1  eVaVqLmvyuWX85Ll          0.725396          0.980981              2.6\n"
     ]
    }
   ],
   "source": [
    "\n",
    "# Late fusion - Rank-Level Fusion for two DataFrames (video and audio)\n",
    "def rank_level_fusion_video_audio(video_scores, audio_scores, video_weight=0.5, audio_weight=0.5):\n",
    "\n",
    "    # Rename the 'similarity' column\n",
    "    video_scores = video_scores.rename(columns={'similarity': 'similarity_video'})\n",
    "    audio_scores = audio_scores.rename(columns={'similarity': 'similarity_audio'})\n",
    "\n",
    "    # Merge DataFrames on 'id'\n",
    "    merged_df = pd.merge(audio_scores[['id', 'similarity_audio']],video_scores, on='id')\n",
    "\n",
    "\n",
    "     # Assuming the scores are already normalized between 0 and 1\n",
    "    normalized_video_scores = merged_df['similarity_video'].values\n",
    "    normalized_audio_scores = merged_df['similarity_audio'].values\n",
    "\n",
    "    # Convert similarity scores to ranks using pandas Series\n",
    "    video_ranks = pd.Series(normalized_video_scores).rank(ascending=False)\n",
    "    audio_ranks = pd.Series(normalized_audio_scores).rank(ascending=False)\n",
    "\n",
    "    # Rank-level fusion: Combine the ranks using weighted sum\n",
    "    aggregated_ranks = video_weight * video_ranks + audio_weight * audio_ranks\n",
    "\n",
    "    # Add the aggregated ranks to the DataFrame\n",
    "    merged_df['aggregated_rank'] = aggregated_ranks\n",
    "\n",
    "    # Sort DataFrame based on aggregated ranks\n",
    "    sorted_fusion_df = merged_df.sort_values(by='aggregated_rank')\n",
    "\n",
    "    return sorted_fusion_df\n",
    "\n",
    "# Example usage\n",
    "video_weight = 0.6\n",
    "audio_weight = 0.4\n",
    "fusion_results_df = rank_level_fusion_video_audio(df_resnet, df_musicnn, video_weight, audio_weight)\n",
    "\n",
    "# Display the fused results\n",
    "print(\"Rank-Level Fusion Results:\")\n",
    "print(fusion_results_df[['id', 'similarity_video', 'similarity_audio', 'aggregated_rank']])\n"
   ]
  },
  {
   "cell_type": "markdown",
   "id": "8cb3302c",
   "metadata": {},
   "source": [
    "# Evaluation "
   ]
  },
  {
   "cell_type": "code",
   "execution_count": null,
   "id": "6e6824179cc1b151",
   "metadata": {
    "ExecuteTime": {
     "end_time": "2023-12-13T06:10:07.528334737Z",
     "start_time": "2023-12-13T06:10:07.448678982Z"
    },
    "collapsed": false,
    "jupyter": {
     "outputs_hidden": false
    }
   },
   "outputs": [],
   "source": [
    "# Obtain necessary information and store for easy interop\n",
    "from genres import Genres\n",
    "\n",
    "genres = Genres()"
   ]
  },
  {
   "cell_type": "markdown",
   "id": "3bf5897c7fedaea1",
   "metadata": {
    "collapsed": false,
    "jupyter": {
     "outputs_hidden": false
    }
   },
   "source": [
    "## Accuracy\n",
    "#### 1. Precision@k & Recall@k"
   ]
  },
  {
   "cell_type": "code",
   "execution_count": null,
   "id": "2ba8dc59e2dfdef4",
   "metadata": {
    "ExecuteTime": {
     "end_time": "2023-12-13T06:10:07.529068093Z",
     "start_time": "2023-12-13T06:10:07.515179339Z"
    },
    "collapsed": false,
    "jupyter": {
     "outputs_hidden": false
    }
   },
   "outputs": [],
   "source": [
    "from precision_recall import PrecisionRecall\n",
    "\n",
    "pr = PrecisionRecall(genres)\n",
    "pr.compute()"
   ]
  },
  {
   "cell_type": "code",
   "execution_count": null,
   "id": "f8eefbf2e9e0f232",
   "metadata": {
    "ExecuteTime": {
     "end_time": "2023-12-13T06:10:09.422991353Z",
     "start_time": "2023-12-13T06:10:07.527031472Z"
    },
    "collapsed": false,
    "jupyter": {
     "outputs_hidden": false
    }
   },
   "outputs": [],
   "source": [
    "pr.plot_each()"
   ]
  },
  {
   "cell_type": "code",
   "execution_count": null,
   "id": "e985534918f36752",
   "metadata": {
    "ExecuteTime": {
     "end_time": "2023-12-13T06:10:09.766354192Z",
     "start_time": "2023-12-13T06:10:09.422765269Z"
    },
    "collapsed": false,
    "jupyter": {
     "outputs_hidden": false
    }
   },
   "outputs": [],
   "source": [
    "pr.plot_all_single()"
   ]
  },
  {
   "cell_type": "markdown",
   "id": "8204c79fba844c92",
   "metadata": {
    "collapsed": false,
    "jupyter": {
     "outputs_hidden": false
    }
   },
   "source": [
    "#### 2. nDCG@10"
   ]
  },
  {
   "cell_type": "code",
   "execution_count": null,
   "id": "653380de9d6cd112",
   "metadata": {
    "ExecuteTime": {
     "end_time": "2023-12-13T06:10:10.002768136Z",
     "start_time": "2023-12-13T06:10:09.766215181Z"
    },
    "collapsed": false,
    "jupyter": {
     "outputs_hidden": false
    }
   },
   "outputs": [],
   "source": [
    "from ndcg import Ndcg\n",
    "\n",
    "ndcg = Ndcg(genres)\n",
    "ndcg.compute()\n",
    "ndcg.plot()"
   ]
  },
  {
   "cell_type": "markdown",
   "id": "54dde3a324d213bf",
   "metadata": {
    "collapsed": false,
    "jupyter": {
     "outputs_hidden": false
    }
   },
   "source": [
    "## Beyond Accuracy\n",
    "### 1. Genre Coverage@10"
   ]
  },
  {
   "cell_type": "code",
   "execution_count": null,
   "id": "5f192657e9b0f9fd",
   "metadata": {
    "ExecuteTime": {
     "end_time": "2023-12-13T06:10:10.226154814Z",
     "start_time": "2023-12-13T06:10:10.003466116Z"
    },
    "collapsed": false,
    "jupyter": {
     "outputs_hidden": false
    }
   },
   "outputs": [],
   "source": [
    "from genre_coverage import GenreCoverage\n",
    "\n",
    "genres_coverage = GenreCoverage(genres)\n",
    "genres_coverage.compute()\n",
    "genres_coverage.plot()"
   ]
  },
  {
   "cell_type": "markdown",
   "id": "8d0a3f92b2ebb66a",
   "metadata": {
    "collapsed": false,
    "jupyter": {
     "outputs_hidden": false
    }
   },
   "source": [
    "### 2. Genre Diversity@10"
   ]
  },
  {
   "cell_type": "code",
   "execution_count": null,
   "id": "86431efc1621db4a",
   "metadata": {
    "ExecuteTime": {
     "end_time": "2023-12-13T06:10:10.442775920Z",
     "start_time": "2023-12-13T06:10:10.227490149Z"
    },
    "collapsed": false,
    "jupyter": {
     "outputs_hidden": false
    }
   },
   "outputs": [],
   "source": [
    "from genre_diversity import GenreDiversity\n",
    "\n",
    "genres_diversity = GenreDiversity(genres)\n",
    "genres_diversity.compute()\n",
    "genres_diversity.plot()"
   ]
  },
  {
   "cell_type": "markdown",
   "id": "02f13383",
   "metadata": {},
   "source": [
    "# Frontend"
   ]
  },
  {
   "cell_type": "code",
   "execution_count": null,
   "id": "93d32489",
   "metadata": {},
   "outputs": [],
   "source": [
    "from utils import write_song_df_to_json_file\n",
    "\n",
    "write_song_df_to_json_file(\"frontend/static/songMeta.json\", datasets.information.df, datasets.url.df, datasets.genres.df)\n",
    "\n",
    "# frontend uses frontend/static/songMeta.json and retrievals/*.json\n"
   ]
  },
  {
   "cell_type": "code",
   "execution_count": null,
   "id": "0a0ba996-691c-495d-b41d-6a974b6d6666",
   "metadata": {},
   "outputs": [],
   "source": []
  }
 ],
 "metadata": {
  "kernelspec": {
   "display_name": "Python 3 (ipykernel)",
   "language": "python",
   "name": "python3"
  },
  "language_info": {
   "codemirror_mode": {
    "name": "ipython",
    "version": 3
   },
   "file_extension": ".py",
   "mimetype": "text/x-python",
   "name": "python",
   "nbconvert_exporter": "python",
   "pygments_lexer": "ipython3",
   "version": "3.10.8"
  }
 },
 "nbformat": 4,
 "nbformat_minor": 5
}
