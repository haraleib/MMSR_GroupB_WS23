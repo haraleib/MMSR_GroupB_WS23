{
 "cells": [
  {
   "cell_type": "markdown",
   "id": "4b45d764",
   "metadata": {},
   "source": [
    "<h1 style=\"color:rgb(0,120,170)\">344.038, KV Multimedia Search and Retrieval (WS2023/24)</h1>\n",
    "<h2 style=\"color:rgb(0,120,170)\">Task 1_Group B</h2>"
   ]
  },
  {
   "cell_type": "markdown",
   "id": "cf629014",
   "metadata": {},
   "source": [
    "| First Name | Family Name  | Matr.Nr   |\n",
    "|:-----------|:-------------|:----------|\n",
    "| Harald     | Eibensteiner | K01300179 |\n",
    "| Hadi       | Sanaei       | K11733444 |\n",
    "| Lukas      | Troyer       | K12006666 |\n",
    "| Lukas      | Wagner       | K01357626 |\n",
    "| Branko     | Paunović     | K12046370 |"
   ]
  },
  {
   "cell_type": "markdown",
   "id": "e37ef5cd",
   "metadata": {},
   "source": [
    "### Load Data & Imports\n",
    "Datasets should be placed in a folder called 'datasets' in the same directory where this Jupyter Notebook is located."
   ]
  },
  {
   "cell_type": "code",
   "execution_count": 1,
   "id": "d6fe9727-ec04-4803-94d1-ed8d756e0db7",
   "metadata": {
    "ExecuteTime": {
     "end_time": "2023-12-08T05:52:47.233407663Z",
     "start_time": "2023-12-08T05:52:47.223169852Z"
    },
    "tags": []
   },
   "outputs": [],
   "source": [
    "%load_ext autoreload\n",
    "%autoreload 2"
   ]
  },
  {
   "cell_type": "code",
   "execution_count": 2,
   "id": "3f84e14a",
   "metadata": {
    "ExecuteTime": {
     "end_time": "2023-12-08T05:52:58.008219649Z",
     "start_time": "2023-12-08T05:52:47.232249239Z"
    },
    "tags": []
   },
   "outputs": [],
   "source": [
    "import numpy as np\n",
    "np.random.seed(42)\n",
    "\n",
    "import pandas as pd\n",
    "\n",
    "from datasets import datasets\n",
    "from song import Song, songs\n",
    "from retrieval import Retrieval, SimilarityMeasure\n",
    "\n",
    "pd.set_option(\"display.expand_frame_repr\", False) # prevent pandas from wrapping cells"
   ]
  },
  {
   "cell_type": "code",
   "execution_count": 3,
   "id": "5aaeb4a5cd3ccc75",
   "metadata": {
    "ExecuteTime": {
     "end_time": "2023-12-08T05:52:58.017564111Z",
     "start_time": "2023-12-08T05:52:58.009548572Z"
    },
    "collapsed": false
   },
   "outputs": [],
   "source": [
    "# Number of similar songs to retrieve\n",
    "N = 10"
   ]
  },
  {
   "cell_type": "code",
   "execution_count": 4,
   "id": "5a24f002",
   "metadata": {
    "ExecuteTime": {
     "end_time": "2023-12-08T05:53:02.240177663Z",
     "start_time": "2023-12-08T05:52:58.018962465Z"
    }
   },
   "outputs": [],
   "source": [
    "#\n",
    "# Example:\n",
    "#   - Title: Letterman\n",
    "#   - Artist: Wiz Khalifa\n",
    "#\n",
    "query, query_row_id = songs.prompt_song_query()\n"
   ]
  },
  {
   "cell_type": "markdown",
   "id": "c063601d",
   "metadata": {},
   "source": [
    "####  Random Baseline"
   ]
  },
  {
   "cell_type": "code",
   "execution_count": 30,
   "id": "4edc8d5f",
   "metadata": {
    "ExecuteTime": {
     "end_time": "2023-12-08T05:53:02.256408694Z",
     "start_time": "2023-12-08T05:53:02.222683271Z"
    }
   },
   "outputs": [
    {
     "name": "stdout",
     "output_type": "stream",
     "text": [
      "\n",
      "\n",
      " random_baseline() retrieval based on your query:  \n",
      "\n",
      "                  id  similarity                                         song                 artist\n",
      "0  yQsyFSYtG7hkGdk7           1                                   Crazy Love                   Poco\n",
      "1  dKqWHHUHEMeqQtY0           1                  P T L (Post Traumatic Love)                 Actors\n",
      "2  L0PFQ0vv7PypWQOn           1                  Buzzards and Dreadful Crows       Guided by Voices\n",
      "3  x7EBUvRPf8kbWPpH           1    The Beginning Is The End Is The Beginning  The Smashing Pumpkins\n",
      "4  jwLayThFxCxAbhN4           1                                 The Way I Am                 Eminem\n",
      "5  sYFGd02JEIwb0BND           1  Chant No. 1 (I Don't Need This Pressure On)         Spandau Ballet\n",
      "6  D67sHxcWGk1kJeiT           1                                       Go Off                 M.I.A.\n",
      "7  GecDfHN4MDWrms80           1                            Scientist Studies    Death Cab for Cutie\n",
      "8  KCU1zZZul3weEjsQ           1                              Scared of Girls                Placebo\n",
      "9  mWqeNqjmtj1xGSvz           1                                     Sadeness                 Enigma\n"
     ]
    }
   ],
   "source": [
    "results = Retrieval.create_df_from_tracks(Retrieval(n=N).random_baseline(query_row_id))\n",
    "\n",
    "print(\"\\n\\n\", \"random_baseline() retrieval based on your query: \", \"\\n\\n\", results)"
   ]
  },
  {
   "cell_type": "markdown",
   "id": "de388f75",
   "metadata": {},
   "source": [
    "###  Text-based(cos-sim, tf-idf)"
   ]
  },
  {
   "cell_type": "code",
   "execution_count": 31,
   "id": "8dcbe4bf-de9b-4128-b2a2-a0d24bfd88b8",
   "metadata": {
    "ExecuteTime": {
     "end_time": "2023-12-08T05:53:02.363876116Z",
     "start_time": "2023-12-08T05:53:02.246277377Z"
    },
    "tags": []
   },
   "outputs": [
    {
     "name": "stdout",
     "output_type": "stream",
     "text": [
      "\n",
      "\n",
      " cosine_similarity() on tf_idf representations based on your query:  \n",
      "\n",
      "                  id  similarity                    song            artist\n",
      "0  RsiwiTW62iwRIfFv    0.480732       Dimestore Diamond            Gossip\n",
      "1  IQ9ezY4QoXoRcDsZ    0.450549    Diamonds Are Forever    Shirley Bassey\n",
      "2  YNGtvAPPX6sEwkDo    0.422778                    Gloe            Kiiara\n",
      "3  iWnmhvymna7WRdDS    0.394226            Diamond Ring          Bon Jovi\n",
      "4  R8UVAYKr0NGsjuKV    0.391100            Dear Diamond   Miranda Lambert\n",
      "5  WrpbSW9WNtawmIrc    0.318929                 See Saw  Devendra Banhart\n",
      "6  NPcSK26fKDd5mNNY    0.317348    Diamond in the Rough  The Nearly Deads\n",
      "7  fPw8AGa8IprloNyb    0.297933              Wild Child        Ace Wilder\n",
      "8  HLuFYBb5y8bPewNf    0.277761          Wild Wild Life     Talking Heads\n",
      "9  4tcihoDYX1dMfZPp    0.275118  First to Say Goodnight           Oh Land\n"
     ]
    }
   ],
   "source": [
    "# Perform tf_idf retrieval\n",
    "results = Retrieval.create_df_from_tracks(Retrieval(n=N).top_similar_tracks(\n",
    "    query_row_id,\n",
    "    datasets.tf_idf\n",
    "))\n",
    "\n",
    "print(\"\\n\\n\", \"cosine_similarity() on tf_idf representations based on your query: \", \"\\n\\n\", results)"
   ]
  },
  {
   "cell_type": "markdown",
   "id": "1c77f737-1ee7-4d16-b7b6-f5abc183295a",
   "metadata": {},
   "source": [
    "###  Text-based(cos-sim, BERT)"
   ]
  },
  {
   "cell_type": "code",
   "execution_count": 1,
   "id": "827edd95-0887-4707-8fed-f3cb7d4c2876",
   "metadata": {
    "ExecuteTime": {
     "end_time": "2023-12-08T05:53:02.462680294Z",
     "start_time": "2023-12-08T05:53:02.368151547Z"
    },
    "tags": []
   },
   "outputs": [
    {
     "ename": "NameError",
     "evalue": "name 'Retrieval' is not defined",
     "output_type": "error",
     "traceback": [
      "\u001b[0;31m---------------------------------------------------------------------------\u001b[0m",
      "\u001b[0;31mNameError\u001b[0m                                 Traceback (most recent call last)",
      "Cell \u001b[0;32mIn[1], line 2\u001b[0m\n\u001b[1;32m      1\u001b[0m \u001b[38;5;66;03m# Perform tfidf retrieval\u001b[39;00m\n\u001b[0;32m----> 2\u001b[0m results \u001b[38;5;241m=\u001b[39m \u001b[43mRetrieval\u001b[49m\u001b[38;5;241m.\u001b[39mcreate_df_from_tracks(Retrieval(n\u001b[38;5;241m=\u001b[39mN)\u001b[38;5;241m.\u001b[39mtop_similar_tracks(\n\u001b[1;32m      3\u001b[0m     query_row_id,\n\u001b[1;32m      4\u001b[0m     datasets\u001b[38;5;241m.\u001b[39mlyrics_bert\n\u001b[1;32m      5\u001b[0m ))\n\u001b[1;32m      7\u001b[0m \u001b[38;5;66;03m# Print the list of similar songs\u001b[39;00m\n\u001b[1;32m      8\u001b[0m \u001b[38;5;28mprint\u001b[39m(\u001b[38;5;124m\"\u001b[39m\u001b[38;5;130;01m\\n\u001b[39;00m\u001b[38;5;130;01m\\n\u001b[39;00m\u001b[38;5;124m\"\u001b[39m, \u001b[38;5;124m\"\u001b[39m\u001b[38;5;124mcosine_similarity() on BERT representations based on your query: \u001b[39m\u001b[38;5;124m\"\u001b[39m, \u001b[38;5;124m\"\u001b[39m\u001b[38;5;130;01m\\n\u001b[39;00m\u001b[38;5;130;01m\\n\u001b[39;00m\u001b[38;5;124m\"\u001b[39m, results)\n",
      "\u001b[0;31mNameError\u001b[0m: name 'Retrieval' is not defined"
     ]
    }
   ],
   "source": [
    "# Perform tfidf retrieval\n",
    "results = Retrieval.create_df_from_tracks(Retrieval(n=N).top_similar_tracks(\n",
    "    query_row_id,\n",
    "    datasets.lyrics_bert\n",
    "))\n",
    "\n",
    "# Print the list of similar songs\n",
    "print(\"\\n\\n\", \"cosine_similarity() on BERT representations based on your query: \", \"\\n\\n\", results)"
   ]
  },
  {
   "cell_type": "markdown",
   "id": "329bea55",
   "metadata": {
    "tags": []
   },
   "source": [
    "###  Text-based(cos-sim, word2vec)"
   ]
  },
  {
   "cell_type": "code",
   "execution_count": 22,
   "id": "a0573510",
   "metadata": {
    "ExecuteTime": {
     "end_time": "2023-12-08T05:53:02.525064303Z",
     "start_time": "2023-12-08T05:53:02.459335919Z"
    }
   },
   "outputs": [
    {
     "name": "stdout",
     "output_type": "stream",
     "text": [
      "Retrieval time: 0.013058662414550781 seconds\n",
      "Population time: 0.02852487564086914 seconds\n",
      "\n",
      "\n",
      " List of songs that share similarities with the song you queried:  \n",
      "\n",
      "                  id  similarity                    song         artist\n",
      "0  WP4RkO51CCZnKBlQ    0.905416             Wyclef Jean     Young Thug\n",
      "1  CfCJl3HWjZCvaTv3    0.901050     Let Me Blow Ya Mind            Eve\n",
      "2  pK2EZxyujhM6yp7Z    0.899793                  W.T.P.         Eminem\n",
      "3  Q8HUKzo5muVvgIvP    0.896035        Marshall Mathers         Eminem\n",
      "4  qtI2udJpwde94hTQ    0.894491           Open the Door   Otis Redding\n",
      "5  dVLg34HafHN2B9lW    0.889872             Candy Paint    Post Malone\n",
      "6  lPAW2IulFyjZtuaH    0.889726  can't leave without it      21 Savage\n",
      "7  xxC0nH3PEabt2650    0.887894          Gotta Get Away  The Offspring\n",
      "8  mgjDCaqqLfxz1070    0.887509             Drug Ballad         Eminem\n",
      "9  gmFBqh7nAv05B4zE    0.887238                  Swords         M.I.A.\n"
     ]
    }
   ],
   "source": [
    "# Perform word2vec retrieval\n",
    "results = Retrieval.create_df_from_tracks(Retrieval(n=N).top_similar_tracks(\n",
    "    query_row_id,\n",
    "    datasets.word2vec,\n",
    "))\n",
    "\n",
    "# Print the list of similar songs\n",
    "print(\"\\n\\n\", \"List of songs that share similarities with the song you queried: \", \"\\n\\n\", results)"
   ]
  },
  {
   "cell_type": "markdown",
   "id": "82bfee07613565ec",
   "metadata": {
    "collapsed": false
   },
   "source": [
    "## Qualitative Analysis"
   ]
  },
  {
   "cell_type": "code",
   "execution_count": 9,
   "id": "1c49fdc733a73466",
   "metadata": {
    "ExecuteTime": {
     "end_time": "2023-12-08T05:53:02.575996758Z",
     "start_time": "2023-12-08T05:53:02.523340419Z"
    },
    "collapsed": false
   },
   "outputs": [],
   "source": [
    "#\n",
    "# Reset the random seed once more to make reproducibility possible with the Lab Report\n",
    "# Only (re-)done here once, and not for each song.\n",
    "#\n",
    "np.random.seed(42)"
   ]
  },
  {
   "cell_type": "markdown",
   "id": "a44c427ba241e69b",
   "metadata": {
    "collapsed": false
   },
   "source": [
    "### \\#1: _Waka Waka (This Time for Africa)_ by _Shakira_\n",
    "#### 1.1. Random baseline"
   ]
  },
  {
   "cell_type": "code",
   "execution_count": 23,
   "id": "dcbac425d68419cb",
   "metadata": {
    "ExecuteTime": {
     "end_time": "2023-12-08T05:53:02.589834920Z",
     "start_time": "2023-12-08T05:53:02.564704713Z"
    },
    "collapsed": false
   },
   "outputs": [
    {
     "data": {
      "text/html": [
       "<div>\n",
       "<style scoped>\n",
       "    .dataframe tbody tr th:only-of-type {\n",
       "        vertical-align: middle;\n",
       "    }\n",
       "\n",
       "    .dataframe tbody tr th {\n",
       "        vertical-align: top;\n",
       "    }\n",
       "\n",
       "    .dataframe thead th {\n",
       "        text-align: right;\n",
       "    }\n",
       "</style>\n",
       "<table border=\"1\" class=\"dataframe\">\n",
       "  <thead>\n",
       "    <tr style=\"text-align: right;\">\n",
       "      <th></th>\n",
       "      <th>artist</th>\n",
       "      <th>song</th>\n",
       "      <th>album_name</th>\n",
       "    </tr>\n",
       "  </thead>\n",
       "  <tbody>\n",
       "    <tr>\n",
       "      <th>8905</th>\n",
       "      <td>Jessie Reyez</td>\n",
       "      <td>Apple Juice</td>\n",
       "      <td>Being Human In Public</td>\n",
       "    </tr>\n",
       "    <tr>\n",
       "      <th>2814</th>\n",
       "      <td>Echo &amp; the Bunnymen</td>\n",
       "      <td>Crystal Days</td>\n",
       "      <td>Ocean Rain</td>\n",
       "    </tr>\n",
       "    <tr>\n",
       "      <th>1608</th>\n",
       "      <td>Mark Lanegan</td>\n",
       "      <td>The River Rise</td>\n",
       "      <td>Whiskey For The Holy Ghost</td>\n",
       "    </tr>\n",
       "    <tr>\n",
       "      <th>94</th>\n",
       "      <td>Matisyahu</td>\n",
       "      <td>Sunshine</td>\n",
       "      <td>Spark Seeker</td>\n",
       "    </tr>\n",
       "    <tr>\n",
       "      <th>3172</th>\n",
       "      <td>Devo</td>\n",
       "      <td>Working in the Coal Mine</td>\n",
       "      <td>Greatest Hits</td>\n",
       "    </tr>\n",
       "    <tr>\n",
       "      <th>1115</th>\n",
       "      <td>Haken</td>\n",
       "      <td>1985</td>\n",
       "      <td>Affinity</td>\n",
       "    </tr>\n",
       "    <tr>\n",
       "      <th>7919</th>\n",
       "      <td>2Pac</td>\n",
       "      <td>I Get Around</td>\n",
       "      <td>Strictly 4 My N.I.G.G.A.Z...</td>\n",
       "    </tr>\n",
       "    <tr>\n",
       "      <th>1714</th>\n",
       "      <td>Waxahatchee</td>\n",
       "      <td>Lips and Limbs</td>\n",
       "      <td>Cerulean Salt</td>\n",
       "    </tr>\n",
       "    <tr>\n",
       "      <th>1772</th>\n",
       "      <td>Grateful Dead</td>\n",
       "      <td>U.S. Blues</td>\n",
       "      <td>From The Mars Hotel</td>\n",
       "    </tr>\n",
       "    <tr>\n",
       "      <th>9058</th>\n",
       "      <td>Demi Lovato</td>\n",
       "      <td>For You</td>\n",
       "      <td>Tell Me You Love Me (Deluxe)</td>\n",
       "    </tr>\n",
       "  </tbody>\n",
       "</table>\n",
       "</div>"
      ],
      "text/plain": [
       "                   artist                      song                    album_name\n",
       "8905         Jessie Reyez               Apple Juice         Being Human In Public\n",
       "2814  Echo & the Bunnymen              Crystal Days                    Ocean Rain\n",
       "1608         Mark Lanegan            The River Rise    Whiskey For The Holy Ghost\n",
       "94              Matisyahu                  Sunshine                  Spark Seeker\n",
       "3172                 Devo  Working in the Coal Mine                 Greatest Hits\n",
       "1115                Haken                      1985                      Affinity\n",
       "7919                 2Pac              I Get Around  Strictly 4 My N.I.G.G.A.Z...\n",
       "1714          Waxahatchee            Lips and Limbs                 Cerulean Salt\n",
       "1772        Grateful Dead                U.S. Blues           From The Mars Hotel\n",
       "9058          Demi Lovato                   For You  Tell Me You Love Me (Deluxe)"
      ]
     },
     "execution_count": 23,
     "metadata": {},
     "output_type": "execute_result"
    }
   ],
   "source": [
    "query, query_row_id = songs.get_match(\n",
    "    Song(title=\"Waka Waka (This Time for Africa)\", artist=\"Shakira\")\n",
    ")\n",
    "songs.info.loc[Retrieval.create_df_from_tracks(Retrieval(n=N).random_baseline(query_row_id)).index, songs.info.columns != \"id\"]"
   ]
  },
  {
   "cell_type": "markdown",
   "id": "4f773e4f3e456c20",
   "metadata": {
    "collapsed": false
   },
   "source": [
    "As expected, the Random Baseline algorithm returns completely random results. There does not seem to be a common theme."
   ]
  },
  {
   "cell_type": "markdown",
   "id": "146690908fc222c9",
   "metadata": {
    "collapsed": false
   },
   "source": [
    "#### 1.2. Text-based(cos-sim, tf-idf)"
   ]
  },
  {
   "cell_type": "code",
   "execution_count": 24,
   "id": "2c86d7ad44bd97a9",
   "metadata": {
    "ExecuteTime": {
     "end_time": "2023-12-08T05:53:02.701861284Z",
     "start_time": "2023-12-08T05:53:02.580110015Z"
    },
    "collapsed": false
   },
   "outputs": [
    {
     "name": "stdout",
     "output_type": "stream",
     "text": [
      "Retrieval time: 0.06783223152160645 seconds\n",
      "Population time: 0.08429431915283203 seconds\n"
     ]
    },
    {
     "ename": "KeyError",
     "evalue": "'[5] not in index'",
     "output_type": "error",
     "traceback": [
      "\u001b[0;31m---------------------------------------------------------------------------\u001b[0m",
      "\u001b[0;31mKeyError\u001b[0m                                  Traceback (most recent call last)",
      "Cell \u001b[0;32mIn[24], line 5\u001b[0m\n\u001b[1;32m      1\u001b[0m results \u001b[38;5;241m=\u001b[39m Retrieval(n\u001b[38;5;241m=\u001b[39mN)\u001b[38;5;241m.\u001b[39mtop_similar_tracks(\n\u001b[1;32m      2\u001b[0m     query_row_id,\n\u001b[1;32m      3\u001b[0m     datasets\u001b[38;5;241m.\u001b[39mtf_idf,\n\u001b[1;32m      4\u001b[0m )\n\u001b[0;32m----> 5\u001b[0m results[\u001b[38;5;124m\"\u001b[39m\u001b[38;5;124malbum_name\u001b[39m\u001b[38;5;124m\"\u001b[39m] \u001b[38;5;241m=\u001b[39m \u001b[43msongs\u001b[49m\u001b[38;5;241;43m.\u001b[39;49m\u001b[43minfo\u001b[49m\u001b[43m[\u001b[49m\u001b[38;5;124;43m\"\u001b[39;49m\u001b[38;5;124;43malbum_name\u001b[39;49m\u001b[38;5;124;43m\"\u001b[39;49m\u001b[43m]\u001b[49m\u001b[38;5;241;43m.\u001b[39;49m\u001b[43mloc\u001b[49m\u001b[43m[\u001b[49m\u001b[43mresults\u001b[49m\u001b[38;5;241;43m.\u001b[39;49m\u001b[43mindex\u001b[49m\u001b[43m]\u001b[49m\n\u001b[1;32m      6\u001b[0m results\u001b[38;5;241m.\u001b[39mdrop(\u001b[38;5;124m\"\u001b[39m\u001b[38;5;124mid\u001b[39m\u001b[38;5;124m\"\u001b[39m, axis\u001b[38;5;241m=\u001b[39m\u001b[38;5;241m1\u001b[39m)\n",
      "File \u001b[0;32m~/.local/lib/python3.10/site-packages/pandas/core/indexing.py:1153\u001b[0m, in \u001b[0;36m_LocationIndexer.__getitem__\u001b[0;34m(self, key)\u001b[0m\n\u001b[1;32m   1150\u001b[0m axis \u001b[38;5;241m=\u001b[39m \u001b[38;5;28mself\u001b[39m\u001b[38;5;241m.\u001b[39maxis \u001b[38;5;129;01mor\u001b[39;00m \u001b[38;5;241m0\u001b[39m\n\u001b[1;32m   1152\u001b[0m maybe_callable \u001b[38;5;241m=\u001b[39m com\u001b[38;5;241m.\u001b[39mapply_if_callable(key, \u001b[38;5;28mself\u001b[39m\u001b[38;5;241m.\u001b[39mobj)\n\u001b[0;32m-> 1153\u001b[0m \u001b[38;5;28;01mreturn\u001b[39;00m \u001b[38;5;28;43mself\u001b[39;49m\u001b[38;5;241;43m.\u001b[39;49m\u001b[43m_getitem_axis\u001b[49m\u001b[43m(\u001b[49m\u001b[43mmaybe_callable\u001b[49m\u001b[43m,\u001b[49m\u001b[43m \u001b[49m\u001b[43maxis\u001b[49m\u001b[38;5;241;43m=\u001b[39;49m\u001b[43maxis\u001b[49m\u001b[43m)\u001b[49m\n",
      "File \u001b[0;32m~/.local/lib/python3.10/site-packages/pandas/core/indexing.py:1382\u001b[0m, in \u001b[0;36m_LocIndexer._getitem_axis\u001b[0;34m(self, key, axis)\u001b[0m\n\u001b[1;32m   1379\u001b[0m     \u001b[38;5;28;01mif\u001b[39;00m \u001b[38;5;28mhasattr\u001b[39m(key, \u001b[38;5;124m\"\u001b[39m\u001b[38;5;124mndim\u001b[39m\u001b[38;5;124m\"\u001b[39m) \u001b[38;5;129;01mand\u001b[39;00m key\u001b[38;5;241m.\u001b[39mndim \u001b[38;5;241m>\u001b[39m \u001b[38;5;241m1\u001b[39m:\n\u001b[1;32m   1380\u001b[0m         \u001b[38;5;28;01mraise\u001b[39;00m \u001b[38;5;167;01mValueError\u001b[39;00m(\u001b[38;5;124m\"\u001b[39m\u001b[38;5;124mCannot index with multidimensional key\u001b[39m\u001b[38;5;124m\"\u001b[39m)\n\u001b[0;32m-> 1382\u001b[0m     \u001b[38;5;28;01mreturn\u001b[39;00m \u001b[38;5;28;43mself\u001b[39;49m\u001b[38;5;241;43m.\u001b[39;49m\u001b[43m_getitem_iterable\u001b[49m\u001b[43m(\u001b[49m\u001b[43mkey\u001b[49m\u001b[43m,\u001b[49m\u001b[43m \u001b[49m\u001b[43maxis\u001b[49m\u001b[38;5;241;43m=\u001b[39;49m\u001b[43maxis\u001b[49m\u001b[43m)\u001b[49m\n\u001b[1;32m   1384\u001b[0m \u001b[38;5;66;03m# nested tuple slicing\u001b[39;00m\n\u001b[1;32m   1385\u001b[0m \u001b[38;5;28;01mif\u001b[39;00m is_nested_tuple(key, labels):\n",
      "File \u001b[0;32m~/.local/lib/python3.10/site-packages/pandas/core/indexing.py:1322\u001b[0m, in \u001b[0;36m_LocIndexer._getitem_iterable\u001b[0;34m(self, key, axis)\u001b[0m\n\u001b[1;32m   1319\u001b[0m \u001b[38;5;28mself\u001b[39m\u001b[38;5;241m.\u001b[39m_validate_key(key, axis)\n\u001b[1;32m   1321\u001b[0m \u001b[38;5;66;03m# A collection of keys\u001b[39;00m\n\u001b[0;32m-> 1322\u001b[0m keyarr, indexer \u001b[38;5;241m=\u001b[39m \u001b[38;5;28;43mself\u001b[39;49m\u001b[38;5;241;43m.\u001b[39;49m\u001b[43m_get_listlike_indexer\u001b[49m\u001b[43m(\u001b[49m\u001b[43mkey\u001b[49m\u001b[43m,\u001b[49m\u001b[43m \u001b[49m\u001b[43maxis\u001b[49m\u001b[43m)\u001b[49m\n\u001b[1;32m   1323\u001b[0m \u001b[38;5;28;01mreturn\u001b[39;00m \u001b[38;5;28mself\u001b[39m\u001b[38;5;241m.\u001b[39mobj\u001b[38;5;241m.\u001b[39m_reindex_with_indexers(\n\u001b[1;32m   1324\u001b[0m     {axis: [keyarr, indexer]}, copy\u001b[38;5;241m=\u001b[39m\u001b[38;5;28;01mTrue\u001b[39;00m, allow_dups\u001b[38;5;241m=\u001b[39m\u001b[38;5;28;01mTrue\u001b[39;00m\n\u001b[1;32m   1325\u001b[0m )\n",
      "File \u001b[0;32m~/.local/lib/python3.10/site-packages/pandas/core/indexing.py:1520\u001b[0m, in \u001b[0;36m_LocIndexer._get_listlike_indexer\u001b[0;34m(self, key, axis)\u001b[0m\n\u001b[1;32m   1517\u001b[0m ax \u001b[38;5;241m=\u001b[39m \u001b[38;5;28mself\u001b[39m\u001b[38;5;241m.\u001b[39mobj\u001b[38;5;241m.\u001b[39m_get_axis(axis)\n\u001b[1;32m   1518\u001b[0m axis_name \u001b[38;5;241m=\u001b[39m \u001b[38;5;28mself\u001b[39m\u001b[38;5;241m.\u001b[39mobj\u001b[38;5;241m.\u001b[39m_get_axis_name(axis)\n\u001b[0;32m-> 1520\u001b[0m keyarr, indexer \u001b[38;5;241m=\u001b[39m \u001b[43max\u001b[49m\u001b[38;5;241;43m.\u001b[39;49m\u001b[43m_get_indexer_strict\u001b[49m\u001b[43m(\u001b[49m\u001b[43mkey\u001b[49m\u001b[43m,\u001b[49m\u001b[43m \u001b[49m\u001b[43maxis_name\u001b[49m\u001b[43m)\u001b[49m\n\u001b[1;32m   1522\u001b[0m \u001b[38;5;28;01mreturn\u001b[39;00m keyarr, indexer\n",
      "File \u001b[0;32m~/.local/lib/python3.10/site-packages/pandas/core/indexes/base.py:6114\u001b[0m, in \u001b[0;36mIndex._get_indexer_strict\u001b[0;34m(self, key, axis_name)\u001b[0m\n\u001b[1;32m   6111\u001b[0m \u001b[38;5;28;01melse\u001b[39;00m:\n\u001b[1;32m   6112\u001b[0m     keyarr, indexer, new_indexer \u001b[38;5;241m=\u001b[39m \u001b[38;5;28mself\u001b[39m\u001b[38;5;241m.\u001b[39m_reindex_non_unique(keyarr)\n\u001b[0;32m-> 6114\u001b[0m \u001b[38;5;28;43mself\u001b[39;49m\u001b[38;5;241;43m.\u001b[39;49m\u001b[43m_raise_if_missing\u001b[49m\u001b[43m(\u001b[49m\u001b[43mkeyarr\u001b[49m\u001b[43m,\u001b[49m\u001b[43m \u001b[49m\u001b[43mindexer\u001b[49m\u001b[43m,\u001b[49m\u001b[43m \u001b[49m\u001b[43maxis_name\u001b[49m\u001b[43m)\u001b[49m\n\u001b[1;32m   6116\u001b[0m keyarr \u001b[38;5;241m=\u001b[39m \u001b[38;5;28mself\u001b[39m\u001b[38;5;241m.\u001b[39mtake(indexer)\n\u001b[1;32m   6117\u001b[0m \u001b[38;5;28;01mif\u001b[39;00m \u001b[38;5;28misinstance\u001b[39m(key, Index):\n\u001b[1;32m   6118\u001b[0m     \u001b[38;5;66;03m# GH 42790 - Preserve name from an Index\u001b[39;00m\n",
      "File \u001b[0;32m~/.local/lib/python3.10/site-packages/pandas/core/indexes/base.py:6178\u001b[0m, in \u001b[0;36mIndex._raise_if_missing\u001b[0;34m(self, key, indexer, axis_name)\u001b[0m\n\u001b[1;32m   6175\u001b[0m     \u001b[38;5;28;01mraise\u001b[39;00m \u001b[38;5;167;01mKeyError\u001b[39;00m(\u001b[38;5;124mf\u001b[39m\u001b[38;5;124m\"\u001b[39m\u001b[38;5;124mNone of [\u001b[39m\u001b[38;5;132;01m{\u001b[39;00mkey\u001b[38;5;132;01m}\u001b[39;00m\u001b[38;5;124m] are in the [\u001b[39m\u001b[38;5;132;01m{\u001b[39;00maxis_name\u001b[38;5;132;01m}\u001b[39;00m\u001b[38;5;124m]\u001b[39m\u001b[38;5;124m\"\u001b[39m)\n\u001b[1;32m   6177\u001b[0m not_found \u001b[38;5;241m=\u001b[39m \u001b[38;5;28mlist\u001b[39m(ensure_index(key)[missing_mask\u001b[38;5;241m.\u001b[39mnonzero()[\u001b[38;5;241m0\u001b[39m]]\u001b[38;5;241m.\u001b[39munique())\n\u001b[0;32m-> 6178\u001b[0m \u001b[38;5;28;01mraise\u001b[39;00m \u001b[38;5;167;01mKeyError\u001b[39;00m(\u001b[38;5;124mf\u001b[39m\u001b[38;5;124m\"\u001b[39m\u001b[38;5;132;01m{\u001b[39;00mnot_found\u001b[38;5;132;01m}\u001b[39;00m\u001b[38;5;124m not in index\u001b[39m\u001b[38;5;124m\"\u001b[39m)\n",
      "\u001b[0;31mKeyError\u001b[0m: '[5] not in index'"
     ]
    }
   ],
   "source": [
    "results = Retrieval.create_df_from_tracks(Retrieval(n=N).top_similar_tracks(\n",
    "    query_row_id,\n",
    "    datasets.tf_idf,\n",
    "))\n",
    "results.drop(\"id\", axis=1)"
   ]
  },
  {
   "cell_type": "markdown",
   "id": "5cb0054e1fbfe50e",
   "metadata": {
    "collapsed": false
   },
   "source": [
    "_Under My Umbrella_ is also suggested by word2vec and seems to have many words in common. This also goes for _Blame It on the Boom Boom_. _Charlie Brown_ is Portugese. _Walpurgisnacht_ is German. _Barco a Venus_ is Spanish. _Mariô_ is Spanish (and also retrieved by BERT). _Dirt_ has many short words like “ah”."
   ]
  },
  {
   "cell_type": "markdown",
   "id": "8b7594dab023c8d3",
   "metadata": {
    "collapsed": false
   },
   "source": [
    "#### 1.3. Text-based(cos-sim, BERT)"
   ]
  },
  {
   "cell_type": "code",
   "execution_count": 18,
   "id": "3d0411248248c259",
   "metadata": {
    "ExecuteTime": {
     "end_time": "2023-12-08T05:53:02.880568219Z",
     "start_time": "2023-12-08T05:53:02.692029449Z"
    },
    "collapsed": false
   },
   "outputs": [
    {
     "name": "stdout",
     "output_type": "stream",
     "text": [
      "Retrieval time: 0.03992462158203125 seconds\n",
      "Population time: 0.05599784851074219 seconds\n"
     ]
    },
    {
     "ename": "KeyError",
     "evalue": "'[5] not in index'",
     "output_type": "error",
     "traceback": [
      "\u001b[0;31m---------------------------------------------------------------------------\u001b[0m",
      "\u001b[0;31mKeyError\u001b[0m                                  Traceback (most recent call last)",
      "Cell \u001b[0;32mIn[18], line 5\u001b[0m\n\u001b[1;32m      1\u001b[0m results \u001b[38;5;241m=\u001b[39m Retrieval(n\u001b[38;5;241m=\u001b[39mN)\u001b[38;5;241m.\u001b[39mtop_similar_tracks(\n\u001b[1;32m      2\u001b[0m     query_row_id,\n\u001b[1;32m      3\u001b[0m     datasets\u001b[38;5;241m.\u001b[39mlyrics_bert,\n\u001b[1;32m      4\u001b[0m )\n\u001b[0;32m----> 5\u001b[0m results[\u001b[38;5;124m\"\u001b[39m\u001b[38;5;124malbum_name\u001b[39m\u001b[38;5;124m\"\u001b[39m] \u001b[38;5;241m=\u001b[39m \u001b[43msongs\u001b[49m\u001b[38;5;241;43m.\u001b[39;49m\u001b[43minfo\u001b[49m\u001b[43m[\u001b[49m\u001b[38;5;124;43m\"\u001b[39;49m\u001b[38;5;124;43malbum_name\u001b[39;49m\u001b[38;5;124;43m\"\u001b[39;49m\u001b[43m]\u001b[49m\u001b[38;5;241;43m.\u001b[39;49m\u001b[43mloc\u001b[49m\u001b[43m[\u001b[49m\u001b[43mresults\u001b[49m\u001b[38;5;241;43m.\u001b[39;49m\u001b[43mindex\u001b[49m\u001b[43m]\u001b[49m\n\u001b[1;32m      6\u001b[0m results\u001b[38;5;241m.\u001b[39mdrop(\u001b[38;5;124m\"\u001b[39m\u001b[38;5;124mid\u001b[39m\u001b[38;5;124m\"\u001b[39m, axis\u001b[38;5;241m=\u001b[39m\u001b[38;5;241m1\u001b[39m)\n",
      "File \u001b[0;32m~/.local/lib/python3.10/site-packages/pandas/core/indexing.py:1153\u001b[0m, in \u001b[0;36m_LocationIndexer.__getitem__\u001b[0;34m(self, key)\u001b[0m\n\u001b[1;32m   1150\u001b[0m axis \u001b[38;5;241m=\u001b[39m \u001b[38;5;28mself\u001b[39m\u001b[38;5;241m.\u001b[39maxis \u001b[38;5;129;01mor\u001b[39;00m \u001b[38;5;241m0\u001b[39m\n\u001b[1;32m   1152\u001b[0m maybe_callable \u001b[38;5;241m=\u001b[39m com\u001b[38;5;241m.\u001b[39mapply_if_callable(key, \u001b[38;5;28mself\u001b[39m\u001b[38;5;241m.\u001b[39mobj)\n\u001b[0;32m-> 1153\u001b[0m \u001b[38;5;28;01mreturn\u001b[39;00m \u001b[38;5;28;43mself\u001b[39;49m\u001b[38;5;241;43m.\u001b[39;49m\u001b[43m_getitem_axis\u001b[49m\u001b[43m(\u001b[49m\u001b[43mmaybe_callable\u001b[49m\u001b[43m,\u001b[49m\u001b[43m \u001b[49m\u001b[43maxis\u001b[49m\u001b[38;5;241;43m=\u001b[39;49m\u001b[43maxis\u001b[49m\u001b[43m)\u001b[49m\n",
      "File \u001b[0;32m~/.local/lib/python3.10/site-packages/pandas/core/indexing.py:1382\u001b[0m, in \u001b[0;36m_LocIndexer._getitem_axis\u001b[0;34m(self, key, axis)\u001b[0m\n\u001b[1;32m   1379\u001b[0m     \u001b[38;5;28;01mif\u001b[39;00m \u001b[38;5;28mhasattr\u001b[39m(key, \u001b[38;5;124m\"\u001b[39m\u001b[38;5;124mndim\u001b[39m\u001b[38;5;124m\"\u001b[39m) \u001b[38;5;129;01mand\u001b[39;00m key\u001b[38;5;241m.\u001b[39mndim \u001b[38;5;241m>\u001b[39m \u001b[38;5;241m1\u001b[39m:\n\u001b[1;32m   1380\u001b[0m         \u001b[38;5;28;01mraise\u001b[39;00m \u001b[38;5;167;01mValueError\u001b[39;00m(\u001b[38;5;124m\"\u001b[39m\u001b[38;5;124mCannot index with multidimensional key\u001b[39m\u001b[38;5;124m\"\u001b[39m)\n\u001b[0;32m-> 1382\u001b[0m     \u001b[38;5;28;01mreturn\u001b[39;00m \u001b[38;5;28;43mself\u001b[39;49m\u001b[38;5;241;43m.\u001b[39;49m\u001b[43m_getitem_iterable\u001b[49m\u001b[43m(\u001b[49m\u001b[43mkey\u001b[49m\u001b[43m,\u001b[49m\u001b[43m \u001b[49m\u001b[43maxis\u001b[49m\u001b[38;5;241;43m=\u001b[39;49m\u001b[43maxis\u001b[49m\u001b[43m)\u001b[49m\n\u001b[1;32m   1384\u001b[0m \u001b[38;5;66;03m# nested tuple slicing\u001b[39;00m\n\u001b[1;32m   1385\u001b[0m \u001b[38;5;28;01mif\u001b[39;00m is_nested_tuple(key, labels):\n",
      "File \u001b[0;32m~/.local/lib/python3.10/site-packages/pandas/core/indexing.py:1322\u001b[0m, in \u001b[0;36m_LocIndexer._getitem_iterable\u001b[0;34m(self, key, axis)\u001b[0m\n\u001b[1;32m   1319\u001b[0m \u001b[38;5;28mself\u001b[39m\u001b[38;5;241m.\u001b[39m_validate_key(key, axis)\n\u001b[1;32m   1321\u001b[0m \u001b[38;5;66;03m# A collection of keys\u001b[39;00m\n\u001b[0;32m-> 1322\u001b[0m keyarr, indexer \u001b[38;5;241m=\u001b[39m \u001b[38;5;28;43mself\u001b[39;49m\u001b[38;5;241;43m.\u001b[39;49m\u001b[43m_get_listlike_indexer\u001b[49m\u001b[43m(\u001b[49m\u001b[43mkey\u001b[49m\u001b[43m,\u001b[49m\u001b[43m \u001b[49m\u001b[43maxis\u001b[49m\u001b[43m)\u001b[49m\n\u001b[1;32m   1323\u001b[0m \u001b[38;5;28;01mreturn\u001b[39;00m \u001b[38;5;28mself\u001b[39m\u001b[38;5;241m.\u001b[39mobj\u001b[38;5;241m.\u001b[39m_reindex_with_indexers(\n\u001b[1;32m   1324\u001b[0m     {axis: [keyarr, indexer]}, copy\u001b[38;5;241m=\u001b[39m\u001b[38;5;28;01mTrue\u001b[39;00m, allow_dups\u001b[38;5;241m=\u001b[39m\u001b[38;5;28;01mTrue\u001b[39;00m\n\u001b[1;32m   1325\u001b[0m )\n",
      "File \u001b[0;32m~/.local/lib/python3.10/site-packages/pandas/core/indexing.py:1520\u001b[0m, in \u001b[0;36m_LocIndexer._get_listlike_indexer\u001b[0;34m(self, key, axis)\u001b[0m\n\u001b[1;32m   1517\u001b[0m ax \u001b[38;5;241m=\u001b[39m \u001b[38;5;28mself\u001b[39m\u001b[38;5;241m.\u001b[39mobj\u001b[38;5;241m.\u001b[39m_get_axis(axis)\n\u001b[1;32m   1518\u001b[0m axis_name \u001b[38;5;241m=\u001b[39m \u001b[38;5;28mself\u001b[39m\u001b[38;5;241m.\u001b[39mobj\u001b[38;5;241m.\u001b[39m_get_axis_name(axis)\n\u001b[0;32m-> 1520\u001b[0m keyarr, indexer \u001b[38;5;241m=\u001b[39m \u001b[43max\u001b[49m\u001b[38;5;241;43m.\u001b[39;49m\u001b[43m_get_indexer_strict\u001b[49m\u001b[43m(\u001b[49m\u001b[43mkey\u001b[49m\u001b[43m,\u001b[49m\u001b[43m \u001b[49m\u001b[43maxis_name\u001b[49m\u001b[43m)\u001b[49m\n\u001b[1;32m   1522\u001b[0m \u001b[38;5;28;01mreturn\u001b[39;00m keyarr, indexer\n",
      "File \u001b[0;32m~/.local/lib/python3.10/site-packages/pandas/core/indexes/base.py:6114\u001b[0m, in \u001b[0;36mIndex._get_indexer_strict\u001b[0;34m(self, key, axis_name)\u001b[0m\n\u001b[1;32m   6111\u001b[0m \u001b[38;5;28;01melse\u001b[39;00m:\n\u001b[1;32m   6112\u001b[0m     keyarr, indexer, new_indexer \u001b[38;5;241m=\u001b[39m \u001b[38;5;28mself\u001b[39m\u001b[38;5;241m.\u001b[39m_reindex_non_unique(keyarr)\n\u001b[0;32m-> 6114\u001b[0m \u001b[38;5;28;43mself\u001b[39;49m\u001b[38;5;241;43m.\u001b[39;49m\u001b[43m_raise_if_missing\u001b[49m\u001b[43m(\u001b[49m\u001b[43mkeyarr\u001b[49m\u001b[43m,\u001b[49m\u001b[43m \u001b[49m\u001b[43mindexer\u001b[49m\u001b[43m,\u001b[49m\u001b[43m \u001b[49m\u001b[43maxis_name\u001b[49m\u001b[43m)\u001b[49m\n\u001b[1;32m   6116\u001b[0m keyarr \u001b[38;5;241m=\u001b[39m \u001b[38;5;28mself\u001b[39m\u001b[38;5;241m.\u001b[39mtake(indexer)\n\u001b[1;32m   6117\u001b[0m \u001b[38;5;28;01mif\u001b[39;00m \u001b[38;5;28misinstance\u001b[39m(key, Index):\n\u001b[1;32m   6118\u001b[0m     \u001b[38;5;66;03m# GH 42790 - Preserve name from an Index\u001b[39;00m\n",
      "File \u001b[0;32m~/.local/lib/python3.10/site-packages/pandas/core/indexes/base.py:6178\u001b[0m, in \u001b[0;36mIndex._raise_if_missing\u001b[0;34m(self, key, indexer, axis_name)\u001b[0m\n\u001b[1;32m   6175\u001b[0m     \u001b[38;5;28;01mraise\u001b[39;00m \u001b[38;5;167;01mKeyError\u001b[39;00m(\u001b[38;5;124mf\u001b[39m\u001b[38;5;124m\"\u001b[39m\u001b[38;5;124mNone of [\u001b[39m\u001b[38;5;132;01m{\u001b[39;00mkey\u001b[38;5;132;01m}\u001b[39;00m\u001b[38;5;124m] are in the [\u001b[39m\u001b[38;5;132;01m{\u001b[39;00maxis_name\u001b[38;5;132;01m}\u001b[39;00m\u001b[38;5;124m]\u001b[39m\u001b[38;5;124m\"\u001b[39m)\n\u001b[1;32m   6177\u001b[0m not_found \u001b[38;5;241m=\u001b[39m \u001b[38;5;28mlist\u001b[39m(ensure_index(key)[missing_mask\u001b[38;5;241m.\u001b[39mnonzero()[\u001b[38;5;241m0\u001b[39m]]\u001b[38;5;241m.\u001b[39munique())\n\u001b[0;32m-> 6178\u001b[0m \u001b[38;5;28;01mraise\u001b[39;00m \u001b[38;5;167;01mKeyError\u001b[39;00m(\u001b[38;5;124mf\u001b[39m\u001b[38;5;124m\"\u001b[39m\u001b[38;5;132;01m{\u001b[39;00mnot_found\u001b[38;5;132;01m}\u001b[39;00m\u001b[38;5;124m not in index\u001b[39m\u001b[38;5;124m\"\u001b[39m)\n",
      "\u001b[0;31mKeyError\u001b[0m: '[5] not in index'"
     ]
    }
   ],
   "source": [
    "results = Retrieval.create_df_from_tracks(Retrieval(n=N).top_similar_tracks(\n",
    "    query_row_id,\n",
    "    datasets.lyrics_bert,\n",
    "))\n",
    "results.drop(\"id\", axis=1)"
   ]
  },
  {
   "cell_type": "markdown",
   "id": "f240bcb223b5722a",
   "metadata": {
    "collapsed": false
   },
   "source": [
    "_Sol da Liberdade_ is Portugese, _El Vals del Obrero_ is Spanish. _Breakin'...There's No Stopping Us_ is about achieving dreams. _BEAUTIFUL HANGOVER_ is Japanese, _Auf Anderen Wegen_ is German."
   ]
  },
  {
   "cell_type": "markdown",
   "id": "656895a38fde06ce",
   "metadata": {
    "collapsed": false
   },
   "source": [
    "#### 1.4. Text-based(cos-sim, word2vec)"
   ]
  },
  {
   "cell_type": "code",
   "execution_count": 17,
   "id": "dfbd81f061e1b06f",
   "metadata": {
    "ExecuteTime": {
     "end_time": "2023-12-08T05:53:02.949259472Z",
     "start_time": "2023-12-08T05:53:02.785565934Z"
    },
    "collapsed": false
   },
   "outputs": [
    {
     "name": "stdout",
     "output_type": "stream",
     "text": [
      "Retrieval time: 0.01202249526977539 seconds\n",
      "Population time: 0.02875208854675293 seconds\n"
     ]
    },
    {
     "ename": "KeyError",
     "evalue": "'[5] not in index'",
     "output_type": "error",
     "traceback": [
      "\u001b[0;31m---------------------------------------------------------------------------\u001b[0m",
      "\u001b[0;31mKeyError\u001b[0m                                  Traceback (most recent call last)",
      "Cell \u001b[0;32mIn[17], line 5\u001b[0m\n\u001b[1;32m      1\u001b[0m results \u001b[38;5;241m=\u001b[39m Retrieval(n\u001b[38;5;241m=\u001b[39mN)\u001b[38;5;241m.\u001b[39mtop_similar_tracks(\n\u001b[1;32m      2\u001b[0m     query_row_id,\n\u001b[1;32m      3\u001b[0m     datasets\u001b[38;5;241m.\u001b[39mword2vec\n\u001b[1;32m      4\u001b[0m )\n\u001b[0;32m----> 5\u001b[0m results[\u001b[38;5;124m\"\u001b[39m\u001b[38;5;124malbum_name\u001b[39m\u001b[38;5;124m\"\u001b[39m] \u001b[38;5;241m=\u001b[39m \u001b[43msongs\u001b[49m\u001b[38;5;241;43m.\u001b[39;49m\u001b[43minfo\u001b[49m\u001b[43m[\u001b[49m\u001b[38;5;124;43m\"\u001b[39;49m\u001b[38;5;124;43malbum_name\u001b[39;49m\u001b[38;5;124;43m\"\u001b[39;49m\u001b[43m]\u001b[49m\u001b[38;5;241;43m.\u001b[39;49m\u001b[43mloc\u001b[49m\u001b[43m[\u001b[49m\u001b[43mresults\u001b[49m\u001b[38;5;241;43m.\u001b[39;49m\u001b[43mindex\u001b[49m\u001b[43m]\u001b[49m\n\u001b[1;32m      6\u001b[0m results\u001b[38;5;241m.\u001b[39mdrop(\u001b[38;5;124m\"\u001b[39m\u001b[38;5;124mid\u001b[39m\u001b[38;5;124m\"\u001b[39m, axis\u001b[38;5;241m=\u001b[39m\u001b[38;5;241m1\u001b[39m)\n",
      "File \u001b[0;32m~/.local/lib/python3.10/site-packages/pandas/core/indexing.py:1153\u001b[0m, in \u001b[0;36m_LocationIndexer.__getitem__\u001b[0;34m(self, key)\u001b[0m\n\u001b[1;32m   1150\u001b[0m axis \u001b[38;5;241m=\u001b[39m \u001b[38;5;28mself\u001b[39m\u001b[38;5;241m.\u001b[39maxis \u001b[38;5;129;01mor\u001b[39;00m \u001b[38;5;241m0\u001b[39m\n\u001b[1;32m   1152\u001b[0m maybe_callable \u001b[38;5;241m=\u001b[39m com\u001b[38;5;241m.\u001b[39mapply_if_callable(key, \u001b[38;5;28mself\u001b[39m\u001b[38;5;241m.\u001b[39mobj)\n\u001b[0;32m-> 1153\u001b[0m \u001b[38;5;28;01mreturn\u001b[39;00m \u001b[38;5;28;43mself\u001b[39;49m\u001b[38;5;241;43m.\u001b[39;49m\u001b[43m_getitem_axis\u001b[49m\u001b[43m(\u001b[49m\u001b[43mmaybe_callable\u001b[49m\u001b[43m,\u001b[49m\u001b[43m \u001b[49m\u001b[43maxis\u001b[49m\u001b[38;5;241;43m=\u001b[39;49m\u001b[43maxis\u001b[49m\u001b[43m)\u001b[49m\n",
      "File \u001b[0;32m~/.local/lib/python3.10/site-packages/pandas/core/indexing.py:1382\u001b[0m, in \u001b[0;36m_LocIndexer._getitem_axis\u001b[0;34m(self, key, axis)\u001b[0m\n\u001b[1;32m   1379\u001b[0m     \u001b[38;5;28;01mif\u001b[39;00m \u001b[38;5;28mhasattr\u001b[39m(key, \u001b[38;5;124m\"\u001b[39m\u001b[38;5;124mndim\u001b[39m\u001b[38;5;124m\"\u001b[39m) \u001b[38;5;129;01mand\u001b[39;00m key\u001b[38;5;241m.\u001b[39mndim \u001b[38;5;241m>\u001b[39m \u001b[38;5;241m1\u001b[39m:\n\u001b[1;32m   1380\u001b[0m         \u001b[38;5;28;01mraise\u001b[39;00m \u001b[38;5;167;01mValueError\u001b[39;00m(\u001b[38;5;124m\"\u001b[39m\u001b[38;5;124mCannot index with multidimensional key\u001b[39m\u001b[38;5;124m\"\u001b[39m)\n\u001b[0;32m-> 1382\u001b[0m     \u001b[38;5;28;01mreturn\u001b[39;00m \u001b[38;5;28;43mself\u001b[39;49m\u001b[38;5;241;43m.\u001b[39;49m\u001b[43m_getitem_iterable\u001b[49m\u001b[43m(\u001b[49m\u001b[43mkey\u001b[49m\u001b[43m,\u001b[49m\u001b[43m \u001b[49m\u001b[43maxis\u001b[49m\u001b[38;5;241;43m=\u001b[39;49m\u001b[43maxis\u001b[49m\u001b[43m)\u001b[49m\n\u001b[1;32m   1384\u001b[0m \u001b[38;5;66;03m# nested tuple slicing\u001b[39;00m\n\u001b[1;32m   1385\u001b[0m \u001b[38;5;28;01mif\u001b[39;00m is_nested_tuple(key, labels):\n",
      "File \u001b[0;32m~/.local/lib/python3.10/site-packages/pandas/core/indexing.py:1322\u001b[0m, in \u001b[0;36m_LocIndexer._getitem_iterable\u001b[0;34m(self, key, axis)\u001b[0m\n\u001b[1;32m   1319\u001b[0m \u001b[38;5;28mself\u001b[39m\u001b[38;5;241m.\u001b[39m_validate_key(key, axis)\n\u001b[1;32m   1321\u001b[0m \u001b[38;5;66;03m# A collection of keys\u001b[39;00m\n\u001b[0;32m-> 1322\u001b[0m keyarr, indexer \u001b[38;5;241m=\u001b[39m \u001b[38;5;28;43mself\u001b[39;49m\u001b[38;5;241;43m.\u001b[39;49m\u001b[43m_get_listlike_indexer\u001b[49m\u001b[43m(\u001b[49m\u001b[43mkey\u001b[49m\u001b[43m,\u001b[49m\u001b[43m \u001b[49m\u001b[43maxis\u001b[49m\u001b[43m)\u001b[49m\n\u001b[1;32m   1323\u001b[0m \u001b[38;5;28;01mreturn\u001b[39;00m \u001b[38;5;28mself\u001b[39m\u001b[38;5;241m.\u001b[39mobj\u001b[38;5;241m.\u001b[39m_reindex_with_indexers(\n\u001b[1;32m   1324\u001b[0m     {axis: [keyarr, indexer]}, copy\u001b[38;5;241m=\u001b[39m\u001b[38;5;28;01mTrue\u001b[39;00m, allow_dups\u001b[38;5;241m=\u001b[39m\u001b[38;5;28;01mTrue\u001b[39;00m\n\u001b[1;32m   1325\u001b[0m )\n",
      "File \u001b[0;32m~/.local/lib/python3.10/site-packages/pandas/core/indexing.py:1520\u001b[0m, in \u001b[0;36m_LocIndexer._get_listlike_indexer\u001b[0;34m(self, key, axis)\u001b[0m\n\u001b[1;32m   1517\u001b[0m ax \u001b[38;5;241m=\u001b[39m \u001b[38;5;28mself\u001b[39m\u001b[38;5;241m.\u001b[39mobj\u001b[38;5;241m.\u001b[39m_get_axis(axis)\n\u001b[1;32m   1518\u001b[0m axis_name \u001b[38;5;241m=\u001b[39m \u001b[38;5;28mself\u001b[39m\u001b[38;5;241m.\u001b[39mobj\u001b[38;5;241m.\u001b[39m_get_axis_name(axis)\n\u001b[0;32m-> 1520\u001b[0m keyarr, indexer \u001b[38;5;241m=\u001b[39m \u001b[43max\u001b[49m\u001b[38;5;241;43m.\u001b[39;49m\u001b[43m_get_indexer_strict\u001b[49m\u001b[43m(\u001b[49m\u001b[43mkey\u001b[49m\u001b[43m,\u001b[49m\u001b[43m \u001b[49m\u001b[43maxis_name\u001b[49m\u001b[43m)\u001b[49m\n\u001b[1;32m   1522\u001b[0m \u001b[38;5;28;01mreturn\u001b[39;00m keyarr, indexer\n",
      "File \u001b[0;32m~/.local/lib/python3.10/site-packages/pandas/core/indexes/base.py:6114\u001b[0m, in \u001b[0;36mIndex._get_indexer_strict\u001b[0;34m(self, key, axis_name)\u001b[0m\n\u001b[1;32m   6111\u001b[0m \u001b[38;5;28;01melse\u001b[39;00m:\n\u001b[1;32m   6112\u001b[0m     keyarr, indexer, new_indexer \u001b[38;5;241m=\u001b[39m \u001b[38;5;28mself\u001b[39m\u001b[38;5;241m.\u001b[39m_reindex_non_unique(keyarr)\n\u001b[0;32m-> 6114\u001b[0m \u001b[38;5;28;43mself\u001b[39;49m\u001b[38;5;241;43m.\u001b[39;49m\u001b[43m_raise_if_missing\u001b[49m\u001b[43m(\u001b[49m\u001b[43mkeyarr\u001b[49m\u001b[43m,\u001b[49m\u001b[43m \u001b[49m\u001b[43mindexer\u001b[49m\u001b[43m,\u001b[49m\u001b[43m \u001b[49m\u001b[43maxis_name\u001b[49m\u001b[43m)\u001b[49m\n\u001b[1;32m   6116\u001b[0m keyarr \u001b[38;5;241m=\u001b[39m \u001b[38;5;28mself\u001b[39m\u001b[38;5;241m.\u001b[39mtake(indexer)\n\u001b[1;32m   6117\u001b[0m \u001b[38;5;28;01mif\u001b[39;00m \u001b[38;5;28misinstance\u001b[39m(key, Index):\n\u001b[1;32m   6118\u001b[0m     \u001b[38;5;66;03m# GH 42790 - Preserve name from an Index\u001b[39;00m\n",
      "File \u001b[0;32m~/.local/lib/python3.10/site-packages/pandas/core/indexes/base.py:6178\u001b[0m, in \u001b[0;36mIndex._raise_if_missing\u001b[0;34m(self, key, indexer, axis_name)\u001b[0m\n\u001b[1;32m   6175\u001b[0m     \u001b[38;5;28;01mraise\u001b[39;00m \u001b[38;5;167;01mKeyError\u001b[39;00m(\u001b[38;5;124mf\u001b[39m\u001b[38;5;124m\"\u001b[39m\u001b[38;5;124mNone of [\u001b[39m\u001b[38;5;132;01m{\u001b[39;00mkey\u001b[38;5;132;01m}\u001b[39;00m\u001b[38;5;124m] are in the [\u001b[39m\u001b[38;5;132;01m{\u001b[39;00maxis_name\u001b[38;5;132;01m}\u001b[39;00m\u001b[38;5;124m]\u001b[39m\u001b[38;5;124m\"\u001b[39m)\n\u001b[1;32m   6177\u001b[0m not_found \u001b[38;5;241m=\u001b[39m \u001b[38;5;28mlist\u001b[39m(ensure_index(key)[missing_mask\u001b[38;5;241m.\u001b[39mnonzero()[\u001b[38;5;241m0\u001b[39m]]\u001b[38;5;241m.\u001b[39munique())\n\u001b[0;32m-> 6178\u001b[0m \u001b[38;5;28;01mraise\u001b[39;00m \u001b[38;5;167;01mKeyError\u001b[39;00m(\u001b[38;5;124mf\u001b[39m\u001b[38;5;124m\"\u001b[39m\u001b[38;5;132;01m{\u001b[39;00mnot_found\u001b[38;5;132;01m}\u001b[39;00m\u001b[38;5;124m not in index\u001b[39m\u001b[38;5;124m\"\u001b[39m)\n",
      "\u001b[0;31mKeyError\u001b[0m: '[5] not in index'"
     ]
    }
   ],
   "source": [
    "results = Retrieval.create_df_from_tracks(Retrieval(n=N).top_similar_tracks(\n",
    "    query_row_id,\n",
    "    datasets.word2vec\n",
    "))\n",
    "results.drop(\"id\", axis=1)"
   ]
  },
  {
   "cell_type": "markdown",
   "id": "1a72348ee5d963a7",
   "metadata": {
    "collapsed": false
   },
   "source": [
    "_Blame It on the Boom Boom_ and _Metaphors_ have many similar words to _Waka Waka_ like “eh”, “oh”, “yeah”, but neither the genre nor the theme are similar. _Bamboreea_ is also about sports. _Royal_ again has many “oh” and the like, and _God Lives Through_ also has many “la”s."
   ]
  },
  {
   "cell_type": "markdown",
   "id": "36dd75a4803c37c4",
   "metadata": {
    "collapsed": false
   },
   "source": [
    "### \\#2: _Diamond Heart_ by _Lady Gaga_\n",
    "#### 2.1. Random baseline"
   ]
  },
  {
   "cell_type": "code",
   "execution_count": 25,
   "id": "42ef3a61c7136f68",
   "metadata": {
    "ExecuteTime": {
     "end_time": "2023-12-08T05:53:02.977488252Z",
     "start_time": "2023-12-08T05:53:02.841095103Z"
    },
    "collapsed": false
   },
   "outputs": [
    {
     "data": {
      "text/html": [
       "<div>\n",
       "<style scoped>\n",
       "    .dataframe tbody tr th:only-of-type {\n",
       "        vertical-align: middle;\n",
       "    }\n",
       "\n",
       "    .dataframe tbody tr th {\n",
       "        vertical-align: top;\n",
       "    }\n",
       "\n",
       "    .dataframe thead th {\n",
       "        text-align: right;\n",
       "    }\n",
       "</style>\n",
       "<table border=\"1\" class=\"dataframe\">\n",
       "  <thead>\n",
       "    <tr style=\"text-align: right;\">\n",
       "      <th></th>\n",
       "      <th>artist</th>\n",
       "      <th>song</th>\n",
       "      <th>album_name</th>\n",
       "    </tr>\n",
       "  </thead>\n",
       "  <tbody>\n",
       "    <tr>\n",
       "      <th>167</th>\n",
       "      <td>Veil of Maya</td>\n",
       "      <td>Citadel</td>\n",
       "      <td>False Idol</td>\n",
       "    </tr>\n",
       "    <tr>\n",
       "      <th>2277</th>\n",
       "      <td>The Cure</td>\n",
       "      <td>10:15 Saturday Night</td>\n",
       "      <td>Three Imaginary Boys [Deluxe Edition]</td>\n",
       "    </tr>\n",
       "    <tr>\n",
       "      <th>8309</th>\n",
       "      <td>Siouxsie and the Banshees</td>\n",
       "      <td>Hall Of Mirrors</td>\n",
       "      <td>Through The Looking Glass (Remastered And Expa...</td>\n",
       "    </tr>\n",
       "    <tr>\n",
       "      <th>903</th>\n",
       "      <td>The Chameleons</td>\n",
       "      <td>Thursday's Child</td>\n",
       "      <td>Script Of The Bridge - 25th Anniversary Edition</td>\n",
       "    </tr>\n",
       "    <tr>\n",
       "      <th>1823</th>\n",
       "      <td>Fleet Foxes</td>\n",
       "      <td>Battery Kinzie</td>\n",
       "      <td>Helplessness Blues</td>\n",
       "    </tr>\n",
       "    <tr>\n",
       "      <th>1075</th>\n",
       "      <td>Leonard Cohen</td>\n",
       "      <td>Memories</td>\n",
       "      <td>Death Of A Ladies' Man</td>\n",
       "    </tr>\n",
       "    <tr>\n",
       "      <th>2488</th>\n",
       "      <td>Linkin Park</td>\n",
       "      <td>The Requiem</td>\n",
       "      <td>A Thousand Suns</td>\n",
       "    </tr>\n",
       "    <tr>\n",
       "      <th>6149</th>\n",
       "      <td>Merchandise</td>\n",
       "      <td>Anxiety's Door</td>\n",
       "      <td>Totale Nite</td>\n",
       "    </tr>\n",
       "    <tr>\n",
       "      <th>7611</th>\n",
       "      <td>Lole Y Manuel</td>\n",
       "      <td>Nuevo Día</td>\n",
       "      <td>Nuevo dia</td>\n",
       "    </tr>\n",
       "    <tr>\n",
       "      <th>2423</th>\n",
       "      <td>Angra</td>\n",
       "      <td>Caveman</td>\n",
       "      <td>ØMNI</td>\n",
       "    </tr>\n",
       "  </tbody>\n",
       "</table>\n",
       "</div>"
      ],
      "text/plain": [
       "                         artist                  song                                         album_name\n",
       "167                Veil of Maya               Citadel                                         False Idol\n",
       "2277                   The Cure  10:15 Saturday Night              Three Imaginary Boys [Deluxe Edition]\n",
       "8309  Siouxsie and the Banshees       Hall Of Mirrors  Through The Looking Glass (Remastered And Expa...\n",
       "903              The Chameleons      Thursday's Child    Script Of The Bridge - 25th Anniversary Edition\n",
       "1823                Fleet Foxes        Battery Kinzie                                 Helplessness Blues\n",
       "1075              Leonard Cohen              Memories                             Death Of A Ladies' Man\n",
       "2488                Linkin Park           The Requiem                                    A Thousand Suns\n",
       "6149                Merchandise        Anxiety's Door                                        Totale Nite\n",
       "7611              Lole Y Manuel             Nuevo Día                                          Nuevo dia\n",
       "2423                      Angra               Caveman                                               ØMNI"
      ]
     },
     "execution_count": 25,
     "metadata": {},
     "output_type": "execute_result"
    }
   ],
   "source": [
    "# Reset the random seed once more\n",
    "query, query_row_id = songs.get_match(\n",
    "    Song(title=\"Diamond Heart\", artist=\"Lady Gaga\")\n",
    ")\n",
    "songs.info.loc[Retrieval.create_df_from_tracks(Retrieval(n=N).random_baseline(query_row_id)).index, songs.info.columns != \"id\"]"
   ]
  },
  {
   "cell_type": "markdown",
   "id": "7a2918160466f1bf",
   "metadata": {
    "collapsed": false
   },
   "source": [
    "As expected, the Random Baseline algorithm returns completely random results. There does not seem to be a common theme."
   ]
  },
  {
   "cell_type": "markdown",
   "id": "9dfc2842583ee7dc",
   "metadata": {
    "collapsed": false
   },
   "source": [
    "#### 2.2. Text-based(cos-sim, tf-idf)"
   ]
  },
  {
   "cell_type": "code",
   "execution_count": 15,
   "id": "4573d3b534a6add0",
   "metadata": {
    "ExecuteTime": {
     "end_time": "2023-12-08T05:53:03.033373299Z",
     "start_time": "2023-12-08T05:53:02.884835956Z"
    },
    "collapsed": false
   },
   "outputs": [
    {
     "data": {
      "text/html": [
       "<div>\n",
       "<style scoped>\n",
       "    .dataframe tbody tr th:only-of-type {\n",
       "        vertical-align: middle;\n",
       "    }\n",
       "\n",
       "    .dataframe tbody tr th {\n",
       "        vertical-align: top;\n",
       "    }\n",
       "\n",
       "    .dataframe thead th {\n",
       "        text-align: right;\n",
       "    }\n",
       "</style>\n",
       "<table border=\"1\" class=\"dataframe\">\n",
       "  <thead>\n",
       "    <tr style=\"text-align: right;\">\n",
       "      <th></th>\n",
       "      <th>similarity</th>\n",
       "      <th>song</th>\n",
       "      <th>artist</th>\n",
       "      <th>album_name</th>\n",
       "    </tr>\n",
       "  </thead>\n",
       "  <tbody>\n",
       "    <tr>\n",
       "      <th>5</th>\n",
       "      <td>0.480732</td>\n",
       "      <td>Dimestore Diamond</td>\n",
       "      <td>Gossip</td>\n",
       "      <td>Oral Fixation, Vol. 2 (Expanded Edition)</td>\n",
       "    </tr>\n",
       "    <tr>\n",
       "      <th>2</th>\n",
       "      <td>0.450549</td>\n",
       "      <td>Diamonds Are Forever</td>\n",
       "      <td>Shirley Bassey</td>\n",
       "      <td>In Our Bones</td>\n",
       "    </tr>\n",
       "    <tr>\n",
       "      <th>7</th>\n",
       "      <td>0.422778</td>\n",
       "      <td>Gloe</td>\n",
       "      <td>Kiiara</td>\n",
       "      <td>Year Of The Gentleman (Bonus Track Edition)</td>\n",
       "    </tr>\n",
       "    <tr>\n",
       "      <th>9</th>\n",
       "      <td>0.394226</td>\n",
       "      <td>Diamond Ring</td>\n",
       "      <td>Bon Jovi</td>\n",
       "      <td>Michael Bublé (US Version)</td>\n",
       "    </tr>\n",
       "    <tr>\n",
       "      <th>4</th>\n",
       "      <td>0.391100</td>\n",
       "      <td>Dear Diamond</td>\n",
       "      <td>Miranda Lambert</td>\n",
       "      <td>The Best of Laura Pausini - E Ritorno Da Te</td>\n",
       "    </tr>\n",
       "    <tr>\n",
       "      <th>6</th>\n",
       "      <td>0.318929</td>\n",
       "      <td>See Saw</td>\n",
       "      <td>Devendra Banhart</td>\n",
       "      <td>Yellow House</td>\n",
       "    </tr>\n",
       "    <tr>\n",
       "      <th>3</th>\n",
       "      <td>0.317348</td>\n",
       "      <td>Diamond in the Rough</td>\n",
       "      <td>The Nearly Deads</td>\n",
       "      <td>Trance - The Early Years (1997-2002)</td>\n",
       "    </tr>\n",
       "    <tr>\n",
       "      <th>8</th>\n",
       "      <td>0.297933</td>\n",
       "      <td>Wild Child</td>\n",
       "      <td>Ace Wilder</td>\n",
       "      <td>24 Hour Revenge Therapy (Remastered)</td>\n",
       "    </tr>\n",
       "    <tr>\n",
       "      <th>1</th>\n",
       "      <td>0.277761</td>\n",
       "      <td>Wild Wild Life</td>\n",
       "      <td>Talking Heads</td>\n",
       "      <td>Life After Death (Remastered Edition)</td>\n",
       "    </tr>\n",
       "    <tr>\n",
       "      <th>0</th>\n",
       "      <td>0.275118</td>\n",
       "      <td>First to Say Goodnight</td>\n",
       "      <td>Oh Land</td>\n",
       "      <td>We As Human</td>\n",
       "    </tr>\n",
       "  </tbody>\n",
       "</table>\n",
       "</div>"
      ],
      "text/plain": [
       "   similarity                    song            artist                                   album_name\n",
       "5    0.480732       Dimestore Diamond            Gossip     Oral Fixation, Vol. 2 (Expanded Edition)\n",
       "2    0.450549    Diamonds Are Forever    Shirley Bassey                                 In Our Bones\n",
       "7    0.422778                    Gloe            Kiiara  Year Of The Gentleman (Bonus Track Edition)\n",
       "9    0.394226            Diamond Ring          Bon Jovi                   Michael Bublé (US Version)\n",
       "4    0.391100            Dear Diamond   Miranda Lambert  The Best of Laura Pausini - E Ritorno Da Te\n",
       "6    0.318929                 See Saw  Devendra Banhart                                 Yellow House\n",
       "3    0.317348    Diamond in the Rough  The Nearly Deads         Trance - The Early Years (1997-2002)\n",
       "8    0.297933              Wild Child        Ace Wilder         24 Hour Revenge Therapy (Remastered)\n",
       "1    0.277761          Wild Wild Life     Talking Heads        Life After Death (Remastered Edition)\n",
       "0    0.275118  First to Say Goodnight           Oh Land                                  We As Human"
      ]
     },
     "execution_count": 15,
     "metadata": {},
     "output_type": "execute_result"
    }
   ],
   "source": [
    "results = Retrieval.create_df_from_tracks(Retrieval(n=N).top_similar_tracks(\n",
    "    query_row_id,\n",
    "    datasets.tf_idf,\n",
    "))\n",
    "results.drop(\"id\", axis=1)"
   ]
  },
  {
   "cell_type": "markdown",
   "id": "3387ef788a182c11",
   "metadata": {
    "collapsed": false
   },
   "source": [
    "- \"Dimestore Diamond\" by Gossip (Similarity: 0.481): This song's inclusion could be due to the word \"diamond\" in the title, which is a thematic similarity with Lady Gaga's \"Diamond Heart.\" Additionally, Gossip's music is related to the alternative rock and punk genres.\n",
    "- \"Diamonds Are Forever\" by Shirley Bassey (Similarity: 0.451): While Shirley Bassey's song title contains the word \"diamonds,\" it doesn't have a direct connection to Lady Gaga's\n",
    "- \"Diamond Heart.\" The inclusion could be due to the thematic similarity and genre relevance, as both are in the pop and adult contemporary genres.\n",
    "- \"Diamond Ring\" by Bon Jovi (Similarity: 0.394): The word \"diamond\" in the title may be a reason for its inclusion, as it relates thematically to \"Diamond Heart.\" Bon Jovi's music falls within the rock genre.\n",
    "- \"Dear Diamond\" by Miranda Lambert (Similarity: 0.391): The word \"diamond\" in the title could be the primary reason for its inclusion. Miranda Lambert's music is related to country, which is a different genre from Lady Gaga's pop.\n",
    "- \"Diamond in the Rough\" by The Nearly Deads (Similarity: 0.317): The word \"diamond\" in the title is likely the reason for its inclusion, but there may not be strong thematic or genre relevance.\n",
    "\n",
    "In this list, there are varying degrees of similarity, with some songs possibly included due to shared words in the titles or potential thematic connections. However, the connection to Lady Gaga's \"Diamond Heart\" remains somewhat indirect."
   ]
  },
  {
   "cell_type": "markdown",
   "id": "bb6024e0afe3f285",
   "metadata": {
    "collapsed": false
   },
   "source": [
    "#### 2.3. Text-based(cos-sim, BERT)"
   ]
  },
  {
   "cell_type": "code",
   "execution_count": 16,
   "id": "cf606a08896d95f0",
   "metadata": {
    "ExecuteTime": {
     "end_time": "2023-12-08T05:53:03.239345030Z",
     "start_time": "2023-12-08T05:53:02.971604644Z"
    },
    "collapsed": false
   },
   "outputs": [
    {
     "data": {
      "text/html": [
       "<div>\n",
       "<style scoped>\n",
       "    .dataframe tbody tr th:only-of-type {\n",
       "        vertical-align: middle;\n",
       "    }\n",
       "\n",
       "    .dataframe tbody tr th {\n",
       "        vertical-align: top;\n",
       "    }\n",
       "\n",
       "    .dataframe thead th {\n",
       "        text-align: right;\n",
       "    }\n",
       "</style>\n",
       "<table border=\"1\" class=\"dataframe\">\n",
       "  <thead>\n",
       "    <tr style=\"text-align: right;\">\n",
       "      <th></th>\n",
       "      <th>similarity</th>\n",
       "      <th>song</th>\n",
       "      <th>artist</th>\n",
       "      <th>album_name</th>\n",
       "    </tr>\n",
       "  </thead>\n",
       "  <tbody>\n",
       "    <tr>\n",
       "      <th>4</th>\n",
       "      <td>0.712682</td>\n",
       "      <td>Love Me Like You</td>\n",
       "      <td>Little Mix</td>\n",
       "      <td>The Best of Laura Pausini - E Ritorno Da Te</td>\n",
       "    </tr>\n",
       "    <tr>\n",
       "      <th>6</th>\n",
       "      <td>0.709689</td>\n",
       "      <td>Loyal</td>\n",
       "      <td>Chris Brown</td>\n",
       "      <td>Yellow House</td>\n",
       "    </tr>\n",
       "    <tr>\n",
       "      <th>2</th>\n",
       "      <td>0.706896</td>\n",
       "      <td>Lifeline</td>\n",
       "      <td>Jamiroquai</td>\n",
       "      <td>In Our Bones</td>\n",
       "    </tr>\n",
       "    <tr>\n",
       "      <th>0</th>\n",
       "      <td>0.700668</td>\n",
       "      <td>Moments</td>\n",
       "      <td>Tove Lo</td>\n",
       "      <td>We As Human</td>\n",
       "    </tr>\n",
       "    <tr>\n",
       "      <th>9</th>\n",
       "      <td>0.700466</td>\n",
       "      <td>Misfit Love</td>\n",
       "      <td>Queens of the Stone Age</td>\n",
       "      <td>Michael Bublé (US Version)</td>\n",
       "    </tr>\n",
       "    <tr>\n",
       "      <th>5</th>\n",
       "      <td>0.700023</td>\n",
       "      <td>Gloe</td>\n",
       "      <td>Kiiara</td>\n",
       "      <td>Oral Fixation, Vol. 2 (Expanded Edition)</td>\n",
       "    </tr>\n",
       "    <tr>\n",
       "      <th>3</th>\n",
       "      <td>0.692460</td>\n",
       "      <td>Bing Bing</td>\n",
       "      <td>Crayon Pop</td>\n",
       "      <td>Trance - The Early Years (1997-2002)</td>\n",
       "    </tr>\n",
       "    <tr>\n",
       "      <th>8</th>\n",
       "      <td>0.688697</td>\n",
       "      <td>A Little Party Never Killed Nobody (All We Got)</td>\n",
       "      <td>Fergie, Q-Tip &amp; GoonRock</td>\n",
       "      <td>24 Hour Revenge Therapy (Remastered)</td>\n",
       "    </tr>\n",
       "    <tr>\n",
       "      <th>7</th>\n",
       "      <td>0.687543</td>\n",
       "      <td>Just Like Jesse James</td>\n",
       "      <td>Cher</td>\n",
       "      <td>Year Of The Gentleman (Bonus Track Edition)</td>\n",
       "    </tr>\n",
       "    <tr>\n",
       "      <th>1</th>\n",
       "      <td>0.687287</td>\n",
       "      <td>Pretty Girl - Cheat Codes X Cade Remix</td>\n",
       "      <td>Maggie Lindemann</td>\n",
       "      <td>Life After Death (Remastered Edition)</td>\n",
       "    </tr>\n",
       "  </tbody>\n",
       "</table>\n",
       "</div>"
      ],
      "text/plain": [
       "   similarity                                             song                    artist                                   album_name\n",
       "4    0.712682                                 Love Me Like You                Little Mix  The Best of Laura Pausini - E Ritorno Da Te\n",
       "6    0.709689                                            Loyal               Chris Brown                                 Yellow House\n",
       "2    0.706896                                         Lifeline                Jamiroquai                                 In Our Bones\n",
       "0    0.700668                                          Moments                   Tove Lo                                  We As Human\n",
       "9    0.700466                                      Misfit Love   Queens of the Stone Age                   Michael Bublé (US Version)\n",
       "5    0.700023                                             Gloe                    Kiiara     Oral Fixation, Vol. 2 (Expanded Edition)\n",
       "3    0.692460                                        Bing Bing                Crayon Pop         Trance - The Early Years (1997-2002)\n",
       "8    0.688697  A Little Party Never Killed Nobody (All We Got)  Fergie, Q-Tip & GoonRock         24 Hour Revenge Therapy (Remastered)\n",
       "7    0.687543                            Just Like Jesse James                      Cher  Year Of The Gentleman (Bonus Track Edition)\n",
       "1    0.687287           Pretty Girl - Cheat Codes X Cade Remix          Maggie Lindemann        Life After Death (Remastered Edition)"
      ]
     },
     "execution_count": 16,
     "metadata": {},
     "output_type": "execute_result"
    }
   ],
   "source": [
    "results = Retrieval(n=N).text_based_similarity(\n",
    "    song_id=query_row_id,\n",
    "    dataset=datasets.lyrics_bert,\n",
    "    similarity_measure=SimilarityMeasure.COSINE\n",
    ")\n",
    "results.drop(\"id\", axis=1)"
   ]
  },
  {
   "cell_type": "markdown",
   "id": "3139b140aaefebe6",
   "metadata": {
    "collapsed": false
   },
   "source": [
    "- \"Moments\" by Tove Lo (Similarity: 0.701): The word \"moments\" could be a reason for its inclusion, as songs often capture specific moments or memories, similar to the concept in \"Diamond Heart.\"\n",
    "- \"Misfit Love\" by Queens of the Stone Age (Similarity: 0.700): While the title is different, the inclusion could be related to the concept of love, as it appears in both songs.\n",
    "- \"Just Like Jesse James\" by Cher (Similarity: 0.688): The inclusion may be related to the idea of romance and relationships, which is a theme in many songs, including Lady Gaga's.\n",
    "- \"Pretty Girl - Cheat Codes X Cade Remix\" by Maggie Lindemann (Similarity: 0.687): The inclusion might be based on the thematic connection of relationships or the word \"pretty\" in the title, which can be related to Lady Gaga's themes and style.\n",
    "\n",
    "In this list, the connections to Lady Gaga's \"Diamond Heart\" are not immediately clear, and the songs may be included based on thematic or lyrical associations rather than direct artist or genre connections."
   ]
  },
  {
   "cell_type": "markdown",
   "id": "6e691625f2b4246e",
   "metadata": {
    "collapsed": false
   },
   "source": [
    "#### 2.4. Text-based(cos-sim, word2vec)"
   ]
  },
  {
   "cell_type": "code",
   "execution_count": 17,
   "id": "56a98740db9d0d48",
   "metadata": {
    "ExecuteTime": {
     "end_time": "2023-12-08T05:53:03.241402139Z",
     "start_time": "2023-12-08T05:53:03.065474784Z"
    },
    "collapsed": false
   },
   "outputs": [
    {
     "data": {
      "text/html": [
       "<div>\n",
       "<style scoped>\n",
       "    .dataframe tbody tr th:only-of-type {\n",
       "        vertical-align: middle;\n",
       "    }\n",
       "\n",
       "    .dataframe tbody tr th {\n",
       "        vertical-align: top;\n",
       "    }\n",
       "\n",
       "    .dataframe thead th {\n",
       "        text-align: right;\n",
       "    }\n",
       "</style>\n",
       "<table border=\"1\" class=\"dataframe\">\n",
       "  <thead>\n",
       "    <tr style=\"text-align: right;\">\n",
       "      <th></th>\n",
       "      <th>similarity</th>\n",
       "      <th>song</th>\n",
       "      <th>artist</th>\n",
       "      <th>album_name</th>\n",
       "    </tr>\n",
       "  </thead>\n",
       "  <tbody>\n",
       "    <tr>\n",
       "      <th>1</th>\n",
       "      <td>0.903783</td>\n",
       "      <td>Till The Right Man Comes Along</td>\n",
       "      <td>Tina Turner</td>\n",
       "      <td>Life After Death (Remastered Edition)</td>\n",
       "    </tr>\n",
       "    <tr>\n",
       "      <th>3</th>\n",
       "      <td>0.903415</td>\n",
       "      <td>I'm On One</td>\n",
       "      <td>DJ Khaled</td>\n",
       "      <td>Trance - The Early Years (1997-2002)</td>\n",
       "    </tr>\n",
       "    <tr>\n",
       "      <th>8</th>\n",
       "      <td>0.898276</td>\n",
       "      <td>***Flawless</td>\n",
       "      <td>Beyoncé</td>\n",
       "      <td>24 Hour Revenge Therapy (Remastered)</td>\n",
       "    </tr>\n",
       "    <tr>\n",
       "      <th>4</th>\n",
       "      <td>0.898103</td>\n",
       "      <td>Lighters</td>\n",
       "      <td>Bad Meets Evil</td>\n",
       "      <td>The Best of Laura Pausini - E Ritorno Da Te</td>\n",
       "    </tr>\n",
       "    <tr>\n",
       "      <th>0</th>\n",
       "      <td>0.898078</td>\n",
       "      <td>Countdown</td>\n",
       "      <td>Beyoncé</td>\n",
       "      <td>We As Human</td>\n",
       "    </tr>\n",
       "    <tr>\n",
       "      <th>6</th>\n",
       "      <td>0.898065</td>\n",
       "      <td>We Made You</td>\n",
       "      <td>Eminem</td>\n",
       "      <td>Yellow House</td>\n",
       "    </tr>\n",
       "    <tr>\n",
       "      <th>9</th>\n",
       "      <td>0.897623</td>\n",
       "      <td>Gettin' Up</td>\n",
       "      <td>Q-Tip</td>\n",
       "      <td>Michael Bublé (US Version)</td>\n",
       "    </tr>\n",
       "    <tr>\n",
       "      <th>7</th>\n",
       "      <td>0.897282</td>\n",
       "      <td>Love Somebody</td>\n",
       "      <td>Rick Springfield</td>\n",
       "      <td>Year Of The Gentleman (Bonus Track Edition)</td>\n",
       "    </tr>\n",
       "    <tr>\n",
       "      <th>2</th>\n",
       "      <td>0.897209</td>\n",
       "      <td>So Much Better</td>\n",
       "      <td>Eminem</td>\n",
       "      <td>In Our Bones</td>\n",
       "    </tr>\n",
       "    <tr>\n",
       "      <th>5</th>\n",
       "      <td>0.896580</td>\n",
       "      <td>Mr. Right</td>\n",
       "      <td>A Rocket to the Moon</td>\n",
       "      <td>Oral Fixation, Vol. 2 (Expanded Edition)</td>\n",
       "    </tr>\n",
       "  </tbody>\n",
       "</table>\n",
       "</div>"
      ],
      "text/plain": [
       "   similarity                            song                artist                                   album_name\n",
       "1    0.903783  Till The Right Man Comes Along           Tina Turner        Life After Death (Remastered Edition)\n",
       "3    0.903415                      I'm On One             DJ Khaled         Trance - The Early Years (1997-2002)\n",
       "8    0.898276                     ***Flawless               Beyoncé         24 Hour Revenge Therapy (Remastered)\n",
       "4    0.898103                        Lighters        Bad Meets Evil  The Best of Laura Pausini - E Ritorno Da Te\n",
       "0    0.898078                       Countdown               Beyoncé                                  We As Human\n",
       "6    0.898065                     We Made You                Eminem                                 Yellow House\n",
       "9    0.897623                      Gettin' Up                 Q-Tip                   Michael Bublé (US Version)\n",
       "7    0.897282                   Love Somebody      Rick Springfield  Year Of The Gentleman (Bonus Track Edition)\n",
       "2    0.897209                  So Much Better                Eminem                                 In Our Bones\n",
       "5    0.896580                       Mr. Right  A Rocket to the Moon     Oral Fixation, Vol. 2 (Expanded Edition)"
      ]
     },
     "execution_count": 17,
     "metadata": {},
     "output_type": "execute_result"
    }
   ],
   "source": [
    "results = Retrieval.create_df_from_tracks(Retrieval(n=N).top_similar_tracks(\n",
    "    query_row_id,\n",
    "    datasets.word2vec,\n",
    "))\n",
    "results.drop(\"id\", axis=1)"
   ]
  },
  {
   "cell_type": "markdown",
   "id": "1c706e6bdc1a2b54",
   "metadata": {
    "collapsed": false
   },
   "source": [
    "- \"Till The Right Man Comes Along\" by Tina Turner (Similarity: 0.904): This song's inclusion may be related to the concept of waiting for the right person, which could be thematically connected to \"Diamond Heart.\"\n",
    "- \"***Flawless\" by Beyoncé (Similarity: 0.898): The inclusion might be related to the word \"***Flawless\" and the idea of self-confidence, which is a theme found in both songs.\n",
    "- \"Mr. Right\" by A Rocket to the Moon (Similarity: 0.897): This song's inclusion could be based on the theme of finding the right person or being with the perfect partner, which can be thematically related to \"Diamond Heart.\"\n",
    "\n",
    "In this list, the connections to Lady Gaga's \"Diamond Heart\" are not immediately clear, and the songs may be included based on thematic or lyrical associations rather than direct artist or genre connections."
   ]
  },
  {
   "cell_type": "markdown",
   "id": "1c00777c7e169a04",
   "metadata": {
    "collapsed": false
   },
   "source": [
    "### \\#3: _Wake Me Up When September Ends_ by _Green Day_\n",
    "#### 3.1. Random baseline"
   ]
  },
  {
   "cell_type": "code",
   "execution_count": 18,
   "id": "3bdd66612c98dab5",
   "metadata": {
    "ExecuteTime": {
     "end_time": "2023-12-08T05:53:03.242864142Z",
     "start_time": "2023-12-08T05:53:03.117611417Z"
    },
    "collapsed": false
   },
   "outputs": [
    {
     "data": {
      "text/html": [
       "<div>\n",
       "<style scoped>\n",
       "    .dataframe tbody tr th:only-of-type {\n",
       "        vertical-align: middle;\n",
       "    }\n",
       "\n",
       "    .dataframe tbody tr th {\n",
       "        vertical-align: top;\n",
       "    }\n",
       "\n",
       "    .dataframe thead th {\n",
       "        text-align: right;\n",
       "    }\n",
       "</style>\n",
       "<table border=\"1\" class=\"dataframe\">\n",
       "  <thead>\n",
       "    <tr style=\"text-align: right;\">\n",
       "      <th></th>\n",
       "      <th>artist</th>\n",
       "      <th>song</th>\n",
       "      <th>album_name</th>\n",
       "    </tr>\n",
       "  </thead>\n",
       "  <tbody>\n",
       "    <tr>\n",
       "      <th>6253</th>\n",
       "      <td>U.S. Girls</td>\n",
       "      <td>Time</td>\n",
       "      <td>In a Poem Unlimited</td>\n",
       "    </tr>\n",
       "    <tr>\n",
       "      <th>568</th>\n",
       "      <td>Boy Harsher</td>\n",
       "      <td>Motion</td>\n",
       "      <td>Country Girl (Extended Version)</td>\n",
       "    </tr>\n",
       "    <tr>\n",
       "      <th>8269</th>\n",
       "      <td>Kaiser Chiefs</td>\n",
       "      <td>Hole In My Soul</td>\n",
       "      <td>Stay Together</td>\n",
       "    </tr>\n",
       "    <tr>\n",
       "      <th>5950</th>\n",
       "      <td>Ne-Yo</td>\n",
       "      <td>Let Me Love You (Until You Learn to Love Yours...</td>\n",
       "      <td>R.E.D. (Deluxe Edition)</td>\n",
       "    </tr>\n",
       "    <tr>\n",
       "      <th>10070</th>\n",
       "      <td>Kat Dahlia</td>\n",
       "      <td>Mirror</td>\n",
       "      <td>My Garden</td>\n",
       "    </tr>\n",
       "    <tr>\n",
       "      <th>33</th>\n",
       "      <td>Cigarettes After Sex</td>\n",
       "      <td>Flash</td>\n",
       "      <td>Cigarettes After Sex</td>\n",
       "    </tr>\n",
       "    <tr>\n",
       "      <th>576</th>\n",
       "      <td>The Hollies</td>\n",
       "      <td>Long Cool Woman (In A Black Dress) - 1999 Rema...</td>\n",
       "      <td>Distant Light [1999 - Remaster] (1999 Remaster...</td>\n",
       "    </tr>\n",
       "    <tr>\n",
       "      <th>1512</th>\n",
       "      <td>The Byrds</td>\n",
       "      <td>Natural Harmony</td>\n",
       "      <td>The Notorious Byrd Brothers</td>\n",
       "    </tr>\n",
       "    <tr>\n",
       "      <th>7855</th>\n",
       "      <td>Paolo Nutini</td>\n",
       "      <td>Candy</td>\n",
       "      <td>Sunny Side Up</td>\n",
       "    </tr>\n",
       "    <tr>\n",
       "      <th>532</th>\n",
       "      <td>GFOTY</td>\n",
       "      <td>You Don't</td>\n",
       "      <td>Call Him A Doctor</td>\n",
       "    </tr>\n",
       "  </tbody>\n",
       "</table>\n",
       "</div>"
      ],
      "text/plain": [
       "                     artist                                               song                                         album_name\n",
       "6253             U.S. Girls                                               Time                                In a Poem Unlimited\n",
       "568             Boy Harsher                                             Motion                    Country Girl (Extended Version)\n",
       "8269          Kaiser Chiefs                                    Hole In My Soul                                      Stay Together\n",
       "5950                  Ne-Yo  Let Me Love You (Until You Learn to Love Yours...                            R.E.D. (Deluxe Edition)\n",
       "10070            Kat Dahlia                                             Mirror                                          My Garden\n",
       "33     Cigarettes After Sex                                              Flash                               Cigarettes After Sex\n",
       "576             The Hollies  Long Cool Woman (In A Black Dress) - 1999 Rema...  Distant Light [1999 - Remaster] (1999 Remaster...\n",
       "1512              The Byrds                                    Natural Harmony                        The Notorious Byrd Brothers\n",
       "7855           Paolo Nutini                                              Candy                                      Sunny Side Up\n",
       "532                   GFOTY                                          You Don't                                  Call Him A Doctor"
      ]
     },
     "execution_count": 18,
     "metadata": {},
     "output_type": "execute_result"
    }
   ],
   "source": [
    "query, query_row_id = songs.get_match(\n",
    "    Song(title=\"Wake Me Up When September Ends\", artist=\"Green Day\")\n",
    ")\n",
    "songs.info.loc[Retrieval.create_df_from_tracks(Retrieval(n=N).random_baseline(query_row_id)).index, songs.info.columns != \"id\"]"
   ]
  },
  {
   "cell_type": "markdown",
   "id": "dc5c53780f9aab78",
   "metadata": {
    "collapsed": false
   },
   "source": [
    "As expected, the Random Baseline algorithm returns completely random results. There does not seem to be a common theme."
   ]
  },
  {
   "cell_type": "markdown",
   "id": "aa8edb67a3d62a75",
   "metadata": {
    "collapsed": false
   },
   "source": [
    "#### 3.2. Text-based(cos-sim, tf-idf)"
   ]
  },
  {
   "cell_type": "code",
   "execution_count": 19,
   "id": "c37b8266c66bc195",
   "metadata": {
    "ExecuteTime": {
     "end_time": "2023-12-08T05:53:08.152912637Z",
     "start_time": "2023-12-08T05:53:07.674096984Z"
    },
    "collapsed": false
   },
   "outputs": [
    {
     "data": {
      "text/html": [
       "<div>\n",
       "<style scoped>\n",
       "    .dataframe tbody tr th:only-of-type {\n",
       "        vertical-align: middle;\n",
       "    }\n",
       "\n",
       "    .dataframe tbody tr th {\n",
       "        vertical-align: top;\n",
       "    }\n",
       "\n",
       "    .dataframe thead th {\n",
       "        text-align: right;\n",
       "    }\n",
       "</style>\n",
       "<table border=\"1\" class=\"dataframe\">\n",
       "  <thead>\n",
       "    <tr style=\"text-align: right;\">\n",
       "      <th></th>\n",
       "      <th>similarity</th>\n",
       "      <th>song</th>\n",
       "      <th>artist</th>\n",
       "      <th>album_name</th>\n",
       "    </tr>\n",
       "  </thead>\n",
       "  <tbody>\n",
       "    <tr>\n",
       "      <th>1</th>\n",
       "      <td>0.535697</td>\n",
       "      <td>Wake Up</td>\n",
       "      <td>Emigrate</td>\n",
       "      <td>Life After Death (Remastered Edition)</td>\n",
       "    </tr>\n",
       "    <tr>\n",
       "      <th>8</th>\n",
       "      <td>0.521682</td>\n",
       "      <td>Wake Up (Make a Move)</td>\n",
       "      <td>Lostprophets</td>\n",
       "      <td>24 Hour Revenge Therapy (Remastered)</td>\n",
       "    </tr>\n",
       "    <tr>\n",
       "      <th>3</th>\n",
       "      <td>0.501407</td>\n",
       "      <td>Open Your Eyes</td>\n",
       "      <td>Goldfinger</td>\n",
       "      <td>Trance - The Early Years (1997-2002)</td>\n",
       "    </tr>\n",
       "    <tr>\n",
       "      <th>4</th>\n",
       "      <td>0.482077</td>\n",
       "      <td>All the King's Men</td>\n",
       "      <td>The Rigs</td>\n",
       "      <td>The Best of Laura Pausini - E Ritorno Da Te</td>\n",
       "    </tr>\n",
       "    <tr>\n",
       "      <th>6</th>\n",
       "      <td>0.421284</td>\n",
       "      <td>Wasteland</td>\n",
       "      <td>Against the Current</td>\n",
       "      <td>Yellow House</td>\n",
       "    </tr>\n",
       "    <tr>\n",
       "      <th>2</th>\n",
       "      <td>0.411670</td>\n",
       "      <td>End of All Hope</td>\n",
       "      <td>Nightwish</td>\n",
       "      <td>In Our Bones</td>\n",
       "    </tr>\n",
       "    <tr>\n",
       "      <th>7</th>\n",
       "      <td>0.404016</td>\n",
       "      <td>Bring Me to Life</td>\n",
       "      <td>Evanescence</td>\n",
       "      <td>Year Of The Gentleman (Bonus Track Edition)</td>\n",
       "    </tr>\n",
       "    <tr>\n",
       "      <th>5</th>\n",
       "      <td>0.403344</td>\n",
       "      <td>Black Moon</td>\n",
       "      <td>Cellar Darling</td>\n",
       "      <td>Oral Fixation, Vol. 2 (Expanded Edition)</td>\n",
       "    </tr>\n",
       "    <tr>\n",
       "      <th>9</th>\n",
       "      <td>0.397533</td>\n",
       "      <td>Wake up and Live</td>\n",
       "      <td>Youth of Today</td>\n",
       "      <td>Michael Bublé (US Version)</td>\n",
       "    </tr>\n",
       "    <tr>\n",
       "      <th>0</th>\n",
       "      <td>0.391455</td>\n",
       "      <td>I Want to Wake Up</td>\n",
       "      <td>Pet Shop Boys</td>\n",
       "      <td>We As Human</td>\n",
       "    </tr>\n",
       "  </tbody>\n",
       "</table>\n",
       "</div>"
      ],
      "text/plain": [
       "   similarity                   song               artist                                   album_name\n",
       "1    0.535697                Wake Up             Emigrate        Life After Death (Remastered Edition)\n",
       "8    0.521682  Wake Up (Make a Move)         Lostprophets         24 Hour Revenge Therapy (Remastered)\n",
       "3    0.501407         Open Your Eyes           Goldfinger         Trance - The Early Years (1997-2002)\n",
       "4    0.482077     All the King's Men             The Rigs  The Best of Laura Pausini - E Ritorno Da Te\n",
       "6    0.421284              Wasteland  Against the Current                                 Yellow House\n",
       "2    0.411670        End of All Hope            Nightwish                                 In Our Bones\n",
       "7    0.404016       Bring Me to Life          Evanescence  Year Of The Gentleman (Bonus Track Edition)\n",
       "5    0.403344             Black Moon       Cellar Darling     Oral Fixation, Vol. 2 (Expanded Edition)\n",
       "9    0.397533       Wake up and Live       Youth of Today                   Michael Bublé (US Version)\n",
       "0    0.391455      I Want to Wake Up        Pet Shop Boys                                  We As Human"
      ]
     },
     "execution_count": 19,
     "metadata": {},
     "output_type": "execute_result"
    }
   ],
   "source": [
    "results = Retrieval.create_df_from_tracks(Retrieval(n=N).top_similar_tracks(\n",
    "    query_row_id,\n",
    "    datasets.tf_idf,\n",
    "))\n",
    "results.drop(\"id\", axis=1)"
   ]
  },
  {
   "cell_type": "markdown",
   "id": "b684cc72c99ff484",
   "metadata": {
    "collapsed": false
   },
   "source": [
    "- \"Wake Up (Make a Move)\" by Lostprophets (Similarity: 0.522): This song's title contains \"Wake Up,\" which is the same as Green Day's song. It's possible that the song's title and genre relevance to rock music led to its inclusion.\n",
    "- \"Wake up and Live\" by Youth of Today (Similarity: 0.398): This song's title directly contains \"Wake up,\" similar to Green Day's song. The band's music is more in the realm of hardcore punk, which is distinct from Green Day's style.\n",
    "- \"I Want to Wake Up\" by Pet Shop Boys (Similarity: 0.391): The song title \"I Want to Wake Up\" shares the theme of waking up with Green Day's song. However, Pet Shop Boys' music belongs to the synth-pop genre, which is quite different from Green Day's punk rock.\n",
    "\n",
    "In this list, some songs are included due to thematic similarities in their titles, while others may have genre relevance to Green Day's music. However, some inclusions remain unclear, possibly due to shared words in the titles but differing musical styles."
   ]
  },
  {
   "cell_type": "markdown",
   "id": "7a2ba53ff95335d8",
   "metadata": {
    "collapsed": false
   },
   "source": [
    "#### 3.3. Text-based(cos-sim, BERT)"
   ]
  },
  {
   "cell_type": "code",
   "execution_count": 26,
   "id": "4f6881169713eb0f",
   "metadata": {
    "ExecuteTime": {
     "end_time": "2023-12-08T05:53:09.073341213Z",
     "start_time": "2023-12-08T05:53:08.974315395Z"
    },
    "collapsed": false
   },
   "outputs": [
    {
     "ename": "AttributeError",
     "evalue": "'Retrieval' object has no attribute 'top'",
     "output_type": "error",
     "traceback": [
      "\u001b[0;31m---------------------------------------------------------------------------\u001b[0m",
      "\u001b[0;31mAttributeError\u001b[0m                            Traceback (most recent call last)",
      "Cell \u001b[0;32mIn[26], line 1\u001b[0m\n\u001b[0;32m----> 1\u001b[0m results \u001b[38;5;241m=\u001b[39m \u001b[43mRetrieval\u001b[49m\u001b[43m(\u001b[49m\u001b[43mn\u001b[49m\u001b[38;5;241;43m=\u001b[39;49m\u001b[43mN\u001b[49m\u001b[43m)\u001b[49m\u001b[38;5;241;43m.\u001b[39;49m\u001b[43mtop\u001b[49m(\n\u001b[1;32m      2\u001b[0m     song_id\u001b[38;5;241m=\u001b[39mquery_row_id,\n\u001b[1;32m      3\u001b[0m     dataset\u001b[38;5;241m=\u001b[39mdatasets\u001b[38;5;241m.\u001b[39mlyrics_bert,\n\u001b[1;32m      4\u001b[0m     similarity_measure\u001b[38;5;241m=\u001b[39mSimilarityMeasure\u001b[38;5;241m.\u001b[39mCOSINE\n\u001b[1;32m      5\u001b[0m )\n\u001b[1;32m      6\u001b[0m results[\u001b[38;5;124m\"\u001b[39m\u001b[38;5;124malbum_name\u001b[39m\u001b[38;5;124m\"\u001b[39m] \u001b[38;5;241m=\u001b[39m songs\u001b[38;5;241m.\u001b[39minfo[\u001b[38;5;124m\"\u001b[39m\u001b[38;5;124malbum_name\u001b[39m\u001b[38;5;124m\"\u001b[39m]\u001b[38;5;241m.\u001b[39mloc[results\u001b[38;5;241m.\u001b[39mindex]\n\u001b[1;32m      7\u001b[0m results\u001b[38;5;241m.\u001b[39mdrop(\u001b[38;5;124m\"\u001b[39m\u001b[38;5;124mid\u001b[39m\u001b[38;5;124m\"\u001b[39m, axis\u001b[38;5;241m=\u001b[39m\u001b[38;5;241m1\u001b[39m)\n",
      "\u001b[0;31mAttributeError\u001b[0m: 'Retrieval' object has no attribute 'top'"
     ]
    }
   ],
   "source": [
    "results = Retrieval.create_df_from_tracks(Retrieval(n=N).top_similar_tracks(\n",
    "    query_row_id,\n",
    "    datasets.lyrics_bert,\n",
    "))\n",
    "results.drop(\"id\", axis=1)"
   ]
  },
  {
   "cell_type": "markdown",
   "id": "d4e90d6a18eefe38",
   "metadata": {
    "collapsed": false
   },
   "source": [
    "- \"Fat Old Sun\" by Pink Floyd (Similarity: 0.736): Pink Floyd is a well-known rock band, and their music shares some genre relevance with Green Day. The inclusion in the list could be due to this genre similarity.\n",
    "- \"When the Seasons Change\" by Five Finger Death Punch (Similarity: 0.716): This song's title directly references the changing of seasons, which is related to time, possibly explaining its inclusion.\n",
    "- \"Summer and Lightning\" by Electric Light Orchestra (Similarity: 0.713): Electric Light Orchestra is known for their rock and orchestral elements, and the word \"summer\" in the title may have led to its inclusion due to the connection with a season.\n",
    "- \"September in the Rain\" by Dinah Washington (Similarity: 0.712): This song's title directly references September, which is similar to the title of Green Day's song. Dinah Washington's music is jazz, making its inclusion less obvious.\n",
    "\n",
    "In this list, the songs seem to be loosely connected by thematic elements related to time, seasons, and potentially genre relevance with Green Day's rock music. However, the inclusion of some songs, especially those from different genres and with little thematic similarity, remains unclear."
   ]
  },
  {
   "cell_type": "markdown",
   "id": "a6fddf24d243289c",
   "metadata": {
    "collapsed": false
   },
   "source": [
    "#### 3.4. Text-based(cos-sim, word2vec)"
   ]
  },
  {
   "cell_type": "code",
   "execution_count": 27,
   "id": "c8c799287711178f",
   "metadata": {
    "ExecuteTime": {
     "end_time": "2023-12-08T05:53:10.286327428Z",
     "start_time": "2023-12-08T05:53:10.224876310Z"
    },
    "collapsed": false
   },
   "outputs": [
    {
     "name": "stdout",
     "output_type": "stream",
     "text": [
      "Retrieval time: 0.01284933090209961 seconds\n",
      "Population time: 0.035054683685302734 seconds\n"
     ]
    },
    {
     "ename": "KeyError",
     "evalue": "'[5] not in index'",
     "output_type": "error",
     "traceback": [
      "\u001b[0;31m---------------------------------------------------------------------------\u001b[0m",
      "\u001b[0;31mKeyError\u001b[0m                                  Traceback (most recent call last)",
      "Cell \u001b[0;32mIn[27], line 5\u001b[0m\n\u001b[1;32m      1\u001b[0m results \u001b[38;5;241m=\u001b[39m Retrieval(n\u001b[38;5;241m=\u001b[39mN)\u001b[38;5;241m.\u001b[39mtop_similar_tracks(\n\u001b[1;32m      2\u001b[0m     query_row_id,\n\u001b[1;32m      3\u001b[0m     datasets\u001b[38;5;241m.\u001b[39mword2vec,\n\u001b[1;32m      4\u001b[0m )\n\u001b[0;32m----> 5\u001b[0m results[\u001b[38;5;124m\"\u001b[39m\u001b[38;5;124malbum_name\u001b[39m\u001b[38;5;124m\"\u001b[39m] \u001b[38;5;241m=\u001b[39m \u001b[43msongs\u001b[49m\u001b[38;5;241;43m.\u001b[39;49m\u001b[43minfo\u001b[49m\u001b[43m[\u001b[49m\u001b[38;5;124;43m\"\u001b[39;49m\u001b[38;5;124;43malbum_name\u001b[39;49m\u001b[38;5;124;43m\"\u001b[39;49m\u001b[43m]\u001b[49m\u001b[38;5;241;43m.\u001b[39;49m\u001b[43mloc\u001b[49m\u001b[43m[\u001b[49m\u001b[43mresults\u001b[49m\u001b[38;5;241;43m.\u001b[39;49m\u001b[43mindex\u001b[49m\u001b[43m]\u001b[49m\n\u001b[1;32m      6\u001b[0m results\u001b[38;5;241m.\u001b[39mdrop(\u001b[38;5;124m\"\u001b[39m\u001b[38;5;124mid\u001b[39m\u001b[38;5;124m\"\u001b[39m, axis\u001b[38;5;241m=\u001b[39m\u001b[38;5;241m1\u001b[39m)\n",
      "File \u001b[0;32m~/.local/lib/python3.10/site-packages/pandas/core/indexing.py:1153\u001b[0m, in \u001b[0;36m_LocationIndexer.__getitem__\u001b[0;34m(self, key)\u001b[0m\n\u001b[1;32m   1150\u001b[0m axis \u001b[38;5;241m=\u001b[39m \u001b[38;5;28mself\u001b[39m\u001b[38;5;241m.\u001b[39maxis \u001b[38;5;129;01mor\u001b[39;00m \u001b[38;5;241m0\u001b[39m\n\u001b[1;32m   1152\u001b[0m maybe_callable \u001b[38;5;241m=\u001b[39m com\u001b[38;5;241m.\u001b[39mapply_if_callable(key, \u001b[38;5;28mself\u001b[39m\u001b[38;5;241m.\u001b[39mobj)\n\u001b[0;32m-> 1153\u001b[0m \u001b[38;5;28;01mreturn\u001b[39;00m \u001b[38;5;28;43mself\u001b[39;49m\u001b[38;5;241;43m.\u001b[39;49m\u001b[43m_getitem_axis\u001b[49m\u001b[43m(\u001b[49m\u001b[43mmaybe_callable\u001b[49m\u001b[43m,\u001b[49m\u001b[43m \u001b[49m\u001b[43maxis\u001b[49m\u001b[38;5;241;43m=\u001b[39;49m\u001b[43maxis\u001b[49m\u001b[43m)\u001b[49m\n",
      "File \u001b[0;32m~/.local/lib/python3.10/site-packages/pandas/core/indexing.py:1382\u001b[0m, in \u001b[0;36m_LocIndexer._getitem_axis\u001b[0;34m(self, key, axis)\u001b[0m\n\u001b[1;32m   1379\u001b[0m     \u001b[38;5;28;01mif\u001b[39;00m \u001b[38;5;28mhasattr\u001b[39m(key, \u001b[38;5;124m\"\u001b[39m\u001b[38;5;124mndim\u001b[39m\u001b[38;5;124m\"\u001b[39m) \u001b[38;5;129;01mand\u001b[39;00m key\u001b[38;5;241m.\u001b[39mndim \u001b[38;5;241m>\u001b[39m \u001b[38;5;241m1\u001b[39m:\n\u001b[1;32m   1380\u001b[0m         \u001b[38;5;28;01mraise\u001b[39;00m \u001b[38;5;167;01mValueError\u001b[39;00m(\u001b[38;5;124m\"\u001b[39m\u001b[38;5;124mCannot index with multidimensional key\u001b[39m\u001b[38;5;124m\"\u001b[39m)\n\u001b[0;32m-> 1382\u001b[0m     \u001b[38;5;28;01mreturn\u001b[39;00m \u001b[38;5;28;43mself\u001b[39;49m\u001b[38;5;241;43m.\u001b[39;49m\u001b[43m_getitem_iterable\u001b[49m\u001b[43m(\u001b[49m\u001b[43mkey\u001b[49m\u001b[43m,\u001b[49m\u001b[43m \u001b[49m\u001b[43maxis\u001b[49m\u001b[38;5;241;43m=\u001b[39;49m\u001b[43maxis\u001b[49m\u001b[43m)\u001b[49m\n\u001b[1;32m   1384\u001b[0m \u001b[38;5;66;03m# nested tuple slicing\u001b[39;00m\n\u001b[1;32m   1385\u001b[0m \u001b[38;5;28;01mif\u001b[39;00m is_nested_tuple(key, labels):\n",
      "File \u001b[0;32m~/.local/lib/python3.10/site-packages/pandas/core/indexing.py:1322\u001b[0m, in \u001b[0;36m_LocIndexer._getitem_iterable\u001b[0;34m(self, key, axis)\u001b[0m\n\u001b[1;32m   1319\u001b[0m \u001b[38;5;28mself\u001b[39m\u001b[38;5;241m.\u001b[39m_validate_key(key, axis)\n\u001b[1;32m   1321\u001b[0m \u001b[38;5;66;03m# A collection of keys\u001b[39;00m\n\u001b[0;32m-> 1322\u001b[0m keyarr, indexer \u001b[38;5;241m=\u001b[39m \u001b[38;5;28;43mself\u001b[39;49m\u001b[38;5;241;43m.\u001b[39;49m\u001b[43m_get_listlike_indexer\u001b[49m\u001b[43m(\u001b[49m\u001b[43mkey\u001b[49m\u001b[43m,\u001b[49m\u001b[43m \u001b[49m\u001b[43maxis\u001b[49m\u001b[43m)\u001b[49m\n\u001b[1;32m   1323\u001b[0m \u001b[38;5;28;01mreturn\u001b[39;00m \u001b[38;5;28mself\u001b[39m\u001b[38;5;241m.\u001b[39mobj\u001b[38;5;241m.\u001b[39m_reindex_with_indexers(\n\u001b[1;32m   1324\u001b[0m     {axis: [keyarr, indexer]}, copy\u001b[38;5;241m=\u001b[39m\u001b[38;5;28;01mTrue\u001b[39;00m, allow_dups\u001b[38;5;241m=\u001b[39m\u001b[38;5;28;01mTrue\u001b[39;00m\n\u001b[1;32m   1325\u001b[0m )\n",
      "File \u001b[0;32m~/.local/lib/python3.10/site-packages/pandas/core/indexing.py:1520\u001b[0m, in \u001b[0;36m_LocIndexer._get_listlike_indexer\u001b[0;34m(self, key, axis)\u001b[0m\n\u001b[1;32m   1517\u001b[0m ax \u001b[38;5;241m=\u001b[39m \u001b[38;5;28mself\u001b[39m\u001b[38;5;241m.\u001b[39mobj\u001b[38;5;241m.\u001b[39m_get_axis(axis)\n\u001b[1;32m   1518\u001b[0m axis_name \u001b[38;5;241m=\u001b[39m \u001b[38;5;28mself\u001b[39m\u001b[38;5;241m.\u001b[39mobj\u001b[38;5;241m.\u001b[39m_get_axis_name(axis)\n\u001b[0;32m-> 1520\u001b[0m keyarr, indexer \u001b[38;5;241m=\u001b[39m \u001b[43max\u001b[49m\u001b[38;5;241;43m.\u001b[39;49m\u001b[43m_get_indexer_strict\u001b[49m\u001b[43m(\u001b[49m\u001b[43mkey\u001b[49m\u001b[43m,\u001b[49m\u001b[43m \u001b[49m\u001b[43maxis_name\u001b[49m\u001b[43m)\u001b[49m\n\u001b[1;32m   1522\u001b[0m \u001b[38;5;28;01mreturn\u001b[39;00m keyarr, indexer\n",
      "File \u001b[0;32m~/.local/lib/python3.10/site-packages/pandas/core/indexes/base.py:6114\u001b[0m, in \u001b[0;36mIndex._get_indexer_strict\u001b[0;34m(self, key, axis_name)\u001b[0m\n\u001b[1;32m   6111\u001b[0m \u001b[38;5;28;01melse\u001b[39;00m:\n\u001b[1;32m   6112\u001b[0m     keyarr, indexer, new_indexer \u001b[38;5;241m=\u001b[39m \u001b[38;5;28mself\u001b[39m\u001b[38;5;241m.\u001b[39m_reindex_non_unique(keyarr)\n\u001b[0;32m-> 6114\u001b[0m \u001b[38;5;28;43mself\u001b[39;49m\u001b[38;5;241;43m.\u001b[39;49m\u001b[43m_raise_if_missing\u001b[49m\u001b[43m(\u001b[49m\u001b[43mkeyarr\u001b[49m\u001b[43m,\u001b[49m\u001b[43m \u001b[49m\u001b[43mindexer\u001b[49m\u001b[43m,\u001b[49m\u001b[43m \u001b[49m\u001b[43maxis_name\u001b[49m\u001b[43m)\u001b[49m\n\u001b[1;32m   6116\u001b[0m keyarr \u001b[38;5;241m=\u001b[39m \u001b[38;5;28mself\u001b[39m\u001b[38;5;241m.\u001b[39mtake(indexer)\n\u001b[1;32m   6117\u001b[0m \u001b[38;5;28;01mif\u001b[39;00m \u001b[38;5;28misinstance\u001b[39m(key, Index):\n\u001b[1;32m   6118\u001b[0m     \u001b[38;5;66;03m# GH 42790 - Preserve name from an Index\u001b[39;00m\n",
      "File \u001b[0;32m~/.local/lib/python3.10/site-packages/pandas/core/indexes/base.py:6178\u001b[0m, in \u001b[0;36mIndex._raise_if_missing\u001b[0;34m(self, key, indexer, axis_name)\u001b[0m\n\u001b[1;32m   6175\u001b[0m     \u001b[38;5;28;01mraise\u001b[39;00m \u001b[38;5;167;01mKeyError\u001b[39;00m(\u001b[38;5;124mf\u001b[39m\u001b[38;5;124m\"\u001b[39m\u001b[38;5;124mNone of [\u001b[39m\u001b[38;5;132;01m{\u001b[39;00mkey\u001b[38;5;132;01m}\u001b[39;00m\u001b[38;5;124m] are in the [\u001b[39m\u001b[38;5;132;01m{\u001b[39;00maxis_name\u001b[38;5;132;01m}\u001b[39;00m\u001b[38;5;124m]\u001b[39m\u001b[38;5;124m\"\u001b[39m)\n\u001b[1;32m   6177\u001b[0m not_found \u001b[38;5;241m=\u001b[39m \u001b[38;5;28mlist\u001b[39m(ensure_index(key)[missing_mask\u001b[38;5;241m.\u001b[39mnonzero()[\u001b[38;5;241m0\u001b[39m]]\u001b[38;5;241m.\u001b[39munique())\n\u001b[0;32m-> 6178\u001b[0m \u001b[38;5;28;01mraise\u001b[39;00m \u001b[38;5;167;01mKeyError\u001b[39;00m(\u001b[38;5;124mf\u001b[39m\u001b[38;5;124m\"\u001b[39m\u001b[38;5;132;01m{\u001b[39;00mnot_found\u001b[38;5;132;01m}\u001b[39;00m\u001b[38;5;124m not in index\u001b[39m\u001b[38;5;124m\"\u001b[39m)\n",
      "\u001b[0;31mKeyError\u001b[0m: '[5] not in index'"
     ]
    }
   ],
   "source": [
    "results = Retrieval.create_df_from_tracks(Retrieval(n=N).top_similar_tracks(\n",
    "    query_row_id,\n",
    "    datasets.word2vec,\n",
    "))\n",
    "results.drop(\"id\", axis=1)"
   ]
  },
  {
   "cell_type": "markdown",
   "id": "c374f31e8ae33f46",
   "metadata": {
    "collapsed": false
   },
   "source": [
    "- \"Ghost of Days Gone By\" by Alter Bridge (Similarity: 0.823): While Alter Bridge is known for their rock music, the song title doesn't share similarities with Green Day's song. Its inclusion could be due to genre relevance.\n",
    "- \"Before Later Becomes Never\" by Caliban (Similarity: 0.805): The song title doesn't directly relate to Green Day's song, but Caliban's music is in a similar genre (metal), which might explain its inclusion.\n",
    "- \"Long Gone Day\" by Mad Season (Similarity: 0.803): Mad Season's music is related to alternative rock, which is relevant to Green Day's style. The title may evoke a sense of time, like \"Wake Me Up When September Ends.\"\n",
    "- \"Song Z\" by Tracy Ate A Bug (Similarity: 0.800): While the title \"Song Z\" doesn't directly relate to Green Day's song, the inclusion may be based on artist name similarity or genre relevance.\n",
    "\n",
    "In this list, there are varying degrees of similarity, with some songs possibly included due to shared words in the titles or genre relevance. However, the connection to \"Wake Me Up When September Ends\" by Green Day remains tenuous."
   ]
  },
  {
   "cell_type": "markdown",
   "id": "e011c88c8bc9fee4",
   "metadata": {
    "collapsed": false
   },
   "source": [
    "### Qualitative Analysis: Review of our Initial Findings"
   ]
  },
  {
   "cell_type": "markdown",
   "id": "74f48ca20c75d7d9",
   "metadata": {
    "collapsed": false
   },
   "source": [
    "#### Song #1: \"Waka Waka (This Time for Africa)\" by Shakira:\n",
    "Waka Waka (This Time for Africa), contains many short words such as “eh”, “oh”, “ah”. Additionally, it contains a mix of different languages, mostly West African and English. This explains most of the chosen songs by the text-based algorithms."
   ]
  },
  {
   "cell_type": "markdown",
   "id": "c82abae6b3d30ec3",
   "metadata": {
    "collapsed": false
   },
   "source": [
    "#### Song #2: \"Diamond Heart\" by Lady Gaga:\n",
    "In the baseline analysis, there is no common theme or connection between \"Diamond Heart\" and the listed songs. They are diverse in artist and genre. In the text-based (cos-sim) analysis with TF-IDF, the thematic connection is primarily based on the presence of the word \"diamond\" in song titles. However, the thematic relevance varies, and some songs are in different genres from Lady Gaga's pop music.\n",
    "\n",
    "In the BERT and word2vec-based analyses, the songs are included based on thematic or lyrical associations rather than direct artist or genre connections. The thematic connections are diverse, and the inclusion may be due to shared words in the titles.\n"
   ]
  },
  {
   "cell_type": "markdown",
   "id": "218dc4c6b82dfc21",
   "metadata": {
    "collapsed": false
   },
   "source": [
    "#### Song #3: \"Wake Me Up When September Ends\" by Green Day:\n",
    "In the baseline analysis, there is no common theme or connection between \"Wake Me Up When September Ends\" and the listed songs. They are diverse in artist and genre.\n",
    "\n",
    "In the text-based (cos-sim) analysis with TF-IDF, some songs like \"Wake Up\" by Emigrate and \"Wake Up (Make a Move)\" by Lostprophets share the word \"Wake\" with Green Day's song. Their inclusion may be due to thematic similarity and genre relevance to rock music. However, some inclusions remain unclear, possibly due to shared words in the titles but differing musical styles.\n",
    "\n",
    "In the BERT and word2vec-based analyses, the songs are included based on thematic or genre associations. The thematic connections vary, and some inclusions may be due to shared words in the titles. While some songs have genre relevance, others have less clear connections to Green Day's music."
   ]
  },
  {
   "cell_type": "code",
   "execution_count": null,
   "id": "3af338ed8dd6a1f1",
   "metadata": {
    "ExecuteTime": {
     "end_time": "2023-11-14T10:09:14.422295840Z",
     "start_time": "2023-11-14T10:09:14.355794732Z"
    },
    "collapsed": false
   },
   "outputs": [],
   "source": []
  }
 ],
 "metadata": {
  "kernelspec": {
   "display_name": "Python 3 (ipykernel)",
   "language": "python",
   "name": "python3"
  },
  "language_info": {
   "codemirror_mode": {
    "name": "ipython",
    "version": 3
   },
   "file_extension": ".py",
   "mimetype": "text/x-python",
   "name": "python",
   "nbconvert_exporter": "python",
   "pygments_lexer": "ipython3",
   "version": "3.10.8"
  }
 },
 "nbformat": 4,
 "nbformat_minor": 5
}
