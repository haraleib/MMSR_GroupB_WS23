{
 "cells": [
  {
   "cell_type": "markdown",
   "id": "4b45d764",
   "metadata": {},
   "source": [
    "<h1 style=\"color:rgb(0,120,170)\">344.038, KV Multimedia Search and Retrieval (WS2023/24)</h1>\n",
    "<h2 style=\"color:rgb(0,120,170)\">Task 1_Group B</h2>"
   ]
  },
  {
   "cell_type": "markdown",
   "id": "cf629014",
   "metadata": {},
   "source": [
    "First Name | Family Name | Matr.Nr\n",
    ":--- | :--- | :---\n",
    " xxxx| Eibensteiner | K01300179 \n",
    "Hadi | Sanaei | K11733444\n",
    " xxxx| Troyer | K12006666\n",
    " xxxx| Wagner | K01357626\n",
    " xxxx| Paunović | K12046370"
   ]
  },
  {
   "cell_type": "markdown",
   "id": "e37ef5cd",
   "metadata": {},
   "source": [
    "### Load Data & Imports"
   ]
  },
  {
   "cell_type": "code",
   "execution_count": 1,
   "id": "d6fe9727-ec04-4803-94d1-ed8d756e0db7",
   "metadata": {
    "tags": []
   },
   "outputs": [],
   "source": [
    "%load_ext autoreload\n",
    "%autoreload 2"
   ]
  },
  {
   "cell_type": "code",
   "execution_count": 48,
   "id": "3f84e14a",
   "metadata": {
    "tags": []
   },
   "outputs": [],
   "source": [
    "import pandas as pd\n",
    "import numpy as np\n",
    "from sklearn.metrics.pairwise import cosine_similarity\n",
    "pd.set_option('display.expand_frame_repr', False) # prevent pandas from wrapping cells"
   ]
  },
  {
   "cell_type": "code",
   "execution_count": 3,
   "id": "51f18c0b",
   "metadata": {},
   "outputs": [],
   "source": [
    "from util import read_tsv as read\n",
    "id_information = read('id_information_mmsr.tsv')\n",
    "id_lyrics_bert = read('id_lyrics_bert_mmsr.tsv')\n",
    "id_lyrics_tfidf = read('id_lyrics_tf-idf_mmsr.tsv')\n",
    "id_lyrics_word2vec = read('id_lyrics_word2vec_mmsr.tsv')"
   ]
  },
  {
   "cell_type": "code",
   "execution_count": 44,
   "id": "5a24f002",
   "metadata": {},
   "outputs": [],
   "source": [
    "from util import prompt_song_query\n",
    "\n",
    "query_song = prompt_song_query(id_information)\n",
    "# query_song = { 'artist': 'Shakira', 'song': 'Waka Waka (This Time for Africa)'}\n",
    "\n",
    "# Number of similar songs to retrieve\n",
    "N = 10\n",
    "\n",
    "#example song title: Letterman\n",
    "#artist name: Wiz Khalifa"
   ]
  },
  {
   "cell_type": "markdown",
   "id": "c063601d",
   "metadata": {},
   "source": [
    "###  Random Baseline"
   ]
  },
  {
   "cell_type": "code",
   "execution_count": 49,
   "id": "85f46c6e",
   "metadata": {},
   "outputs": [],
   "source": [
    "def random_baseline_retrieval(query_song, N, music_data):\n",
    "    # Filter out the query song from the dataset (if it exists)\n",
    "    query_song_mask = (music_data['song'] != query_song['song']) | (music_data['artist'] != query_song['artist'])\n",
    "    filtered_data = music_data[query_song_mask]\n",
    "\n",
    "    # Select N random songs from the filtered data\n",
    "    random_results = filtered_data.sample(n=N)\n",
    "\n",
    "    return random_results[['song', 'artist']]"
   ]
  },
  {
   "cell_type": "code",
   "execution_count": 41,
   "id": "4edc8d5f",
   "metadata": {},
   "outputs": [
    {
     "name": "stdout",
     "output_type": "stream",
     "text": [
      "\n",
      "\n",
      " List of songs that share similarities with your song title and artist name:  \n",
      "\n",
      "                                             song                 artist\n",
      "2728                               So Contagious             Acceptance\n",
      "917                                 Slow It Down          The Lumineers\n",
      "2833                              Like Cockatoos               The Cure\n",
      "4844                              Bombastic Love         Britney Spears\n",
      "6470  The Man Who Sold The World (MTV Unplugged)                Nirvana\n",
      "3384                         Per Aspera Ad Astra                Haggard\n",
      "3931                                   On A Rope  Rocket from the Crypt\n",
      "6575                                Weekend Wars                   MGMT\n",
      "3497                     Still Don't Give a Fuck                 Eminem\n",
      "698                                        Faces                Warning\n"
     ]
    }
   ],
   "source": [
    "# Perform random baseline retrieval\n",
    "results = random_baseline_retrieval(query_song, N, id_information)\n",
    "\n",
    "# Print the list of similar songs\n",
    "print(\"\\n\\n\", \"List of songs that share similarities with your song title and artist name: \", \"\\n\\n\", results)"
   ]
  },
  {
   "cell_type": "markdown",
   "id": "de388f75",
   "metadata": {},
   "source": [
    "###  Text-based(cos-sim, tf-idf)"
   ]
  },
  {
   "cell_type": "code",
   "execution_count": 50,
   "id": "8dcbe4bf-de9b-4128-b2a2-a0d24bfd88b8",
   "metadata": {
    "tags": []
   },
   "outputs": [
    {
     "name": "stdout",
     "output_type": "stream",
     "text": [
      "\n",
      "\n",
      " List of songs that share similarities with your song title and artist name:  \n",
      "\n",
      "                  id  similarity                                    song              artist\n",
      "6  h0ZoopqNnr1lDtnz    0.942619                       Under My Umbrella        Margo Guryan\n",
      "0  305Grk7cARdFuECa    0.872472                     Teenage Love Affair         Alicia Keys\n",
      "7  pkk90ENhQz2xffja    0.848522               Blame It on the Boom Boom  Black Stone Cherry\n",
      "4  NEEPaYcFqxP5vsjC    0.797242                           Charlie Brown     Benito Di Paula\n",
      "5  W5corTpjrk7QEawo    0.646342                          Walpurgisnacht                Faun\n",
      "8  riWKtyD6kFNSLUHP    0.638780                           Barco a Venus              Mecano\n",
      "2  BisFzm2onV9AenR1    0.611976                                   Mariô              Criolo\n",
      "1  9j3zEirXFJledFNQ    0.605905                                    Dirt     Alice in Chains\n",
      "9  tEooHa0Wo0X7tjSl    0.568361                          Shine Ya Light            Rita Ora\n",
      "3  D96QLsUhVAMDuT8Z    0.536450  Auld Lang Syne (The New Year's Anthem)        Mariah Carey\n"
     ]
    }
   ],
   "source": [
    "from util import text_based_similarity\n",
    "from sklearn.metrics.pairwise import cosine_similarity\n",
    "\n",
    "# Perform tfidf retrieval\n",
    "results = text_based_similarity(query_song, N, id_information, id_lyrics_tfidf, cosine_similarity)\n",
    "\n",
    "# Print the list of similar songs\n",
    "print(\"\\n\\n\", \"List of songs that share similarities with your song title and artist name: \", \"\\n\\n\", results)"
   ]
  },
  {
   "cell_type": "markdown",
   "id": "1c77f737-1ee7-4d16-b7b6-f5abc183295a",
   "metadata": {},
   "source": [
    "###  Text-based(cos-sim, feature)"
   ]
  },
  {
   "cell_type": "code",
   "execution_count": 51,
   "id": "827edd95-0887-4707-8fed-f3cb7d4c2876",
   "metadata": {
    "tags": []
   },
   "outputs": [
    {
     "name": "stdout",
     "output_type": "stream",
     "text": [
      "\n",
      "\n",
      " List of songs that share similarities with your song title and artist name:  \n",
      "\n",
      "                  id  similarity                               song           artist\n",
      "9  w9ODQqJAMcEC3q8t    0.648514                   Sol da Liberdade  Daniela Mercury\n",
      "2  4qM1rxBvmyrK8tj7    0.629005                 El Vals del Obrero            Ska-P\n",
      "5  BqN9q6xrn5AmmXE5    0.617841  Breakin'...There's No Stopping Us    Ollie & Jerry\n",
      "0  46YSASvaptitJROM    0.617587                 BEAUTIFUL HANGOVER          Bigbang\n",
      "7  mEFMPdURRF3kXZnF    0.610629                  Auf Anderen Wegen  Andreas Bourani\n",
      "8  uQUCBofXJAQuX3pV    0.607511                     Feel Good Inc.         Gorillaz\n",
      "6  VwApT9MehZ2gx1a8    0.606259                              VIVID     BROCKHAMPTON\n",
      "1  4gMuVWDrTgZsGrlR    0.603091                           The Bomb      Pigeon John\n",
      "4  BisFzm2onV9AenR1    0.601648                              Mariô           Criolo\n",
      "3  6ePNRM6rbQuTM5XJ    0.601368                            Free Me       Joss Stone\n"
     ]
    }
   ],
   "source": [
    "from util import text_based_similarity\n",
    "from sklearn.metrics.pairwise import cosine_similarity\n",
    "\n",
    "# Perform bert retrieval\n",
    "results = text_based_similarity(query_song, N, id_information, id_lyrics_bert, cosine_similarity)\n",
    "\n",
    "# Print the list of similar songs\n",
    "print(\"\\n\\n\", \"List of songs that share similarities with your song title and artist name: \", \"\\n\\n\", results)"
   ]
  },
  {
   "cell_type": "markdown",
   "id": "329bea55",
   "metadata": {
    "tags": []
   },
   "source": [
    "###  Text-based(similarity, feature)"
   ]
  },
  {
   "cell_type": "code",
   "execution_count": 52,
   "id": "a0573510",
   "metadata": {},
   "outputs": [
    {
     "name": "stdout",
     "output_type": "stream",
     "text": [
      "\n",
      "\n",
      " List of songs that share similarities with your song title and artist name:  \n",
      "\n",
      "                  id  similarity                       song                artist\n",
      "9  pkk90ENhQz2xffja    0.861111  Blame It on the Boom Boom    Black Stone Cherry\n",
      "5  Z0ev5wgPd54rliaY    0.847494                  Metaphors             San Cisco\n",
      "7  h0ZoopqNnr1lDtnz    0.847086          Under My Umbrella          Margo Guryan\n",
      "4  VJGJ5KWZYF5FQwNm    0.842948             Baby's on Fire          Die Antwoord\n",
      "8  pUOJqdTzusX1OnPZ    0.842721                  Bamboreea                  Inna\n",
      "3  LIhqjtO03rPzhBFw    0.840800                      Royal            Waterparks\n",
      "0  ER6vgmZp5VMwLzfq    0.839828          God Lives Through  A Tribe Called Quest\n",
      "6  dtq88OIJaIlDey6g    0.839047                  Kiss This            The Struts\n",
      "1  H2Wwe2mTxou841Vx    0.838812                   Patterns     Simon & Garfunkel\n",
      "2  I4BXiPdZKgHy8TQR    0.838438       Sorry - Latino Remix         Justin Bieber\n"
     ]
    }
   ],
   "source": [
    "from util import text_based_similarity\n",
    "from sklearn.metrics.pairwise import cosine_similarity\n",
    "\n",
    "# Perform word2vec retrieval\n",
    "results = text_based_similarity(query_song, N, id_information, id_lyrics_word2vec, cosine_similarity)\n",
    "\n",
    "# Print the list of similar songs\n",
    "print(\"\\n\\n\", \"List of songs that share similarities with your song title and artist name: \", \"\\n\\n\", results)"
   ]
  },
  {
   "cell_type": "code",
   "execution_count": null,
   "id": "55325591-d50e-4dff-b517-f3102e41cc9f",
   "metadata": {},
   "outputs": [],
   "source": []
  }
 ],
 "metadata": {
  "kernelspec": {
   "display_name": "Python 3 (ipykernel)",
   "language": "python",
   "name": "python3"
  },
  "language_info": {
   "codemirror_mode": {
    "name": "ipython",
    "version": 3
   },
   "file_extension": ".py",
   "mimetype": "text/x-python",
   "name": "python",
   "nbconvert_exporter": "python",
   "pygments_lexer": "ipython3",
   "version": "3.11.5"
  }
 },
 "nbformat": 4,
 "nbformat_minor": 5
}
