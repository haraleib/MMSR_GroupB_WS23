{
 "cells": [
  {
   "cell_type": "markdown",
   "id": "4b45d764",
   "metadata": {},
   "source": [
    "<h1 style=\"color:rgb(0,120,170)\">344.038, KV Multimedia Search and Retrieval (WS2023/24)</h1>\n",
    "<h2 style=\"color:rgb(0,120,170)\">Task 1_Group B</h2>"
   ]
  },
  {
   "cell_type": "markdown",
   "id": "cf629014",
   "metadata": {},
   "source": [
    "First Name | Family Name | Matr.Nr\n",
    ":--- | :--- | :---\n",
    " xxxx| Eibensteiner | K01300179 \n",
    "Hadi | Sanaei | K11733444\n",
    " xxxx| Troyer | K12006666\n",
    " xxxx| Wagner | K01357626\n",
    " xxxx| Paunović | K12046370"
   ]
  },
  {
   "cell_type": "markdown",
   "id": "e37ef5cd",
   "metadata": {},
   "source": [
    "### Load Data & Imports"
   ]
  },
  {
   "cell_type": "code",
   "execution_count": 1,
   "id": "3f84e14a",
   "metadata": {},
   "outputs": [],
   "source": [
    "import pandas as pd\n",
    "import numpy as np\n",
    "from sklearn.metrics.pairwise import cosine_similarity"
   ]
  },
  {
   "cell_type": "code",
   "execution_count": 2,
   "id": "51f18c0b",
   "metadata": {},
   "outputs": [],
   "source": [
    "def read(file):\n",
    "    return pd.read_csv(file, sep='\\t')\n",
    "\n",
    "id_information = read('id_information_mmsr.tsv')\n",
    "id_lyrics_bert = read('id_lyrics_bert_mmsr.tsv')\n",
    "id_lyrics_tfidf = read('id_lyrics_tf-idf_mmsr.tsv')\n",
    "id_lyrics_word2vec = read('id_lyrics_word2vec_mmsr.tsv')"
   ]
  },
  {
   "cell_type": "code",
   "execution_count": 3,
   "id": "5a24f002",
   "metadata": {},
   "outputs": [],
   "source": [
    "#id_information"
   ]
  },
  {
   "cell_type": "markdown",
   "id": "5e29ceeb",
   "metadata": {},
   "source": [
    "###  Random Baseline"
   ]
  },
  {
   "cell_type": "code",
   "execution_count": 4,
   "id": "85f46c6e",
   "metadata": {},
   "outputs": [],
   "source": [
    "def random_baseline_retrieval(query_song, N, music_data):\n",
    "    # Filter out the query song from the dataset (if it exists)\n",
    "    query_song_mask = (music_data['song'] != query_song['song']) | (music_data['artist'] != query_song['artist'])\n",
    "    filtered_data = music_data[query_song_mask]\n",
    "\n",
    "    # Select N random songs from the filtered data\n",
    "    random_results = filtered_data.sample(n=N)\n",
    "\n",
    "    return random_results[['song', 'artist']]\n"
   ]
  },
  {
   "cell_type": "code",
   "execution_count": 5,
   "id": "4edc8d5f",
   "metadata": {},
   "outputs": [
    {
     "name": "stdout",
     "output_type": "stream",
     "text": [
      "Enter the song title: Letterman\n",
      "Enter the artist name: Wiz Khalifa\n",
      "\n",
      "\n",
      " List of songs that share similarities with your song title and artist name:  \n",
      "\n",
      "                            song                    artist\n",
      "6028        Free Will Sacrifice               Amon Amarth\n",
      "1063            Waterloo Sunset                 The Kinks\n",
      "9423    They Live In the Meadow  Black Moth Super Rainbow\n",
      "5099          Shut Up and Dance         Victoria Duffield\n",
      "3493  Motion Picture Soundtrack                 Radiohead\n"
     ]
    }
   ],
   "source": [
    "# Allow the user to input the song title and artist name\n",
    "song_title = input(\"Enter the song title: \")\n",
    "artist_name = input(\"Enter the artist name: \")\n",
    "\n",
    "# Create a query song dictionary\n",
    "query_song = {'song': song_title , 'artist': artist_name}\n",
    "\n",
    "# Number of similar songs to retrieve\n",
    "N = 5\n",
    "\n",
    "# Perform random baseline retrieval\n",
    "results = random_baseline_retrieval(query_song, N, id_information)\n",
    "\n",
    "# Print the list of similar songs\n",
    "print(\"\\n\\n\", \"List of songs that share similarities with your song title and artist name: \", \"\\n\\n\", results)\n",
    "\n",
    "#song title: Letterman\n",
    "#artist name: Wiz Khalifa"
   ]
  },
  {
   "cell_type": "markdown",
   "id": "fe74474e",
   "metadata": {},
   "source": [
    "###  Text-based(cos-sim, tf-idf)"
   ]
  },
  {
   "cell_type": "code",
   "execution_count": null,
   "id": "da0637e4",
   "metadata": {},
   "outputs": [],
   "source": []
  },
  {
   "cell_type": "markdown",
   "id": "93574481",
   "metadata": {},
   "source": [
    "###  Text-based(cos-sim, feature)"
   ]
  },
  {
   "cell_type": "code",
   "execution_count": null,
   "id": "2b7266c5",
   "metadata": {},
   "outputs": [],
   "source": []
  },
  {
   "cell_type": "markdown",
   "id": "601a49d2",
   "metadata": {},
   "source": [
    "###  Text-based(similarity, feature)"
   ]
  },
  {
   "cell_type": "code",
   "execution_count": null,
   "id": "c4fe9456",
   "metadata": {},
   "outputs": [],
   "source": []
  },
  {
   "cell_type": "code",
   "execution_count": null,
   "id": "b324c129",
   "metadata": {},
   "outputs": [],
   "source": []
  }
 ],
 "metadata": {
  "kernelspec": {
   "display_name": "Python 3 (ipykernel)",
   "language": "python",
   "name": "python3"
  },
  "language_info": {
   "codemirror_mode": {
    "name": "ipython",
    "version": 3
   },
   "file_extension": ".py",
   "mimetype": "text/x-python",
   "name": "python",
   "nbconvert_exporter": "python",
   "pygments_lexer": "ipython3",
   "version": "3.10.12"
  }
 },
 "nbformat": 4,
 "nbformat_minor": 5
}
