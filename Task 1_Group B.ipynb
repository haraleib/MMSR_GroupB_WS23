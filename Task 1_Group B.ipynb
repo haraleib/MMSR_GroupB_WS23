{
 "cells": [
  {
   "cell_type": "markdown",
   "id": "4b45d764",
   "metadata": {},
   "source": [
    "<h1 style=\"color:rgb(0,120,170)\">344.038, KV Multimedia Search and Retrieval (WS2023/24)</h1>\n",
    "<h2 style=\"color:rgb(0,120,170)\">Task 1_Group B</h2>"
   ]
  },
  {
   "cell_type": "markdown",
   "id": "cf629014",
   "metadata": {},
   "source": [
    "| First Name | Family Name  | Matr.Nr   |\n",
    "|:-----------|:-------------|:----------|\n",
    "| Harald     | Eibensteiner | K01300179 |\n",
    "| Sanaei     | Moghaddam    | K11733444 |\n",
    "| Lukas      | Troyer       | K12006666 |\n",
    "| Lukas      | Wagner       | K01357626 |\n",
    "| Branko     | Paunović     | K12046370 |"
   ]
  },
  {
   "cell_type": "markdown",
   "id": "e37ef5cd",
   "metadata": {},
   "source": [
    "### Load Data & Imports"
   ]
  },
  {
   "cell_type": "code",
   "execution_count": 1,
   "id": "d6fe9727-ec04-4803-94d1-ed8d756e0db7",
   "metadata": {
    "tags": [],
    "ExecuteTime": {
     "end_time": "2023-11-14T10:09:07.018442437Z",
     "start_time": "2023-11-14T10:09:06.847374426Z"
    }
   },
   "outputs": [],
   "source": [
    "%load_ext autoreload\n",
    "%autoreload 2"
   ]
  },
  {
   "cell_type": "code",
   "execution_count": 2,
   "id": "3f84e14a",
   "metadata": {
    "tags": [],
    "ExecuteTime": {
     "end_time": "2023-11-14T10:09:09.100371387Z",
     "start_time": "2023-11-14T10:09:06.853399305Z"
    }
   },
   "outputs": [],
   "source": [
    "import numpy as np\n",
    "np.random.seed(42)\n",
    "\n",
    "import pandas as pd\n",
    "\n",
    "from song import Song, songs\n",
    "from retrieval import Retrieval, SimilarityMeasure\n",
    "\n",
    "pd.set_option(\"display.expand_frame_repr\", False) # prevent pandas from wrapping cells"
   ]
  },
  {
   "cell_type": "code",
   "execution_count": 3,
   "outputs": [],
   "source": [
    "# Number of similar songs to retrieve\n",
    "N = 10"
   ],
   "metadata": {
    "collapsed": false,
    "ExecuteTime": {
     "end_time": "2023-11-14T10:09:09.144037787Z",
     "start_time": "2023-11-14T10:09:09.143847981Z"
    }
   },
   "id": "5aaeb4a5cd3ccc75"
  },
  {
   "cell_type": "code",
   "execution_count": 4,
   "id": "5a24f002",
   "metadata": {
    "ExecuteTime": {
     "end_time": "2023-11-14T10:09:13.245998439Z",
     "start_time": "2023-11-14T10:09:09.143970902Z"
    }
   },
   "outputs": [],
   "source": [
    "#\n",
    "# Example:\n",
    "#   - Title: Letterman\n",
    "#   - Artist: Wiz Khalifa\n",
    "#\n",
    "query, query_row_id = songs.prompt_song_query()\n"
   ]
  },
  {
   "cell_type": "markdown",
   "id": "c063601d",
   "metadata": {},
   "source": [
    "####  Random Baseline"
   ]
  },
  {
   "cell_type": "code",
   "execution_count": 5,
   "id": "4edc8d5f",
   "metadata": {
    "ExecuteTime": {
     "end_time": "2023-11-14T10:09:13.256611014Z",
     "start_time": "2023-11-14T10:09:13.238562693Z"
    }
   },
   "outputs": [
    {
     "name": "stdout",
     "output_type": "stream",
     "text": [
      "\n",
      "\n",
      " random_baseline() retrieval based on your query:  \n",
      "\n",
      "                                                     song                artist\n",
      "6254                                     Beyond the Down   Black Label Society\n",
      "568                                               Motion           Boy Harsher\n",
      "8269                                     Hole In My Soul         Kaiser Chiefs\n",
      "5951                                        Sans Logique         Mylène Farmer\n",
      "10070                                             Mirror            Kat Dahlia\n",
      "33                                                 Flash  Cigarettes After Sex\n",
      "576    Long Cool Woman (In A Black Dress) - 1999 Rema...           The Hollies\n",
      "1512                                     Natural Harmony             The Byrds\n",
      "7855                                               Candy          Paolo Nutini\n",
      "532                                            You Don't                 GFOTY\n"
     ]
    }
   ],
   "source": [
    "results = Retrieval(n=N).random_baseline(query)\n",
    "\n",
    "print(\"\\n\\n\", \"random_baseline() retrieval based on your query: \", \"\\n\\n\", results)"
   ]
  },
  {
   "cell_type": "markdown",
   "id": "de388f75",
   "metadata": {},
   "source": [
    "###  Text-based(cos-sim, tf-idf)"
   ]
  },
  {
   "cell_type": "code",
   "execution_count": 6,
   "id": "8dcbe4bf-de9b-4128-b2a2-a0d24bfd88b8",
   "metadata": {
    "tags": [],
    "ExecuteTime": {
     "end_time": "2023-11-14T10:09:13.359241046Z",
     "start_time": "2023-11-14T10:09:13.254998770Z"
    }
   },
   "outputs": [
    {
     "name": "stdout",
     "output_type": "stream",
     "text": [
      "\n",
      "\n",
      " cosine_similarity() on tf_idf representations based on your query:  \n",
      "\n",
      "                  id  similarity                                    song          artist\n",
      "9  zmukOoB01ASq2Y6r    0.474141  California And The Slipping Of The Sun        Gorillaz\n",
      "8  qtI2udJpwde94hTQ    0.403079                           Open the Door    Otis Redding\n",
      "3  K7amDTeZDJg7Ozxw    0.377162                                One Foot         Airways\n",
      "7  pSOYlgWNzpZWpN9j    0.362179                       At Last I Am Free    Robert Wyatt\n",
      "5  YT1ZsHvpwaukvRQv    0.344942                    San Francisco Street         Sun Rai\n",
      "0  981Lm983YaJcbQV4    0.344636                              Street Joy     White Denim\n",
      "2  EJBdc9p2QSyFT2Be    0.337130              Let It Go - Single Version     Demi Lovato\n",
      "6  lTJVFhGsiLggKCEq    0.328499                     I Let Him Get to Me  Beat Happening\n",
      "4  NCONeOaMBitsyTJt    0.318821                          Let It Will Be         Madonna\n",
      "1  B1w512ol1loTbSBL    0.302504                                    Love          Thalía\n"
     ]
    }
   ],
   "source": [
    "# Perform tf_idf retrieval\n",
    "results = Retrieval(n=N).text_based_similarity(\n",
    "    song_id=query_row_id,\n",
    "    feature=\"tf_idf\",\n",
    "    similarity_measure=SimilarityMeasure.COSINE\n",
    ")\n",
    "\n",
    "print(\"\\n\\n\", \"cosine_similarity() on tf_idf representations based on your query: \", \"\\n\\n\", results)"
   ]
  },
  {
   "cell_type": "markdown",
   "id": "1c77f737-1ee7-4d16-b7b6-f5abc183295a",
   "metadata": {},
   "source": [
    "###  Text-based(cos-sim, BERT)"
   ]
  },
  {
   "cell_type": "code",
   "execution_count": 7,
   "id": "827edd95-0887-4707-8fed-f3cb7d4c2876",
   "metadata": {
    "tags": [],
    "ExecuteTime": {
     "end_time": "2023-11-14T10:09:13.443225376Z",
     "start_time": "2023-11-14T10:09:13.352120250Z"
    }
   },
   "outputs": [
    {
     "name": "stdout",
     "output_type": "stream",
     "text": [
      "\n",
      "\n",
      " cosine_similarity() on BERT representations based on your query:  \n",
      "\n",
      "                  id  similarity                           song            artist\n",
      "0  5S5J81wX2tJKJnUF    0.736194                        Mansion         lil skies\n",
      "7  iiUveYG1BM5KROVd    0.728700               Lights Turned On  Childish Gambino\n",
      "1  BsztDgeUHXH5xMdG    0.725406  I Want It All (feat. Mack 10)          Warren G\n",
      "6  dDNB0NTVZ9G5ENNX    0.725316                        Ballin'        Chief Keef\n",
      "5  Q837q2LPqffyecBB    0.724774                    I Get Money           50 Cent\n",
      "2  F2e2v4hi3OplM8Vw    0.723561                         STAINS      BROCKHAMPTON\n",
      "9  wL6STNKK7Q0thTFC    0.722057                  Barbie Dreams       Nicki Minaj\n",
      "8  sGD0zOgtbcrwZZO6    0.716462                     1997 DIANA      BROCKHAMPTON\n",
      "3  M65mU1UIozrDxcvu    0.715846                      Fast Lane    Bad Meets Evil\n",
      "4  OD6sfVyohxUZAO36    0.715089                       Top Back              T.I.\n"
     ]
    }
   ],
   "source": [
    "# Perform tfidf retrieval\n",
    "results = Retrieval(n=N).text_based_similarity(\n",
    "    song_id=query_row_id,\n",
    "    feature=\"bert\",\n",
    "    similarity_measure=SimilarityMeasure.COSINE\n",
    ")\n",
    "\n",
    "# Print the list of similar songs\n",
    "print(\"\\n\\n\", \"cosine_similarity() on BERT representations based on your query: \", \"\\n\\n\", results)"
   ]
  },
  {
   "cell_type": "markdown",
   "id": "329bea55",
   "metadata": {
    "tags": []
   },
   "source": [
    "###  Text-based(cos-sim, word2vec)"
   ]
  },
  {
   "cell_type": "code",
   "execution_count": 8,
   "id": "a0573510",
   "metadata": {
    "ExecuteTime": {
     "end_time": "2023-11-14T10:09:13.506286192Z",
     "start_time": "2023-11-14T10:09:13.434458002Z"
    }
   },
   "outputs": [
    {
     "name": "stdout",
     "output_type": "stream",
     "text": [
      "\n",
      "\n",
      " List of songs that share similarities with the song you queried:  \n",
      "\n",
      "                  id  similarity                    song          artist\n",
      "3  WP4RkO51CCZnKBlQ    0.905416             Wyclef Jean      Young Thug\n",
      "0  CfCJl3HWjZCvaTv3    0.901050     Let Me Blow Ya Mind             Eve\n",
      "8  pK2EZxyujhM6yp7Z    0.899793                  W.T.P.          Eminem\n",
      "2  Q8HUKzo5muVvgIvP    0.896035        Marshall Mathers          Eminem\n",
      "9  qtI2udJpwde94hTQ    0.894491           Open the Door    Otis Redding\n",
      "4  dVLg34HafHN2B9lW    0.889872             Candy Paint     Post Malone\n",
      "6  lPAW2IulFyjZtuaH    0.889726  can't leave without it       21 Savage\n",
      "1  PoTQ9felmQHjpYDi    0.887894                Lighters  Bad Meets Evil\n",
      "7  mgjDCaqqLfxz1070    0.887509             Drug Ballad          Eminem\n",
      "5  gmFBqh7nAv05B4zE    0.887238                  Swords          M.I.A.\n"
     ]
    }
   ],
   "source": [
    "# Perform word2vec retrieval\n",
    "results = Retrieval(n=N).text_based_similarity(\n",
    "    song_id=query_row_id,\n",
    "    feature=\"word2vec\",\n",
    "    similarity_measure=SimilarityMeasure.COSINE\n",
    ")\n",
    "\n",
    "# Print the list of similar songs\n",
    "print(\"\\n\\n\", \"List of songs that share similarities with the song you queried: \", \"\\n\\n\", results)"
   ]
  },
  {
   "cell_type": "markdown",
   "source": [
    "## Qualitative Analysis"
   ],
   "metadata": {
    "collapsed": false
   },
   "id": "82bfee07613565ec"
  },
  {
   "cell_type": "code",
   "execution_count": 9,
   "outputs": [],
   "source": [
    "#\n",
    "# Reset the random seed once more to make reproducibility possible with the Lab Report\n",
    "# Only (re-)done here once, and not for each song.\n",
    "#\n",
    "np.random.seed(42)"
   ],
   "metadata": {
    "collapsed": false,
    "ExecuteTime": {
     "end_time": "2023-11-14T10:09:13.507198353Z",
     "start_time": "2023-11-14T10:09:13.484550695Z"
    }
   },
   "id": "1c49fdc733a73466"
  },
  {
   "cell_type": "markdown",
   "source": [
    "### \\#1: _Waka Waka (This Time for Africa)_ by _Shakira_\n",
    "#### 1.1. Random baseline"
   ],
   "metadata": {
    "collapsed": false
   },
   "id": "a44c427ba241e69b"
  },
  {
   "cell_type": "code",
   "execution_count": 10,
   "outputs": [
    {
     "data": {
      "text/plain": "                     artist                                               song                                         album_name\n6254    Black Label Society                                    Beyond the Down            Catacombs of the Black Vatican (Deluxe)\n568             Boy Harsher                                             Motion                    Country Girl (Extended Version)\n8269          Kaiser Chiefs                                    Hole In My Soul                                      Stay Together\n5951          Mylène Farmer                                       Sans Logique                                      Ainsi Soit Je\n10070            Kat Dahlia                                             Mirror                                          My Garden\n33     Cigarettes After Sex                                              Flash                               Cigarettes After Sex\n576             The Hollies  Long Cool Woman (In A Black Dress) - 1999 Rema...  Distant Light [1999 - Remaster] (1999 Remaster...\n1513             Elton John                                   Midnight Creeper           Don't Shoot Me I'm Only The Piano Player\n7855           Paolo Nutini                                              Candy                                      Sunny Side Up\n532                   GFOTY                                          You Don't                                  Call Him A Doctor",
      "text/html": "<div>\n<style scoped>\n    .dataframe tbody tr th:only-of-type {\n        vertical-align: middle;\n    }\n\n    .dataframe tbody tr th {\n        vertical-align: top;\n    }\n\n    .dataframe thead th {\n        text-align: right;\n    }\n</style>\n<table border=\"1\" class=\"dataframe\">\n  <thead>\n    <tr style=\"text-align: right;\">\n      <th></th>\n      <th>artist</th>\n      <th>song</th>\n      <th>album_name</th>\n    </tr>\n  </thead>\n  <tbody>\n    <tr>\n      <th>6254</th>\n      <td>Black Label Society</td>\n      <td>Beyond the Down</td>\n      <td>Catacombs of the Black Vatican (Deluxe)</td>\n    </tr>\n    <tr>\n      <th>568</th>\n      <td>Boy Harsher</td>\n      <td>Motion</td>\n      <td>Country Girl (Extended Version)</td>\n    </tr>\n    <tr>\n      <th>8269</th>\n      <td>Kaiser Chiefs</td>\n      <td>Hole In My Soul</td>\n      <td>Stay Together</td>\n    </tr>\n    <tr>\n      <th>5951</th>\n      <td>Mylène Farmer</td>\n      <td>Sans Logique</td>\n      <td>Ainsi Soit Je</td>\n    </tr>\n    <tr>\n      <th>10070</th>\n      <td>Kat Dahlia</td>\n      <td>Mirror</td>\n      <td>My Garden</td>\n    </tr>\n    <tr>\n      <th>33</th>\n      <td>Cigarettes After Sex</td>\n      <td>Flash</td>\n      <td>Cigarettes After Sex</td>\n    </tr>\n    <tr>\n      <th>576</th>\n      <td>The Hollies</td>\n      <td>Long Cool Woman (In A Black Dress) - 1999 Rema...</td>\n      <td>Distant Light [1999 - Remaster] (1999 Remaster...</td>\n    </tr>\n    <tr>\n      <th>1513</th>\n      <td>Elton John</td>\n      <td>Midnight Creeper</td>\n      <td>Don't Shoot Me I'm Only The Piano Player</td>\n    </tr>\n    <tr>\n      <th>7855</th>\n      <td>Paolo Nutini</td>\n      <td>Candy</td>\n      <td>Sunny Side Up</td>\n    </tr>\n    <tr>\n      <th>532</th>\n      <td>GFOTY</td>\n      <td>You Don't</td>\n      <td>Call Him A Doctor</td>\n    </tr>\n  </tbody>\n</table>\n</div>"
     },
     "execution_count": 10,
     "metadata": {},
     "output_type": "execute_result"
    }
   ],
   "source": [
    "query, query_row_id = songs.get_match(\n",
    "    Song(title=\"Waka Waka (This Time for Africa)\", artist=\"Shakira\")\n",
    ")\n",
    "songs.info.loc[Retrieval(n=N).random_baseline(query).index, songs.info.columns != \"id\"]"
   ],
   "metadata": {
    "collapsed": false,
    "ExecuteTime": {
     "end_time": "2023-11-14T10:09:13.538765139Z",
     "start_time": "2023-11-14T10:09:13.499661306Z"
    }
   },
   "id": "dcbac425d68419cb"
  },
  {
   "cell_type": "markdown",
   "source": [
    "As expected, the Random Baseline algorithm returns completely random results. There does not seem to be a common theme."
   ],
   "metadata": {
    "collapsed": false
   },
   "id": "4f773e4f3e456c20"
  },
  {
   "cell_type": "markdown",
   "source": [
    "#### 1.2. Text-based(cos-sim, tf-idf)"
   ],
   "metadata": {
    "collapsed": false
   },
   "id": "146690908fc222c9"
  },
  {
   "cell_type": "code",
   "execution_count": 11,
   "outputs": [
    {
     "data": {
      "text/plain": "   similarity                                    song              artist                                   album_name\n6    0.942619                       Under My Umbrella        Margo Guryan                                 Yellow House\n0    0.872472                     Teenage Love Affair         Alicia Keys                                  We As Human\n7    0.848522               Blame It on the Boom Boom  Black Stone Cherry  Year Of The Gentleman (Bonus Track Edition)\n4    0.797242                           Charlie Brown     Benito Di Paula  The Best of Laura Pausini - E Ritorno Da Te\n5    0.646342                          Walpurgisnacht                Faun     Oral Fixation, Vol. 2 (Expanded Edition)\n8    0.638780                           Barco a Venus              Mecano         24 Hour Revenge Therapy (Remastered)\n2    0.611976                                   Mariô              Criolo                                 In Our Bones\n1    0.605905                                    Dirt     Alice in Chains        Life After Death (Remastered Edition)\n9    0.568361                          Shine Ya Light            Rita Ora                   Michael Bublé (US Version)\n3    0.536450  Auld Lang Syne (The New Year's Anthem)        Mariah Carey         Trance - The Early Years (1997-2002)",
      "text/html": "<div>\n<style scoped>\n    .dataframe tbody tr th:only-of-type {\n        vertical-align: middle;\n    }\n\n    .dataframe tbody tr th {\n        vertical-align: top;\n    }\n\n    .dataframe thead th {\n        text-align: right;\n    }\n</style>\n<table border=\"1\" class=\"dataframe\">\n  <thead>\n    <tr style=\"text-align: right;\">\n      <th></th>\n      <th>similarity</th>\n      <th>song</th>\n      <th>artist</th>\n      <th>album_name</th>\n    </tr>\n  </thead>\n  <tbody>\n    <tr>\n      <th>6</th>\n      <td>0.942619</td>\n      <td>Under My Umbrella</td>\n      <td>Margo Guryan</td>\n      <td>Yellow House</td>\n    </tr>\n    <tr>\n      <th>0</th>\n      <td>0.872472</td>\n      <td>Teenage Love Affair</td>\n      <td>Alicia Keys</td>\n      <td>We As Human</td>\n    </tr>\n    <tr>\n      <th>7</th>\n      <td>0.848522</td>\n      <td>Blame It on the Boom Boom</td>\n      <td>Black Stone Cherry</td>\n      <td>Year Of The Gentleman (Bonus Track Edition)</td>\n    </tr>\n    <tr>\n      <th>4</th>\n      <td>0.797242</td>\n      <td>Charlie Brown</td>\n      <td>Benito Di Paula</td>\n      <td>The Best of Laura Pausini - E Ritorno Da Te</td>\n    </tr>\n    <tr>\n      <th>5</th>\n      <td>0.646342</td>\n      <td>Walpurgisnacht</td>\n      <td>Faun</td>\n      <td>Oral Fixation, Vol. 2 (Expanded Edition)</td>\n    </tr>\n    <tr>\n      <th>8</th>\n      <td>0.638780</td>\n      <td>Barco a Venus</td>\n      <td>Mecano</td>\n      <td>24 Hour Revenge Therapy (Remastered)</td>\n    </tr>\n    <tr>\n      <th>2</th>\n      <td>0.611976</td>\n      <td>Mariô</td>\n      <td>Criolo</td>\n      <td>In Our Bones</td>\n    </tr>\n    <tr>\n      <th>1</th>\n      <td>0.605905</td>\n      <td>Dirt</td>\n      <td>Alice in Chains</td>\n      <td>Life After Death (Remastered Edition)</td>\n    </tr>\n    <tr>\n      <th>9</th>\n      <td>0.568361</td>\n      <td>Shine Ya Light</td>\n      <td>Rita Ora</td>\n      <td>Michael Bublé (US Version)</td>\n    </tr>\n    <tr>\n      <th>3</th>\n      <td>0.536450</td>\n      <td>Auld Lang Syne (The New Year's Anthem)</td>\n      <td>Mariah Carey</td>\n      <td>Trance - The Early Years (1997-2002)</td>\n    </tr>\n  </tbody>\n</table>\n</div>"
     },
     "execution_count": 11,
     "metadata": {},
     "output_type": "execute_result"
    }
   ],
   "source": [
    "results = Retrieval(n=N).text_based_similarity(\n",
    "    song_id=query_row_id,\n",
    "    feature=\"tf_idf\",\n",
    "    similarity_measure=SimilarityMeasure.COSINE\n",
    ")\n",
    "results[\"album_name\"] = songs.info[\"album_name\"].loc[results.index]\n",
    "results.drop(\"id\", axis=1)"
   ],
   "metadata": {
    "collapsed": false,
    "ExecuteTime": {
     "end_time": "2023-11-14T10:09:13.636414349Z",
     "start_time": "2023-11-14T10:09:13.523568246Z"
    }
   },
   "id": "2c86d7ad44bd97a9"
  },
  {
   "cell_type": "markdown",
   "source": [
    "_Under My Umbrella_ is also suggested by word2vec and seems to have many words in common. This also goes for _Blame It on the Boom Boom_. _Charlie Brown_ is Portugese. _Walpurgisnacht_ is German. _Barco a Venus_ is Spanish. _Mariô_ is Spanish (and also retrieved by BERT). _Dirt_ has many short words like “ah”."
   ],
   "metadata": {
    "collapsed": false
   },
   "id": "5cb0054e1fbfe50e"
  },
  {
   "cell_type": "markdown",
   "source": [
    "#### 1.3. Text-based(cos-sim, BERT)"
   ],
   "metadata": {
    "collapsed": false
   },
   "id": "8b7594dab023c8d3"
  },
  {
   "cell_type": "code",
   "execution_count": 12,
   "outputs": [
    {
     "data": {
      "text/plain": "   similarity                               song           artist                                   album_name\n9    0.648514                   Sol da Liberdade  Daniela Mercury                   Michael Bublé (US Version)\n2    0.629005                 El Vals del Obrero            Ska-P                                 In Our Bones\n5    0.617841  Breakin'...There's No Stopping Us    Ollie & Jerry     Oral Fixation, Vol. 2 (Expanded Edition)\n0    0.617587                 BEAUTIFUL HANGOVER          Bigbang                                  We As Human\n7    0.610629                  Auf Anderen Wegen  Andreas Bourani  Year Of The Gentleman (Bonus Track Edition)\n8    0.607511                     Feel Good Inc.         Gorillaz         24 Hour Revenge Therapy (Remastered)\n6    0.606259                              VIVID     BROCKHAMPTON                                 Yellow House\n1    0.603091                           The Bomb      Pigeon John        Life After Death (Remastered Edition)\n4    0.601648                              Mariô           Criolo  The Best of Laura Pausini - E Ritorno Da Te\n3    0.601368                            Free Me       Joss Stone         Trance - The Early Years (1997-2002)",
      "text/html": "<div>\n<style scoped>\n    .dataframe tbody tr th:only-of-type {\n        vertical-align: middle;\n    }\n\n    .dataframe tbody tr th {\n        vertical-align: top;\n    }\n\n    .dataframe thead th {\n        text-align: right;\n    }\n</style>\n<table border=\"1\" class=\"dataframe\">\n  <thead>\n    <tr style=\"text-align: right;\">\n      <th></th>\n      <th>similarity</th>\n      <th>song</th>\n      <th>artist</th>\n      <th>album_name</th>\n    </tr>\n  </thead>\n  <tbody>\n    <tr>\n      <th>9</th>\n      <td>0.648514</td>\n      <td>Sol da Liberdade</td>\n      <td>Daniela Mercury</td>\n      <td>Michael Bublé (US Version)</td>\n    </tr>\n    <tr>\n      <th>2</th>\n      <td>0.629005</td>\n      <td>El Vals del Obrero</td>\n      <td>Ska-P</td>\n      <td>In Our Bones</td>\n    </tr>\n    <tr>\n      <th>5</th>\n      <td>0.617841</td>\n      <td>Breakin'...There's No Stopping Us</td>\n      <td>Ollie &amp; Jerry</td>\n      <td>Oral Fixation, Vol. 2 (Expanded Edition)</td>\n    </tr>\n    <tr>\n      <th>0</th>\n      <td>0.617587</td>\n      <td>BEAUTIFUL HANGOVER</td>\n      <td>Bigbang</td>\n      <td>We As Human</td>\n    </tr>\n    <tr>\n      <th>7</th>\n      <td>0.610629</td>\n      <td>Auf Anderen Wegen</td>\n      <td>Andreas Bourani</td>\n      <td>Year Of The Gentleman (Bonus Track Edition)</td>\n    </tr>\n    <tr>\n      <th>8</th>\n      <td>0.607511</td>\n      <td>Feel Good Inc.</td>\n      <td>Gorillaz</td>\n      <td>24 Hour Revenge Therapy (Remastered)</td>\n    </tr>\n    <tr>\n      <th>6</th>\n      <td>0.606259</td>\n      <td>VIVID</td>\n      <td>BROCKHAMPTON</td>\n      <td>Yellow House</td>\n    </tr>\n    <tr>\n      <th>1</th>\n      <td>0.603091</td>\n      <td>The Bomb</td>\n      <td>Pigeon John</td>\n      <td>Life After Death (Remastered Edition)</td>\n    </tr>\n    <tr>\n      <th>4</th>\n      <td>0.601648</td>\n      <td>Mariô</td>\n      <td>Criolo</td>\n      <td>The Best of Laura Pausini - E Ritorno Da Te</td>\n    </tr>\n    <tr>\n      <th>3</th>\n      <td>0.601368</td>\n      <td>Free Me</td>\n      <td>Joss Stone</td>\n      <td>Trance - The Early Years (1997-2002)</td>\n    </tr>\n  </tbody>\n</table>\n</div>"
     },
     "execution_count": 12,
     "metadata": {},
     "output_type": "execute_result"
    }
   ],
   "source": [
    "results = Retrieval(n=N).text_based_similarity(\n",
    "    song_id=query_row_id,\n",
    "    feature=\"bert\",\n",
    "    similarity_measure=SimilarityMeasure.COSINE\n",
    ")\n",
    "results[\"album_name\"] = songs.info[\"album_name\"].loc[results.index]\n",
    "results.drop(\"id\", axis=1)"
   ],
   "metadata": {
    "collapsed": false,
    "ExecuteTime": {
     "end_time": "2023-11-14T10:09:13.755879186Z",
     "start_time": "2023-11-14T10:09:13.626601714Z"
    }
   },
   "id": "3d0411248248c259"
  },
  {
   "cell_type": "markdown",
   "source": [
    "_Sol da Liberdade_ is Portugese, _El Vals del Obrero_ is Spanish. _Breakin'...There's No Stopping Us_ is about achieving dreams. _BEAUTIFUL HANGOVER_ is Japanese, _Auf Anderen Wegen_ is German."
   ],
   "metadata": {
    "collapsed": false
   },
   "id": "f240bcb223b5722a"
  },
  {
   "cell_type": "markdown",
   "source": [
    "#### 1.4. Text-based(cos-sim, word2vec)"
   ],
   "metadata": {
    "collapsed": false
   },
   "id": "656895a38fde06ce"
  },
  {
   "cell_type": "code",
   "execution_count": 13,
   "outputs": [
    {
     "data": {
      "text/plain": "   similarity                       song                artist                                   album_name\n9    0.861111  Blame It on the Boom Boom    Black Stone Cherry                   Michael Bublé (US Version)\n5    0.847494                  Metaphors             San Cisco     Oral Fixation, Vol. 2 (Expanded Edition)\n7    0.847086          Under My Umbrella          Margo Guryan  Year Of The Gentleman (Bonus Track Edition)\n4    0.842948             Baby's on Fire          Die Antwoord  The Best of Laura Pausini - E Ritorno Da Te\n8    0.842721                  Bamboreea                  Inna         24 Hour Revenge Therapy (Remastered)\n3    0.840800                      Royal            Waterparks         Trance - The Early Years (1997-2002)\n0    0.839828          God Lives Through  A Tribe Called Quest                                  We As Human\n6    0.839047                  Kiss This            The Struts                                 Yellow House\n1    0.838812                   Patterns     Simon & Garfunkel        Life After Death (Remastered Edition)\n2    0.838438       Sorry - Latino Remix         Justin Bieber                                 In Our Bones",
      "text/html": "<div>\n<style scoped>\n    .dataframe tbody tr th:only-of-type {\n        vertical-align: middle;\n    }\n\n    .dataframe tbody tr th {\n        vertical-align: top;\n    }\n\n    .dataframe thead th {\n        text-align: right;\n    }\n</style>\n<table border=\"1\" class=\"dataframe\">\n  <thead>\n    <tr style=\"text-align: right;\">\n      <th></th>\n      <th>similarity</th>\n      <th>song</th>\n      <th>artist</th>\n      <th>album_name</th>\n    </tr>\n  </thead>\n  <tbody>\n    <tr>\n      <th>9</th>\n      <td>0.861111</td>\n      <td>Blame It on the Boom Boom</td>\n      <td>Black Stone Cherry</td>\n      <td>Michael Bublé (US Version)</td>\n    </tr>\n    <tr>\n      <th>5</th>\n      <td>0.847494</td>\n      <td>Metaphors</td>\n      <td>San Cisco</td>\n      <td>Oral Fixation, Vol. 2 (Expanded Edition)</td>\n    </tr>\n    <tr>\n      <th>7</th>\n      <td>0.847086</td>\n      <td>Under My Umbrella</td>\n      <td>Margo Guryan</td>\n      <td>Year Of The Gentleman (Bonus Track Edition)</td>\n    </tr>\n    <tr>\n      <th>4</th>\n      <td>0.842948</td>\n      <td>Baby's on Fire</td>\n      <td>Die Antwoord</td>\n      <td>The Best of Laura Pausini - E Ritorno Da Te</td>\n    </tr>\n    <tr>\n      <th>8</th>\n      <td>0.842721</td>\n      <td>Bamboreea</td>\n      <td>Inna</td>\n      <td>24 Hour Revenge Therapy (Remastered)</td>\n    </tr>\n    <tr>\n      <th>3</th>\n      <td>0.840800</td>\n      <td>Royal</td>\n      <td>Waterparks</td>\n      <td>Trance - The Early Years (1997-2002)</td>\n    </tr>\n    <tr>\n      <th>0</th>\n      <td>0.839828</td>\n      <td>God Lives Through</td>\n      <td>A Tribe Called Quest</td>\n      <td>We As Human</td>\n    </tr>\n    <tr>\n      <th>6</th>\n      <td>0.839047</td>\n      <td>Kiss This</td>\n      <td>The Struts</td>\n      <td>Yellow House</td>\n    </tr>\n    <tr>\n      <th>1</th>\n      <td>0.838812</td>\n      <td>Patterns</td>\n      <td>Simon &amp; Garfunkel</td>\n      <td>Life After Death (Remastered Edition)</td>\n    </tr>\n    <tr>\n      <th>2</th>\n      <td>0.838438</td>\n      <td>Sorry - Latino Remix</td>\n      <td>Justin Bieber</td>\n      <td>In Our Bones</td>\n    </tr>\n  </tbody>\n</table>\n</div>"
     },
     "execution_count": 13,
     "metadata": {},
     "output_type": "execute_result"
    }
   ],
   "source": [
    "results = Retrieval(n=N).text_based_similarity(\n",
    "    song_id=query_row_id,\n",
    "    feature=\"word2vec\",\n",
    "    similarity_measure=SimilarityMeasure.COSINE\n",
    ")\n",
    "results[\"album_name\"] = songs.info[\"album_name\"].loc[results.index]\n",
    "results.drop(\"id\", axis=1)"
   ],
   "metadata": {
    "collapsed": false,
    "ExecuteTime": {
     "end_time": "2023-11-14T10:09:13.777886763Z",
     "start_time": "2023-11-14T10:09:13.718219402Z"
    }
   },
   "id": "dfbd81f061e1b06f"
  },
  {
   "cell_type": "markdown",
   "source": [
    "_Blame It on the Boom Boom_ and _Metaphors_ have many similar words to _Waka Waka_ like “eh”, “oh”, “yeah”, but neither the genre nor the theme are similar. _Bamboreea_ is also about sports. _Royal_ again has many “oh” and the like, and _God Lives Through_ also has many “la”s."
   ],
   "metadata": {
    "collapsed": false
   },
   "id": "1a72348ee5d963a7"
  },
  {
   "cell_type": "markdown",
   "source": [
    "### \\#2: _Diamond Heart_ by _Lady Gaga_\n",
    "#### 2.1. Random baseline"
   ],
   "metadata": {
    "collapsed": false
   },
   "id": "36dd75a4803c37c4"
  },
  {
   "cell_type": "code",
   "execution_count": 14,
   "outputs": [
    {
     "data": {
      "text/plain": "              artist                song                    album_name\n3463      Waterparks               Royal                   Double Dare\n8079          Sparks      My Other Voice                No.1 In Heaven\n1607        Kasabian           Neon Noon                 Velociraptor!\n93           4minute           Cold Rain                         Crazy\n2033            Live        All Over You               Throwing Copper\n1115           Haken                1985                      Affinity\n7919            2Pac        I Get Around  Strictly 4 My N.I.G.G.A.Z...\n1713  Chad VanGaalen  Rabid Bits of Time                 Soft Airplane\n5023         Editors               Sugar       The Weight of Your Love\n9058     Demi Lovato             For You  Tell Me You Love Me (Deluxe)",
      "text/html": "<div>\n<style scoped>\n    .dataframe tbody tr th:only-of-type {\n        vertical-align: middle;\n    }\n\n    .dataframe tbody tr th {\n        vertical-align: top;\n    }\n\n    .dataframe thead th {\n        text-align: right;\n    }\n</style>\n<table border=\"1\" class=\"dataframe\">\n  <thead>\n    <tr style=\"text-align: right;\">\n      <th></th>\n      <th>artist</th>\n      <th>song</th>\n      <th>album_name</th>\n    </tr>\n  </thead>\n  <tbody>\n    <tr>\n      <th>3463</th>\n      <td>Waterparks</td>\n      <td>Royal</td>\n      <td>Double Dare</td>\n    </tr>\n    <tr>\n      <th>8079</th>\n      <td>Sparks</td>\n      <td>My Other Voice</td>\n      <td>No.1 In Heaven</td>\n    </tr>\n    <tr>\n      <th>1607</th>\n      <td>Kasabian</td>\n      <td>Neon Noon</td>\n      <td>Velociraptor!</td>\n    </tr>\n    <tr>\n      <th>93</th>\n      <td>4minute</td>\n      <td>Cold Rain</td>\n      <td>Crazy</td>\n    </tr>\n    <tr>\n      <th>2033</th>\n      <td>Live</td>\n      <td>All Over You</td>\n      <td>Throwing Copper</td>\n    </tr>\n    <tr>\n      <th>1115</th>\n      <td>Haken</td>\n      <td>1985</td>\n      <td>Affinity</td>\n    </tr>\n    <tr>\n      <th>7919</th>\n      <td>2Pac</td>\n      <td>I Get Around</td>\n      <td>Strictly 4 My N.I.G.G.A.Z...</td>\n    </tr>\n    <tr>\n      <th>1713</th>\n      <td>Chad VanGaalen</td>\n      <td>Rabid Bits of Time</td>\n      <td>Soft Airplane</td>\n    </tr>\n    <tr>\n      <th>5023</th>\n      <td>Editors</td>\n      <td>Sugar</td>\n      <td>The Weight of Your Love</td>\n    </tr>\n    <tr>\n      <th>9058</th>\n      <td>Demi Lovato</td>\n      <td>For You</td>\n      <td>Tell Me You Love Me (Deluxe)</td>\n    </tr>\n  </tbody>\n</table>\n</div>"
     },
     "execution_count": 14,
     "metadata": {},
     "output_type": "execute_result"
    }
   ],
   "source": [
    "# Reset the random seed once more\n",
    "query, query_row_id = songs.get_match(\n",
    "    Song(title=\"Diamond Heart\", artist=\"Lady Gaga\")\n",
    ")\n",
    "songs.info.loc[Retrieval(n=N).random_baseline(query).index, songs.info.columns != \"id\"]"
   ],
   "metadata": {
    "collapsed": false,
    "ExecuteTime": {
     "end_time": "2023-11-14T10:09:13.872443092Z",
     "start_time": "2023-11-14T10:09:13.766148106Z"
    }
   },
   "id": "42ef3a61c7136f68"
  },
  {
   "cell_type": "markdown",
   "source": [
    "As expected, the Random Baseline algorithm returns completely random results. There does not seem to be a common theme."
   ],
   "metadata": {
    "collapsed": false
   },
   "id": "7a2918160466f1bf"
  },
  {
   "cell_type": "markdown",
   "source": [
    "#### 2.2. Text-based(cos-sim, tf-idf)"
   ],
   "metadata": {
    "collapsed": false
   },
   "id": "9dfc2842583ee7dc"
  },
  {
   "cell_type": "code",
   "execution_count": 15,
   "outputs": [
    {
     "data": {
      "text/plain": "   similarity                    song            artist                                   album_name\n5    0.480732       Dimestore Diamond            Gossip     Oral Fixation, Vol. 2 (Expanded Edition)\n2    0.450549    Diamonds Are Forever    Shirley Bassey                                 In Our Bones\n7    0.422778                    Gloe            Kiiara  Year Of The Gentleman (Bonus Track Edition)\n9    0.394226            Diamond Ring          Bon Jovi                   Michael Bublé (US Version)\n4    0.391100            Dear Diamond   Miranda Lambert  The Best of Laura Pausini - E Ritorno Da Te\n6    0.318929                 See Saw  Devendra Banhart                                 Yellow House\n3    0.317348    Diamond in the Rough  The Nearly Deads         Trance - The Early Years (1997-2002)\n8    0.297933              Wild Child        Ace Wilder         24 Hour Revenge Therapy (Remastered)\n1    0.277761          Wild Wild Life     Talking Heads        Life After Death (Remastered Edition)\n0    0.275118  First to Say Goodnight           Oh Land                                  We As Human",
      "text/html": "<div>\n<style scoped>\n    .dataframe tbody tr th:only-of-type {\n        vertical-align: middle;\n    }\n\n    .dataframe tbody tr th {\n        vertical-align: top;\n    }\n\n    .dataframe thead th {\n        text-align: right;\n    }\n</style>\n<table border=\"1\" class=\"dataframe\">\n  <thead>\n    <tr style=\"text-align: right;\">\n      <th></th>\n      <th>similarity</th>\n      <th>song</th>\n      <th>artist</th>\n      <th>album_name</th>\n    </tr>\n  </thead>\n  <tbody>\n    <tr>\n      <th>5</th>\n      <td>0.480732</td>\n      <td>Dimestore Diamond</td>\n      <td>Gossip</td>\n      <td>Oral Fixation, Vol. 2 (Expanded Edition)</td>\n    </tr>\n    <tr>\n      <th>2</th>\n      <td>0.450549</td>\n      <td>Diamonds Are Forever</td>\n      <td>Shirley Bassey</td>\n      <td>In Our Bones</td>\n    </tr>\n    <tr>\n      <th>7</th>\n      <td>0.422778</td>\n      <td>Gloe</td>\n      <td>Kiiara</td>\n      <td>Year Of The Gentleman (Bonus Track Edition)</td>\n    </tr>\n    <tr>\n      <th>9</th>\n      <td>0.394226</td>\n      <td>Diamond Ring</td>\n      <td>Bon Jovi</td>\n      <td>Michael Bublé (US Version)</td>\n    </tr>\n    <tr>\n      <th>4</th>\n      <td>0.391100</td>\n      <td>Dear Diamond</td>\n      <td>Miranda Lambert</td>\n      <td>The Best of Laura Pausini - E Ritorno Da Te</td>\n    </tr>\n    <tr>\n      <th>6</th>\n      <td>0.318929</td>\n      <td>See Saw</td>\n      <td>Devendra Banhart</td>\n      <td>Yellow House</td>\n    </tr>\n    <tr>\n      <th>3</th>\n      <td>0.317348</td>\n      <td>Diamond in the Rough</td>\n      <td>The Nearly Deads</td>\n      <td>Trance - The Early Years (1997-2002)</td>\n    </tr>\n    <tr>\n      <th>8</th>\n      <td>0.297933</td>\n      <td>Wild Child</td>\n      <td>Ace Wilder</td>\n      <td>24 Hour Revenge Therapy (Remastered)</td>\n    </tr>\n    <tr>\n      <th>1</th>\n      <td>0.277761</td>\n      <td>Wild Wild Life</td>\n      <td>Talking Heads</td>\n      <td>Life After Death (Remastered Edition)</td>\n    </tr>\n    <tr>\n      <th>0</th>\n      <td>0.275118</td>\n      <td>First to Say Goodnight</td>\n      <td>Oh Land</td>\n      <td>We As Human</td>\n    </tr>\n  </tbody>\n</table>\n</div>"
     },
     "execution_count": 15,
     "metadata": {},
     "output_type": "execute_result"
    }
   ],
   "source": [
    "results = Retrieval(n=N).text_based_similarity(\n",
    "    song_id=query_row_id,\n",
    "    feature=\"tf_idf\",\n",
    "    similarity_measure=SimilarityMeasure.COSINE\n",
    ")\n",
    "results[\"album_name\"] = songs.info[\"album_name\"].loc[results.index]\n",
    "results.drop(\"id\", axis=1)"
   ],
   "metadata": {
    "collapsed": false,
    "ExecuteTime": {
     "end_time": "2023-11-14T10:09:14.009234667Z",
     "start_time": "2023-11-14T10:09:13.789717472Z"
    }
   },
   "id": "4573d3b534a6add0"
  },
  {
   "cell_type": "markdown",
   "source": [
    "- \"Dimestore Diamond\" by Gossip (Similarity: 0.481): This song's inclusion could be due to the word \"diamond\" in the title, which is a thematic similarity with Lady Gaga's \"Diamond Heart.\" Additionally, Gossip's music is related to the alternative rock and punk genres.\n",
    "- \"Diamonds Are Forever\" by Shirley Bassey (Similarity: 0.451): While Shirley Bassey's song title contains the word \"diamonds,\" it doesn't have a direct connection to Lady Gaga's\n",
    "- \"Diamond Heart.\" The inclusion could be due to the thematic similarity and genre relevance, as both are in the pop and adult contemporary genres.\n",
    "- \"Diamond Ring\" by Bon Jovi (Similarity: 0.394): The word \"diamond\" in the title may be a reason for its inclusion, as it relates thematically to \"Diamond Heart.\" Bon Jovi's music falls within the rock genre.\n",
    "- \"Dear Diamond\" by Miranda Lambert (Similarity: 0.391): The word \"diamond\" in the title could be the primary reason for its inclusion. Miranda Lambert's music is related to country, which is a different genre from Lady Gaga's pop.\n",
    "- \"Diamond in the Rough\" by The Nearly Deads (Similarity: 0.317): The word \"diamond\" in the title is likely the reason for its inclusion, but there may not be strong thematic or genre relevance.\n",
    "\n",
    "In this list, there are varying degrees of similarity, with some songs possibly included due to shared words in the titles or potential thematic connections. However, the connection to Lady Gaga's \"Diamond Heart\" remains somewhat indirect."
   ],
   "metadata": {
    "collapsed": false
   },
   "id": "3387ef788a182c11"
  },
  {
   "cell_type": "markdown",
   "source": [
    "#### 2.3. Text-based(cos-sim, BERT)"
   ],
   "metadata": {
    "collapsed": false
   },
   "id": "bb6024e0afe3f285"
  },
  {
   "cell_type": "code",
   "execution_count": 16,
   "outputs": [
    {
     "data": {
      "text/plain": "   similarity                                             song                    artist                                   album_name\n4    0.712682                                 Love Me Like You                Little Mix  The Best of Laura Pausini - E Ritorno Da Te\n6    0.709689                                            Loyal               Chris Brown                                 Yellow House\n2    0.706896                                         Lifeline                Jamiroquai                                 In Our Bones\n0    0.700668                                          Moments                   Tove Lo                                  We As Human\n9    0.700466                                      Misfit Love   Queens of the Stone Age                   Michael Bublé (US Version)\n5    0.700023                                             Gloe                    Kiiara     Oral Fixation, Vol. 2 (Expanded Edition)\n3    0.692460                                        Bing Bing                Crayon Pop         Trance - The Early Years (1997-2002)\n8    0.688697  A Little Party Never Killed Nobody (All We Got)  Fergie, Q-Tip & GoonRock         24 Hour Revenge Therapy (Remastered)\n7    0.687543                            Just Like Jesse James                      Cher  Year Of The Gentleman (Bonus Track Edition)\n1    0.687287           Pretty Girl - Cheat Codes X Cade Remix          Maggie Lindemann        Life After Death (Remastered Edition)",
      "text/html": "<div>\n<style scoped>\n    .dataframe tbody tr th:only-of-type {\n        vertical-align: middle;\n    }\n\n    .dataframe tbody tr th {\n        vertical-align: top;\n    }\n\n    .dataframe thead th {\n        text-align: right;\n    }\n</style>\n<table border=\"1\" class=\"dataframe\">\n  <thead>\n    <tr style=\"text-align: right;\">\n      <th></th>\n      <th>similarity</th>\n      <th>song</th>\n      <th>artist</th>\n      <th>album_name</th>\n    </tr>\n  </thead>\n  <tbody>\n    <tr>\n      <th>4</th>\n      <td>0.712682</td>\n      <td>Love Me Like You</td>\n      <td>Little Mix</td>\n      <td>The Best of Laura Pausini - E Ritorno Da Te</td>\n    </tr>\n    <tr>\n      <th>6</th>\n      <td>0.709689</td>\n      <td>Loyal</td>\n      <td>Chris Brown</td>\n      <td>Yellow House</td>\n    </tr>\n    <tr>\n      <th>2</th>\n      <td>0.706896</td>\n      <td>Lifeline</td>\n      <td>Jamiroquai</td>\n      <td>In Our Bones</td>\n    </tr>\n    <tr>\n      <th>0</th>\n      <td>0.700668</td>\n      <td>Moments</td>\n      <td>Tove Lo</td>\n      <td>We As Human</td>\n    </tr>\n    <tr>\n      <th>9</th>\n      <td>0.700466</td>\n      <td>Misfit Love</td>\n      <td>Queens of the Stone Age</td>\n      <td>Michael Bublé (US Version)</td>\n    </tr>\n    <tr>\n      <th>5</th>\n      <td>0.700023</td>\n      <td>Gloe</td>\n      <td>Kiiara</td>\n      <td>Oral Fixation, Vol. 2 (Expanded Edition)</td>\n    </tr>\n    <tr>\n      <th>3</th>\n      <td>0.692460</td>\n      <td>Bing Bing</td>\n      <td>Crayon Pop</td>\n      <td>Trance - The Early Years (1997-2002)</td>\n    </tr>\n    <tr>\n      <th>8</th>\n      <td>0.688697</td>\n      <td>A Little Party Never Killed Nobody (All We Got)</td>\n      <td>Fergie, Q-Tip &amp; GoonRock</td>\n      <td>24 Hour Revenge Therapy (Remastered)</td>\n    </tr>\n    <tr>\n      <th>7</th>\n      <td>0.687543</td>\n      <td>Just Like Jesse James</td>\n      <td>Cher</td>\n      <td>Year Of The Gentleman (Bonus Track Edition)</td>\n    </tr>\n    <tr>\n      <th>1</th>\n      <td>0.687287</td>\n      <td>Pretty Girl - Cheat Codes X Cade Remix</td>\n      <td>Maggie Lindemann</td>\n      <td>Life After Death (Remastered Edition)</td>\n    </tr>\n  </tbody>\n</table>\n</div>"
     },
     "execution_count": 16,
     "metadata": {},
     "output_type": "execute_result"
    }
   ],
   "source": [
    "results = Retrieval(n=N).text_based_similarity(\n",
    "    song_id=query_row_id,\n",
    "    feature=\"bert\",\n",
    "    similarity_measure=SimilarityMeasure.COSINE\n",
    ")\n",
    "results[\"album_name\"] = songs.info[\"album_name\"].loc[results.index]\n",
    "results.drop(\"id\", axis=1)"
   ],
   "metadata": {
    "collapsed": false,
    "ExecuteTime": {
     "end_time": "2023-11-14T10:09:14.066924359Z",
     "start_time": "2023-11-14T10:09:13.902971541Z"
    }
   },
   "id": "cf606a08896d95f0"
  },
  {
   "cell_type": "markdown",
   "source": [
    "- \"Moments\" by Tove Lo (Similarity: 0.701): The word \"moments\" could be a reason for its inclusion, as songs often capture specific moments or memories, similar to the concept in \"Diamond Heart.\"\n",
    "- \"Misfit Love\" by Queens of the Stone Age (Similarity: 0.700): While the title is different, the inclusion could be related to the concept of love, as it appears in both songs.\n",
    "- \"Just Like Jesse James\" by Cher (Similarity: 0.688): The inclusion may be related to the idea of romance and relationships, which is a theme in many songs, including Lady Gaga's.\n",
    "- \"Pretty Girl - Cheat Codes X Cade Remix\" by Maggie Lindemann (Similarity: 0.687): The inclusion might be based on the thematic connection of relationships or the word \"pretty\" in the title, which can be related to Lady Gaga's themes and style.\n",
    "\n",
    "In this list, the connections to Lady Gaga's \"Diamond Heart\" are not immediately clear, and the songs may be included based on thematic or lyrical associations rather than direct artist or genre connections."
   ],
   "metadata": {
    "collapsed": false
   },
   "id": "3139b140aaefebe6"
  },
  {
   "cell_type": "markdown",
   "source": [
    "#### 2.4. Text-based(cos-sim, word2vec)"
   ],
   "metadata": {
    "collapsed": false
   },
   "id": "6e691625f2b4246e"
  },
  {
   "cell_type": "code",
   "execution_count": 17,
   "outputs": [
    {
     "data": {
      "text/plain": "   similarity                            song                artist                                   album_name\n1    0.903783  Till The Right Man Comes Along           Tina Turner        Life After Death (Remastered Edition)\n3    0.903415                      I'm On One             DJ Khaled         Trance - The Early Years (1997-2002)\n8    0.898276                     ***Flawless               Beyoncé         24 Hour Revenge Therapy (Remastered)\n4    0.898103                        Lighters        Bad Meets Evil  The Best of Laura Pausini - E Ritorno Da Te\n0    0.898078                       Countdown               Beyoncé                                  We As Human\n6    0.898065                     We Made You                Eminem                                 Yellow House\n9    0.897623                      Gettin' Up                 Q-Tip                   Michael Bublé (US Version)\n7    0.897282                   Love Somebody      Rick Springfield  Year Of The Gentleman (Bonus Track Edition)\n2    0.897209                  So Much Better                Eminem                                 In Our Bones\n5    0.896580                       Mr. Right  A Rocket to the Moon     Oral Fixation, Vol. 2 (Expanded Edition)",
      "text/html": "<div>\n<style scoped>\n    .dataframe tbody tr th:only-of-type {\n        vertical-align: middle;\n    }\n\n    .dataframe tbody tr th {\n        vertical-align: top;\n    }\n\n    .dataframe thead th {\n        text-align: right;\n    }\n</style>\n<table border=\"1\" class=\"dataframe\">\n  <thead>\n    <tr style=\"text-align: right;\">\n      <th></th>\n      <th>similarity</th>\n      <th>song</th>\n      <th>artist</th>\n      <th>album_name</th>\n    </tr>\n  </thead>\n  <tbody>\n    <tr>\n      <th>1</th>\n      <td>0.903783</td>\n      <td>Till The Right Man Comes Along</td>\n      <td>Tina Turner</td>\n      <td>Life After Death (Remastered Edition)</td>\n    </tr>\n    <tr>\n      <th>3</th>\n      <td>0.903415</td>\n      <td>I'm On One</td>\n      <td>DJ Khaled</td>\n      <td>Trance - The Early Years (1997-2002)</td>\n    </tr>\n    <tr>\n      <th>8</th>\n      <td>0.898276</td>\n      <td>***Flawless</td>\n      <td>Beyoncé</td>\n      <td>24 Hour Revenge Therapy (Remastered)</td>\n    </tr>\n    <tr>\n      <th>4</th>\n      <td>0.898103</td>\n      <td>Lighters</td>\n      <td>Bad Meets Evil</td>\n      <td>The Best of Laura Pausini - E Ritorno Da Te</td>\n    </tr>\n    <tr>\n      <th>0</th>\n      <td>0.898078</td>\n      <td>Countdown</td>\n      <td>Beyoncé</td>\n      <td>We As Human</td>\n    </tr>\n    <tr>\n      <th>6</th>\n      <td>0.898065</td>\n      <td>We Made You</td>\n      <td>Eminem</td>\n      <td>Yellow House</td>\n    </tr>\n    <tr>\n      <th>9</th>\n      <td>0.897623</td>\n      <td>Gettin' Up</td>\n      <td>Q-Tip</td>\n      <td>Michael Bublé (US Version)</td>\n    </tr>\n    <tr>\n      <th>7</th>\n      <td>0.897282</td>\n      <td>Love Somebody</td>\n      <td>Rick Springfield</td>\n      <td>Year Of The Gentleman (Bonus Track Edition)</td>\n    </tr>\n    <tr>\n      <th>2</th>\n      <td>0.897209</td>\n      <td>So Much Better</td>\n      <td>Eminem</td>\n      <td>In Our Bones</td>\n    </tr>\n    <tr>\n      <th>5</th>\n      <td>0.896580</td>\n      <td>Mr. Right</td>\n      <td>A Rocket to the Moon</td>\n      <td>Oral Fixation, Vol. 2 (Expanded Edition)</td>\n    </tr>\n  </tbody>\n</table>\n</div>"
     },
     "execution_count": 17,
     "metadata": {},
     "output_type": "execute_result"
    }
   ],
   "source": [
    "results = Retrieval(n=N).text_based_similarity(\n",
    "    song_id=query_row_id,\n",
    "    feature=\"word2vec\",\n",
    "    similarity_measure=SimilarityMeasure.COSINE\n",
    ")\n",
    "results[\"album_name\"] = songs.info[\"album_name\"].loc[results.index]\n",
    "results.drop(\"id\", axis=1)"
   ],
   "metadata": {
    "collapsed": false,
    "ExecuteTime": {
     "end_time": "2023-11-14T10:09:14.123565795Z",
     "start_time": "2023-11-14T10:09:14.003580342Z"
    }
   },
   "id": "56a98740db9d0d48"
  },
  {
   "cell_type": "markdown",
   "source": [
    "- \"Till The Right Man Comes Along\" by Tina Turner (Similarity: 0.904): This song's inclusion may be related to the concept of waiting for the right person, which could be thematically connected to \"Diamond Heart.\"\n",
    "- \"***Flawless\" by Beyoncé (Similarity: 0.898): The inclusion might be related to the word \"***Flawless\" and the idea of self-confidence, which is a theme found in both songs.\n",
    "- \"Mr. Right\" by A Rocket to the Moon (Similarity: 0.897): This song's inclusion could be based on the theme of finding the right person or being with the perfect partner, which can be thematically related to \"Diamond Heart.\"\n",
    "\n",
    "In this list, the connections to Lady Gaga's \"Diamond Heart\" are not immediately clear, and the songs may be included based on thematic or lyrical associations rather than direct artist or genre connections."
   ],
   "metadata": {
    "collapsed": false
   },
   "id": "1c706e6bdc1a2b54"
  },
  {
   "cell_type": "markdown",
   "source": [
    "### \\#3: _Wake Me Up When September Ends_ by _Green Day_\n",
    "#### 3.1. Random baseline"
   ],
   "metadata": {
    "collapsed": false
   },
   "id": "1c00777c7e169a04"
  },
  {
   "cell_type": "code",
   "execution_count": 18,
   "outputs": [
    {
     "data": {
      "text/plain": "                        artist              song                                         album_name\n165              Amy Winehouse      Take the Box                                              Frank\n2276                  Snowmine          The Hill                                Laminate Pet Animal\n1919                 Katatonia              July  The Great Cold Distance (10th Anniversary Edit...\n901                  The Sound  Sense of Purpose                              From The Lion's Mouth\n7499                  fromis_9      Think of You                                            To. Day\n1073  The Jesus and Mary Chain         About You                       Darklands (Expanded Version)\n8719                  Rita Ora       Velvet Rope                                        Velvet Rope\n6150              Karen Dalton   How Sweet It Is                                     In My Own Time\n9575                 Rammstein             Adios                                             Mutter\n2715               Wiz Khalifa         Letterman                               Laugh Now, Fly Later",
      "text/html": "<div>\n<style scoped>\n    .dataframe tbody tr th:only-of-type {\n        vertical-align: middle;\n    }\n\n    .dataframe tbody tr th {\n        vertical-align: top;\n    }\n\n    .dataframe thead th {\n        text-align: right;\n    }\n</style>\n<table border=\"1\" class=\"dataframe\">\n  <thead>\n    <tr style=\"text-align: right;\">\n      <th></th>\n      <th>artist</th>\n      <th>song</th>\n      <th>album_name</th>\n    </tr>\n  </thead>\n  <tbody>\n    <tr>\n      <th>165</th>\n      <td>Amy Winehouse</td>\n      <td>Take the Box</td>\n      <td>Frank</td>\n    </tr>\n    <tr>\n      <th>2276</th>\n      <td>Snowmine</td>\n      <td>The Hill</td>\n      <td>Laminate Pet Animal</td>\n    </tr>\n    <tr>\n      <th>1919</th>\n      <td>Katatonia</td>\n      <td>July</td>\n      <td>The Great Cold Distance (10th Anniversary Edit...</td>\n    </tr>\n    <tr>\n      <th>901</th>\n      <td>The Sound</td>\n      <td>Sense of Purpose</td>\n      <td>From The Lion's Mouth</td>\n    </tr>\n    <tr>\n      <th>7499</th>\n      <td>fromis_9</td>\n      <td>Think of You</td>\n      <td>To. Day</td>\n    </tr>\n    <tr>\n      <th>1073</th>\n      <td>The Jesus and Mary Chain</td>\n      <td>About You</td>\n      <td>Darklands (Expanded Version)</td>\n    </tr>\n    <tr>\n      <th>8719</th>\n      <td>Rita Ora</td>\n      <td>Velvet Rope</td>\n      <td>Velvet Rope</td>\n    </tr>\n    <tr>\n      <th>6150</th>\n      <td>Karen Dalton</td>\n      <td>How Sweet It Is</td>\n      <td>In My Own Time</td>\n    </tr>\n    <tr>\n      <th>9575</th>\n      <td>Rammstein</td>\n      <td>Adios</td>\n      <td>Mutter</td>\n    </tr>\n    <tr>\n      <th>2715</th>\n      <td>Wiz Khalifa</td>\n      <td>Letterman</td>\n      <td>Laugh Now, Fly Later</td>\n    </tr>\n  </tbody>\n</table>\n</div>"
     },
     "execution_count": 18,
     "metadata": {},
     "output_type": "execute_result"
    }
   ],
   "source": [
    "query, query_row_id = songs.get_match(\n",
    "    Song(title=\"Wake Me Up When September Ends\", artist=\"Green Day\")\n",
    ")\n",
    "songs.info.loc[Retrieval(n=N).random_baseline(query).index, songs.info.columns != \"id\"]"
   ],
   "metadata": {
    "collapsed": false,
    "ExecuteTime": {
     "end_time": "2023-11-14T10:09:14.176821030Z",
     "start_time": "2023-11-14T10:09:14.071078951Z"
    }
   },
   "id": "3bdd66612c98dab5"
  },
  {
   "cell_type": "markdown",
   "source": [
    "As expected, the Random Baseline algorithm returns completely random results. There does not seem to be a common theme."
   ],
   "metadata": {
    "collapsed": false
   },
   "id": "dc5c53780f9aab78"
  },
  {
   "cell_type": "markdown",
   "source": [
    "#### 3.2. Text-based(cos-sim, tf-idf)"
   ],
   "metadata": {
    "collapsed": false
   },
   "id": "aa8edb67a3d62a75"
  },
  {
   "cell_type": "code",
   "execution_count": 19,
   "outputs": [
    {
     "data": {
      "text/plain": "   similarity                   song               artist                                   album_name\n1    0.535697                Wake Up             Emigrate        Life After Death (Remastered Edition)\n8    0.521682  Wake Up (Make a Move)         Lostprophets         24 Hour Revenge Therapy (Remastered)\n3    0.501407         Open Your Eyes           Goldfinger         Trance - The Early Years (1997-2002)\n4    0.482077     All the King's Men             The Rigs  The Best of Laura Pausini - E Ritorno Da Te\n6    0.421284              Wasteland  Against the Current                                 Yellow House\n2    0.411670        End of All Hope            Nightwish                                 In Our Bones\n7    0.404016       Bring Me to Life          Evanescence  Year Of The Gentleman (Bonus Track Edition)\n5    0.403344             Black Moon       Cellar Darling     Oral Fixation, Vol. 2 (Expanded Edition)\n9    0.397533       Wake up and Live       Youth of Today                   Michael Bublé (US Version)\n0    0.391455      I Want to Wake Up        Pet Shop Boys                                  We As Human",
      "text/html": "<div>\n<style scoped>\n    .dataframe tbody tr th:only-of-type {\n        vertical-align: middle;\n    }\n\n    .dataframe tbody tr th {\n        vertical-align: top;\n    }\n\n    .dataframe thead th {\n        text-align: right;\n    }\n</style>\n<table border=\"1\" class=\"dataframe\">\n  <thead>\n    <tr style=\"text-align: right;\">\n      <th></th>\n      <th>similarity</th>\n      <th>song</th>\n      <th>artist</th>\n      <th>album_name</th>\n    </tr>\n  </thead>\n  <tbody>\n    <tr>\n      <th>1</th>\n      <td>0.535697</td>\n      <td>Wake Up</td>\n      <td>Emigrate</td>\n      <td>Life After Death (Remastered Edition)</td>\n    </tr>\n    <tr>\n      <th>8</th>\n      <td>0.521682</td>\n      <td>Wake Up (Make a Move)</td>\n      <td>Lostprophets</td>\n      <td>24 Hour Revenge Therapy (Remastered)</td>\n    </tr>\n    <tr>\n      <th>3</th>\n      <td>0.501407</td>\n      <td>Open Your Eyes</td>\n      <td>Goldfinger</td>\n      <td>Trance - The Early Years (1997-2002)</td>\n    </tr>\n    <tr>\n      <th>4</th>\n      <td>0.482077</td>\n      <td>All the King's Men</td>\n      <td>The Rigs</td>\n      <td>The Best of Laura Pausini - E Ritorno Da Te</td>\n    </tr>\n    <tr>\n      <th>6</th>\n      <td>0.421284</td>\n      <td>Wasteland</td>\n      <td>Against the Current</td>\n      <td>Yellow House</td>\n    </tr>\n    <tr>\n      <th>2</th>\n      <td>0.411670</td>\n      <td>End of All Hope</td>\n      <td>Nightwish</td>\n      <td>In Our Bones</td>\n    </tr>\n    <tr>\n      <th>7</th>\n      <td>0.404016</td>\n      <td>Bring Me to Life</td>\n      <td>Evanescence</td>\n      <td>Year Of The Gentleman (Bonus Track Edition)</td>\n    </tr>\n    <tr>\n      <th>5</th>\n      <td>0.403344</td>\n      <td>Black Moon</td>\n      <td>Cellar Darling</td>\n      <td>Oral Fixation, Vol. 2 (Expanded Edition)</td>\n    </tr>\n    <tr>\n      <th>9</th>\n      <td>0.397533</td>\n      <td>Wake up and Live</td>\n      <td>Youth of Today</td>\n      <td>Michael Bublé (US Version)</td>\n    </tr>\n    <tr>\n      <th>0</th>\n      <td>0.391455</td>\n      <td>I Want to Wake Up</td>\n      <td>Pet Shop Boys</td>\n      <td>We As Human</td>\n    </tr>\n  </tbody>\n</table>\n</div>"
     },
     "execution_count": 19,
     "metadata": {},
     "output_type": "execute_result"
    }
   ],
   "source": [
    "results = Retrieval(n=N).text_based_similarity(\n",
    "    song_id=query_row_id,\n",
    "    feature=\"tf_idf\",\n",
    "    similarity_measure=SimilarityMeasure.COSINE\n",
    ")\n",
    "results[\"album_name\"] = songs.info[\"album_name\"].loc[results.index]\n",
    "results.drop(\"id\", axis=1)"
   ],
   "metadata": {
    "collapsed": false,
    "ExecuteTime": {
     "end_time": "2023-11-14T10:09:14.307125709Z",
     "start_time": "2023-11-14T10:09:14.098400295Z"
    }
   },
   "id": "c37b8266c66bc195"
  },
  {
   "cell_type": "markdown",
   "source": [
    "- \"Wake Up (Make a Move)\" by Lostprophets (Similarity: 0.522): This song's title contains \"Wake Up,\" which is the same as Green Day's song. It's possible that the song's title and genre relevance to rock music led to its inclusion.\n",
    "- \"Wake up and Live\" by Youth of Today (Similarity: 0.398): This song's title directly contains \"Wake up,\" similar to Green Day's song. The band's music is more in the realm of hardcore punk, which is distinct from Green Day's style.\n",
    "- \"I Want to Wake Up\" by Pet Shop Boys (Similarity: 0.391): The song title \"I Want to Wake Up\" shares the theme of waking up with Green Day's song. However, Pet Shop Boys' music belongs to the synth-pop genre, which is quite different from Green Day's punk rock.\n",
    "\n",
    "In this list, some songs are included due to thematic similarities in their titles, while others may have genre relevance to Green Day's music. However, some inclusions remain unclear, possibly due to shared words in the titles but differing musical styles."
   ],
   "metadata": {
    "collapsed": false
   },
   "id": "b684cc72c99ff484"
  },
  {
   "cell_type": "markdown",
   "source": [
    "#### 3.3. Text-based(cos-sim, BERT)"
   ],
   "metadata": {
    "collapsed": false
   },
   "id": "7a2ba53ff95335d8"
  },
  {
   "cell_type": "code",
   "execution_count": 20,
   "outputs": [
    {
     "data": {
      "text/plain": "   similarity                         song                    artist                                   album_name\n0    0.735971                  Fat Old Sun                Pink Floyd                                  We As Human\n4    0.724557  Where Hope and Daylight Die                 Summoning  The Best of Laura Pausini - E Ritorno Da Te\n8    0.720513                  Déjate Caer                  Los Tres         24 Hour Revenge Therapy (Remastered)\n5    0.719888      4 Seasons Of Loneliness               Boyz II Men     Oral Fixation, Vol. 2 (Expanded Edition)\n3    0.716033      When the Seasons Change   Five Finger Death Punch         Trance - The Early Years (1997-2002)\n7    0.713933              Soul of the Sea                     Heart  Year Of The Gentleman (Bonus Track Edition)\n9    0.713904                 Falling Down                     Oasis                   Michael Bublé (US Version)\n2    0.712668         Summer and Lightning  Electric Light Orchestra                                 In Our Bones\n1    0.711576        September in the Rain          Dinah Washington        Life After Death (Remastered Edition)\n6    0.710427            Rivers Between Us                 Draconian                                 Yellow House",
      "text/html": "<div>\n<style scoped>\n    .dataframe tbody tr th:only-of-type {\n        vertical-align: middle;\n    }\n\n    .dataframe tbody tr th {\n        vertical-align: top;\n    }\n\n    .dataframe thead th {\n        text-align: right;\n    }\n</style>\n<table border=\"1\" class=\"dataframe\">\n  <thead>\n    <tr style=\"text-align: right;\">\n      <th></th>\n      <th>similarity</th>\n      <th>song</th>\n      <th>artist</th>\n      <th>album_name</th>\n    </tr>\n  </thead>\n  <tbody>\n    <tr>\n      <th>0</th>\n      <td>0.735971</td>\n      <td>Fat Old Sun</td>\n      <td>Pink Floyd</td>\n      <td>We As Human</td>\n    </tr>\n    <tr>\n      <th>4</th>\n      <td>0.724557</td>\n      <td>Where Hope and Daylight Die</td>\n      <td>Summoning</td>\n      <td>The Best of Laura Pausini - E Ritorno Da Te</td>\n    </tr>\n    <tr>\n      <th>8</th>\n      <td>0.720513</td>\n      <td>Déjate Caer</td>\n      <td>Los Tres</td>\n      <td>24 Hour Revenge Therapy (Remastered)</td>\n    </tr>\n    <tr>\n      <th>5</th>\n      <td>0.719888</td>\n      <td>4 Seasons Of Loneliness</td>\n      <td>Boyz II Men</td>\n      <td>Oral Fixation, Vol. 2 (Expanded Edition)</td>\n    </tr>\n    <tr>\n      <th>3</th>\n      <td>0.716033</td>\n      <td>When the Seasons Change</td>\n      <td>Five Finger Death Punch</td>\n      <td>Trance - The Early Years (1997-2002)</td>\n    </tr>\n    <tr>\n      <th>7</th>\n      <td>0.713933</td>\n      <td>Soul of the Sea</td>\n      <td>Heart</td>\n      <td>Year Of The Gentleman (Bonus Track Edition)</td>\n    </tr>\n    <tr>\n      <th>9</th>\n      <td>0.713904</td>\n      <td>Falling Down</td>\n      <td>Oasis</td>\n      <td>Michael Bublé (US Version)</td>\n    </tr>\n    <tr>\n      <th>2</th>\n      <td>0.712668</td>\n      <td>Summer and Lightning</td>\n      <td>Electric Light Orchestra</td>\n      <td>In Our Bones</td>\n    </tr>\n    <tr>\n      <th>1</th>\n      <td>0.711576</td>\n      <td>September in the Rain</td>\n      <td>Dinah Washington</td>\n      <td>Life After Death (Remastered Edition)</td>\n    </tr>\n    <tr>\n      <th>6</th>\n      <td>0.710427</td>\n      <td>Rivers Between Us</td>\n      <td>Draconian</td>\n      <td>Yellow House</td>\n    </tr>\n  </tbody>\n</table>\n</div>"
     },
     "execution_count": 20,
     "metadata": {},
     "output_type": "execute_result"
    }
   ],
   "source": [
    "results = Retrieval(n=N).text_based_similarity(\n",
    "    song_id=query_row_id,\n",
    "    feature=\"bert\",\n",
    "    similarity_measure=SimilarityMeasure.COSINE\n",
    ")\n",
    "results[\"album_name\"] = songs.info[\"album_name\"].loc[results.index]\n",
    "results.drop(\"id\", axis=1)"
   ],
   "metadata": {
    "collapsed": false,
    "ExecuteTime": {
     "end_time": "2023-11-14T10:09:14.344502472Z",
     "start_time": "2023-11-14T10:09:14.205856930Z"
    }
   },
   "id": "4f6881169713eb0f"
  },
  {
   "cell_type": "markdown",
   "source": [
    "- \"Fat Old Sun\" by Pink Floyd (Similarity: 0.736): Pink Floyd is a well-known rock band, and their music shares some genre relevance with Green Day. The inclusion in the list could be due to this genre similarity.\n",
    "- \"When the Seasons Change\" by Five Finger Death Punch (Similarity: 0.716): This song's title directly references the changing of seasons, which is related to time, possibly explaining its inclusion.\n",
    "- \"Summer and Lightning\" by Electric Light Orchestra (Similarity: 0.713): Electric Light Orchestra is known for their rock and orchestral elements, and the word \"summer\" in the title may have led to its inclusion due to the connection with a season.\n",
    "- \"September in the Rain\" by Dinah Washington (Similarity: 0.712): This song's title directly references September, which is similar to the title of Green Day's song. Dinah Washington's music is jazz, making its inclusion less obvious.\n",
    "\n",
    "In this list, the songs seem to be loosely connected by thematic elements related to time, seasons, and potentially genre relevance with Green Day's rock music. However, the inclusion of some songs, especially those from different genres and with little thematic similarity, remains unclear."
   ],
   "metadata": {
    "collapsed": false
   },
   "id": "d4e90d6a18eefe38"
  },
  {
   "cell_type": "markdown",
   "source": [
    "#### 3.4. Text-based(cos-sim, word2vec)"
   ],
   "metadata": {
    "collapsed": false
   },
   "id": "a6fddf24d243289c"
  },
  {
   "cell_type": "code",
   "execution_count": 21,
   "outputs": [
    {
     "data": {
      "text/plain": "   similarity                        song           artist                                   album_name\n7    0.827592     Children Of The Grounds          Midlake  Year Of The Gentleman (Bonus Track Edition)\n1    0.823171       Ghost of Days Gone By     Alter Bridge        Life After Death (Remastered Edition)\n6    0.819843          Zakochany Czlowiek    Better Person                                 Yellow House\n5    0.819494          All the King's Men         The Rigs     Oral Fixation, Vol. 2 (Expanded Edition)\n0    0.817667                     Wake Up         Emigrate                                  We As Human\n9    0.812723           End Come Too Soon      Wild Beasts                   Michael Bublé (US Version)\n2    0.804929  Before Later Becomes Never          Caliban                                 In Our Bones\n3    0.802736               Long Gone Day       Mad Season         Trance - The Early Years (1997-2002)\n4    0.800547          I'm Free (At Last)  Masked Intruder  The Best of Laura Pausini - E Ritorno Da Te\n8    0.800521                      Song Z  Tracy Ate A Bug         24 Hour Revenge Therapy (Remastered)",
      "text/html": "<div>\n<style scoped>\n    .dataframe tbody tr th:only-of-type {\n        vertical-align: middle;\n    }\n\n    .dataframe tbody tr th {\n        vertical-align: top;\n    }\n\n    .dataframe thead th {\n        text-align: right;\n    }\n</style>\n<table border=\"1\" class=\"dataframe\">\n  <thead>\n    <tr style=\"text-align: right;\">\n      <th></th>\n      <th>similarity</th>\n      <th>song</th>\n      <th>artist</th>\n      <th>album_name</th>\n    </tr>\n  </thead>\n  <tbody>\n    <tr>\n      <th>7</th>\n      <td>0.827592</td>\n      <td>Children Of The Grounds</td>\n      <td>Midlake</td>\n      <td>Year Of The Gentleman (Bonus Track Edition)</td>\n    </tr>\n    <tr>\n      <th>1</th>\n      <td>0.823171</td>\n      <td>Ghost of Days Gone By</td>\n      <td>Alter Bridge</td>\n      <td>Life After Death (Remastered Edition)</td>\n    </tr>\n    <tr>\n      <th>6</th>\n      <td>0.819843</td>\n      <td>Zakochany Czlowiek</td>\n      <td>Better Person</td>\n      <td>Yellow House</td>\n    </tr>\n    <tr>\n      <th>5</th>\n      <td>0.819494</td>\n      <td>All the King's Men</td>\n      <td>The Rigs</td>\n      <td>Oral Fixation, Vol. 2 (Expanded Edition)</td>\n    </tr>\n    <tr>\n      <th>0</th>\n      <td>0.817667</td>\n      <td>Wake Up</td>\n      <td>Emigrate</td>\n      <td>We As Human</td>\n    </tr>\n    <tr>\n      <th>9</th>\n      <td>0.812723</td>\n      <td>End Come Too Soon</td>\n      <td>Wild Beasts</td>\n      <td>Michael Bublé (US Version)</td>\n    </tr>\n    <tr>\n      <th>2</th>\n      <td>0.804929</td>\n      <td>Before Later Becomes Never</td>\n      <td>Caliban</td>\n      <td>In Our Bones</td>\n    </tr>\n    <tr>\n      <th>3</th>\n      <td>0.802736</td>\n      <td>Long Gone Day</td>\n      <td>Mad Season</td>\n      <td>Trance - The Early Years (1997-2002)</td>\n    </tr>\n    <tr>\n      <th>4</th>\n      <td>0.800547</td>\n      <td>I'm Free (At Last)</td>\n      <td>Masked Intruder</td>\n      <td>The Best of Laura Pausini - E Ritorno Da Te</td>\n    </tr>\n    <tr>\n      <th>8</th>\n      <td>0.800521</td>\n      <td>Song Z</td>\n      <td>Tracy Ate A Bug</td>\n      <td>24 Hour Revenge Therapy (Remastered)</td>\n    </tr>\n  </tbody>\n</table>\n</div>"
     },
     "execution_count": 21,
     "metadata": {},
     "output_type": "execute_result"
    }
   ],
   "source": [
    "results = Retrieval(n=N).text_based_similarity(\n",
    "    song_id=query_row_id,\n",
    "    feature=\"word2vec\",\n",
    "    similarity_measure=SimilarityMeasure.COSINE\n",
    ")\n",
    "results[\"album_name\"] = songs.info[\"album_name\"].loc[results.index]\n",
    "results.drop(\"id\", axis=1)"
   ],
   "metadata": {
    "collapsed": false,
    "ExecuteTime": {
     "end_time": "2023-11-14T10:09:14.421905488Z",
     "start_time": "2023-11-14T10:09:14.303703369Z"
    }
   },
   "id": "c8c799287711178f"
  },
  {
   "cell_type": "markdown",
   "source": [
    "- \"Ghost of Days Gone By\" by Alter Bridge (Similarity: 0.823): While Alter Bridge is known for their rock music, the song title doesn't share similarities with Green Day's song. Its inclusion could be due to genre relevance.\n",
    "- \"Before Later Becomes Never\" by Caliban (Similarity: 0.805): The song title doesn't directly relate to Green Day's song, but Caliban's music is in a similar genre (metal), which might explain its inclusion.\n",
    "- \"Long Gone Day\" by Mad Season (Similarity: 0.803): Mad Season's music is related to alternative rock, which is relevant to Green Day's style. The title may evoke a sense of time, like \"Wake Me Up When September Ends.\"\n",
    "- \"Song Z\" by Tracy Ate A Bug (Similarity: 0.800): While the title \"Song Z\" doesn't directly relate to Green Day's song, the inclusion may be based on artist name similarity or genre relevance.\n",
    "\n",
    "In this list, there are varying degrees of similarity, with some songs possibly included due to shared words in the titles or genre relevance. However, the connection to \"Wake Me Up When September Ends\" by Green Day remains tenuous."
   ],
   "metadata": {
    "collapsed": false
   },
   "id": "c374f31e8ae33f46"
  },
  {
   "cell_type": "markdown",
   "source": [
    "### Qualitative Analysis: Review of our Initial Findings"
   ],
   "metadata": {
    "collapsed": false
   },
   "id": "e011c88c8bc9fee4"
  },
  {
   "cell_type": "markdown",
   "source": [
    "#### Song #1: \"Waka Waka (This Time for Africa)\" by Shakira:\n",
    "Waka Waka (This Time for Africa), contains many short words such as “eh”, “oh”, “ah”. Additionally, it contains a mix of different languages, mostly West African and English. This explains most of the chosen songs by the text-based algorithms."
   ],
   "metadata": {
    "collapsed": false
   },
   "id": "74f48ca20c75d7d9"
  },
  {
   "cell_type": "markdown",
   "source": [
    "#### Song #2: \"Diamond Heart\" by Lady Gaga:\n",
    "In the baseline analysis, there is no common theme or connection between \"Diamond Heart\" and the listed songs. They are diverse in artist and genre. In the text-based (cos-sim) analysis with TF-IDF, the thematic connection is primarily based on the presence of the word \"diamond\" in song titles. However, the thematic relevance varies, and some songs are in different genres from Lady Gaga's pop music.\n",
    "\n",
    "In the BERT and word2vec-based analyses, the songs are included based on thematic or lyrical associations rather than direct artist or genre connections. The thematic connections are diverse, and the inclusion may be due to shared words in the titles.\n"
   ],
   "metadata": {
    "collapsed": false
   },
   "id": "c82abae6b3d30ec3"
  },
  {
   "cell_type": "markdown",
   "source": [
    "#### Song #3: \"Wake Me Up When September Ends\" by Green Day:\n",
    "In the baseline analysis, there is no common theme or connection between \"Wake Me Up When September Ends\" and the listed songs. They are diverse in artist and genre.\n",
    "\n",
    "In the text-based (cos-sim) analysis with TF-IDF, some songs like \"Wake Up\" by Emigrate and \"Wake Up (Make a Move)\" by Lostprophets share the word \"Wake\" with Green Day's song. Their inclusion may be due to thematic similarity and genre relevance to rock music. However, some inclusions remain unclear, possibly due to shared words in the titles but differing musical styles.\n",
    "\n",
    "In the BERT and word2vec-based analyses, the songs are included based on thematic or genre associations. The thematic connections vary, and some inclusions may be due to shared words in the titles. While some songs have genre relevance, others have less clear connections to Green Day's music."
   ],
   "metadata": {
    "collapsed": false
   },
   "id": "218dc4c6b82dfc21"
  },
  {
   "cell_type": "code",
   "execution_count": 21,
   "outputs": [],
   "source": [],
   "metadata": {
    "collapsed": false,
    "ExecuteTime": {
     "end_time": "2023-11-14T10:09:14.422295840Z",
     "start_time": "2023-11-14T10:09:14.355794732Z"
    }
   },
   "id": "3af338ed8dd6a1f1"
  }
 ],
 "metadata": {
  "kernelspec": {
   "display_name": "Python 3 (ipykernel)",
   "language": "python",
   "name": "python3"
  },
  "language_info": {
   "codemirror_mode": {
    "name": "ipython",
    "version": 3
   },
   "file_extension": ".py",
   "mimetype": "text/x-python",
   "name": "python",
   "nbconvert_exporter": "python",
   "pygments_lexer": "ipython3",
   "version": "3.11.5"
  }
 },
 "nbformat": 4,
 "nbformat_minor": 5
}
