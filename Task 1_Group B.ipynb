{
 "cells": [
  {
   "cell_type": "markdown",
   "id": "4b45d764",
   "metadata": {},
   "source": [
    "<h1 style=\"color:rgb(0,120,170)\">344.038, KV Multimedia Search and Retrieval (WS2023/24)</h1>\n",
    "<h2 style=\"color:rgb(0,120,170)\">Task 1_Group B</h2>"
   ]
  },
  {
   "cell_type": "markdown",
   "id": "cf629014",
   "metadata": {},
   "source": [
    "First Name | Family Name | Matr.Nr\n",
    ":--- | :--- | :---\n",
    " xxxx| Eibensteiner | K01300179 \n",
    "Hadi | Sanaei | K11733444\n",
    " xxxx| Troyer | K12006666\n",
    " xxxx| Wagner | K01357626\n",
    " xxxx| Paunović | K12046370"
   ]
  },
  {
   "cell_type": "markdown",
   "id": "e37ef5cd",
   "metadata": {},
   "source": [
    "### Load Data & Imports"
   ]
  },
  {
   "cell_type": "code",
   "execution_count": 1,
   "id": "d6fe9727-ec04-4803-94d1-ed8d756e0db7",
   "metadata": {
    "tags": []
   },
   "outputs": [],
   "source": [
    "%load_ext autoreload\n",
    "%autoreload 2"
   ]
  },
  {
   "cell_type": "code",
   "execution_count": 2,
   "id": "3f84e14a",
   "metadata": {
    "tags": []
   },
   "outputs": [],
   "source": [
    "import pandas as pd\n",
    "import numpy as np\n",
    "from sklearn.metrics.pairwise import cosine_similarity"
   ]
  },
  {
   "cell_type": "code",
   "execution_count": 3,
   "id": "51f18c0b",
   "metadata": {},
   "outputs": [],
   "source": [
    "from util import read_tsv as read\n",
    "id_information = read('id_information_mmsr.tsv')\n",
    "id_lyrics_bert = read('id_lyrics_bert_mmsr.tsv')\n",
    "id_lyrics_tfidf = read('id_lyrics_tf-idf_mmsr.tsv')\n",
    "id_lyrics_word2vec = read('id_lyrics_word2vec_mmsr.tsv')"
   ]
  },
  {
   "cell_type": "code",
   "execution_count": 34,
   "id": "5a24f002",
   "metadata": {},
   "outputs": [
    {
     "name": "stdin",
     "output_type": "stream",
     "text": [
      "Enter the song title:  Letterman\n",
      "Enter the artist name:  Wiz Khalifa\n"
     ]
    }
   ],
   "source": [
    "from util import prompt_song_query\n",
    "\n",
    "query_song = prompt_song_query(id_information)\n",
    "\n",
    "# Number of similar songs to retrieve\n",
    "N = 10\n",
    "\n",
    "#example song title: Letterman\n",
    "#artist name: Wiz Khalifa"
   ]
  },
  {
   "cell_type": "markdown",
   "id": "c063601d",
   "metadata": {},
   "source": [
    "###  Random Baseline"
   ]
  },
  {
   "cell_type": "code",
   "execution_count": 5,
   "id": "85f46c6e",
   "metadata": {},
   "outputs": [],
   "source": [
    "def random_baseline_retrieval(query_song, N, music_data):\n",
    "    # Filter out the query song from the dataset (if it exists)\n",
    "    query_song_mask = (music_data['song'] != query_song['song']) | (music_data['artist'] != query_song['artist'])\n",
    "    filtered_data = music_data[query_song_mask]\n",
    "\n",
    "    # Select N random songs from the filtered data\n",
    "    random_results = filtered_data.sample(n=N)\n",
    "\n",
    "    return random_results[['song', 'artist']]"
   ]
  },
  {
   "cell_type": "code",
   "execution_count": 41,
   "id": "4edc8d5f",
   "metadata": {},
   "outputs": [
    {
     "name": "stdout",
     "output_type": "stream",
     "text": [
      "\n",
      "\n",
      " List of songs that share similarities with your song title and artist name:  \n",
      "\n",
      "                                             song                 artist\n",
      "2728                               So Contagious             Acceptance\n",
      "917                                 Slow It Down          The Lumineers\n",
      "2833                              Like Cockatoos               The Cure\n",
      "4844                              Bombastic Love         Britney Spears\n",
      "6470  The Man Who Sold The World (MTV Unplugged)                Nirvana\n",
      "3384                         Per Aspera Ad Astra                Haggard\n",
      "3931                                   On A Rope  Rocket from the Crypt\n",
      "6575                                Weekend Wars                   MGMT\n",
      "3497                     Still Don't Give a Fuck                 Eminem\n",
      "698                                        Faces                Warning\n"
     ]
    }
   ],
   "source": [
    "# Perform random baseline retrieval\n",
    "results = random_baseline_retrieval(query_song, N, id_information)\n",
    "\n",
    "# Print the list of similar songs\n",
    "print(\"\\n\\n\", \"List of songs that share similarities with your song title and artist name: \", \"\\n\\n\", results)"
   ]
  },
  {
   "cell_type": "markdown",
   "id": "de388f75",
   "metadata": {},
   "source": [
    "###  Text-based(cos-sim, tf-idf)"
   ]
  },
  {
   "cell_type": "code",
   "execution_count": 36,
   "id": "8dcbe4bf-de9b-4128-b2a2-a0d24bfd88b8",
   "metadata": {
    "tags": []
   },
   "outputs": [
    {
     "name": "stdout",
     "output_type": "stream",
     "text": [
      "\n",
      "\n",
      " List of songs that share similarities with your song title and artist name:  \n",
      "\n",
      "                  id  similarity                                    song  \\\n",
      "9  zmukOoB01ASq2Y6r    0.474141  California And The Slipping Of The Sun   \n",
      "8  qtI2udJpwde94hTQ    0.403079                           Open the Door   \n",
      "3  K7amDTeZDJg7Ozxw    0.377162                                One Foot   \n",
      "7  pSOYlgWNzpZWpN9j    0.362179                       At Last I Am Free   \n",
      "5  YT1ZsHvpwaukvRQv    0.344942                    San Francisco Street   \n",
      "0  981Lm983YaJcbQV4    0.344636                              Street Joy   \n",
      "2  EJBdc9p2QSyFT2Be    0.337130              Let It Go - Single Version   \n",
      "6  lTJVFhGsiLggKCEq    0.328499                     I Let Him Get to Me   \n",
      "4  NCONeOaMBitsyTJt    0.318821                          Let It Will Be   \n",
      "1  B1w512ol1loTbSBL    0.302504                                    Love   \n",
      "\n",
      "           artist  \n",
      "9        Gorillaz  \n",
      "8    Otis Redding  \n",
      "3         Airways  \n",
      "7    Robert Wyatt  \n",
      "5         Sun Rai  \n",
      "0     White Denim  \n",
      "2     Demi Lovato  \n",
      "6  Beat Happening  \n",
      "4         Madonna  \n",
      "1          Thalía  \n"
     ]
    }
   ],
   "source": [
    "from util import text_based_similarity\n",
    "from sklearn.metrics.pairwise import cosine_similarity\n",
    "\n",
    "# Perform tfidf retrieval\n",
    "results = text_based_similarity(query_song, N, id_information, id_lyrics_tfidf, cosine_similarity)\n",
    "\n",
    "# Print the list of similar songs\n",
    "print(\"\\n\\n\", \"List of songs that share similarities with your song title and artist name: \", \"\\n\\n\", results)"
   ]
  },
  {
   "cell_type": "markdown",
   "id": "1c77f737-1ee7-4d16-b7b6-f5abc183295a",
   "metadata": {},
   "source": [
    "###  Text-based(cos-sim, feature)"
   ]
  },
  {
   "cell_type": "code",
   "execution_count": 40,
   "id": "827edd95-0887-4707-8fed-f3cb7d4c2876",
   "metadata": {
    "tags": []
   },
   "outputs": [
    {
     "name": "stdout",
     "output_type": "stream",
     "text": [
      "\n",
      "\n",
      " List of songs that share similarities with your song title and artist name:  \n",
      "\n",
      "                  id  similarity                           song  \\\n",
      "0  5S5J81wX2tJKJnUF    0.736194                        Mansion   \n",
      "7  iiUveYG1BM5KROVd    0.728700               Lights Turned On   \n",
      "1  BsztDgeUHXH5xMdG    0.725406  I Want It All (feat. Mack 10)   \n",
      "6  dDNB0NTVZ9G5ENNX    0.725316                        Ballin'   \n",
      "5  Q837q2LPqffyecBB    0.724774                    I Get Money   \n",
      "2  F2e2v4hi3OplM8Vw    0.723561                         STAINS   \n",
      "9  wL6STNKK7Q0thTFC    0.722057                  Barbie Dreams   \n",
      "8  sGD0zOgtbcrwZZO6    0.716462                     1997 DIANA   \n",
      "3  M65mU1UIozrDxcvu    0.715846                      Fast Lane   \n",
      "4  OD6sfVyohxUZAO36    0.715089                       Top Back   \n",
      "\n",
      "             artist  \n",
      "0         lil skies  \n",
      "7  Childish Gambino  \n",
      "1          Warren G  \n",
      "6        Chief Keef  \n",
      "5           50 Cent  \n",
      "2      BROCKHAMPTON  \n",
      "9       Nicki Minaj  \n",
      "8      BROCKHAMPTON  \n",
      "3    Bad Meets Evil  \n",
      "4              T.I.  \n"
     ]
    }
   ],
   "source": [
    "from util import text_based_similarity\n",
    "from sklearn.metrics.pairwise import cosine_similarity\n",
    "\n",
    "# Perform bert retrieval\n",
    "results = text_based_similarity(query_song, N, id_information, id_lyrics_bert, cosine_similarity)\n",
    "\n",
    "# Print the list of similar songs\n",
    "print(\"\\n\\n\", \"List of songs that share similarities with your song title and artist name: \", \"\\n\\n\", results)"
   ]
  },
  {
   "cell_type": "markdown",
   "id": "329bea55",
   "metadata": {
    "tags": []
   },
   "source": [
    "###  Text-based(similarity, feature)"
   ]
  },
  {
   "cell_type": "code",
   "execution_count": 39,
   "id": "a0573510",
   "metadata": {},
   "outputs": [
    {
     "name": "stdout",
     "output_type": "stream",
     "text": [
      "\n",
      "\n",
      " List of songs that share similarities with your song title and artist name:  \n",
      "\n",
      "                  id  similarity                    song          artist\n",
      "3  WP4RkO51CCZnKBlQ    0.905416             Wyclef Jean      Young Thug\n",
      "0  CfCJl3HWjZCvaTv3    0.901050     Let Me Blow Ya Mind             Eve\n",
      "8  pK2EZxyujhM6yp7Z    0.899793                  W.T.P.          Eminem\n",
      "2  Q8HUKzo5muVvgIvP    0.896035        Marshall Mathers          Eminem\n",
      "9  qtI2udJpwde94hTQ    0.894491           Open the Door    Otis Redding\n",
      "4  dVLg34HafHN2B9lW    0.889872             Candy Paint     Post Malone\n",
      "6  lPAW2IulFyjZtuaH    0.889726  can't leave without it       21 Savage\n",
      "1  PoTQ9felmQHjpYDi    0.887894                Lighters  Bad Meets Evil\n",
      "7  mgjDCaqqLfxz1070    0.887509             Drug Ballad          Eminem\n",
      "5  gmFBqh7nAv05B4zE    0.887238                  Swords          M.I.A.\n"
     ]
    }
   ],
   "source": [
    "from util import text_based_similarity\n",
    "from sklearn.metrics.pairwise import cosine_similarity\n",
    "\n",
    "# Perform word2vec retrieval\n",
    "results = text_based_similarity(query_song, N, id_information, id_lyrics_word2vec, cosine_similarity)\n",
    "\n",
    "# Print the list of similar songs\n",
    "print(\"\\n\\n\", \"List of songs that share similarities with your song title and artist name: \", \"\\n\\n\", results)"
   ]
  },
  {
   "cell_type": "code",
   "execution_count": null,
   "id": "55325591-d50e-4dff-b517-f3102e41cc9f",
   "metadata": {},
   "outputs": [],
   "source": []
  }
 ],
 "metadata": {
  "kernelspec": {
   "display_name": "Python 3 (ipykernel)",
   "language": "python",
   "name": "python3"
  },
  "language_info": {
   "codemirror_mode": {
    "name": "ipython",
    "version": 3
   },
   "file_extension": ".py",
   "mimetype": "text/x-python",
   "name": "python",
   "nbconvert_exporter": "python",
   "pygments_lexer": "ipython3",
   "version": "3.11.5"
  }
 },
 "nbformat": 4,
 "nbformat_minor": 5
}
