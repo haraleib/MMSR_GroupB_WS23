{
 "cells": [
  {
   "cell_type": "markdown",
   "id": "4b45d764",
   "metadata": {},
   "source": [
    "<h1 style=\"color:rgb(0,120,170)\">344.038, KV Multimedia Search and Retrieval (WS2023/24)</h1>\n",
    "<h2 style=\"color:rgb(0,120,170)\">Task 1_Group B</h2>"
   ]
  },
  {
   "cell_type": "markdown",
   "id": "cf629014",
   "metadata": {},
   "source": [
    "| First Name | Family Name  | Matr.Nr   |\n",
    "|:-----------|:-------------|:----------|\n",
    "| Harald     | Eibensteiner | K01300179 |\n",
    "| Hadi       | Sanaei       | K11733444 |\n",
    "| Lukas      | Troyer       | K12006666 |\n",
    "| Lukas      | Wagner       | K01357626 |\n",
    "| Branko     | Paunović     | K12046370 |"
   ]
  },
  {
   "cell_type": "markdown",
   "id": "e37ef5cd",
   "metadata": {},
   "source": [
    "### Load Data & Imports"
   ]
  },
  {
   "cell_type": "code",
   "execution_count": 1,
   "id": "d6fe9727-ec04-4803-94d1-ed8d756e0db7",
   "metadata": {
    "tags": [],
    "ExecuteTime": {
     "end_time": "2023-11-10T18:44:47.097362075Z",
     "start_time": "2023-11-10T18:44:47.097166811Z"
    }
   },
   "outputs": [],
   "source": [
    "%load_ext autoreload\n",
    "%autoreload 2"
   ]
  },
  {
   "cell_type": "code",
   "execution_count": 2,
   "id": "3f84e14a",
   "metadata": {
    "tags": [],
    "ExecuteTime": {
     "end_time": "2023-11-10T18:44:50.113371539Z",
     "start_time": "2023-11-10T18:44:47.676952101Z"
    }
   },
   "outputs": [],
   "source": [
    "import numpy as np\n",
    "np.random.seed(42)\n",
    "\n",
    "import pandas as pd\n",
    "\n",
    "from song import Song, songs\n",
    "from retrieval import Retrieval, SimilarityMeasure\n",
    "\n",
    "pd.set_option(\"display.expand_frame_repr\", False) # prevent pandas from wrapping cells"
   ]
  },
  {
   "cell_type": "code",
   "execution_count": 3,
   "outputs": [],
   "source": [
    "# Number of similar songs to retrieve\n",
    "N = 10"
   ],
   "metadata": {
    "collapsed": false,
    "ExecuteTime": {
     "end_time": "2023-11-10T18:44:50.121369776Z",
     "start_time": "2023-11-10T18:44:50.113890065Z"
    }
   },
   "id": "5aaeb4a5cd3ccc75"
  },
  {
   "cell_type": "code",
   "execution_count": 4,
   "outputs": [],
   "source": [
    "import numpy as np\n",
    "artists = songs.info[\"artist\"].unique()"
   ],
   "metadata": {
    "collapsed": false,
    "ExecuteTime": {
     "end_time": "2023-11-10T18:44:50.828559181Z",
     "start_time": "2023-11-10T18:44:50.818926879Z"
    }
   },
   "id": "26f06ea43c4f6467"
  },
  {
   "cell_type": "code",
   "execution_count": 5,
   "outputs": [],
   "source": [
    "artists = {artist: True for artist in sorted(artists)}\n",
    "with open(\"artists.txt\", \"w\") as fp:\n",
    "    fp.write(\"\\n\".join(list(artists.keys())))"
   ],
   "metadata": {
    "collapsed": false,
    "ExecuteTime": {
     "end_time": "2023-11-10T18:44:51.306318326Z",
     "start_time": "2023-11-10T18:44:51.296389841Z"
    }
   },
   "id": "976e0af07b5acb2e"
  },
  {
   "cell_type": "code",
   "execution_count": 6,
   "id": "5a24f002",
   "metadata": {
    "ExecuteTime": {
     "end_time": "2023-11-10T18:44:56.224909333Z",
     "start_time": "2023-11-10T18:44:52.369144399Z"
    }
   },
   "outputs": [],
   "source": [
    "#\n",
    "# Example:\n",
    "#   - Title: Letterman\n",
    "#   - Artist: Wiz Khalifa\n",
    "#\n",
    "query, query_row_id = songs.prompt_song_query()\n"
   ]
  },
  {
   "cell_type": "markdown",
   "id": "c063601d",
   "metadata": {},
   "source": [
    "####  Random Baseline"
   ]
  },
  {
   "cell_type": "code",
   "execution_count": 7,
   "id": "4edc8d5f",
   "metadata": {
    "ExecuteTime": {
     "end_time": "2023-11-10T18:44:57.392649823Z",
     "start_time": "2023-11-10T18:44:57.377356299Z"
    }
   },
   "outputs": [
    {
     "name": "stdout",
     "output_type": "stream",
     "text": [
      "random_baseline() retrieval based on your query:  \n",
      "\n",
      "                                                     song                artist\n",
      "6254                                     Beyond the Down   Black Label Society\n",
      "568                                               Motion           Boy Harsher\n",
      "8269                                     Hole In My Soul         Kaiser Chiefs\n",
      "5951                                        Sans Logique         Mylène Farmer\n",
      "10070                                             Mirror            Kat Dahlia\n",
      "33                                                 Flash  Cigarettes After Sex\n",
      "576    Long Cool Woman (In A Black Dress) - 1999 Rema...           The Hollies\n",
      "1512                                     Natural Harmony             The Byrds\n",
      "7855                                               Candy          Paolo Nutini\n",
      "532                                            You Don't                 GFOTY\n"
     ]
    }
   ],
   "source": [
    "results = Retrieval(n=N).random_baseline(query)\n",
    "\n",
    "print(\"random_baseline() retrieval based on your query: \", \"\\n\\n\", results)"
   ]
  },
  {
   "cell_type": "markdown",
   "id": "de388f75",
   "metadata": {},
   "source": [
    "###  Text-based(cos-sim, tf-idf)"
   ]
  },
  {
   "cell_type": "code",
   "execution_count": 8,
   "id": "8dcbe4bf-de9b-4128-b2a2-a0d24bfd88b8",
   "metadata": {
    "tags": [],
    "ExecuteTime": {
     "end_time": "2023-11-10T18:44:59.549206381Z",
     "start_time": "2023-11-10T18:44:59.445686075Z"
    }
   },
   "outputs": [
    {
     "name": "stdout",
     "output_type": "stream",
     "text": [
      "\n",
      "\n",
      " cosine_similarity() on tf_idf representations based on your query:  \n",
      "\n",
      "                  id  similarity                                    song          artist\n",
      "9  zmukOoB01ASq2Y6r    0.474141  California And The Slipping Of The Sun        Gorillaz\n",
      "8  qtI2udJpwde94hTQ    0.403079                           Open the Door    Otis Redding\n",
      "3  K7amDTeZDJg7Ozxw    0.377162                                One Foot         Airways\n",
      "7  pSOYlgWNzpZWpN9j    0.362179                       At Last I Am Free    Robert Wyatt\n",
      "5  YT1ZsHvpwaukvRQv    0.344942                    San Francisco Street         Sun Rai\n",
      "0  981Lm983YaJcbQV4    0.344636                              Street Joy     White Denim\n",
      "2  EJBdc9p2QSyFT2Be    0.337130              Let It Go - Single Version     Demi Lovato\n",
      "6  lTJVFhGsiLggKCEq    0.328499                     I Let Him Get to Me  Beat Happening\n",
      "4  NCONeOaMBitsyTJt    0.318821                          Let It Will Be         Madonna\n",
      "1  B1w512ol1loTbSBL    0.302504                                    Love          Thalía\n"
     ]
    }
   ],
   "source": [
    "# Perform tf_idf retrieval\n",
    "results = Retrieval(n=N).text_based_similarity(\n",
    "    song_id=query_row_id,\n",
    "    feature=\"tf_idf\",\n",
    "    similarity_measure=SimilarityMeasure.COSINE\n",
    ")\n",
    "\n",
    "print(\"\\n\\n\", \"cosine_similarity() on tf_idf representations based on your query: \", \"\\n\\n\", results)"
   ]
  },
  {
   "cell_type": "markdown",
   "id": "1c77f737-1ee7-4d16-b7b6-f5abc183295a",
   "metadata": {},
   "source": [
    "###  Text-based(cos-sim, feature)"
   ]
  },
  {
   "cell_type": "code",
   "execution_count": 9,
   "id": "827edd95-0887-4707-8fed-f3cb7d4c2876",
   "metadata": {
    "tags": [],
    "ExecuteTime": {
     "end_time": "2023-11-10T18:45:02.423815065Z",
     "start_time": "2023-11-10T18:45:02.342439943Z"
    }
   },
   "outputs": [
    {
     "name": "stdout",
     "output_type": "stream",
     "text": [
      "\n",
      "\n",
      " cosine_similarity() on BERT representations based on your query:  \n",
      "\n",
      "                  id  similarity                           song            artist\n",
      "0  5S5J81wX2tJKJnUF    0.736194                        Mansion         lil skies\n",
      "7  iiUveYG1BM5KROVd    0.728700               Lights Turned On  Childish Gambino\n",
      "1  BsztDgeUHXH5xMdG    0.725406  I Want It All (feat. Mack 10)          Warren G\n",
      "6  dDNB0NTVZ9G5ENNX    0.725316                        Ballin'        Chief Keef\n",
      "5  Q837q2LPqffyecBB    0.724774                    I Get Money           50 Cent\n",
      "2  F2e2v4hi3OplM8Vw    0.723561                         STAINS      BROCKHAMPTON\n",
      "9  wL6STNKK7Q0thTFC    0.722057                  Barbie Dreams       Nicki Minaj\n",
      "8  sGD0zOgtbcrwZZO6    0.716462                     1997 DIANA      BROCKHAMPTON\n",
      "3  M65mU1UIozrDxcvu    0.715846                      Fast Lane    Bad Meets Evil\n",
      "4  OD6sfVyohxUZAO36    0.715089                       Top Back              T.I.\n"
     ]
    }
   ],
   "source": [
    "# Perform tfidf retrieval\n",
    "results = Retrieval(n=N).text_based_similarity(\n",
    "    song_id=query_row_id,\n",
    "    feature=\"bert\",\n",
    "    similarity_measure=SimilarityMeasure.COSINE\n",
    ")\n",
    "\n",
    "# Print the list of similar songs\n",
    "print(\"\\n\\n\", \"cosine_similarity() on BERT representations based on your query: \", \"\\n\\n\", results)"
   ]
  },
  {
   "cell_type": "markdown",
   "id": "329bea55",
   "metadata": {
    "tags": []
   },
   "source": [
    "###  Text-based(similarity, feature)"
   ]
  },
  {
   "cell_type": "code",
   "execution_count": 10,
   "id": "a0573510",
   "metadata": {
    "ExecuteTime": {
     "end_time": "2023-11-10T18:45:03.883541567Z",
     "start_time": "2023-11-10T18:45:03.846019952Z"
    }
   },
   "outputs": [
    {
     "name": "stdout",
     "output_type": "stream",
     "text": [
      "\n",
      "\n",
      " List of songs that share similarities with the song you queried:  \n",
      "\n",
      "                  id  similarity                    song          artist\n",
      "3  WP4RkO51CCZnKBlQ    0.905416             Wyclef Jean      Young Thug\n",
      "0  CfCJl3HWjZCvaTv3    0.901050     Let Me Blow Ya Mind             Eve\n",
      "8  pK2EZxyujhM6yp7Z    0.899793                  W.T.P.          Eminem\n",
      "2  Q8HUKzo5muVvgIvP    0.896035        Marshall Mathers          Eminem\n",
      "9  qtI2udJpwde94hTQ    0.894491           Open the Door    Otis Redding\n",
      "4  dVLg34HafHN2B9lW    0.889872             Candy Paint     Post Malone\n",
      "6  lPAW2IulFyjZtuaH    0.889726  can't leave without it       21 Savage\n",
      "1  PoTQ9felmQHjpYDi    0.887894                Lighters  Bad Meets Evil\n",
      "7  mgjDCaqqLfxz1070    0.887509             Drug Ballad          Eminem\n",
      "5  gmFBqh7nAv05B4zE    0.887238                  Swords          M.I.A.\n"
     ]
    }
   ],
   "source": [
    "# Perform word2vec retrieval\n",
    "results = Retrieval(n=N).text_based_similarity(\n",
    "    song_id=query_row_id,\n",
    "    feature=\"word2vec\",\n",
    "    similarity_measure=SimilarityMeasure.COSINE\n",
    ")\n",
    "\n",
    "# Print the list of similar songs\n",
    "print(\"\\n\\n\", \"List of songs that share similarities with the song you queried: \", \"\\n\\n\", results)"
   ]
  },
  {
   "cell_type": "code",
   "execution_count": 11,
   "id": "55325591-d50e-4dff-b517-f3102e41cc9f",
   "metadata": {
    "ExecuteTime": {
     "end_time": "2023-11-10T18:45:06.276444853Z",
     "start_time": "2023-11-10T18:45:06.268352921Z"
    }
   },
   "outputs": [],
   "source": [
    "# TODO:\n",
    "# For each query track, qualitatively compare the retrieved tracks\n",
    "# 1. (with the query and other tracks in # the result list)\n",
    "# 2. analyzing whether the list includes tracks by the same artist or of the same genre.\n",
    "# 3. investigate the relevance of the retrieved tracks for the query\n",
    "# (i.e., given the query can you speculate why the tracks in the result list have been retrieved?)\n",
    "#\n",
    "# (optional) Use some interactive UI instead of using input()? e.g. Dash\n",
    "# (optional) Add a \"I'm feeling lucky\" (random) button when prompted to query a song"
   ]
  },
  {
   "cell_type": "markdown",
   "source": [
    "## Qualitative Analysis"
   ],
   "metadata": {
    "collapsed": false
   },
   "id": "82bfee07613565ec"
  },
  {
   "cell_type": "markdown",
   "source": [
    "### \\#1: The Mission: Deliverance\n",
    "#### 1.1. Random baseline"
   ],
   "metadata": {
    "collapsed": false
   },
   "id": "a44c427ba241e69b"
  },
  {
   "cell_type": "code",
   "execution_count": 12,
   "outputs": [
    {
     "data": {
      "text/plain": "                 artist                 song                        album_name\n3462  The Three Degrees        Dirty Ol' Man                 The Three Degrees\n8078    Alice in Chains             Junkhead                              Dirt\n1606        Alicia Keys  How It Feels to Fly            The Element Of Freedom\n93              4minute            Cold Rain                             Crazy\n2032         Saint PHNX                 King                              King\n1114         Jamiroquai              Cloud 9                         Automaton\n7918             Eminem          Drug Ballad           The Marshall Mathers LP\n1712     Good Charlotte               Misery              Good Morning Revival\n5022          Wolfheart     Everlasting Fall  Constellation Of The Black Light\n9057               Saor               Hearth                         Guardians",
      "text/html": "<div>\n<style scoped>\n    .dataframe tbody tr th:only-of-type {\n        vertical-align: middle;\n    }\n\n    .dataframe tbody tr th {\n        vertical-align: top;\n    }\n\n    .dataframe thead th {\n        text-align: right;\n    }\n</style>\n<table border=\"1\" class=\"dataframe\">\n  <thead>\n    <tr style=\"text-align: right;\">\n      <th></th>\n      <th>artist</th>\n      <th>song</th>\n      <th>album_name</th>\n    </tr>\n  </thead>\n  <tbody>\n    <tr>\n      <th>3462</th>\n      <td>The Three Degrees</td>\n      <td>Dirty Ol' Man</td>\n      <td>The Three Degrees</td>\n    </tr>\n    <tr>\n      <th>8078</th>\n      <td>Alice in Chains</td>\n      <td>Junkhead</td>\n      <td>Dirt</td>\n    </tr>\n    <tr>\n      <th>1606</th>\n      <td>Alicia Keys</td>\n      <td>How It Feels to Fly</td>\n      <td>The Element Of Freedom</td>\n    </tr>\n    <tr>\n      <th>93</th>\n      <td>4minute</td>\n      <td>Cold Rain</td>\n      <td>Crazy</td>\n    </tr>\n    <tr>\n      <th>2032</th>\n      <td>Saint PHNX</td>\n      <td>King</td>\n      <td>King</td>\n    </tr>\n    <tr>\n      <th>1114</th>\n      <td>Jamiroquai</td>\n      <td>Cloud 9</td>\n      <td>Automaton</td>\n    </tr>\n    <tr>\n      <th>7918</th>\n      <td>Eminem</td>\n      <td>Drug Ballad</td>\n      <td>The Marshall Mathers LP</td>\n    </tr>\n    <tr>\n      <th>1712</th>\n      <td>Good Charlotte</td>\n      <td>Misery</td>\n      <td>Good Morning Revival</td>\n    </tr>\n    <tr>\n      <th>5022</th>\n      <td>Wolfheart</td>\n      <td>Everlasting Fall</td>\n      <td>Constellation Of The Black Light</td>\n    </tr>\n    <tr>\n      <th>9057</th>\n      <td>Saor</td>\n      <td>Hearth</td>\n      <td>Guardians</td>\n    </tr>\n  </tbody>\n</table>\n</div>"
     },
     "execution_count": 12,
     "metadata": {},
     "output_type": "execute_result"
    }
   ],
   "source": [
    "query, query_row_id = songs.get_match(\n",
    "    Song(title=\"Deliverance\", artist=\"The Mission\")\n",
    ")\n",
    "songs.info.loc[Retrieval(n=N).random_baseline(query).index, songs.info.columns != \"id\"]"
   ],
   "metadata": {
    "collapsed": false,
    "ExecuteTime": {
     "end_time": "2023-11-10T18:45:07.842076580Z",
     "start_time": "2023-11-10T18:45:07.819453051Z"
    }
   },
   "id": "dcbac425d68419cb"
  },
  {
   "cell_type": "markdown",
   "source": [
    "<strong>Comment:</strong> As expected, the Random Baseline algorithm returns completely random results."
   ],
   "metadata": {
    "collapsed": false
   },
   "id": "4f773e4f3e456c20"
  },
  {
   "cell_type": "markdown",
   "source": [
    "#### 1.2. Text-based(cos-sim, tf-idf)"
   ],
   "metadata": {
    "collapsed": false
   },
   "id": "146690908fc222c9"
  },
  {
   "cell_type": "code",
   "execution_count": 13,
   "outputs": [
    {
     "data": {
      "text/plain": "   similarity                                               song                   artist                                   album_name\n5    0.805807                                            Give Up               Diana Ross     Oral Fixation, Vol. 2 (Expanded Edition)\n7    0.776143  You Think I Ain't Worth a Dollar, but I Feel L...  Queens of the Stone Age  Year Of The Gentleman (Bonus Track Edition)\n9    0.617047                                            Scorned                 Rawthang                   Michael Bublé (US Version)\n2    0.616081                                Gimme All Your Love           Alabama Shakes                                 In Our Bones\n0    0.608036                                          Te regalo             Carlos Baute                                  We As Human\n4    0.607080                                       Give It Away    Red Hot Chili Peppers  The Best of Laura Pausini - E Ritorno Da Te\n3    0.597730                                           Unspoken         The Ghost Inside         Trance - The Early Years (1997-2002)\n8    0.574476                                         Swamp Song                     Blur         24 Hour Revenge Therapy (Remastered)\n6    0.571491                                         Give It Up                Etherwood                                 Yellow House\n1    0.555318                                       Give Me Love                    Ciara        Life After Death (Remastered Edition)",
      "text/html": "<div>\n<style scoped>\n    .dataframe tbody tr th:only-of-type {\n        vertical-align: middle;\n    }\n\n    .dataframe tbody tr th {\n        vertical-align: top;\n    }\n\n    .dataframe thead th {\n        text-align: right;\n    }\n</style>\n<table border=\"1\" class=\"dataframe\">\n  <thead>\n    <tr style=\"text-align: right;\">\n      <th></th>\n      <th>similarity</th>\n      <th>song</th>\n      <th>artist</th>\n      <th>album_name</th>\n    </tr>\n  </thead>\n  <tbody>\n    <tr>\n      <th>5</th>\n      <td>0.805807</td>\n      <td>Give Up</td>\n      <td>Diana Ross</td>\n      <td>Oral Fixation, Vol. 2 (Expanded Edition)</td>\n    </tr>\n    <tr>\n      <th>7</th>\n      <td>0.776143</td>\n      <td>You Think I Ain't Worth a Dollar, but I Feel L...</td>\n      <td>Queens of the Stone Age</td>\n      <td>Year Of The Gentleman (Bonus Track Edition)</td>\n    </tr>\n    <tr>\n      <th>9</th>\n      <td>0.617047</td>\n      <td>Scorned</td>\n      <td>Rawthang</td>\n      <td>Michael Bublé (US Version)</td>\n    </tr>\n    <tr>\n      <th>2</th>\n      <td>0.616081</td>\n      <td>Gimme All Your Love</td>\n      <td>Alabama Shakes</td>\n      <td>In Our Bones</td>\n    </tr>\n    <tr>\n      <th>0</th>\n      <td>0.608036</td>\n      <td>Te regalo</td>\n      <td>Carlos Baute</td>\n      <td>We As Human</td>\n    </tr>\n    <tr>\n      <th>4</th>\n      <td>0.607080</td>\n      <td>Give It Away</td>\n      <td>Red Hot Chili Peppers</td>\n      <td>The Best of Laura Pausini - E Ritorno Da Te</td>\n    </tr>\n    <tr>\n      <th>3</th>\n      <td>0.597730</td>\n      <td>Unspoken</td>\n      <td>The Ghost Inside</td>\n      <td>Trance - The Early Years (1997-2002)</td>\n    </tr>\n    <tr>\n      <th>8</th>\n      <td>0.574476</td>\n      <td>Swamp Song</td>\n      <td>Blur</td>\n      <td>24 Hour Revenge Therapy (Remastered)</td>\n    </tr>\n    <tr>\n      <th>6</th>\n      <td>0.571491</td>\n      <td>Give It Up</td>\n      <td>Etherwood</td>\n      <td>Yellow House</td>\n    </tr>\n    <tr>\n      <th>1</th>\n      <td>0.555318</td>\n      <td>Give Me Love</td>\n      <td>Ciara</td>\n      <td>Life After Death (Remastered Edition)</td>\n    </tr>\n  </tbody>\n</table>\n</div>"
     },
     "execution_count": 13,
     "metadata": {},
     "output_type": "execute_result"
    }
   ],
   "source": [
    "results = Retrieval(n=N).text_based_similarity(\n",
    "    song_id=query_row_id,\n",
    "    feature=\"tf_idf\",\n",
    "    similarity_measure=SimilarityMeasure.COSINE\n",
    ")\n",
    "results[\"album_name\"] = songs.info[\"album_name\"].loc[results.index]\n",
    "results.drop(\"id\", axis=1)"
   ],
   "metadata": {
    "collapsed": false,
    "ExecuteTime": {
     "end_time": "2023-11-10T18:45:10.137685151Z",
     "start_time": "2023-11-10T18:45:10.040182102Z"
    }
   },
   "id": "2c86d7ad44bd97a9"
  },
  {
   "cell_type": "markdown",
   "source": [
    "#### 1.3. Text-based(cos-sim, BERT)"
   ],
   "metadata": {
    "collapsed": false
   },
   "id": "8b7594dab023c8d3"
  },
  {
   "cell_type": "code",
   "execution_count": 14,
   "outputs": [
    {
     "data": {
      "text/plain": "   similarity               song          artist                                   album_name\n7    0.729136   The Seven Angels       Avantasia  Year Of The Gentleman (Bonus Track Edition)\n3    0.718301      Hail and Kill         Manowar         Trance - The Early Years (1997-2002)\n4    0.712816       Linda Menina   Rosa de Saron  The Best of Laura Pausini - E Ritorno Da Te\n1    0.709174        Ghost Dance     Patti Smith        Life After Death (Remastered Edition)\n0    0.704484          Terremoto         Eyshila                                  We As Human\n2    0.704345  Ashes of Eternity  Blind Guardian                                 In Our Bones\n8    0.703635    Unchain My Soul    Dark Funeral         24 Hour Revenge Therapy (Remastered)\n9    0.694920     Forget Me Knot    Serj Tankian                   Michael Bublé (US Version)\n5    0.689081               Reza     Elis Regina     Oral Fixation, Vol. 2 (Expanded Edition)\n6    0.688819   Maid of Lorraine    Leaves' Eyes                                 Yellow House",
      "text/html": "<div>\n<style scoped>\n    .dataframe tbody tr th:only-of-type {\n        vertical-align: middle;\n    }\n\n    .dataframe tbody tr th {\n        vertical-align: top;\n    }\n\n    .dataframe thead th {\n        text-align: right;\n    }\n</style>\n<table border=\"1\" class=\"dataframe\">\n  <thead>\n    <tr style=\"text-align: right;\">\n      <th></th>\n      <th>similarity</th>\n      <th>song</th>\n      <th>artist</th>\n      <th>album_name</th>\n    </tr>\n  </thead>\n  <tbody>\n    <tr>\n      <th>7</th>\n      <td>0.729136</td>\n      <td>The Seven Angels</td>\n      <td>Avantasia</td>\n      <td>Year Of The Gentleman (Bonus Track Edition)</td>\n    </tr>\n    <tr>\n      <th>3</th>\n      <td>0.718301</td>\n      <td>Hail and Kill</td>\n      <td>Manowar</td>\n      <td>Trance - The Early Years (1997-2002)</td>\n    </tr>\n    <tr>\n      <th>4</th>\n      <td>0.712816</td>\n      <td>Linda Menina</td>\n      <td>Rosa de Saron</td>\n      <td>The Best of Laura Pausini - E Ritorno Da Te</td>\n    </tr>\n    <tr>\n      <th>1</th>\n      <td>0.709174</td>\n      <td>Ghost Dance</td>\n      <td>Patti Smith</td>\n      <td>Life After Death (Remastered Edition)</td>\n    </tr>\n    <tr>\n      <th>0</th>\n      <td>0.704484</td>\n      <td>Terremoto</td>\n      <td>Eyshila</td>\n      <td>We As Human</td>\n    </tr>\n    <tr>\n      <th>2</th>\n      <td>0.704345</td>\n      <td>Ashes of Eternity</td>\n      <td>Blind Guardian</td>\n      <td>In Our Bones</td>\n    </tr>\n    <tr>\n      <th>8</th>\n      <td>0.703635</td>\n      <td>Unchain My Soul</td>\n      <td>Dark Funeral</td>\n      <td>24 Hour Revenge Therapy (Remastered)</td>\n    </tr>\n    <tr>\n      <th>9</th>\n      <td>0.694920</td>\n      <td>Forget Me Knot</td>\n      <td>Serj Tankian</td>\n      <td>Michael Bublé (US Version)</td>\n    </tr>\n    <tr>\n      <th>5</th>\n      <td>0.689081</td>\n      <td>Reza</td>\n      <td>Elis Regina</td>\n      <td>Oral Fixation, Vol. 2 (Expanded Edition)</td>\n    </tr>\n    <tr>\n      <th>6</th>\n      <td>0.688819</td>\n      <td>Maid of Lorraine</td>\n      <td>Leaves' Eyes</td>\n      <td>Yellow House</td>\n    </tr>\n  </tbody>\n</table>\n</div>"
     },
     "execution_count": 14,
     "metadata": {},
     "output_type": "execute_result"
    }
   ],
   "source": [
    "results = Retrieval(n=N).text_based_similarity(\n",
    "    song_id=query_row_id,\n",
    "    feature=\"bert\",\n",
    "    similarity_measure=SimilarityMeasure.COSINE\n",
    ")\n",
    "results[\"album_name\"] = songs.info[\"album_name\"].loc[results.index]\n",
    "results.drop(\"id\", axis=1)"
   ],
   "metadata": {
    "collapsed": false,
    "ExecuteTime": {
     "end_time": "2023-11-10T18:45:11.746701707Z",
     "start_time": "2023-11-10T18:45:11.663915528Z"
    }
   },
   "id": "3d0411248248c259"
  },
  {
   "cell_type": "markdown",
   "source": [
    "#### 1.4. Text-based(cos-sim, word2vec)"
   ],
   "metadata": {
    "collapsed": false
   },
   "id": "656895a38fde06ce"
  },
  {
   "cell_type": "code",
   "execution_count": 15,
   "outputs": [
    {
     "data": {
      "text/plain": "   similarity               song          artist                                   album_name\n7    0.729136   The Seven Angels       Avantasia  Year Of The Gentleman (Bonus Track Edition)\n3    0.718301      Hail and Kill         Manowar         Trance - The Early Years (1997-2002)\n4    0.712816       Linda Menina   Rosa de Saron  The Best of Laura Pausini - E Ritorno Da Te\n1    0.709174        Ghost Dance     Patti Smith        Life After Death (Remastered Edition)\n0    0.704484          Terremoto         Eyshila                                  We As Human\n2    0.704345  Ashes of Eternity  Blind Guardian                                 In Our Bones\n8    0.703635    Unchain My Soul    Dark Funeral         24 Hour Revenge Therapy (Remastered)\n9    0.694920     Forget Me Knot    Serj Tankian                   Michael Bublé (US Version)\n5    0.689081               Reza     Elis Regina     Oral Fixation, Vol. 2 (Expanded Edition)\n6    0.688819   Maid of Lorraine    Leaves' Eyes                                 Yellow House",
      "text/html": "<div>\n<style scoped>\n    .dataframe tbody tr th:only-of-type {\n        vertical-align: middle;\n    }\n\n    .dataframe tbody tr th {\n        vertical-align: top;\n    }\n\n    .dataframe thead th {\n        text-align: right;\n    }\n</style>\n<table border=\"1\" class=\"dataframe\">\n  <thead>\n    <tr style=\"text-align: right;\">\n      <th></th>\n      <th>similarity</th>\n      <th>song</th>\n      <th>artist</th>\n      <th>album_name</th>\n    </tr>\n  </thead>\n  <tbody>\n    <tr>\n      <th>7</th>\n      <td>0.729136</td>\n      <td>The Seven Angels</td>\n      <td>Avantasia</td>\n      <td>Year Of The Gentleman (Bonus Track Edition)</td>\n    </tr>\n    <tr>\n      <th>3</th>\n      <td>0.718301</td>\n      <td>Hail and Kill</td>\n      <td>Manowar</td>\n      <td>Trance - The Early Years (1997-2002)</td>\n    </tr>\n    <tr>\n      <th>4</th>\n      <td>0.712816</td>\n      <td>Linda Menina</td>\n      <td>Rosa de Saron</td>\n      <td>The Best of Laura Pausini - E Ritorno Da Te</td>\n    </tr>\n    <tr>\n      <th>1</th>\n      <td>0.709174</td>\n      <td>Ghost Dance</td>\n      <td>Patti Smith</td>\n      <td>Life After Death (Remastered Edition)</td>\n    </tr>\n    <tr>\n      <th>0</th>\n      <td>0.704484</td>\n      <td>Terremoto</td>\n      <td>Eyshila</td>\n      <td>We As Human</td>\n    </tr>\n    <tr>\n      <th>2</th>\n      <td>0.704345</td>\n      <td>Ashes of Eternity</td>\n      <td>Blind Guardian</td>\n      <td>In Our Bones</td>\n    </tr>\n    <tr>\n      <th>8</th>\n      <td>0.703635</td>\n      <td>Unchain My Soul</td>\n      <td>Dark Funeral</td>\n      <td>24 Hour Revenge Therapy (Remastered)</td>\n    </tr>\n    <tr>\n      <th>9</th>\n      <td>0.694920</td>\n      <td>Forget Me Knot</td>\n      <td>Serj Tankian</td>\n      <td>Michael Bublé (US Version)</td>\n    </tr>\n    <tr>\n      <th>5</th>\n      <td>0.689081</td>\n      <td>Reza</td>\n      <td>Elis Regina</td>\n      <td>Oral Fixation, Vol. 2 (Expanded Edition)</td>\n    </tr>\n    <tr>\n      <th>6</th>\n      <td>0.688819</td>\n      <td>Maid of Lorraine</td>\n      <td>Leaves' Eyes</td>\n      <td>Yellow House</td>\n    </tr>\n  </tbody>\n</table>\n</div>"
     },
     "execution_count": 15,
     "metadata": {},
     "output_type": "execute_result"
    }
   ],
   "source": [
    "results = Retrieval(n=N).text_based_similarity(\n",
    "    song_id=query_row_id,\n",
    "    feature=\"bert\",\n",
    "    similarity_measure=SimilarityMeasure.COSINE\n",
    ")\n",
    "results[\"album_name\"] = songs.info[\"album_name\"].loc[results.index]\n",
    "results.drop(\"id\", axis=1)"
   ],
   "metadata": {
    "collapsed": false,
    "ExecuteTime": {
     "end_time": "2023-11-10T18:45:13.050530364Z",
     "start_time": "2023-11-10T18:45:12.972111876Z"
    }
   },
   "id": "dfbd81f061e1b06f"
  },
  {
   "cell_type": "code",
   "execution_count": null,
   "outputs": [],
   "source": [],
   "metadata": {
    "collapsed": false
   },
   "id": "46e7e94931644357"
  }
 ],
 "metadata": {
  "kernelspec": {
   "display_name": "Python 3 (ipykernel)",
   "language": "python",
   "name": "python3"
  },
  "language_info": {
   "codemirror_mode": {
    "name": "ipython",
    "version": 3
   },
   "file_extension": ".py",
   "mimetype": "text/x-python",
   "name": "python",
   "nbconvert_exporter": "python",
   "pygments_lexer": "ipython3",
   "version": "3.11.5"
  }
 },
 "nbformat": 4,
 "nbformat_minor": 5
}
