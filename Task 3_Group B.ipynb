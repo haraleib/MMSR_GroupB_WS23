{
 "cells": [
  {
   "cell_type": "markdown",
   "id": "4b45d764",
   "metadata": {},
   "source": [
    "<h1 style=\"color:rgb(0,120,170)\">344.038, KV Multimedia Search and Retrieval (WS2023/24)</h1>\n",
    "<h2 style=\"color:rgb(0,120,170)\">Task 3_Group B</h2>"
   ]
  },
  {
   "cell_type": "markdown",
   "id": "cf629014",
   "metadata": {},
   "source": [
    "| First Name | Family Name  | Matr.Nr   |\n",
    "|:-----------|:-------------|:----------|\n",
    "| Harald     | Eibensteiner | K01300179 |\n",
    "| Hadi       | Sanaei       | K11733444 |\n",
    "| Lukas      | Troyer       | K12006666 |\n",
    "| Lukas      | Wagner       | K01357626 |\n",
    "| Branko     | Paunović     | K12046370 |"
   ]
  },
  {
   "cell_type": "markdown",
   "id": "e37ef5cd",
   "metadata": {},
   "source": [
    "# Retrieval systems"
   ]
  },
  {
   "cell_type": "markdown",
   "id": "92437e32c9ea0f1f",
   "metadata": {
    "collapsed": false,
    "jupyter": {
     "outputs_hidden": false
    }
   },
   "source": [
    "#### Import datasets, setup helper interfaces"
   ]
  },
  {
   "cell_type": "code",
   "execution_count": 2,
   "id": "d6fe9727-ec04-4803-94d1-ed8d756e0db7",
   "metadata": {
    "ExecuteTime": {
     "end_time": "2023-12-13T06:10:01.826598957Z",
     "start_time": "2023-12-13T06:09:51.619931865Z"
    },
    "tags": []
   },
   "outputs": [
    {
     "name": "stderr",
     "output_type": "stream",
     "text": [
      "/home/hd/.local/lib/python3.10/site-packages/matplotlib/projections/__init__.py:63: UserWarning: Unable to import Axes3D. This may be due to multiple versions of Matplotlib being installed (e.g. as a system package and as a pip package). As a result, the 3D projection is not available.\n",
      "  warnings.warn(\"Unable to import Axes3D. This may be due to multiple versions of \"\n"
     ]
    }
   ],
   "source": [
    "import pandas as pd\n",
    "\n",
    "import numpy as np\n",
    "np.random.seed(42)\n",
    "\n",
    "from song import songs\n",
    "from datasets import datasets\n",
    "from retrieval import Retrieval"
   ]
  },
  {
   "cell_type": "code",
   "execution_count": 3,
   "id": "1b9262d5",
   "metadata": {},
   "outputs": [],
   "source": [
    "# # precompute retrievals (for frontend and chached lookup)\n",
    "\n",
    "# # only do this if you want to recompute the retrieval\n",
    "\n",
    "# retrieval = Retrieval(n=100)\n",
    "# retrieval.precompute_all(threads=4)"
   ]
  },
  {
   "cell_type": "markdown",
   "id": "91573b97",
   "metadata": {},
   "source": [
    "#### Prompt for user input"
   ]
  },
  {
   "cell_type": "code",
   "execution_count": 4,
   "id": "dd77cca7",
   "metadata": {
    "ExecuteTime": {
     "end_time": "2023-12-13T06:10:07.069923361Z",
     "start_time": "2023-12-13T06:10:01.826507275Z"
    }
   },
   "outputs": [
    {
     "name": "stdout",
     "output_type": "stream",
     "text": [
      "Enter the number of top similar tracks:  10\n",
      "Enter the song title:  Letterman\n",
      "Enter the artist name:  Wiz Khalifa\n"
     ]
    }
   ],
   "source": [
    "# Number of similar songs to retrieve\n",
    "num_top_similar = int(input(\"Enter the number of top similar tracks: \"))\n",
    "\n",
    "# Example:\n",
    "#   - Title: Letterman\n",
    "#   - Artist: Wiz Khalifa\n",
    "query, query_row_id = songs.prompt_song_query()"
   ]
  },
  {
   "cell_type": "markdown",
   "id": "c1fb346b",
   "metadata": {},
   "source": [
    "## Video-Based(\\<similarity\\>, \\<feature\\>)\n",
    "### 1. Video-based(similarity, incp)"
   ]
  },
  {
   "cell_type": "code",
   "execution_count": 5,
   "id": "949bced0",
   "metadata": {
    "ExecuteTime": {
     "end_time": "2023-12-13T06:10:07.165515150Z",
     "start_time": "2023-12-13T06:10:07.069877645Z"
    }
   },
   "outputs": [
    {
     "name": "stdout",
     "output_type": "stream",
     "text": [
      "Error syncing cache with disk: Expecting ',' delimiter: line 1 column 37937813 (char 37937812)\n"
     ]
    },
    {
     "data": {
      "text/html": [
       "<div>\n",
       "<style scoped>\n",
       "    .dataframe tbody tr th:only-of-type {\n",
       "        vertical-align: middle;\n",
       "    }\n",
       "\n",
       "    .dataframe tbody tr th {\n",
       "        vertical-align: top;\n",
       "    }\n",
       "\n",
       "    .dataframe thead th {\n",
       "        text-align: right;\n",
       "    }\n",
       "</style>\n",
       "<table border=\"1\" class=\"dataframe\">\n",
       "  <thead>\n",
       "    <tr style=\"text-align: right;\">\n",
       "      <th></th>\n",
       "      <th>id</th>\n",
       "      <th>similarity</th>\n",
       "      <th>song</th>\n",
       "      <th>artist</th>\n",
       "      <th>album_name</th>\n",
       "    </tr>\n",
       "  </thead>\n",
       "  <tbody>\n",
       "    <tr>\n",
       "      <th>0</th>\n",
       "      <td>GY25og83Ng5O9s75</td>\n",
       "      <td>0.783461</td>\n",
       "      <td>Remind Me</td>\n",
       "      <td>Röyksopp</td>\n",
       "      <td>Melody A.M.</td>\n",
       "    </tr>\n",
       "    <tr>\n",
       "      <th>1</th>\n",
       "      <td>gw9zZ3xtxoEjmYeB</td>\n",
       "      <td>0.777114</td>\n",
       "      <td>Locos</td>\n",
       "      <td>Cypress Hill</td>\n",
       "      <td>Elephants on Acid</td>\n",
       "    </tr>\n",
       "    <tr>\n",
       "      <th>2</th>\n",
       "      <td>8syTodUYnWUZtcIo</td>\n",
       "      <td>0.771750</td>\n",
       "      <td>Voodoo Child (Slight Return)</td>\n",
       "      <td>Jimi Hendrix</td>\n",
       "      <td>Electric Ladyland</td>\n",
       "    </tr>\n",
       "    <tr>\n",
       "      <th>3</th>\n",
       "      <td>Dtf7ZV2mJSpyuvdD</td>\n",
       "      <td>0.770228</td>\n",
       "      <td>Hollow Man</td>\n",
       "      <td>R.E.M.</td>\n",
       "      <td>Accelerate</td>\n",
       "    </tr>\n",
       "    <tr>\n",
       "      <th>4</th>\n",
       "      <td>VSfGMu47DQFgMW4m</td>\n",
       "      <td>0.764065</td>\n",
       "      <td>Love Is The Drug</td>\n",
       "      <td>Grace Jones</td>\n",
       "      <td>Island Life</td>\n",
       "    </tr>\n",
       "    <tr>\n",
       "      <th>5</th>\n",
       "      <td>WgtykoE4fvPTAvxW</td>\n",
       "      <td>0.757802</td>\n",
       "      <td>White Noise</td>\n",
       "      <td>FEMM</td>\n",
       "      <td>Femm-Isation</td>\n",
       "    </tr>\n",
       "    <tr>\n",
       "      <th>6</th>\n",
       "      <td>5i9Rj9XyqhEfSegl</td>\n",
       "      <td>0.755106</td>\n",
       "      <td>Barbie Tingz</td>\n",
       "      <td>Nicki Minaj</td>\n",
       "      <td>Barbie Tingz</td>\n",
       "    </tr>\n",
       "    <tr>\n",
       "      <th>7</th>\n",
       "      <td>fVcJKhhd7UDpaEVJ</td>\n",
       "      <td>0.754682</td>\n",
       "      <td>To Tylko Tango</td>\n",
       "      <td>Maanam</td>\n",
       "      <td>The Best Of Kora &amp; Maanam Volume 1</td>\n",
       "    </tr>\n",
       "    <tr>\n",
       "      <th>8</th>\n",
       "      <td>SXz8wEnJvIm7EQVU</td>\n",
       "      <td>0.754580</td>\n",
       "      <td>Volte Para O Seu Lar</td>\n",
       "      <td>Marisa Monte</td>\n",
       "      <td>Mais</td>\n",
       "    </tr>\n",
       "    <tr>\n",
       "      <th>9</th>\n",
       "      <td>x88qsR3ew98Unhry</td>\n",
       "      <td>0.753878</td>\n",
       "      <td>Lost In The Moment</td>\n",
       "      <td>We Came As Romans</td>\n",
       "      <td>Cold Like War</td>\n",
       "    </tr>\n",
       "  </tbody>\n",
       "</table>\n",
       "</div>"
      ],
      "text/plain": [
       "                 id  similarity                          song  \\\n",
       "0  GY25og83Ng5O9s75    0.783461                     Remind Me   \n",
       "1  gw9zZ3xtxoEjmYeB    0.777114                         Locos   \n",
       "2  8syTodUYnWUZtcIo    0.771750  Voodoo Child (Slight Return)   \n",
       "3  Dtf7ZV2mJSpyuvdD    0.770228                    Hollow Man   \n",
       "4  VSfGMu47DQFgMW4m    0.764065              Love Is The Drug   \n",
       "5  WgtykoE4fvPTAvxW    0.757802                   White Noise   \n",
       "6  5i9Rj9XyqhEfSegl    0.755106                  Barbie Tingz   \n",
       "7  fVcJKhhd7UDpaEVJ    0.754682                To Tylko Tango   \n",
       "8  SXz8wEnJvIm7EQVU    0.754580          Volte Para O Seu Lar   \n",
       "9  x88qsR3ew98Unhry    0.753878            Lost In The Moment   \n",
       "\n",
       "              artist                          album_name  \n",
       "0           Röyksopp                         Melody A.M.  \n",
       "1       Cypress Hill                   Elephants on Acid  \n",
       "2       Jimi Hendrix                   Electric Ladyland  \n",
       "3             R.E.M.                          Accelerate  \n",
       "4        Grace Jones                         Island Life  \n",
       "5               FEMM                        Femm-Isation  \n",
       "6        Nicki Minaj                        Barbie Tingz  \n",
       "7             Maanam  The Best Of Kora & Maanam Volume 1  \n",
       "8       Marisa Monte                                Mais  \n",
       "9  We Came As Romans                       Cold Like War  "
      ]
     },
     "execution_count": 5,
     "metadata": {},
     "output_type": "execute_result"
    }
   ],
   "source": [
    "retN = Retrieval(n=num_top_similar)\n",
    "Retrieval.create_df_from_tracks(retN.top_similar_tracks(query_row_id, dataset=datasets.resnet))"
   ]
  },
  {
   "cell_type": "markdown",
   "id": "42a017e4",
   "metadata": {},
   "source": [
    "## Fusion-Based (\\<similarity\\>, \\<feature\\>)\n",
    "### Early Fusion (musicnn & resnet)"
   ]
  },
  {
   "cell_type": "code",
   "execution_count": 6,
   "id": "c72830e3-cd5b-4cc2-9f90-9a30ba06eba2",
   "metadata": {},
   "outputs": [],
   "source": [
    "import pandas as pd\n",
    "\n",
    "def early_fusion_dataframe(df1, df2):\n",
    "    if len(df1) != len(df2):\n",
    "        raise ValueError(\"Both dataframes must have the same number of rows\")\n",
    "\n",
    "    # Concatenate dataframes along columns (axis=1)\n",
    "    fused_df = pd.concat([df1, df2], axis=1)\n",
    "\n",
    "    return fused_df\n",
    "\n",
    "\n",
    "df_music = pd.read_csv('datasets/id_musicnn_mmsr.tsv', sep='\\t')\n",
    "df_resnet = pd.read_csv('datasets/id_resnet_mmsr.tsv', sep='\\t')\n",
    "\n",
    "\n",
    "df_earlyf = early_fusion_dataframe(df_music, df_resnet)\n",
    "#df_earlyf\n",
    "\n",
    "df_earlyf.to_csv(\"datasets/id_early_fusion_mmsr.tsv\", sep='\\t', index=False)\n",
    "\n"
   ]
  },
  {
   "cell_type": "code",
   "execution_count": 7,
   "id": "49c78037",
   "metadata": {
    "ExecuteTime": {
     "end_time": "2023-12-13T06:10:07.347951159Z",
     "start_time": "2023-12-13T06:10:07.211999109Z"
    }
   },
   "outputs": [
    {
     "name": "stdout",
     "output_type": "stream",
     "text": [
      "Error syncing cache with disk: Expecting ',' delimiter: line 1 column 37937813 (char 37937812)\n"
     ]
    },
    {
     "ename": "AttributeError",
     "evalue": "'str' object has no attribute 'name'",
     "output_type": "error",
     "traceback": [
      "\u001b[0;31m---------------------------------------------------------------------------\u001b[0m",
      "\u001b[0;31mAttributeError\u001b[0m                            Traceback (most recent call last)",
      "Cell \u001b[0;32mIn[7], line 2\u001b[0m\n\u001b[1;32m      1\u001b[0m retN \u001b[38;5;241m=\u001b[39m Retrieval(n\u001b[38;5;241m=\u001b[39mnum_top_similar)\n\u001b[0;32m----> 2\u001b[0m Retrieval\u001b[38;5;241m.\u001b[39mcreate_df_from_tracks(\u001b[43mretN\u001b[49m\u001b[38;5;241;43m.\u001b[39;49m\u001b[43mtop_similar_tracks\u001b[49m\u001b[43m(\u001b[49m\u001b[43mquery_row_id\u001b[49m\u001b[43m,\u001b[49m\u001b[43m \u001b[49m\u001b[43mdataset\u001b[49m\u001b[38;5;241;43m=\u001b[39;49m\u001b[38;5;124;43m\"\u001b[39;49m\u001b[38;5;124;43mearly_fusion\u001b[39;49m\u001b[38;5;124;43m\"\u001b[39;49m\u001b[43m)\u001b[49m)\n",
      "File \u001b[0;32m~/Schreibtisch/JKU/2023ws/MMSR/UE/Task3/MMSR_GroupB_WS23-master/retrieval.py:92\u001b[0m, in \u001b[0;36mRetrieval.top_similar_tracks\u001b[0;34m(self, query_track_id, dataset)\u001b[0m\n\u001b[1;32m     90\u001b[0m result \u001b[38;5;241m=\u001b[39m \u001b[38;5;28;01mNone\u001b[39;00m\n\u001b[1;32m     91\u001b[0m \u001b[38;5;28;01mwith\u001b[39;00m \u001b[38;5;28mself\u001b[39m\u001b[38;5;241m.\u001b[39m_cache_lock:\n\u001b[0;32m---> 92\u001b[0m     \u001b[38;5;28;01mif\u001b[39;00m \u001b[43mdataset\u001b[49m\u001b[38;5;241;43m.\u001b[39;49m\u001b[43mname\u001b[49m \u001b[38;5;129;01mnot\u001b[39;00m \u001b[38;5;129;01min\u001b[39;00m \u001b[38;5;28mself\u001b[39m\u001b[38;5;241m.\u001b[39m_cache:\n\u001b[1;32m     93\u001b[0m         \u001b[38;5;28mself\u001b[39m\u001b[38;5;241m.\u001b[39m_cache[dataset\u001b[38;5;241m.\u001b[39mname] \u001b[38;5;241m=\u001b[39m {}\n\u001b[1;32m     94\u001b[0m     \u001b[38;5;28;01mif\u001b[39;00m query_track_id \u001b[38;5;129;01min\u001b[39;00m \u001b[38;5;28mself\u001b[39m\u001b[38;5;241m.\u001b[39m_cache[dataset\u001b[38;5;241m.\u001b[39mname]:\n",
      "\u001b[0;31mAttributeError\u001b[0m: 'str' object has no attribute 'name'"
     ]
    }
   ],
   "source": [
    "retN = Retrieval(n=num_top_similar)\n",
    "Retrieval.create_df_from_tracks(retN.top_similar_tracks(query_row_id, dataset=\"early_fusion\"))"
   ]
  },
  {
   "cell_type": "markdown",
   "id": "38fa1f6a",
   "metadata": {},
   "source": [
    "### Late Fusion (bert & tf-idf)"
   ]
  },
  {
   "cell_type": "code",
   "execution_count": 8,
   "id": "46413a70",
   "metadata": {
    "ExecuteTime": {
     "end_time": "2023-12-13T06:10:07.436896930Z",
     "start_time": "2023-12-13T06:10:07.351671368Z"
    }
   },
   "outputs": [
    {
     "name": "stdout",
     "output_type": "stream",
     "text": [
      "Error syncing cache with disk: Expecting ',' delimiter: line 1 column 37937813 (char 37937812)\n",
      "Error syncing cache with disk: Expecting ',' delimiter: line 1 column 37937813 (char 37937812)\n"
     ]
    }
   ],
   "source": [
    "# Perform tf_idf retrieval\n",
    "df_tfidf = Retrieval.create_df_from_tracks(Retrieval(n=100).top_similar_tracks(query_row_id,datasets.tf_idf))\n",
    "\n",
    "# Perform bert retrieval\n",
    "df_bert = Retrieval.create_df_from_tracks(Retrieval(n=100).top_similar_tracks(query_row_id,datasets.lyrics_bert))\n",
    "\n"
   ]
  },
  {
   "cell_type": "code",
   "execution_count": 9,
   "id": "dec3fe73-4dde-4ebe-875f-c186368fb1d3",
   "metadata": {},
   "outputs": [
    {
     "data": {
      "text/html": [
       "<div>\n",
       "<style scoped>\n",
       "    .dataframe tbody tr th:only-of-type {\n",
       "        vertical-align: middle;\n",
       "    }\n",
       "\n",
       "    .dataframe tbody tr th {\n",
       "        vertical-align: top;\n",
       "    }\n",
       "\n",
       "    .dataframe thead th {\n",
       "        text-align: right;\n",
       "    }\n",
       "</style>\n",
       "<table border=\"1\" class=\"dataframe\">\n",
       "  <thead>\n",
       "    <tr style=\"text-align: right;\">\n",
       "      <th></th>\n",
       "      <th>id</th>\n",
       "      <th>similarity_bert</th>\n",
       "      <th>similarity_tfidf</th>\n",
       "      <th>song</th>\n",
       "      <th>artist</th>\n",
       "      <th>album_name</th>\n",
       "      <th>aggregated_score</th>\n",
       "    </tr>\n",
       "  </thead>\n",
       "  <tbody>\n",
       "    <tr>\n",
       "      <th>0</th>\n",
       "      <td>iHRt8u88DH1Dq7SP</td>\n",
       "      <td>0.698288</td>\n",
       "      <td>0.236507</td>\n",
       "      <td>Loyal</td>\n",
       "      <td>Chris Brown</td>\n",
       "      <td>X (Expanded Edition)</td>\n",
       "      <td>0.421219</td>\n",
       "    </tr>\n",
       "    <tr>\n",
       "      <th>1</th>\n",
       "      <td>dVLg34HafHN2B9lW</td>\n",
       "      <td>0.684422</td>\n",
       "      <td>0.206531</td>\n",
       "      <td>Candy Paint</td>\n",
       "      <td>Post Malone</td>\n",
       "      <td>beerbongs &amp; bentleys</td>\n",
       "      <td>0.397687</td>\n",
       "    </tr>\n",
       "    <tr>\n",
       "      <th>2</th>\n",
       "      <td>CfCJl3HWjZCvaTv3</td>\n",
       "      <td>0.667431</td>\n",
       "      <td>0.215901</td>\n",
       "      <td>Let Me Blow Ya Mind</td>\n",
       "      <td>Eve</td>\n",
       "      <td>Scorpion</td>\n",
       "      <td>0.396513</td>\n",
       "    </tr>\n",
       "    <tr>\n",
       "      <th>4</th>\n",
       "      <td>p6ZwetqySJuSXWdL</td>\n",
       "      <td>0.651848</td>\n",
       "      <td>0.224869</td>\n",
       "      <td>It Girl</td>\n",
       "      <td>Jason Derülo</td>\n",
       "      <td>Future History (Deluxe Edition)</td>\n",
       "      <td>0.395661</td>\n",
       "    </tr>\n",
       "    <tr>\n",
       "      <th>3</th>\n",
       "      <td>BvavHfrEqUNNphJD</td>\n",
       "      <td>0.654582</td>\n",
       "      <td>0.195008</td>\n",
       "      <td>Believe</td>\n",
       "      <td>Eminem</td>\n",
       "      <td>Revival</td>\n",
       "      <td>0.378837</td>\n",
       "    </tr>\n",
       "    <tr>\n",
       "      <th>5</th>\n",
       "      <td>ZmXHCROopvjj4Ff0</td>\n",
       "      <td>0.651441</td>\n",
       "      <td>0.195305</td>\n",
       "      <td>Under The Weather</td>\n",
       "      <td>Mac Miller</td>\n",
       "      <td>Blue Slide Park</td>\n",
       "      <td>0.377760</td>\n",
       "    </tr>\n",
       "  </tbody>\n",
       "</table>\n",
       "</div>"
      ],
      "text/plain": [
       "                 id  similarity_bert  similarity_tfidf                 song  \\\n",
       "0  iHRt8u88DH1Dq7SP         0.698288          0.236507                Loyal   \n",
       "1  dVLg34HafHN2B9lW         0.684422          0.206531          Candy Paint   \n",
       "2  CfCJl3HWjZCvaTv3         0.667431          0.215901  Let Me Blow Ya Mind   \n",
       "4  p6ZwetqySJuSXWdL         0.651848          0.224869              It Girl   \n",
       "3  BvavHfrEqUNNphJD         0.654582          0.195008              Believe   \n",
       "5  ZmXHCROopvjj4Ff0         0.651441          0.195305    Under The Weather   \n",
       "\n",
       "         artist                       album_name  aggregated_score  \n",
       "0   Chris Brown             X (Expanded Edition)          0.421219  \n",
       "1   Post Malone             beerbongs & bentleys          0.397687  \n",
       "2           Eve                         Scorpion          0.396513  \n",
       "4  Jason Derülo  Future History (Deluxe Edition)          0.395661  \n",
       "3        Eminem                          Revival          0.378837  \n",
       "5    Mac Miller                  Blue Slide Park          0.377760  "
      ]
     },
     "execution_count": 9,
     "metadata": {},
     "output_type": "execute_result"
    }
   ],
   "source": [
    "\n",
    "# Late fusion - Score Aggregation for two DataFrames\n",
    "def late_fusion_df(df_tfidf, df_bert, tfidf_weight=0.5, bert_weight=0.5):\n",
    "    \n",
    "    # Rename the 'similarity' column\n",
    "    df_tfidf = df_tfidf.rename(columns={'similarity': 'similarity_tfidf'})\n",
    "    df_bert = df_bert.rename(columns={'similarity': 'similarity_bert'})\n",
    "\n",
    "    # Merge DataFrames on 'id'\n",
    "    merged_df = pd.merge(df_bert[['id', 'similarity_bert']],df_tfidf, on='id')\n",
    "\n",
    "    # Assuming the scores are already normalized between 0 and 1\n",
    "    normalized_tfidf_scores = merged_df['similarity_tfidf'].values\n",
    "    normalized_bert_scores = merged_df['similarity_bert'].values\n",
    "\n",
    "    # Aggregate scores\n",
    "    aggregated_scores = tfidf_weight * normalized_tfidf_scores + bert_weight * normalized_bert_scores\n",
    "\n",
    "    # Add the aggregated scores to the DataFrame\n",
    "    merged_df['aggregated_score'] = aggregated_scores\n",
    "\n",
    "\n",
    "    # Sort DataFrame based on aggregated scores\n",
    "    sorted_fusion_df = merged_df.sort_values(by='aggregated_score', ascending=False)\n",
    "\n",
    "    return sorted_fusion_df\n",
    "\n",
    "# Example usage\n",
    "tfidf_weight = 0.6\n",
    "bert_weight = 0.4\n",
    "fusion_results_df = late_fusion_df(df_tfidf, df_bert, tfidf_weight, bert_weight)\n",
    "fusion_results_df\n"
   ]
  },
  {
   "cell_type": "markdown",
   "id": "8cb3302c",
   "metadata": {},
   "source": [
    "# Evaluation "
   ]
  },
  {
   "cell_type": "code",
   "execution_count": 10,
   "id": "6e6824179cc1b151",
   "metadata": {
    "ExecuteTime": {
     "end_time": "2023-12-13T06:10:07.528334737Z",
     "start_time": "2023-12-13T06:10:07.448678982Z"
    },
    "collapsed": false,
    "jupyter": {
     "outputs_hidden": false
    }
   },
   "outputs": [
    {
     "name": "stdout",
     "output_type": "stream",
     "text": [
      "  --> No pickled data file found. Performing on-the-fly data computation and saving to 'pickled_state/precomputed_genres.pickle' for later (re-)use.\n",
      "Found 10094 songs with genre information\n"
     ]
    },
    {
     "name": "stderr",
     "output_type": "stream",
     "text": [
      "Widget Javascript not detected.  It may not be installed or enabled properly. Reconnecting the current kernel may help.\n"
     ]
    },
    {
     "data": {
      "application/vnd.jupyter.widget-view+json": {
       "model_id": "add24bafcd5340efa8870ebd1af6a39b"
      }
     },
     "metadata": {},
     "output_type": "display_data"
    },
    {
     "ename": "AttributeError",
     "evalue": "'FloatProgress' object has no attribute 'style'",
     "output_type": "error",
     "traceback": [
      "\u001b[0;31m---------------------------------------------------------------------------\u001b[0m",
      "\u001b[0;31mAttributeError\u001b[0m                            Traceback (most recent call last)",
      "Cell \u001b[0;32mIn[10], line 4\u001b[0m\n\u001b[1;32m      1\u001b[0m \u001b[38;5;66;03m# Obtain necessary information and store for easy interop\u001b[39;00m\n\u001b[1;32m      2\u001b[0m \u001b[38;5;28;01mfrom\u001b[39;00m \u001b[38;5;21;01mgenres\u001b[39;00m \u001b[38;5;28;01mimport\u001b[39;00m Genres\n\u001b[0;32m----> 4\u001b[0m genres \u001b[38;5;241m=\u001b[39m \u001b[43mGenres\u001b[49m\u001b[43m(\u001b[49m\u001b[43m)\u001b[49m\n",
      "File \u001b[0;32m~/Schreibtisch/JKU/2023ws/MMSR/UE/Task3/MMSR_GroupB_WS23-master/genres.py:12\u001b[0m, in \u001b[0;36mGenres.__init__\u001b[0;34m(self)\u001b[0m\n\u001b[1;32m     11\u001b[0m \u001b[38;5;28;01mdef\u001b[39;00m \u001b[38;5;21m__init__\u001b[39m(\u001b[38;5;28mself\u001b[39m) \u001b[38;5;241m-\u001b[39m\u001b[38;5;241m>\u001b[39m \u001b[38;5;28;01mNone\u001b[39;00m:\n\u001b[0;32m---> 12\u001b[0m     data \u001b[38;5;241m=\u001b[39m \u001b[43munpickle_or_compute\u001b[49m\u001b[43m(\u001b[49m\u001b[38;5;124;43m\"\u001b[39;49m\u001b[38;5;124;43mprecomputed_genres.pickle\u001b[39;49m\u001b[38;5;124;43m\"\u001b[39;49m\u001b[43m,\u001b[49m\u001b[43m \u001b[49m\u001b[38;5;28;43;01mlambda\u001b[39;49;00m\u001b[43m:\u001b[49m\u001b[43m \u001b[49m\u001b[38;5;28;43mself\u001b[39;49m\u001b[38;5;241;43m.\u001b[39;49m\u001b[43m_compute_data\u001b[49m\u001b[43m(\u001b[49m\u001b[43m)\u001b[49m\u001b[43m)\u001b[49m\n\u001b[1;32m     14\u001b[0m     \u001b[38;5;28mself\u001b[39m\u001b[38;5;241m.\u001b[39msong_ids: \u001b[38;5;28mlist\u001b[39m[\u001b[38;5;28mint\u001b[39m] \u001b[38;5;241m=\u001b[39m data[\u001b[38;5;124m'\u001b[39m\u001b[38;5;124msong_ids\u001b[39m\u001b[38;5;124m'\u001b[39m]\n\u001b[1;32m     15\u001b[0m     \u001b[38;5;28mself\u001b[39m\u001b[38;5;241m.\u001b[39msong_genre_map: \u001b[38;5;28mdict\u001b[39m[\u001b[38;5;28mint\u001b[39m, \u001b[38;5;28mset\u001b[39m[\u001b[38;5;28mstr\u001b[39m]] \u001b[38;5;241m=\u001b[39m data[\u001b[38;5;124m'\u001b[39m\u001b[38;5;124msong_genre_map\u001b[39m\u001b[38;5;124m'\u001b[39m]\n",
      "File \u001b[0;32m~/Schreibtisch/JKU/2023ws/MMSR/UE/Task3/MMSR_GroupB_WS23-master/utils.py:37\u001b[0m, in \u001b[0;36munpickle_or_compute\u001b[0;34m(path, compute_function)\u001b[0m\n\u001b[1;32m     33\u001b[0m \u001b[38;5;28;01mif\u001b[39;00m data \u001b[38;5;129;01mis\u001b[39;00m \u001b[38;5;28;01mNone\u001b[39;00m:\n\u001b[1;32m     34\u001b[0m     \u001b[38;5;28mprint\u001b[39m(\u001b[38;5;124mf\u001b[39m\u001b[38;5;124m\"\u001b[39m\u001b[38;5;124m  --> No pickled data file found. Performing on-the-fly data computation and saving to \u001b[39m\u001b[38;5;124m'\u001b[39m\u001b[38;5;132;01m{\u001b[39;00mpath\u001b[38;5;132;01m}\u001b[39;00m\u001b[38;5;124m'\u001b[39m\u001b[38;5;124m for \u001b[39m\u001b[38;5;124m\"\u001b[39m\n\u001b[1;32m     35\u001b[0m           \u001b[38;5;124mf\u001b[39m\u001b[38;5;124m\"\u001b[39m\u001b[38;5;124mlater (re-)use.\u001b[39m\u001b[38;5;124m\"\u001b[39m)\n\u001b[0;32m---> 37\u001b[0m     data \u001b[38;5;241m=\u001b[39m \u001b[43mcompute_function\u001b[49m\u001b[43m(\u001b[49m\u001b[43m)\u001b[49m\n\u001b[1;32m     38\u001b[0m     pickle_file(path, data)\n\u001b[1;32m     39\u001b[0m \u001b[38;5;28;01melse\u001b[39;00m:\n",
      "File \u001b[0;32m~/Schreibtisch/JKU/2023ws/MMSR/UE/Task3/MMSR_GroupB_WS23-master/genres.py:12\u001b[0m, in \u001b[0;36mGenres.__init__.<locals>.<lambda>\u001b[0;34m()\u001b[0m\n\u001b[1;32m     11\u001b[0m \u001b[38;5;28;01mdef\u001b[39;00m \u001b[38;5;21m__init__\u001b[39m(\u001b[38;5;28mself\u001b[39m) \u001b[38;5;241m-\u001b[39m\u001b[38;5;241m>\u001b[39m \u001b[38;5;28;01mNone\u001b[39;00m:\n\u001b[0;32m---> 12\u001b[0m     data \u001b[38;5;241m=\u001b[39m unpickle_or_compute(\u001b[38;5;124m\"\u001b[39m\u001b[38;5;124mprecomputed_genres.pickle\u001b[39m\u001b[38;5;124m\"\u001b[39m, \u001b[38;5;28;01mlambda\u001b[39;00m: \u001b[38;5;28;43mself\u001b[39;49m\u001b[38;5;241;43m.\u001b[39;49m\u001b[43m_compute_data\u001b[49m\u001b[43m(\u001b[49m\u001b[43m)\u001b[49m)\n\u001b[1;32m     14\u001b[0m     \u001b[38;5;28mself\u001b[39m\u001b[38;5;241m.\u001b[39msong_ids: \u001b[38;5;28mlist\u001b[39m[\u001b[38;5;28mint\u001b[39m] \u001b[38;5;241m=\u001b[39m data[\u001b[38;5;124m'\u001b[39m\u001b[38;5;124msong_ids\u001b[39m\u001b[38;5;124m'\u001b[39m]\n\u001b[1;32m     15\u001b[0m     \u001b[38;5;28mself\u001b[39m\u001b[38;5;241m.\u001b[39msong_genre_map: \u001b[38;5;28mdict\u001b[39m[\u001b[38;5;28mint\u001b[39m, \u001b[38;5;28mset\u001b[39m[\u001b[38;5;28mstr\u001b[39m]] \u001b[38;5;241m=\u001b[39m data[\u001b[38;5;124m'\u001b[39m\u001b[38;5;124msong_genre_map\u001b[39m\u001b[38;5;124m'\u001b[39m]\n",
      "File \u001b[0;32m~/Schreibtisch/JKU/2023ws/MMSR/UE/Task3/MMSR_GroupB_WS23-master/genres.py:30\u001b[0m, in \u001b[0;36mGenres._compute_data\u001b[0;34m(self)\u001b[0m\n\u001b[1;32m     28\u001b[0m \u001b[38;5;28mself\u001b[39m\u001b[38;5;241m.\u001b[39msong_genre_map \u001b[38;5;241m=\u001b[39m \u001b[38;5;28mself\u001b[39m\u001b[38;5;241m.\u001b[39m_get_song_genre_map()\n\u001b[1;32m     29\u001b[0m \u001b[38;5;28mself\u001b[39m\u001b[38;5;241m.\u001b[39msong_ids \u001b[38;5;241m=\u001b[39m \u001b[38;5;28mlist\u001b[39m(\u001b[38;5;28mself\u001b[39m\u001b[38;5;241m.\u001b[39msong_genre_map\u001b[38;5;241m.\u001b[39mkeys())\n\u001b[0;32m---> 30\u001b[0m \u001b[38;5;28mself\u001b[39m\u001b[38;5;241m.\u001b[39mrelevant_song_counts \u001b[38;5;241m=\u001b[39m \u001b[38;5;28;43mself\u001b[39;49m\u001b[38;5;241;43m.\u001b[39;49m\u001b[43m_get_relevant_song_counts\u001b[49m\u001b[43m(\u001b[49m\u001b[43m)\u001b[49m\n\u001b[1;32m     32\u001b[0m \u001b[38;5;28;01mreturn\u001b[39;00m {\n\u001b[1;32m     33\u001b[0m     \u001b[38;5;124m'\u001b[39m\u001b[38;5;124msong_ids\u001b[39m\u001b[38;5;124m'\u001b[39m: \u001b[38;5;28mself\u001b[39m\u001b[38;5;241m.\u001b[39msong_ids,\n\u001b[1;32m     34\u001b[0m     \u001b[38;5;124m'\u001b[39m\u001b[38;5;124msong_genre_map\u001b[39m\u001b[38;5;124m'\u001b[39m: \u001b[38;5;28mself\u001b[39m\u001b[38;5;241m.\u001b[39msong_genre_map,\n\u001b[1;32m     35\u001b[0m     \u001b[38;5;124m'\u001b[39m\u001b[38;5;124mrelevant_song_counts\u001b[39m\u001b[38;5;124m'\u001b[39m: \u001b[38;5;28mself\u001b[39m\u001b[38;5;241m.\u001b[39mrelevant_song_counts\n\u001b[1;32m     36\u001b[0m }\n",
      "File \u001b[0;32m~/Schreibtisch/JKU/2023ws/MMSR/UE/Task3/MMSR_GroupB_WS23-master/genres.py:50\u001b[0m, in \u001b[0;36mGenres._get_relevant_song_counts\u001b[0;34m(self)\u001b[0m\n\u001b[1;32m     47\u001b[0m \u001b[38;5;28;01mdef\u001b[39;00m \u001b[38;5;21m_get_relevant_song_counts\u001b[39m(\u001b[38;5;28mself\u001b[39m) \u001b[38;5;241m-\u001b[39m\u001b[38;5;241m>\u001b[39m \u001b[38;5;28mdict\u001b[39m[\u001b[38;5;28mint\u001b[39m, \u001b[38;5;28mint\u001b[39m]:\n\u001b[1;32m     48\u001b[0m     relevant_song_counts \u001b[38;5;241m=\u001b[39m {}\n\u001b[0;32m---> 50\u001b[0m     \u001b[38;5;28;01mfor\u001b[39;00m song \u001b[38;5;129;01min\u001b[39;00m \u001b[43mtqdm\u001b[49m\u001b[43m(\u001b[49m\u001b[38;5;28;43mself\u001b[39;49m\u001b[38;5;241;43m.\u001b[39;49m\u001b[43msong_ids\u001b[49m\u001b[43m,\u001b[49m\u001b[43m \u001b[49m\u001b[38;5;124;43m\"\u001b[39;49m\u001b[38;5;124;43mComputing number of relevant songs\u001b[39;49m\u001b[38;5;124;43m\"\u001b[39;49m\u001b[43m)\u001b[49m:\n\u001b[1;32m     51\u001b[0m         relevant_song_counts[song] \u001b[38;5;241m=\u001b[39m \u001b[38;5;28msum\u001b[39m([\n\u001b[1;32m     52\u001b[0m             \u001b[38;5;241m1\u001b[39m \u001b[38;5;28;01mfor\u001b[39;00m other_song \u001b[38;5;129;01min\u001b[39;00m \u001b[38;5;28mself\u001b[39m\u001b[38;5;241m.\u001b[39msong_ids\n\u001b[1;32m     53\u001b[0m             \u001b[38;5;28;01mif\u001b[39;00m \u001b[38;5;28mself\u001b[39m\u001b[38;5;241m.\u001b[39mis_related(song, other_song) \u001b[38;5;129;01mand\u001b[39;00m song \u001b[38;5;241m!=\u001b[39m other_song\n\u001b[1;32m     54\u001b[0m         ])\n\u001b[1;32m     56\u001b[0m     \u001b[38;5;28;01mreturn\u001b[39;00m relevant_song_counts\n",
      "File \u001b[0;32m~/.local/lib/python3.10/site-packages/tqdm/notebook.py:240\u001b[0m, in \u001b[0;36mtqdm_notebook.__init__\u001b[0;34m(self, *args, **kwargs)\u001b[0m\n\u001b[1;32m    238\u001b[0m     \u001b[38;5;28mself\u001b[39m\u001b[38;5;241m.\u001b[39mdisplayed \u001b[38;5;241m=\u001b[39m \u001b[38;5;28;01mTrue\u001b[39;00m\n\u001b[1;32m    239\u001b[0m \u001b[38;5;28mself\u001b[39m\u001b[38;5;241m.\u001b[39mdisp \u001b[38;5;241m=\u001b[39m \u001b[38;5;28mself\u001b[39m\u001b[38;5;241m.\u001b[39mdisplay\n\u001b[0;32m--> 240\u001b[0m \u001b[38;5;28;43mself\u001b[39;49m\u001b[38;5;241;43m.\u001b[39;49m\u001b[43mcolour\u001b[49m \u001b[38;5;241m=\u001b[39m colour\n\u001b[1;32m    242\u001b[0m \u001b[38;5;66;03m# Print initial bar state\u001b[39;00m\n\u001b[1;32m    243\u001b[0m \u001b[38;5;28;01mif\u001b[39;00m \u001b[38;5;129;01mnot\u001b[39;00m \u001b[38;5;28mself\u001b[39m\u001b[38;5;241m.\u001b[39mdisable:\n",
      "File \u001b[0;32m~/.local/lib/python3.10/site-packages/tqdm/notebook.py:199\u001b[0m, in \u001b[0;36mtqdm_notebook.colour\u001b[0;34m(self, bar_color)\u001b[0m\n\u001b[1;32m    196\u001b[0m \u001b[38;5;129m@colour\u001b[39m\u001b[38;5;241m.\u001b[39msetter\n\u001b[1;32m    197\u001b[0m \u001b[38;5;28;01mdef\u001b[39;00m \u001b[38;5;21mcolour\u001b[39m(\u001b[38;5;28mself\u001b[39m, bar_color):\n\u001b[1;32m    198\u001b[0m     \u001b[38;5;28;01mif\u001b[39;00m \u001b[38;5;28mhasattr\u001b[39m(\u001b[38;5;28mself\u001b[39m, \u001b[38;5;124m'\u001b[39m\u001b[38;5;124mcontainer\u001b[39m\u001b[38;5;124m'\u001b[39m):\n\u001b[0;32m--> 199\u001b[0m         \u001b[38;5;28;43mself\u001b[39;49m\u001b[38;5;241;43m.\u001b[39;49m\u001b[43mcontainer\u001b[49m\u001b[38;5;241;43m.\u001b[39;49m\u001b[43mchildren\u001b[49m\u001b[43m[\u001b[49m\u001b[38;5;241;43m-\u001b[39;49m\u001b[38;5;241;43m2\u001b[39;49m\u001b[43m]\u001b[49m\u001b[38;5;241;43m.\u001b[39;49m\u001b[43mstyle\u001b[49m\u001b[38;5;241m.\u001b[39mbar_color \u001b[38;5;241m=\u001b[39m bar_color\n",
      "\u001b[0;31mAttributeError\u001b[0m: 'FloatProgress' object has no attribute 'style'"
     ]
    }
   ],
   "source": [
    "# Obtain necessary information and store for easy interop\n",
    "from genres import Genres\n",
    "\n",
    "genres = Genres()"
   ]
  },
  {
   "cell_type": "markdown",
   "id": "3bf5897c7fedaea1",
   "metadata": {
    "collapsed": false,
    "jupyter": {
     "outputs_hidden": false
    }
   },
   "source": [
    "## Accuracy\n",
    "#### 1. Precision@k & Recall@k"
   ]
  },
  {
   "cell_type": "code",
   "execution_count": null,
   "id": "2ba8dc59e2dfdef4",
   "metadata": {
    "ExecuteTime": {
     "end_time": "2023-12-13T06:10:07.529068093Z",
     "start_time": "2023-12-13T06:10:07.515179339Z"
    },
    "collapsed": false,
    "jupyter": {
     "outputs_hidden": false
    }
   },
   "outputs": [],
   "source": [
    "from precision_recall import PrecisionRecall\n",
    "\n",
    "pr = PrecisionRecall(genres)\n",
    "pr.compute()"
   ]
  },
  {
   "cell_type": "code",
   "execution_count": null,
   "id": "f8eefbf2e9e0f232",
   "metadata": {
    "ExecuteTime": {
     "end_time": "2023-12-13T06:10:09.422991353Z",
     "start_time": "2023-12-13T06:10:07.527031472Z"
    },
    "collapsed": false,
    "jupyter": {
     "outputs_hidden": false
    }
   },
   "outputs": [],
   "source": [
    "pr.plot_each()"
   ]
  },
  {
   "cell_type": "code",
   "execution_count": null,
   "id": "e985534918f36752",
   "metadata": {
    "ExecuteTime": {
     "end_time": "2023-12-13T06:10:09.766354192Z",
     "start_time": "2023-12-13T06:10:09.422765269Z"
    },
    "collapsed": false,
    "jupyter": {
     "outputs_hidden": false
    }
   },
   "outputs": [],
   "source": [
    "pr.plot_all_single()"
   ]
  },
  {
   "cell_type": "markdown",
   "id": "8204c79fba844c92",
   "metadata": {
    "collapsed": false,
    "jupyter": {
     "outputs_hidden": false
    }
   },
   "source": [
    "#### 2. nDCG@10"
   ]
  },
  {
   "cell_type": "code",
   "execution_count": null,
   "id": "653380de9d6cd112",
   "metadata": {
    "ExecuteTime": {
     "end_time": "2023-12-13T06:10:10.002768136Z",
     "start_time": "2023-12-13T06:10:09.766215181Z"
    },
    "collapsed": false,
    "jupyter": {
     "outputs_hidden": false
    }
   },
   "outputs": [],
   "source": [
    "from ndcg import Ndcg\n",
    "\n",
    "ndcg = Ndcg(genres)\n",
    "ndcg.compute()\n",
    "ndcg.plot()"
   ]
  },
  {
   "cell_type": "markdown",
   "id": "54dde3a324d213bf",
   "metadata": {
    "collapsed": false,
    "jupyter": {
     "outputs_hidden": false
    }
   },
   "source": [
    "## Beyond Accuracy\n",
    "### 1. Genre Coverage@10"
   ]
  },
  {
   "cell_type": "code",
   "execution_count": null,
   "id": "5f192657e9b0f9fd",
   "metadata": {
    "ExecuteTime": {
     "end_time": "2023-12-13T06:10:10.226154814Z",
     "start_time": "2023-12-13T06:10:10.003466116Z"
    },
    "collapsed": false,
    "jupyter": {
     "outputs_hidden": false
    }
   },
   "outputs": [],
   "source": [
    "from genre_coverage import GenreCoverage\n",
    "\n",
    "genres_coverage = GenreCoverage(genres)\n",
    "genres_coverage.compute()\n",
    "genres_coverage.plot()"
   ]
  },
  {
   "cell_type": "markdown",
   "id": "8d0a3f92b2ebb66a",
   "metadata": {
    "collapsed": false,
    "jupyter": {
     "outputs_hidden": false
    }
   },
   "source": [
    "### 2. Genre Diversity@10"
   ]
  },
  {
   "cell_type": "code",
   "execution_count": null,
   "id": "86431efc1621db4a",
   "metadata": {
    "ExecuteTime": {
     "end_time": "2023-12-13T06:10:10.442775920Z",
     "start_time": "2023-12-13T06:10:10.227490149Z"
    },
    "collapsed": false,
    "jupyter": {
     "outputs_hidden": false
    }
   },
   "outputs": [],
   "source": [
    "from genre_diversity import GenreDiversity\n",
    "\n",
    "genres_diversity = GenreDiversity(genres)\n",
    "genres_diversity.compute()\n",
    "genres_diversity.plot()"
   ]
  },
  {
   "cell_type": "markdown",
   "id": "02f13383",
   "metadata": {},
   "source": [
    "# Frontend"
   ]
  },
  {
   "cell_type": "code",
   "execution_count": null,
   "id": "93d32489",
   "metadata": {},
   "outputs": [],
   "source": [
    "from utils import write_song_df_to_json_file\n",
    "\n",
    "write_song_df_to_json_file(\"frontend/static/songMeta.json\", datasets.information.df, datasets.url.df, datasets.genres.df)\n",
    "\n",
    "# frontend uses frontend/static/songMeta.json and retrievals/*.json\n"
   ]
  },
  {
   "cell_type": "code",
   "execution_count": null,
   "id": "0a0ba996-691c-495d-b41d-6a974b6d6666",
   "metadata": {},
   "outputs": [],
   "source": []
  }
 ],
 "metadata": {
  "kernelspec": {
   "display_name": "Python 3 (ipykernel)",
   "language": "python",
   "name": "python3"
  },
  "language_info": {
   "codemirror_mode": {
    "name": "ipython",
    "version": 3
   },
   "file_extension": ".py",
   "mimetype": "text/x-python",
   "name": "python",
   "nbconvert_exporter": "python",
   "pygments_lexer": "ipython3",
   "version": "3.10.8"
  }
 },
 "nbformat": 4,
 "nbformat_minor": 5
}
