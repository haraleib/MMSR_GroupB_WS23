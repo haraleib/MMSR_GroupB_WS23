{
 "cells": [
  {
   "cell_type": "markdown",
   "id": "4b45d764",
   "metadata": {},
   "source": [
    "<h1 style=\"color:rgb(0,120,170)\">344.038, KV Multimedia Search and Retrieval (WS2023/24)</h1>\n",
    "<h2 style=\"color:rgb(0,120,170)\">Task 2_Group B</h2>"
   ]
  },
  {
   "cell_type": "markdown",
   "id": "cf629014",
   "metadata": {},
   "source": [
    "| First Name | Family Name  | Matr.Nr   |\n",
    "|:-----------|:-------------|:----------|\n",
    "| Branko     | Paunović     | K12046370 |\n",
    "| Lukas      | Troyer       | K12006666 |\n",
    "| Hadi       | Sanaei       | K11733444 |"
   ]
  },
  {
   "cell_type": "markdown",
   "id": "e37ef5cd",
   "metadata": {},
   "source": [
    "# Retrieval systems"
   ]
  },
  {
   "cell_type": "markdown",
   "id": "92437e32c9ea0f1f",
   "metadata": {
    "collapsed": false
   },
   "source": [
    "#### Import datasets, setup helper interfaces"
   ]
  },
  {
   "cell_type": "code",
   "execution_count": 1,
   "id": "d6fe9727-ec04-4803-94d1-ed8d756e0db7",
   "metadata": {
    "ExecuteTime": {
     "end_time": "2024-01-17T19:13:34.135977760Z",
     "start_time": "2024-01-17T19:13:34.028738500Z"
    },
    "tags": []
   },
   "outputs": [],
   "source": [
    "%load_ext autoreload\n",
    "%autoreload 2\n",
    "\n",
    "import pandas as pd\n",
    "import numpy as np\n",
    "np.random.seed(42)\n",
    "from sklearn.decomposition import PCA\n",
    "\n",
    "from song import songs\n",
    "from datasets import datasets, LocalDataset\n",
    "from retrieval import Retrieval"
   ]
  },
  {
   "cell_type": "markdown",
   "id": "91573b97",
   "metadata": {},
   "source": [
    "#### Prompt for user input"
   ]
  },
  {
   "cell_type": "code",
   "execution_count": 3,
   "id": "dd77cca7",
   "metadata": {
    "ExecuteTime": {
     "end_time": "2024-01-17T19:13:38.787917202Z",
     "start_time": "2024-01-17T19:13:34.334250912Z"
    }
   },
   "outputs": [],
   "source": [
    "# Number of similar songs to retrieve\n",
    "num_top_similar = int(input(\"Enter the number of top similar tracks: \"))\n",
    "\n",
    "# Example:\n",
    "#   - Title: Letterman\n",
    "#   - Artist: Wiz Khalifa\n",
    "query, query_row_id = songs.prompt_song_query()"
   ]
  },
  {
   "cell_type": "markdown",
   "id": "c1fb346b",
   "metadata": {},
   "source": [
    "## Video-Based(\\<similarity\\>, \\<feature\\>)\n",
    "### 1. Video-based(similarity, incp)"
   ]
  },
  {
   "cell_type": "code",
   "execution_count": 12,
   "id": "949bced0",
   "metadata": {
    "ExecuteTime": {
     "end_time": "2024-01-17T19:15:47.533277720Z",
     "start_time": "2024-01-17T19:15:46.722038226Z"
    }
   },
   "outputs": [
    {
     "name": "stdout",
     "output_type": "stream",
     "text": [
      "using cached\n"
     ]
    },
    {
     "data": {
      "text/html": [
       "<div>\n",
       "<style scoped>\n",
       "    .dataframe tbody tr th:only-of-type {\n",
       "        vertical-align: middle;\n",
       "    }\n",
       "\n",
       "    .dataframe tbody tr th {\n",
       "        vertical-align: top;\n",
       "    }\n",
       "\n",
       "    .dataframe thead th {\n",
       "        text-align: right;\n",
       "    }\n",
       "</style>\n",
       "<table border=\"1\" class=\"dataframe\">\n",
       "  <thead>\n",
       "    <tr style=\"text-align: right;\">\n",
       "      <th></th>\n",
       "      <th>id</th>\n",
       "      <th>similarity</th>\n",
       "      <th>song</th>\n",
       "      <th>artist</th>\n",
       "      <th>album_name</th>\n",
       "    </tr>\n",
       "  </thead>\n",
       "  <tbody>\n",
       "    <tr>\n",
       "      <th>0</th>\n",
       "      <td>GY25og83Ng5O9s75</td>\n",
       "      <td>0.783461</td>\n",
       "      <td>Remind Me</td>\n",
       "      <td>Röyksopp</td>\n",
       "      <td>Melody A.M.</td>\n",
       "    </tr>\n",
       "  </tbody>\n",
       "</table>\n",
       "</div>"
      ],
      "text/plain": [
       "                 id  similarity       song    artist   album_name\n",
       "0  GY25og83Ng5O9s75    0.783461  Remind Me  Röyksopp  Melody A.M."
      ]
     },
     "execution_count": 12,
     "metadata": {},
     "output_type": "execute_result"
    }
   ],
   "source": [
    "retN = Retrieval(n=1, use_cache=True)\n",
    "Retrieval.create_df_from_tracks(retN.top_similar_tracks(query_row_id, dataset=datasets.resnet))"
   ]
  },
  {
   "cell_type": "code",
   "execution_count": 19,
   "id": "a4f17c6fd2ad528",
   "metadata": {
    "ExecuteTime": {
     "end_time": "2024-01-17T19:15:58.743945285Z",
     "start_time": "2024-01-17T19:15:56.916705506Z"
    },
    "collapsed": false
   },
   "outputs": [
    {
     "data": {
      "text/html": [
       "<div>\n",
       "<style scoped>\n",
       "    .dataframe tbody tr th:only-of-type {\n",
       "        vertical-align: middle;\n",
       "    }\n",
       "\n",
       "    .dataframe tbody tr th {\n",
       "        vertical-align: top;\n",
       "    }\n",
       "\n",
       "    .dataframe thead th {\n",
       "        text-align: right;\n",
       "    }\n",
       "</style>\n",
       "<table border=\"1\" class=\"dataframe\">\n",
       "  <thead>\n",
       "    <tr style=\"text-align: right;\">\n",
       "      <th></th>\n",
       "      <th>id</th>\n",
       "      <th>similarity</th>\n",
       "      <th>song</th>\n",
       "      <th>artist</th>\n",
       "      <th>album_name</th>\n",
       "    </tr>\n",
       "  </thead>\n",
       "  <tbody>\n",
       "    <tr>\n",
       "      <th>0</th>\n",
       "      <td>GY25og83Ng5O9s75</td>\n",
       "      <td>0.758116</td>\n",
       "      <td>Remind Me</td>\n",
       "      <td>Röyksopp</td>\n",
       "      <td>Melody A.M.</td>\n",
       "    </tr>\n",
       "    <tr>\n",
       "      <th>1</th>\n",
       "      <td>6DiqMk5OTw4xE8tG</td>\n",
       "      <td>0.748836</td>\n",
       "      <td>Alison</td>\n",
       "      <td>Elvis Costello</td>\n",
       "      <td>My Aim Is True</td>\n",
       "    </tr>\n",
       "    <tr>\n",
       "      <th>2</th>\n",
       "      <td>UUT3MnnHgEmcJVPR</td>\n",
       "      <td>0.743280</td>\n",
       "      <td>After the Rain</td>\n",
       "      <td>John Coltrane</td>\n",
       "      <td>Impressions</td>\n",
       "    </tr>\n",
       "    <tr>\n",
       "      <th>3</th>\n",
       "      <td>f2tGa2kADrdE7XJX</td>\n",
       "      <td>0.739452</td>\n",
       "      <td>Oh What A Night</td>\n",
       "      <td>The Dells</td>\n",
       "      <td>At Their Very Best</td>\n",
       "    </tr>\n",
       "    <tr>\n",
       "      <th>4</th>\n",
       "      <td>YCrt9iFhB5Y8XXMT</td>\n",
       "      <td>0.739356</td>\n",
       "      <td>Mesmo que Mude</td>\n",
       "      <td>Bidê ou Balde</td>\n",
       "      <td>É Preciso Dar Vazão aos Sentimentos!</td>\n",
       "    </tr>\n",
       "    <tr>\n",
       "      <th>...</th>\n",
       "      <td>...</td>\n",
       "      <td>...</td>\n",
       "      <td>...</td>\n",
       "      <td>...</td>\n",
       "      <td>...</td>\n",
       "    </tr>\n",
       "    <tr>\n",
       "      <th>995</th>\n",
       "      <td>jOEL85ImTTwtWGYP</td>\n",
       "      <td>0.638873</td>\n",
       "      <td>Open Your Heart</td>\n",
       "      <td>Europe</td>\n",
       "      <td>Wings Of Tomorrow</td>\n",
       "    </tr>\n",
       "    <tr>\n",
       "      <th>996</th>\n",
       "      <td>OvWUN6tNDYIxgrn8</td>\n",
       "      <td>0.638819</td>\n",
       "      <td>Drain The Blood</td>\n",
       "      <td>The Distillers</td>\n",
       "      <td>Coral Fang (Alternate Cover PA Version)</td>\n",
       "    </tr>\n",
       "    <tr>\n",
       "      <th>997</th>\n",
       "      <td>5k0J8Khb6W0O7vt8</td>\n",
       "      <td>0.638795</td>\n",
       "      <td>Edge Of A Revolution</td>\n",
       "      <td>Nickelback</td>\n",
       "      <td>No Fixed Address</td>\n",
       "    </tr>\n",
       "    <tr>\n",
       "      <th>998</th>\n",
       "      <td>Z4W9fn9FHHNMtdPh</td>\n",
       "      <td>0.638787</td>\n",
       "      <td>Stratford-on-Guy</td>\n",
       "      <td>Liz Phair</td>\n",
       "      <td>Exile In Guyville (Remastered)</td>\n",
       "    </tr>\n",
       "    <tr>\n",
       "      <th>999</th>\n",
       "      <td>7s9HbLG6ol1RTlLv</td>\n",
       "      <td>0.638786</td>\n",
       "      <td>Spaceman</td>\n",
       "      <td>4 Non Blondes</td>\n",
       "      <td>Bigger, Better, Faster, More !</td>\n",
       "    </tr>\n",
       "  </tbody>\n",
       "</table>\n",
       "<p>1000 rows × 5 columns</p>\n",
       "</div>"
      ],
      "text/plain": [
       "                   id  similarity                  song          artist  \\\n",
       "0    GY25og83Ng5O9s75    0.758116             Remind Me        Röyksopp   \n",
       "1    6DiqMk5OTw4xE8tG    0.748836                Alison  Elvis Costello   \n",
       "2    UUT3MnnHgEmcJVPR    0.743280        After the Rain   John Coltrane   \n",
       "3    f2tGa2kADrdE7XJX    0.739452       Oh What A Night       The Dells   \n",
       "4    YCrt9iFhB5Y8XXMT    0.739356        Mesmo que Mude   Bidê ou Balde   \n",
       "..                ...         ...                   ...             ...   \n",
       "995  jOEL85ImTTwtWGYP    0.638873       Open Your Heart          Europe   \n",
       "996  OvWUN6tNDYIxgrn8    0.638819       Drain The Blood  The Distillers   \n",
       "997  5k0J8Khb6W0O7vt8    0.638795  Edge Of A Revolution      Nickelback   \n",
       "998  Z4W9fn9FHHNMtdPh    0.638787      Stratford-on-Guy       Liz Phair   \n",
       "999  7s9HbLG6ol1RTlLv    0.638786              Spaceman   4 Non Blondes   \n",
       "\n",
       "                                  album_name  \n",
       "0                                Melody A.M.  \n",
       "1                             My Aim Is True  \n",
       "2                                Impressions  \n",
       "3                         At Their Very Best  \n",
       "4       É Preciso Dar Vazão aos Sentimentos!  \n",
       "..                                       ...  \n",
       "995                        Wings Of Tomorrow  \n",
       "996  Coral Fang (Alternate Cover PA Version)  \n",
       "997                         No Fixed Address  \n",
       "998           Exile In Guyville (Remastered)  \n",
       "999           Bigger, Better, Faster, More !  \n",
       "\n",
       "[1000 rows x 5 columns]"
      ]
     },
     "execution_count": 19,
     "metadata": {},
     "output_type": "execute_result"
    }
   ],
   "source": [
    "Retrieval.create_df_from_tracks(retN.top_similar_tracks(query_row_id, dataset=datasets.vgg))"
   ]
  },
  {
   "cell_type": "code",
   "execution_count": 20,
   "id": "3aab88b4dcc1d19d",
   "metadata": {
    "ExecuteTime": {
     "end_time": "2024-01-17T19:16:01.051741065Z",
     "start_time": "2024-01-17T19:16:00.324406964Z"
    },
    "collapsed": false
   },
   "outputs": [
    {
     "data": {
      "text/html": [
       "<div>\n",
       "<style scoped>\n",
       "    .dataframe tbody tr th:only-of-type {\n",
       "        vertical-align: middle;\n",
       "    }\n",
       "\n",
       "    .dataframe tbody tr th {\n",
       "        vertical-align: top;\n",
       "    }\n",
       "\n",
       "    .dataframe thead th {\n",
       "        text-align: right;\n",
       "    }\n",
       "</style>\n",
       "<table border=\"1\" class=\"dataframe\">\n",
       "  <thead>\n",
       "    <tr style=\"text-align: right;\">\n",
       "      <th></th>\n",
       "      <th>id</th>\n",
       "      <th>similarity</th>\n",
       "      <th>song</th>\n",
       "      <th>artist</th>\n",
       "      <th>album_name</th>\n",
       "    </tr>\n",
       "  </thead>\n",
       "  <tbody>\n",
       "    <tr>\n",
       "      <th>0</th>\n",
       "      <td>2wPQxBfn7e7MjdWu</td>\n",
       "      <td>0.902862</td>\n",
       "      <td>Blue Eyed Hexe</td>\n",
       "      <td>Pixies</td>\n",
       "      <td>Indie Cindy</td>\n",
       "    </tr>\n",
       "    <tr>\n",
       "      <th>1</th>\n",
       "      <td>Dtf7ZV2mJSpyuvdD</td>\n",
       "      <td>0.901582</td>\n",
       "      <td>Hollow Man</td>\n",
       "      <td>R.E.M.</td>\n",
       "      <td>Accelerate</td>\n",
       "    </tr>\n",
       "    <tr>\n",
       "      <th>2</th>\n",
       "      <td>IKEsVgEXFbIw7xc0</td>\n",
       "      <td>0.900696</td>\n",
       "      <td>House Of Love</td>\n",
       "      <td>East 17</td>\n",
       "      <td>Walthamstow</td>\n",
       "    </tr>\n",
       "    <tr>\n",
       "      <th>3</th>\n",
       "      <td>GY25og83Ng5O9s75</td>\n",
       "      <td>0.900293</td>\n",
       "      <td>Remind Me</td>\n",
       "      <td>Röyksopp</td>\n",
       "      <td>Melody A.M.</td>\n",
       "    </tr>\n",
       "    <tr>\n",
       "      <th>4</th>\n",
       "      <td>lQQp4nJxCBg0KYhP</td>\n",
       "      <td>0.898965</td>\n",
       "      <td>Looking For Clues</td>\n",
       "      <td>Robert Palmer</td>\n",
       "      <td>Clues</td>\n",
       "    </tr>\n",
       "    <tr>\n",
       "      <th>...</th>\n",
       "      <td>...</td>\n",
       "      <td>...</td>\n",
       "      <td>...</td>\n",
       "      <td>...</td>\n",
       "      <td>...</td>\n",
       "    </tr>\n",
       "    <tr>\n",
       "      <th>995</th>\n",
       "      <td>knCRp64TFxWO7HWZ</td>\n",
       "      <td>0.867551</td>\n",
       "      <td>Yoncé</td>\n",
       "      <td>Beyoncé</td>\n",
       "      <td>The Lion King: The Gift</td>\n",
       "    </tr>\n",
       "    <tr>\n",
       "      <th>996</th>\n",
       "      <td>qGHDYOyP7HMPvxKJ</td>\n",
       "      <td>0.867532</td>\n",
       "      <td>Shout</td>\n",
       "      <td>Tears for Fears</td>\n",
       "      <td>Songs From The Big Chair</td>\n",
       "    </tr>\n",
       "    <tr>\n",
       "      <th>997</th>\n",
       "      <td>P8ocVhSIrHZczAww</td>\n",
       "      <td>0.867516</td>\n",
       "      <td>Rapture</td>\n",
       "      <td>Blondie</td>\n",
       "      <td>Greatest Hits: Blondie</td>\n",
       "    </tr>\n",
       "    <tr>\n",
       "      <th>998</th>\n",
       "      <td>4sZGmR6zthqYotiU</td>\n",
       "      <td>0.867504</td>\n",
       "      <td>Alive</td>\n",
       "      <td>Da Buzz</td>\n",
       "      <td>The Best Of Da Buzz 1999-2007</td>\n",
       "    </tr>\n",
       "    <tr>\n",
       "      <th>999</th>\n",
       "      <td>mBAxnGf7O8iHxl9y</td>\n",
       "      <td>0.867494</td>\n",
       "      <td>Generous</td>\n",
       "      <td>Olivia Holt</td>\n",
       "      <td>Generous (Martin Jensen Remix)</td>\n",
       "    </tr>\n",
       "  </tbody>\n",
       "</table>\n",
       "<p>1000 rows × 5 columns</p>\n",
       "</div>"
      ],
      "text/plain": [
       "                   id  similarity               song           artist  \\\n",
       "0    2wPQxBfn7e7MjdWu    0.902862     Blue Eyed Hexe           Pixies   \n",
       "1    Dtf7ZV2mJSpyuvdD    0.901582         Hollow Man           R.E.M.   \n",
       "2    IKEsVgEXFbIw7xc0    0.900696      House Of Love          East 17   \n",
       "3    GY25og83Ng5O9s75    0.900293          Remind Me         Röyksopp   \n",
       "4    lQQp4nJxCBg0KYhP    0.898965  Looking For Clues    Robert Palmer   \n",
       "..                ...         ...                ...              ...   \n",
       "995  knCRp64TFxWO7HWZ    0.867551              Yoncé          Beyoncé   \n",
       "996  qGHDYOyP7HMPvxKJ    0.867532              Shout  Tears for Fears   \n",
       "997  P8ocVhSIrHZczAww    0.867516            Rapture          Blondie   \n",
       "998  4sZGmR6zthqYotiU    0.867504              Alive          Da Buzz   \n",
       "999  mBAxnGf7O8iHxl9y    0.867494           Generous      Olivia Holt   \n",
       "\n",
       "                         album_name  \n",
       "0                       Indie Cindy  \n",
       "1                        Accelerate  \n",
       "2                       Walthamstow  \n",
       "3                       Melody A.M.  \n",
       "4                             Clues  \n",
       "..                              ...  \n",
       "995         The Lion King: The Gift  \n",
       "996        Songs From The Big Chair  \n",
       "997          Greatest Hits: Blondie  \n",
       "998   The Best Of Da Buzz 1999-2007  \n",
       "999  Generous (Martin Jensen Remix)  \n",
       "\n",
       "[1000 rows x 5 columns]"
      ]
     },
     "execution_count": 20,
     "metadata": {},
     "output_type": "execute_result"
    }
   ],
   "source": [
    "Retrieval.create_df_from_tracks(retN.top_similar_tracks(query_row_id, dataset=datasets.incp))"
   ]
  },
  {
   "cell_type": "markdown",
   "id": "42a017e4",
   "metadata": {},
   "source": [
    "## Fusion-Based (\\<similarity\\>, \\<feature\\>)\n",
    "### Early Fusion"
   ]
  },
  {
   "cell_type": "code",
   "execution_count": null,
   "id": "49c78037",
   "metadata": {
    "collapsed": false
   },
   "outputs": [],
   "source": [
    "def early_fusion_dataframe(d1: LocalDataset, d2: LocalDataset):\n",
    "    if len(d1.df) != len(d2.df):\n",
    "        raise ValueError(\"Both dataframes must have the same number of rows\")\n",
    "\n",
    "    # Concatenate dataframes along columns (axis=1)\n",
    "    df1_pca = pd.DataFrame(PCA(n_components=0.8).fit_transform(d1.df.iloc[:, 1:]))\n",
    "    df1_pca[\"id\"] = d1.df[\"id\"]\n",
    "\n",
    "    df2_pca = pd.DataFrame(PCA(n_components=0.8).fit_transform(d2.df.iloc[:, 1:]))\n",
    "    df2_pca[\"id\"] = d2.df[\"id\"]\n",
    "    \n",
    "    fused_df = pd.concat([df1_pca, df2_pca], axis=1)  \n",
    "    return fused_df\n",
    "\n",
    "\n",
    "df_ef = early_fusion_dataframe(datasets.musicnn, datasets.resnet)\n",
    "dataset_early_fusion = LocalDataset(\"early_fusion-musicnn_resnet\", df_ef)"
   ]
  },
  {
   "cell_type": "code",
   "execution_count": null,
   "id": "f844ef81b0bf263f",
   "metadata": {
    "collapsed": false
   },
   "outputs": [],
   "source": [
    "df_ef.head()"
   ]
  },
  {
   "cell_type": "code",
   "execution_count": null,
   "id": "d29cbc0c143a4690",
   "metadata": {
    "collapsed": false
   },
   "outputs": [],
   "source": [
    "retN = Retrieval(n=num_top_similar)\n",
    "Retrieval.create_df_from_tracks(retN.top_similar_tracks(query_row_id, dataset=dataset_early_fusion))"
   ]
  },
  {
   "cell_type": "markdown",
   "id": "38fa1f6a",
   "metadata": {},
   "source": [
    "### Late Fusion"
   ]
  },
  {
   "cell_type": "code",
   "execution_count": null,
   "id": "46413a70",
   "metadata": {},
   "outputs": [],
   "source": [
    "#\n",
    "# Late fusion - Score Aggregation Fusion for two DataFrames (text and audio)\n",
    "#\n",
    "def late_fusion_df(d1: LocalDataset, d2: LocalDataset, d1_weight: float, d2_weight: float):\n",
    "    # Rename the 'similarity' column\n",
    "    df_1 = d1.df.copy().rename(columns={'similarity': 'similarity_d1'})\n",
    "    df_2 = d2.df.copy().rename(columns={'similarity': 'similarity_d2'})\n",
    "\n",
    "    # Merge DataFrames on 'id'\n",
    "    merged_df = pd.merge(df_2[['id', 'similarity_d2']], df_1, on='id')\n",
    "\n",
    "    # Assuming the scores are already normalized between 0 and 1\n",
    "    normalized_d1_scores = merged_df['similarity_d1'].values\n",
    "    normalized_d2_scores = merged_df['similarity_d2'].values\n",
    "\n",
    "    # Aggregate scores\n",
    "    aggregated_scores = d1_weight * normalized_d1_scores + d2_weight * normalized_d2_scores\n",
    "\n",
    "    # Add the aggregated scores to the DataFrame\n",
    "    merged_df['aggregated_score'] = aggregated_scores\n",
    "\n",
    "    # Sort DataFrame based on aggregated scores\n",
    "    sorted_fusion_df = merged_df.sort_values(by='aggregated_score', ascending=False)\n",
    "    return sorted_fusion_df\n",
    "\n",
    "fusion_results_df = late_fusion_df(\n",
    "    datasets.tf_idf,\n",
    "    datasets.musicnn,\n",
    "    d1_weight=0.6,\n",
    "    d2_weight=0.4\n",
    ")\n",
    "fusion_results_df"
   ]
  },
  {
   "cell_type": "code",
   "execution_count": null,
   "id": "13ff4d42cc5c1346",
   "metadata": {
    "collapsed": false
   },
   "outputs": [],
   "source": [
    "#\n",
    "# Late fusion - Rank-Level Fusion for two DataFrames (video and audio)\n",
    "#\n",
    "def rank_level_fusion_video_audio(d1: LocalDataset, d2: LocalDataset, d1_weight: float, d2_weight: float):\n",
    "    # Rename the 'similarity' column\n",
    "    video_scores = d1.df.copy().rename(columns={'similarity': 'similarity_video'})\n",
    "    audio_scores = d2.df.copy().rename(columns={'similarity': 'similarity_audio'})\n",
    "\n",
    "    # Merge DataFrames on 'id'\n",
    "    merged_df = pd.merge(audio_scores[['id', 'similarity_audio']], video_scores, on='id')\n",
    "\n",
    "     # Assuming the scores are already normalized between 0 and 1\n",
    "    normalized_video_scores = merged_df['similarity_video'].values\n",
    "    normalized_audio_scores = merged_df['similarity_audio'].values\n",
    "\n",
    "    # Convert similarity scores to ranks using pandas Series\n",
    "    video_ranks = pd.Series(normalized_video_scores).rank(ascending=False)\n",
    "    audio_ranks = pd.Series(normalized_audio_scores).rank(ascending=False)\n",
    "\n",
    "    # Rank-level fusion: Combine the ranks using weighted sum\n",
    "    aggregated_ranks = d1_weight * video_ranks + d2_weight * audio_ranks\n",
    "\n",
    "    # Add the aggregated ranks to the DataFrame\n",
    "    merged_df['aggregated_rank'] = aggregated_ranks\n",
    "\n",
    "    # Sort DataFrame based on aggregated ranks\n",
    "    sorted_fusion_df = merged_df.sort_values(by='aggregated_rank')\n",
    "    return sorted_fusion_df\n",
    "\n",
    "# Example usage\n",
    "fusion_results_df = rank_level_fusion_video_audio(\n",
    "    datasets.resnet,\n",
    "    datasets.musicnn,\n",
    "    d1_weight=0.6,\n",
    "    d2_weight=0.4\n",
    ")\n"
   ]
  },
  {
   "cell_type": "code",
   "execution_count": null,
   "id": "472ce2f270ab3861",
   "metadata": {
    "collapsed": false
   },
   "outputs": [],
   "source": [
    "# Display the fused results\n",
    "print(\"Rank-Level Fusion Results:\")\n",
    "print(fusion_results_df[['id', 'similarity_video', 'similarity_audio', 'aggregated_rank']])"
   ]
  },
  {
   "cell_type": "markdown",
   "id": "8cb3302c",
   "metadata": {},
   "source": [
    "# Evaluation"
   ]
  },
  {
   "cell_type": "code",
   "execution_count": 2,
   "id": "6e6824179cc1b151",
   "metadata": {
    "collapsed": false
   },
   "outputs": [
    {
     "name": "stdout",
     "output_type": "stream",
     "text": [
      "  --> Loading pickled data from pickled_state/precomputed_genres.pickle\n"
     ]
    }
   ],
   "source": [
    "# Obtain necessary information and store for easy interop\n",
    "from genres import Genres\n",
    "from utils import get_retrieval_names_for_types\n",
    "\n",
    "genres = Genres()\n",
    "\n",
    "our_chosen_retrievals = [\n",
    "    # those have to be chosen because of the task description\n",
    "    \"early_fusion\",\n",
    "    \"late_fusion\",\n",
    "    \"text_tf_idf\",\n",
    "    \"text_bert\",\n",
    "    \"text_word2vec\",\n",
    "    \"musicnn\",\n",
    "\n",
    "    # one of the mfccs\n",
    "    # TODO\n",
    "\n",
    "    # one of the video features\n",
    "    # TODO\n",
    "\n",
    "    # one of the BLFs\n",
    "    # TODO\n",
    "\n",
    "    # one of the i-vectors\n",
    "    # TODO\n",
    "]\n"
   ]
  },
  {
   "cell_type": "markdown",
   "id": "3bf5897c7fedaea1",
   "metadata": {
    "collapsed": false
   },
   "source": [
    "## Accuracy\n",
    "#### 1. Precision@k & Recall@k"
   ]
  },
  {
   "cell_type": "code",
   "execution_count": 1,
   "id": "2ba8dc59e2dfdef4",
   "metadata": {
    "collapsed": false
   },
   "outputs": [
    {
     "ename": "ImportError",
     "evalue": "cannot import name 'datasets' from partially initialized module 'datasets' (most likely due to a circular import) (/workspaces/MMSR_GroupB_WS23/datasets.py)",
     "output_type": "error",
     "traceback": [
      "\u001b[0;31m---------------------------------------------------------------------------\u001b[0m",
      "\u001b[0;31mImportError\u001b[0m                               Traceback (most recent call last)",
      "Cell \u001b[0;32mIn[1], line 1\u001b[0m\n\u001b[0;32m----> 1\u001b[0m \u001b[38;5;28;01mfrom\u001b[39;00m \u001b[38;5;21;01mprecision_recall\u001b[39;00m \u001b[38;5;28;01mimport\u001b[39;00m PrecisionRecall\n\u001b[1;32m      3\u001b[0m pr \u001b[38;5;241m=\u001b[39m PrecisionRecall(genres)\n\u001b[1;32m      4\u001b[0m pr\u001b[38;5;241m.\u001b[39mcompute()\n",
      "File \u001b[0;32m/workspaces/MMSR_GroupB_WS23/precision_recall.py:5\u001b[0m\n\u001b[1;32m      2\u001b[0m \u001b[38;5;28;01mfrom\u001b[39;00m \u001b[38;5;21;01mtqdm\u001b[39;00m\u001b[38;5;21;01m.\u001b[39;00m\u001b[38;5;21;01mnotebook\u001b[39;00m \u001b[38;5;28;01mimport\u001b[39;00m tqdm\n\u001b[1;32m      3\u001b[0m \u001b[38;5;28;01mfrom\u001b[39;00m \u001b[38;5;21;01mdataclasses\u001b[39;00m \u001b[38;5;28;01mimport\u001b[39;00m dataclass\n\u001b[0;32m----> 5\u001b[0m \u001b[38;5;28;01mfrom\u001b[39;00m \u001b[38;5;21;01mgenres\u001b[39;00m \u001b[38;5;28;01mimport\u001b[39;00m Genres\n\u001b[1;32m      6\u001b[0m \u001b[38;5;28;01mfrom\u001b[39;00m \u001b[38;5;21;01mutils\u001b[39;00m \u001b[38;5;28;01mimport\u001b[39;00m unpickle_or_compute\n\u001b[1;32m      7\u001b[0m \u001b[38;5;28;01mfrom\u001b[39;00m \u001b[38;5;21;01mretrieval\u001b[39;00m \u001b[38;5;28;01mimport\u001b[39;00m Retrieval, RETRIEVAL_SYSTEMS\n",
      "File \u001b[0;32m/workspaces/MMSR_GroupB_WS23/genres.py:5\u001b[0m\n\u001b[1;32m      2\u001b[0m \u001b[38;5;28;01mfrom\u001b[39;00m \u001b[38;5;21;01mtyping\u001b[39;00m \u001b[38;5;28;01mimport\u001b[39;00m Optional\n\u001b[1;32m      3\u001b[0m \u001b[38;5;28;01mfrom\u001b[39;00m \u001b[38;5;21;01mtqdm\u001b[39;00m\u001b[38;5;21;01m.\u001b[39;00m\u001b[38;5;21;01mnotebook\u001b[39;00m \u001b[38;5;28;01mimport\u001b[39;00m tqdm\n\u001b[0;32m----> 5\u001b[0m \u001b[38;5;28;01mfrom\u001b[39;00m \u001b[38;5;21;01mdatasets\u001b[39;00m \u001b[38;5;28;01mimport\u001b[39;00m datasets\n\u001b[1;32m      6\u001b[0m \u001b[38;5;28;01mfrom\u001b[39;00m \u001b[38;5;21;01mutils\u001b[39;00m \u001b[38;5;28;01mimport\u001b[39;00m unpickle_or_compute\n\u001b[1;32m      9\u001b[0m \u001b[38;5;28;01mclass\u001b[39;00m \u001b[38;5;21;01mGenres\u001b[39;00m:\n",
      "File \u001b[0;32m/workspaces/MMSR_GroupB_WS23/datasets.py:5\u001b[0m\n\u001b[1;32m      2\u001b[0m \u001b[38;5;28;01mimport\u001b[39;00m \u001b[38;5;21;01mpandas\u001b[39;00m \u001b[38;5;28;01mas\u001b[39;00m \u001b[38;5;21;01mpd\u001b[39;00m\n\u001b[1;32m      3\u001b[0m \u001b[38;5;28;01mfrom\u001b[39;00m \u001b[38;5;21;01mtyping\u001b[39;00m \u001b[38;5;28;01mimport\u001b[39;00m Optional\n\u001b[0;32m----> 5\u001b[0m \u001b[38;5;28;01mfrom\u001b[39;00m \u001b[38;5;21;01mutils\u001b[39;00m \u001b[38;5;28;01mimport\u001b[39;00m read_tsv\n\u001b[1;32m      8\u001b[0m \u001b[38;5;28;01mclass\u001b[39;00m \u001b[38;5;21;01mLocalDataset\u001b[39;00m:\n\u001b[1;32m      9\u001b[0m     \u001b[38;5;28;01mdef\u001b[39;00m \u001b[38;5;21m__init__\u001b[39m(\u001b[38;5;28mself\u001b[39m, name: \u001b[38;5;28mstr\u001b[39m, df: Optional[pd\u001b[38;5;241m.\u001b[39mDataFrame] \u001b[38;5;241m=\u001b[39m \u001b[38;5;28;01mNone\u001b[39;00m):\n",
      "File \u001b[0;32m/workspaces/MMSR_GroupB_WS23/utils.py:7\u001b[0m\n\u001b[1;32m      4\u001b[0m \u001b[38;5;28;01mimport\u001b[39;00m \u001b[38;5;21;01mpandas\u001b[39;00m \u001b[38;5;28;01mas\u001b[39;00m \u001b[38;5;21;01mpd\u001b[39;00m\n\u001b[1;32m      5\u001b[0m \u001b[38;5;28;01mimport\u001b[39;00m \u001b[38;5;21;01mmatplotlib\u001b[39;00m\u001b[38;5;21;01m.\u001b[39;00m\u001b[38;5;21;01mpyplot\u001b[39;00m \u001b[38;5;28;01mas\u001b[39;00m \u001b[38;5;21;01mplt\u001b[39;00m\n\u001b[0;32m----> 7\u001b[0m \u001b[38;5;28;01mfrom\u001b[39;00m \u001b[38;5;21;01mretrieval\u001b[39;00m \u001b[38;5;28;01mimport\u001b[39;00m RETRIEVAL_SYSTEM_TYPE_COLORS, RETRIEVAL_SYSTEM_TYPES\n\u001b[1;32m     10\u001b[0m \u001b[38;5;28;01mdef\u001b[39;00m \u001b[38;5;21mread_tsv\u001b[39m(file: \u001b[38;5;28mstr\u001b[39m) \u001b[38;5;241m-\u001b[39m\u001b[38;5;241m>\u001b[39m pd\u001b[38;5;241m.\u001b[39mDataFrame:\n\u001b[1;32m     11\u001b[0m     \u001b[38;5;28;01mreturn\u001b[39;00m pd\u001b[38;5;241m.\u001b[39mread_csv(file, sep\u001b[38;5;241m=\u001b[39m\u001b[38;5;124m\"\u001b[39m\u001b[38;5;130;01m\\t\u001b[39;00m\u001b[38;5;124m\"\u001b[39m)\n",
      "File \u001b[0;32m/workspaces/MMSR_GroupB_WS23/retrieval.py:12\u001b[0m\n\u001b[1;32m      9\u001b[0m \u001b[38;5;28;01mfrom\u001b[39;00m \u001b[38;5;21;01msklearn\u001b[39;00m\u001b[38;5;21;01m.\u001b[39;00m\u001b[38;5;21;01mmetrics\u001b[39;00m\u001b[38;5;21;01m.\u001b[39;00m\u001b[38;5;21;01mpairwise\u001b[39;00m \u001b[38;5;28;01mimport\u001b[39;00m cosine_similarity\n\u001b[1;32m     10\u001b[0m \u001b[38;5;28;01mfrom\u001b[39;00m \u001b[38;5;21;01mmatplotlib\u001b[39;00m \u001b[38;5;28;01mimport\u001b[39;00m colors\n\u001b[0;32m---> 12\u001b[0m \u001b[38;5;28;01mfrom\u001b[39;00m \u001b[38;5;21;01msong\u001b[39;00m \u001b[38;5;28;01mimport\u001b[39;00m songs\n\u001b[1;32m     13\u001b[0m \u001b[38;5;28;01mfrom\u001b[39;00m \u001b[38;5;21;01mdatasets\u001b[39;00m \u001b[38;5;28;01mimport\u001b[39;00m datasets, LocalDataset\n\u001b[1;32m     16\u001b[0m RETRIEVAL_SYSTEMS \u001b[38;5;241m=\u001b[39m {\n\u001b[1;32m     17\u001b[0m     \u001b[38;5;124m\"\u001b[39m\u001b[38;5;124mrandom_baseline\u001b[39m\u001b[38;5;124m\"\u001b[39m: \u001b[38;5;28;01mlambda\u001b[39;00m retN, query: retN\u001b[38;5;241m.\u001b[39mrandom_baseline(query),\n\u001b[1;32m     18\u001b[0m     \u001b[38;5;66;03m# lyrics\u001b[39;00m\n\u001b[0;32m   (...)\u001b[0m\n\u001b[1;32m     44\u001b[0m     \u001b[38;5;124m\"\u001b[39m\u001b[38;5;124mlate_fusion\u001b[39m\u001b[38;5;124m\"\u001b[39m: \u001b[38;5;28;01mlambda\u001b[39;00m retN, query: retN\u001b[38;5;241m.\u001b[39mtop_similar_tracks(query, datasets\u001b[38;5;241m.\u001b[39mincp), \u001b[38;5;66;03m# TODO: change to actual early fusion; this is just a placeholder\u001b[39;00m\n\u001b[1;32m     45\u001b[0m }\n",
      "File \u001b[0;32m/workspaces/MMSR_GroupB_WS23/song.py:4\u001b[0m\n\u001b[1;32m      1\u001b[0m \u001b[38;5;28;01mfrom\u001b[39;00m \u001b[38;5;21;01mtyping\u001b[39;00m \u001b[38;5;28;01mimport\u001b[39;00m Tuple, Optional\n\u001b[1;32m      2\u001b[0m \u001b[38;5;28;01mfrom\u001b[39;00m \u001b[38;5;21;01mdataclasses\u001b[39;00m \u001b[38;5;28;01mimport\u001b[39;00m dataclass\n\u001b[0;32m----> 4\u001b[0m \u001b[38;5;28;01mfrom\u001b[39;00m \u001b[38;5;21;01mdatasets\u001b[39;00m \u001b[38;5;28;01mimport\u001b[39;00m datasets\n\u001b[1;32m      7\u001b[0m \u001b[38;5;129m@dataclass\u001b[39m\n\u001b[1;32m      8\u001b[0m \u001b[38;5;28;01mclass\u001b[39;00m \u001b[38;5;21;01mSong\u001b[39;00m:\n\u001b[1;32m      9\u001b[0m     title: \u001b[38;5;28mstr\u001b[39m\n",
      "\u001b[0;31mImportError\u001b[0m: cannot import name 'datasets' from partially initialized module 'datasets' (most likely due to a circular import) (/workspaces/MMSR_GroupB_WS23/datasets.py)"
     ]
    }
   ],
   "source": [
    "from precision_recall import PrecisionRecall\n",
    "\n",
    "pr = PrecisionRecall(genres)\n",
    "pr.compute()"
   ]
  },
  {
   "cell_type": "code",
   "execution_count": null,
   "id": "f8eefbf2e9e0f232",
   "metadata": {
    "collapsed": false
   },
   "outputs": [],
   "source": [
    "pr.plot_each(our_chosen_retrievals)"
   ]
  },
  {
   "cell_type": "code",
   "execution_count": null,
   "id": "e985534918f36752",
   "metadata": {
    "collapsed": false
   },
   "outputs": [],
   "source": [
    "# pr.plot_all_single() # i dont think it makes sense to plot\n",
    "# each one in a separate plot; it just takes up space and is hard to compare"
   ]
  },
  {
   "cell_type": "markdown",
   "id": "8204c79fba844c92",
   "metadata": {
    "collapsed": false
   },
   "source": [
    "#### 2. nDCG@10"
   ]
  },
  {
   "cell_type": "code",
   "execution_count": null,
   "id": "653380de9d6cd112",
   "metadata": {
    "collapsed": false
   },
   "outputs": [],
   "source": [
    "from ndcg import Ndcg\n",
    "\n",
    "ndcg = Ndcg(genres)\n",
    "ndcg.compute()\n",
    "ndcg.plot(our_chosen_retrievals)"
   ]
  },
  {
   "cell_type": "markdown",
   "id": "54dde3a324d213bf",
   "metadata": {
    "collapsed": false
   },
   "source": [
    "## Beyond Accuracy\n",
    "### 1. Genre Coverage@10"
   ]
  },
  {
   "cell_type": "code",
   "execution_count": null,
   "id": "5f192657e9b0f9fd",
   "metadata": {
    "collapsed": false
   },
   "outputs": [],
   "source": [
    "from genre_coverage import GenreCoverage\n",
    "\n",
    "genres_coverage = GenreCoverage(genres)\n",
    "genres_coverage.compute()\n",
    "genres_coverage.plot(our_chosen_retrievals)"
   ]
  },
  {
   "cell_type": "markdown",
   "id": "8d0a3f92b2ebb66a",
   "metadata": {
    "collapsed": false
   },
   "source": [
    "### 2. Genre Diversity@10"
   ]
  },
  {
   "cell_type": "code",
   "execution_count": 1,
   "id": "86431efc1621db4a",
   "metadata": {
    "collapsed": false
   },
   "outputs": [
    {
     "ename": "NameError",
     "evalue": "name 'genres' is not defined",
     "output_type": "error",
     "traceback": [
      "\u001b[0;31m---------------------------------------------------------------------------\u001b[0m",
      "\u001b[0;31mNameError\u001b[0m                                 Traceback (most recent call last)",
      "Cell \u001b[0;32mIn[1], line 3\u001b[0m\n\u001b[1;32m      1\u001b[0m \u001b[38;5;28;01mfrom\u001b[39;00m \u001b[38;5;21;01mgenre_diversity\u001b[39;00m \u001b[38;5;28;01mimport\u001b[39;00m GenreDiversity\n\u001b[0;32m----> 3\u001b[0m genres_diversity \u001b[38;5;241m=\u001b[39m GenreDiversity(\u001b[43mgenres\u001b[49m)\n\u001b[1;32m      4\u001b[0m genres_diversity\u001b[38;5;241m.\u001b[39mcompute()\n\u001b[1;32m      5\u001b[0m genres_diversity\u001b[38;5;241m.\u001b[39mplot(our_chosen_retrievals)\n",
      "\u001b[0;31mNameError\u001b[0m: name 'genres' is not defined"
     ]
    }
   ],
   "source": [
    "from genre_diversity import GenreDiversity\n",
    "\n",
    "genres_diversity = GenreDiversity(genres)\n",
    "genres_diversity.compute()\n",
    "genres_diversity.plot(our_chosen_retrievals)"
   ]
  },
  {
   "cell_type": "markdown",
   "id": "fb0fad69",
   "metadata": {},
   "source": [
    "## Combined Score"
   ]
  },
  {
   "cell_type": "markdown",
   "id": "35d7631a",
   "metadata": {},
   "source": [
    "<!-- F_1 score: harmonic mean of precision and recall\n",
    "\n",
    "We want to achieve a balance between finding similar tracks, but also \n",
    "\n",
    "eg that we want diversity high and genre coverage low -->\n",
    "\n",
    "justification for choosing which values we want to get high or low:\n",
    "we want to achieve the \"opposite\" of random baseline - eg \n",
    "\n",
    "- precision: random baseline scores low -> we want high precision\n",
    "- genre diversity: random baseline scores high -> we want low genre diversity\n",
    "\n",
    "why? we view random baseline as the worst \"system\", because there is no systematic approach behind it\n",
    "\n",
    "we want to find a balance between classical and user-centric metrics: we use 2 classical (f1 score + ndcg) and 2 user-centric (genre coverage + genre diversity) metrics; this is why we weight each metric equally (25%)\n",
    "\n",
    "the report should be divided in 4 category sections + 1 summary section: text, audio, video, fusion; each section starts with a chart composed of combined scores of all available retrieval systems in that category - we give our justification for choosing the systems for the final comparison based on the chart; the summary section contains all other charts with just our chosen features\n",
    "\n"
   ]
  },
  {
   "cell_type": "code",
   "execution_count": null,
   "id": "e8fd2327",
   "metadata": {},
   "outputs": [],
   "source": [
    "F_1 score (harmonic mean of precision and recall)"
   ]
  },
  {
   "cell_type": "code",
   "execution_count": 3,
   "id": "a54621ab",
   "metadata": {},
   "outputs": [
    {
     "name": "stdout",
     "output_type": "stream",
     "text": [
      "Error syncing cache with disk: Unterminated string starting at: line 1 column 32551791 (char 32551790)\n",
      "Error syncing cache with disk: Unterminated string starting at: line 1 column 32551791 (char 32551790)\n",
      "Calculating precision and recall for random_baseline\n",
      "  --> Loading pickled data from pickled_state/precision_recall_random_baseline.pickle\n",
      "Calculating precision and recall for text_tf_idf\n",
      "  --> Loading pickled data from pickled_state/precision_recall_text_tf_idf.pickle\n",
      "Calculating precision and recall for text_bert\n",
      "  --> Loading pickled data from pickled_state/precision_recall_text_bert.pickle\n",
      "Calculating precision and recall for text_word2vec\n",
      "  --> Loading pickled data from pickled_state/precision_recall_text_word2vec.pickle\n",
      "Calculating precision and recall for musicnn\n",
      "  --> Loading pickled data from pickled_state/precision_recall_musicnn.pickle\n",
      "Calculating precision and recall for mfcc_bow\n",
      "  --> Loading pickled data from pickled_state/precision_recall_mfcc_bow.pickle\n",
      "Calculating precision and recall for mfcc_stats\n",
      "  --> Loading pickled data from pickled_state/precision_recall_mfcc_stats.pickle\n",
      "Calculating precision and recall for ivec256\n",
      "  --> Loading pickled data from pickled_state/precision_recall_ivec256.pickle\n",
      "Calculating precision and recall for ivec512\n",
      "  --> Loading pickled data from pickled_state/precision_recall_ivec512.pickle\n",
      "Calculating precision and recall for ivec1024\n",
      "  --> Loading pickled data from pickled_state/precision_recall_ivec1024.pickle\n",
      "Calculating precision and recall for blf_correlation\n",
      "  --> Loading pickled data from pickled_state/precision_recall_blf_correlation.pickle\n",
      "Calculating precision and recall for blf_deltaspectral\n",
      "  --> Loading pickled data from pickled_state/precision_recall_blf_deltaspectral.pickle\n",
      "Calculating precision and recall for blf_logfluc\n",
      "  --> Loading pickled data from pickled_state/precision_recall_blf_logfluc.pickle\n",
      "Calculating precision and recall for blf_spectral\n",
      "  --> Loading pickled data from pickled_state/precision_recall_blf_spectral.pickle\n",
      "Calculating precision and recall for blf_spectralcontrast\n",
      "  --> Loading pickled data from pickled_state/precision_recall_blf_spectralcontrast.pickle\n",
      "Calculating precision and recall for blf_vardeltaspectral\n",
      "  --> Loading pickled data from pickled_state/precision_recall_blf_vardeltaspectral.pickle\n",
      "Calculating precision and recall for video_resnet\n",
      "  --> Loading pickled data from pickled_state/precision_recall_video_resnet.pickle\n",
      "Calculating precision and recall for video_incp\n",
      "  --> Loading pickled data from pickled_state/precision_recall_video_incp.pickle\n",
      "Calculating precision and recall for video_vgg19\n",
      "  --> Loading pickled data from pickled_state/precision_recall_video_vgg19.pickle\n",
      "Calculating precision and recall for early_fusion\n",
      "  --> Loading pickled data from pickled_state/precision_recall_early_fusion.pickle\n",
      "Calculating precision and recall for late_fusion\n",
      "  --> Loading pickled data from pickled_state/precision_recall_late_fusion.pickle\n",
      "Error syncing cache with disk: Unterminated string starting at: line 1 column 32551791 (char 32551790)\n",
      "Prepared 11 chunks to compute nDCG\n"
     ]
    },
    {
     "data": {
      "application/vnd.jupyter.widget-view+json": {
       "model_id": "870ab9b2e0494a00a4eb584d622bc1b2",
       "version_major": 2,
       "version_minor": 0
      },
      "text/plain": [
       "Computing nDCG in chunks of 1000:   0%|          | 0/11 [00:00<?, ?it/s]"
      ]
     },
     "metadata": {},
     "output_type": "display_data"
    },
    {
     "name": "stdout",
     "output_type": "stream",
     "text": [
      "  --> No pickled data file found. Performing on-the-fly data computation and saving to 'pickled_state/ndcg_10_chunk_0.pickle' for later (re-)use.\n"
     ]
    },
    {
     "ename": "",
     "evalue": "",
     "output_type": "error",
     "traceback": [
      "\u001b[1;31mThe Kernel crashed while executing code in the the current cell or a previous cell. Please review the code in the cell(s) to identify a possible cause of the failure. Click <a href='https://aka.ms/vscodeJupyterKernelCrash'>here</a> for more info. View Jupyter <a href='command:jupyter.viewOutput'>log</a> for further details."
     ]
    }
   ],
   "source": [
    "from combined_score import CombinedScore\n",
    "\n",
    "combined_score = CombinedScore(genres)\n",
    "combined_score.compute()\n",
    "\n",
    "combined_score.plot(get_retrieval_names_for_types([\"random\", \"audio\"]))\n",
    "combined_score.plot(get_retrieval_names_for_types([\"random\", \"video\"]))\n",
    "combined_score.plot(get_retrieval_names_for_types([\"random\", \"text\"]))\n",
    "combined_score.plot(get_retrieval_names_for_types([\"random\", \"fusion\"]))\n",
    "combined_score.plot(get_retrieval_names_for_types([\"random\", \"audio\", \"video\", \"text\", \"fusion\"]))"
   ]
  },
  {
   "cell_type": "markdown",
   "id": "02f13383",
   "metadata": {},
   "source": [
    "# Frontend"
   ]
  },
  {
   "cell_type": "code",
   "execution_count": null,
   "id": "4459a3d5daa479fa",
   "metadata": {
    "collapsed": false
   },
   "outputs": [],
   "source": [
    "# precompute retrievals (for frontend and chached lookup)\n",
    "\n",
    "# only do this if you want to recompute the retrieval\n",
    "\n",
    "#retrieval = Retrieval(n=100)\n",
    "#retrieval.precompute_all(threads=4)"
   ]
  },
  {
   "cell_type": "code",
   "execution_count": null,
   "id": "93d32489",
   "metadata": {},
   "outputs": [],
   "source": [
    "from utils import write_song_df_to_json_file\n",
    "\n",
    "write_song_df_to_json_file(\"frontend/static/songMeta.json\", datasets.information.df, datasets.url.df, datasets.genres.df)\n",
    "\n",
    "# frontend uses frontend/static/songMeta.json and retrievals/*.json\n"
   ]
  }
 ],
 "metadata": {
  "kernelspec": {
   "display_name": "Python 3 (ipykernel)",
   "language": "python",
   "name": "python3"
  },
  "language_info": {
   "codemirror_mode": {
    "name": "ipython",
    "version": 3
   },
   "file_extension": ".py",
   "mimetype": "text/x-python",
   "name": "python",
   "nbconvert_exporter": "python",
   "pygments_lexer": "ipython3",
   "version": "3.10.8"
  }
 },
 "nbformat": 4,
 "nbformat_minor": 5
}
