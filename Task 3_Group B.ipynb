{
 "cells": [
  {
   "cell_type": "markdown",
   "id": "4b45d764",
   "metadata": {},
   "source": [
    "<h1 style=\"color:rgb(0,120,170)\">344.038, KV Multimedia Search and Retrieval (WS2023/24)</h1>\n",
    "<h2 style=\"color:rgb(0,120,170)\">Task 2_Group B</h2>"
   ]
  },
  {
   "cell_type": "markdown",
   "id": "cf629014",
   "metadata": {},
   "source": [
    "| First Name | Family Name  | Matr.Nr   |\n",
    "|:-----------|:-------------|:----------|\n",
    "| Branko     | Paunović     | K12046370 |\n",
    "| Lukas      | Troyer       | K12006666 |\n",
    "| Hadi       | Sanaei       | K11733444 |"
   ]
  },
  {
   "cell_type": "markdown",
   "id": "e37ef5cd",
   "metadata": {},
   "source": [
    "# Retrieval systems"
   ]
  },
  {
   "cell_type": "markdown",
   "id": "92437e32c9ea0f1f",
   "metadata": {
    "collapsed": false
   },
   "source": [
    "#### Import datasets, setup helper interfaces"
   ]
  },
  {
   "cell_type": "code",
   "execution_count": null,
   "id": "d6fe9727-ec04-4803-94d1-ed8d756e0db7",
   "metadata": {
    "tags": []
   },
   "outputs": [],
   "source": [
    "%load_ext autoreload\n",
    "%autoreload 2\n",
    "\n",
    "import pandas as pd\n",
    "import numpy as np\n",
    "np.random.seed(42)\n",
    "from sklearn.decomposition import PCA\n",
    "\n",
    "from song import songs\n",
    "from datasets import datasets, LocalDataset\n",
    "from retrieval import Retrieval"
   ]
  },
  {
   "cell_type": "markdown",
   "id": "91573b97",
   "metadata": {},
   "source": [
    "#### Prompt for user input"
   ]
  },
  {
   "cell_type": "code",
   "execution_count": null,
   "id": "dd77cca7",
   "metadata": {},
   "outputs": [],
   "source": [
    "# Number of similar songs to retrieve\n",
    "num_top_similar = int(input(\"Enter the number of top similar tracks: \"))\n",
    "\n",
    "# Example:\n",
    "#   - Title: Letterman\n",
    "#   - Artist: Wiz Khalifa\n",
    "query, query_row_id = songs.prompt_song_query()"
   ]
  },
  {
   "cell_type": "markdown",
   "id": "c1fb346b",
   "metadata": {},
   "source": [
    "## Video-Based(\\<similarity\\>, \\<feature\\>)\n",
    "### 1. Video-based(similarity, incp)"
   ]
  },
  {
   "cell_type": "code",
   "execution_count": null,
   "id": "949bced0",
   "metadata": {},
   "outputs": [],
   "source": [
    "retN = Retrieval(n=num_top_similar)\n",
    "Retrieval.create_df_from_tracks(retN.top_similar_tracks(query_row_id, dataset=datasets.resnet))"
   ]
  },
  {
   "cell_type": "markdown",
   "id": "42a017e4",
   "metadata": {},
   "source": [
    "## Fusion-Based (\\<similarity\\>, \\<feature\\>)\n",
    "### Early Fusion"
   ]
  },
  {
   "cell_type": "code",
   "outputs": [],
   "source": [
    "def early_fusion_dataframe(d1: LocalDataset, d2: LocalDataset):\n",
    "    if len(d1.df) != len(d2.df):\n",
    "        raise ValueError(\"Both dataframes must have the same number of rows\")\n",
    "\n",
    "    # Concatenate dataframes along columns (axis=1)\n",
    "    df1_pca = pd.DataFrame(PCA(n_components=0.8).fit_transform(d1.df.iloc[:, 1:]))\n",
    "    df1_pca[\"id\"] = d1.df[\"id\"]\n",
    "\n",
    "    df2_pca = pd.DataFrame(PCA(n_components=0.8).fit_transform(d2.df.iloc[:, 1:]))\n",
    "    df2_pca[\"id\"] = d2.df[\"id\"]\n",
    "    \n",
    "    fused_df = pd.concat([df1_pca, df2_pca], axis=1)  \n",
    "    return fused_df\n",
    "\n",
    "\n",
    "df_ef = early_fusion_dataframe(datasets.musicnn, datasets.resnet)\n",
    "dataset_early_fusion = LocalDataset(\"early_fusion-musicnn_resnet\", df_ef)"
   ],
   "metadata": {
    "collapsed": false
   },
   "id": "49c78037",
   "execution_count": null
  },
  {
   "cell_type": "code",
   "outputs": [],
   "source": [
    "df_ef.head()"
   ],
   "metadata": {
    "collapsed": false
   },
   "id": "f844ef81b0bf263f",
   "execution_count": null
  },
  {
   "cell_type": "code",
   "outputs": [],
   "source": [
    "retN = Retrieval(n=num_top_similar)\n",
    "Retrieval.create_df_from_tracks(retN.top_similar_tracks(query_row_id, dataset=dataset_early_fusion))"
   ],
   "metadata": {
    "collapsed": false
   },
   "id": "d29cbc0c143a4690"
  },
  {
   "cell_type": "markdown",
   "id": "38fa1f6a",
   "metadata": {},
   "source": [
    "### Late Fusion"
   ]
  },
  {
   "cell_type": "code",
   "execution_count": null,
   "id": "46413a70",
   "metadata": {},
   "outputs": [],
   "source": [
    "#\n",
    "# Late fusion - Score Aggregation Fusion for two DataFrames (text and audio)\n",
    "#\n",
    "def late_fusion_df(d1: LocalDataset, d2: LocalDataset, d1_weight: float, d2_weight: float):\n",
    "    # Rename the 'similarity' column\n",
    "    df_1 = d1.df.copy().rename(columns={'similarity': 'similarity_d1'})\n",
    "    df_2 = d2.df.copy().rename(columns={'similarity': 'similarity_d2'})\n",
    "\n",
    "    # Merge DataFrames on 'id'\n",
    "    merged_df = pd.merge(df_2[['id', 'similarity_d2']], df_1, on='id')\n",
    "\n",
    "    # Assuming the scores are already normalized between 0 and 1\n",
    "    normalized_d1_scores = merged_df['similarity_d1'].values\n",
    "    normalized_d2_scores = merged_df['similarity_d2'].values\n",
    "\n",
    "    # Aggregate scores\n",
    "    aggregated_scores = d1_weight * normalized_d1_scores + d2_weight * normalized_d2_scores\n",
    "\n",
    "    # Add the aggregated scores to the DataFrame\n",
    "    merged_df['aggregated_score'] = aggregated_scores\n",
    "\n",
    "    # Sort DataFrame based on aggregated scores\n",
    "    sorted_fusion_df = merged_df.sort_values(by='aggregated_score', ascending=False)\n",
    "    return sorted_fusion_df\n",
    "\n",
    "fusion_results_df = late_fusion_df(\n",
    "    datasets.tf_idf,\n",
    "    datasets.musicnn,\n",
    "    d1_weight=0.6,\n",
    "    d2_weight=0.4\n",
    ")\n",
    "fusion_results_df"
   ]
  },
  {
   "cell_type": "code",
   "outputs": [],
   "source": [
    "#\n",
    "# Late fusion - Rank-Level Fusion for two DataFrames (video and audio)\n",
    "#\n",
    "def rank_level_fusion_video_audio(d1: LocalDataset, d2: LocalDataset, d1_weight: float, d2_weight: float):\n",
    "    # Rename the 'similarity' column\n",
    "    video_scores = d1.df.copy().rename(columns={'similarity': 'similarity_video'})\n",
    "    audio_scores = d2.df.copy().rename(columns={'similarity': 'similarity_audio'})\n",
    "\n",
    "    # Merge DataFrames on 'id'\n",
    "    merged_df = pd.merge(audio_scores[['id', 'similarity_audio']], video_scores, on='id')\n",
    "\n",
    "     # Assuming the scores are already normalized between 0 and 1\n",
    "    normalized_video_scores = merged_df['similarity_video'].values\n",
    "    normalized_audio_scores = merged_df['similarity_audio'].values\n",
    "\n",
    "    # Convert similarity scores to ranks using pandas Series\n",
    "    video_ranks = pd.Series(normalized_video_scores).rank(ascending=False)\n",
    "    audio_ranks = pd.Series(normalized_audio_scores).rank(ascending=False)\n",
    "\n",
    "    # Rank-level fusion: Combine the ranks using weighted sum\n",
    "    aggregated_ranks = d1_weight * video_ranks + d2_weight * audio_ranks\n",
    "\n",
    "    # Add the aggregated ranks to the DataFrame\n",
    "    merged_df['aggregated_rank'] = aggregated_ranks\n",
    "\n",
    "    # Sort DataFrame based on aggregated ranks\n",
    "    sorted_fusion_df = merged_df.sort_values(by='aggregated_rank')\n",
    "    return sorted_fusion_df\n",
    "\n",
    "# Example usage\n",
    "fusion_results_df = rank_level_fusion_video_audio(\n",
    "    datasets.resnet,\n",
    "    datasets.musicnn,\n",
    "    d1_weight=0.6,\n",
    "    d2_weight=0.4\n",
    ")\n"
   ],
   "metadata": {
    "collapsed": false
   },
   "id": "13ff4d42cc5c1346"
  },
  {
   "cell_type": "code",
   "outputs": [],
   "source": [
    "# Display the fused results\n",
    "print(\"Rank-Level Fusion Results:\")\n",
    "print(fusion_results_df[['id', 'similarity_video', 'similarity_audio', 'aggregated_rank']])"
   ],
   "metadata": {
    "collapsed": false
   },
   "id": "472ce2f270ab3861"
  },
  {
   "cell_type": "markdown",
   "id": "8cb3302c",
   "metadata": {},
   "source": [
    "# Evaluation"
   ]
  },
  {
   "cell_type": "code",
   "execution_count": null,
   "id": "6e6824179cc1b151",
   "metadata": {
    "collapsed": false
   },
   "outputs": [],
   "source": [
    "# Obtain necessary information and store for easy interop\n",
    "from genres import Genres\n",
    "\n",
    "genres = Genres()"
   ]
  },
  {
   "cell_type": "markdown",
   "id": "3bf5897c7fedaea1",
   "metadata": {
    "collapsed": false
   },
   "source": [
    "## Accuracy\n",
    "#### 1. Precision@k & Recall@k"
   ]
  },
  {
   "cell_type": "code",
   "execution_count": null,
   "id": "2ba8dc59e2dfdef4",
   "metadata": {
    "collapsed": false
   },
   "outputs": [],
   "source": [
    "from precision_recall import PrecisionRecall\n",
    "\n",
    "pr = PrecisionRecall(genres)\n",
    "pr.compute()"
   ]
  },
  {
   "cell_type": "code",
   "execution_count": null,
   "id": "f8eefbf2e9e0f232",
   "metadata": {
    "collapsed": false
   },
   "outputs": [],
   "source": [
    "pr.plot_each()"
   ]
  },
  {
   "cell_type": "code",
   "execution_count": null,
   "id": "e985534918f36752",
   "metadata": {
    "collapsed": false
   },
   "outputs": [],
   "source": [
    "pr.plot_all_single()"
   ]
  },
  {
   "cell_type": "markdown",
   "id": "8204c79fba844c92",
   "metadata": {
    "collapsed": false
   },
   "source": [
    "#### 2. nDCG@10"
   ]
  },
  {
   "cell_type": "code",
   "execution_count": null,
   "id": "653380de9d6cd112",
   "metadata": {
    "collapsed": false
   },
   "outputs": [],
   "source": [
    "from ndcg import Ndcg\n",
    "\n",
    "ndcg = Ndcg(genres)\n",
    "ndcg.compute()\n",
    "ndcg.plot()"
   ]
  },
  {
   "cell_type": "markdown",
   "id": "54dde3a324d213bf",
   "metadata": {
    "collapsed": false
   },
   "source": [
    "## Beyond Accuracy\n",
    "### 1. Genre Coverage@10"
   ]
  },
  {
   "cell_type": "code",
   "execution_count": null,
   "id": "5f192657e9b0f9fd",
   "metadata": {
    "collapsed": false
   },
   "outputs": [],
   "source": [
    "from genre_coverage import GenreCoverage\n",
    "\n",
    "genres_coverage = GenreCoverage(genres)\n",
    "genres_coverage.compute()\n",
    "genres_coverage.plot()"
   ]
  },
  {
   "cell_type": "markdown",
   "id": "8d0a3f92b2ebb66a",
   "metadata": {
    "collapsed": false
   },
   "source": [
    "### 2. Genre Diversity@10"
   ]
  },
  {
   "cell_type": "code",
   "execution_count": null,
   "id": "86431efc1621db4a",
   "metadata": {
    "collapsed": false
   },
   "outputs": [],
   "source": [
    "from genre_diversity import GenreDiversity\n",
    "\n",
    "genres_diversity = GenreDiversity(genres)\n",
    "genres_diversity.compute()\n",
    "genres_diversity.plot()"
   ]
  },
  {
   "cell_type": "markdown",
   "id": "02f13383",
   "metadata": {},
   "source": [
    "# Frontend"
   ]
  },
  {
   "cell_type": "code",
   "outputs": [],
   "source": [
    "# precompute retrievals (for frontend and chached lookup)\n",
    "\n",
    "# only do this if you want to recompute the retrieval\n",
    "\n",
    "#retrieval = Retrieval(n=100)\n",
    "#retrieval.precompute_all(threads=4)"
   ],
   "metadata": {
    "collapsed": false
   },
   "id": "4459a3d5daa479fa"
  },
  {
   "cell_type": "code",
   "execution_count": null,
   "id": "93d32489",
   "metadata": {},
   "outputs": [],
   "source": [
    "from utils import write_song_df_to_json_file\n",
    "\n",
    "write_song_df_to_json_file(\"frontend/static/songMeta.json\", datasets.information.df, datasets.url.df, datasets.genres.df)\n",
    "\n",
    "# frontend uses frontend/static/songMeta.json and retrievals/*.json\n"
   ]
  }
 ],
 "metadata": {
  "kernelspec": {
   "display_name": "Python 3 (ipykernel)",
   "language": "python",
   "name": "python3"
  },
  "language_info": {
   "codemirror_mode": {
    "name": "ipython",
    "version": 3
   },
   "file_extension": ".py",
   "mimetype": "text/x-python",
   "name": "python",
   "nbconvert_exporter": "python",
   "pygments_lexer": "ipython3",
   "version": "3.10.8"
  }
 },
 "nbformat": 4,
 "nbformat_minor": 5
}
