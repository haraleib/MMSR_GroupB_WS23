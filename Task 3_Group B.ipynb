{
 "cells": [
  {
   "cell_type": "markdown",
   "id": "4b45d764",
   "metadata": {},
   "source": [
    "<h1 style=\"color:rgb(0,120,170)\">344.038, KV Multimedia Search and Retrieval (WS2023/24)</h1>\n",
    "<h2 style=\"color:rgb(0,120,170)\">Task 2_Group B</h2>"
   ]
  },
  {
   "cell_type": "markdown",
   "id": "cf629014",
   "metadata": {},
   "source": [
    "| First Name | Family Name  | Matr.Nr   |\n",
    "|:-----------|:-------------|:----------|\n",
    "| Branko     | Paunović     | K12046370 |\n",
    "| Lukas      | Troyer       | K12006666 |\n",
    "| Hadi       | Sanaei       | K11733444 |"
   ]
  },
  {
   "cell_type": "markdown",
   "id": "e37ef5cd",
   "metadata": {},
   "source": [
    "# Retrieval systems"
   ]
  },
  {
   "cell_type": "markdown",
   "id": "92437e32c9ea0f1f",
   "metadata": {
    "collapsed": false
   },
   "source": [
    "#### Import datasets, setup helper interfaces"
   ]
  },
  {
   "cell_type": "code",
   "execution_count": 13,
   "id": "d6fe9727-ec04-4803-94d1-ed8d756e0db7",
   "metadata": {
    "tags": [],
    "ExecuteTime": {
     "end_time": "2024-01-17T19:13:34.135977760Z",
     "start_time": "2024-01-17T19:13:34.028738500Z"
    }
   },
   "outputs": [
    {
     "name": "stdout",
     "output_type": "stream",
     "text": [
      "The autoreload extension is already loaded. To reload it, use:\n",
      "  %reload_ext autoreload\n"
     ]
    }
   ],
   "source": [
    "%load_ext autoreload\n",
    "%autoreload 2\n",
    "\n",
    "import pandas as pd\n",
    "import numpy as np\n",
    "np.random.seed(42)\n",
    "from sklearn.decomposition import PCA\n",
    "\n",
    "from song import songs\n",
    "from datasets import datasets, LocalDataset\n",
    "from retrieval import Retrieval"
   ]
  },
  {
   "cell_type": "markdown",
   "id": "91573b97",
   "metadata": {},
   "source": [
    "#### Prompt for user input"
   ]
  },
  {
   "cell_type": "code",
   "execution_count": 14,
   "id": "dd77cca7",
   "metadata": {
    "ExecuteTime": {
     "end_time": "2024-01-17T19:13:38.787917202Z",
     "start_time": "2024-01-17T19:13:34.334250912Z"
    }
   },
   "outputs": [],
   "source": [
    "# Number of similar songs to retrieve\n",
    "num_top_similar = int(input(\"Enter the number of top similar tracks: \"))\n",
    "\n",
    "# Example:\n",
    "#   - Title: Letterman\n",
    "#   - Artist: Wiz Khalifa\n",
    "query, query_row_id = songs.prompt_song_query()"
   ]
  },
  {
   "cell_type": "markdown",
   "id": "c1fb346b",
   "metadata": {},
   "source": [
    "## Video-Based(\\<similarity\\>, \\<feature\\>)\n",
    "### 1. Video-based(similarity, incp)"
   ]
  },
  {
   "cell_type": "code",
   "execution_count": 18,
   "id": "949bced0",
   "metadata": {
    "ExecuteTime": {
     "end_time": "2024-01-17T19:15:47.533277720Z",
     "start_time": "2024-01-17T19:15:46.722038226Z"
    }
   },
   "outputs": [
    {
     "data": {
      "text/plain": "                   id  similarity                          song  \\\n0    GY25og83Ng5O9s75    0.783461                     Remind Me   \n1    gw9zZ3xtxoEjmYeB    0.777114                         Locos   \n2    8syTodUYnWUZtcIo    0.771750  Voodoo Child (Slight Return)   \n3    Dtf7ZV2mJSpyuvdD    0.770228                    Hollow Man   \n4    VSfGMu47DQFgMW4m    0.764065              Love Is The Drug   \n..                ...         ...                           ...   \n995  E3K4sUUHehfoyjAF    0.674752    The Man Who Built the Moon   \n996  7tvp9DzVHK0TBHxy    0.674736              My Kind of Woman   \n997  b7YQyrYtR8wTvowM    0.674621   The Ballad of John and Yoko   \n998  L2gnt8dqIkmRjefp    0.674609                The Void Alone   \n999  lbTW6YAzKbARhB59    0.674579           Raining in My Heart   \n\n                                 artist                           album_name  \n0                              Röyksopp                          Melody A.M.  \n1                          Cypress Hill                    Elephants on Acid  \n2                          Jimi Hendrix                    Electric Ladyland  \n3                                R.E.M.                           Accelerate  \n4                           Grace Jones                          Island Life  \n..                                  ...                                  ...  \n995  Noel Gallagher's High Flying Birds                  Who Built The Moon?  \n996                         Mac DeMarco                                    2  \n997                         The Beatles                       1 (Remastered)  \n998                            Fallujah                            Dreamless  \n999                         Buddy Holly  20 Golden Greats: Buddy Holly Lives  \n\n[1000 rows x 5 columns]",
      "text/html": "<div>\n<style scoped>\n    .dataframe tbody tr th:only-of-type {\n        vertical-align: middle;\n    }\n\n    .dataframe tbody tr th {\n        vertical-align: top;\n    }\n\n    .dataframe thead th {\n        text-align: right;\n    }\n</style>\n<table border=\"1\" class=\"dataframe\">\n  <thead>\n    <tr style=\"text-align: right;\">\n      <th></th>\n      <th>id</th>\n      <th>similarity</th>\n      <th>song</th>\n      <th>artist</th>\n      <th>album_name</th>\n    </tr>\n  </thead>\n  <tbody>\n    <tr>\n      <th>0</th>\n      <td>GY25og83Ng5O9s75</td>\n      <td>0.783461</td>\n      <td>Remind Me</td>\n      <td>Röyksopp</td>\n      <td>Melody A.M.</td>\n    </tr>\n    <tr>\n      <th>1</th>\n      <td>gw9zZ3xtxoEjmYeB</td>\n      <td>0.777114</td>\n      <td>Locos</td>\n      <td>Cypress Hill</td>\n      <td>Elephants on Acid</td>\n    </tr>\n    <tr>\n      <th>2</th>\n      <td>8syTodUYnWUZtcIo</td>\n      <td>0.771750</td>\n      <td>Voodoo Child (Slight Return)</td>\n      <td>Jimi Hendrix</td>\n      <td>Electric Ladyland</td>\n    </tr>\n    <tr>\n      <th>3</th>\n      <td>Dtf7ZV2mJSpyuvdD</td>\n      <td>0.770228</td>\n      <td>Hollow Man</td>\n      <td>R.E.M.</td>\n      <td>Accelerate</td>\n    </tr>\n    <tr>\n      <th>4</th>\n      <td>VSfGMu47DQFgMW4m</td>\n      <td>0.764065</td>\n      <td>Love Is The Drug</td>\n      <td>Grace Jones</td>\n      <td>Island Life</td>\n    </tr>\n    <tr>\n      <th>...</th>\n      <td>...</td>\n      <td>...</td>\n      <td>...</td>\n      <td>...</td>\n      <td>...</td>\n    </tr>\n    <tr>\n      <th>995</th>\n      <td>E3K4sUUHehfoyjAF</td>\n      <td>0.674752</td>\n      <td>The Man Who Built the Moon</td>\n      <td>Noel Gallagher's High Flying Birds</td>\n      <td>Who Built The Moon?</td>\n    </tr>\n    <tr>\n      <th>996</th>\n      <td>7tvp9DzVHK0TBHxy</td>\n      <td>0.674736</td>\n      <td>My Kind of Woman</td>\n      <td>Mac DeMarco</td>\n      <td>2</td>\n    </tr>\n    <tr>\n      <th>997</th>\n      <td>b7YQyrYtR8wTvowM</td>\n      <td>0.674621</td>\n      <td>The Ballad of John and Yoko</td>\n      <td>The Beatles</td>\n      <td>1 (Remastered)</td>\n    </tr>\n    <tr>\n      <th>998</th>\n      <td>L2gnt8dqIkmRjefp</td>\n      <td>0.674609</td>\n      <td>The Void Alone</td>\n      <td>Fallujah</td>\n      <td>Dreamless</td>\n    </tr>\n    <tr>\n      <th>999</th>\n      <td>lbTW6YAzKbARhB59</td>\n      <td>0.674579</td>\n      <td>Raining in My Heart</td>\n      <td>Buddy Holly</td>\n      <td>20 Golden Greats: Buddy Holly Lives</td>\n    </tr>\n  </tbody>\n</table>\n<p>1000 rows × 5 columns</p>\n</div>"
     },
     "execution_count": 18,
     "metadata": {},
     "output_type": "execute_result"
    }
   ],
   "source": [
    "retN = Retrieval(n=num_top_similar, use_cache=False)\n",
    "Retrieval.create_df_from_tracks(retN.top_similar_tracks(query_row_id, dataset=datasets.resnet))"
   ]
  },
  {
   "cell_type": "code",
   "outputs": [
    {
     "data": {
      "text/plain": "                   id  similarity                  song          artist  \\\n0    GY25og83Ng5O9s75    0.758116             Remind Me        Röyksopp   \n1    6DiqMk5OTw4xE8tG    0.748836                Alison  Elvis Costello   \n2    UUT3MnnHgEmcJVPR    0.743280        After the Rain   John Coltrane   \n3    f2tGa2kADrdE7XJX    0.739452       Oh What A Night       The Dells   \n4    YCrt9iFhB5Y8XXMT    0.739356        Mesmo que Mude   Bidê ou Balde   \n..                ...         ...                   ...             ...   \n995  jOEL85ImTTwtWGYP    0.638873       Open Your Heart          Europe   \n996  OvWUN6tNDYIxgrn8    0.638819       Drain The Blood  The Distillers   \n997  5k0J8Khb6W0O7vt8    0.638795  Edge Of A Revolution      Nickelback   \n998  Z4W9fn9FHHNMtdPh    0.638787      Stratford-on-Guy       Liz Phair   \n999  7s9HbLG6ol1RTlLv    0.638786              Spaceman   4 Non Blondes   \n\n                                  album_name  \n0                                Melody A.M.  \n1                             My Aim Is True  \n2                                Impressions  \n3                         At Their Very Best  \n4       É Preciso Dar Vazão aos Sentimentos!  \n..                                       ...  \n995                        Wings Of Tomorrow  \n996  Coral Fang (Alternate Cover PA Version)  \n997                         No Fixed Address  \n998           Exile In Guyville (Remastered)  \n999           Bigger, Better, Faster, More !  \n\n[1000 rows x 5 columns]",
      "text/html": "<div>\n<style scoped>\n    .dataframe tbody tr th:only-of-type {\n        vertical-align: middle;\n    }\n\n    .dataframe tbody tr th {\n        vertical-align: top;\n    }\n\n    .dataframe thead th {\n        text-align: right;\n    }\n</style>\n<table border=\"1\" class=\"dataframe\">\n  <thead>\n    <tr style=\"text-align: right;\">\n      <th></th>\n      <th>id</th>\n      <th>similarity</th>\n      <th>song</th>\n      <th>artist</th>\n      <th>album_name</th>\n    </tr>\n  </thead>\n  <tbody>\n    <tr>\n      <th>0</th>\n      <td>GY25og83Ng5O9s75</td>\n      <td>0.758116</td>\n      <td>Remind Me</td>\n      <td>Röyksopp</td>\n      <td>Melody A.M.</td>\n    </tr>\n    <tr>\n      <th>1</th>\n      <td>6DiqMk5OTw4xE8tG</td>\n      <td>0.748836</td>\n      <td>Alison</td>\n      <td>Elvis Costello</td>\n      <td>My Aim Is True</td>\n    </tr>\n    <tr>\n      <th>2</th>\n      <td>UUT3MnnHgEmcJVPR</td>\n      <td>0.743280</td>\n      <td>After the Rain</td>\n      <td>John Coltrane</td>\n      <td>Impressions</td>\n    </tr>\n    <tr>\n      <th>3</th>\n      <td>f2tGa2kADrdE7XJX</td>\n      <td>0.739452</td>\n      <td>Oh What A Night</td>\n      <td>The Dells</td>\n      <td>At Their Very Best</td>\n    </tr>\n    <tr>\n      <th>4</th>\n      <td>YCrt9iFhB5Y8XXMT</td>\n      <td>0.739356</td>\n      <td>Mesmo que Mude</td>\n      <td>Bidê ou Balde</td>\n      <td>É Preciso Dar Vazão aos Sentimentos!</td>\n    </tr>\n    <tr>\n      <th>...</th>\n      <td>...</td>\n      <td>...</td>\n      <td>...</td>\n      <td>...</td>\n      <td>...</td>\n    </tr>\n    <tr>\n      <th>995</th>\n      <td>jOEL85ImTTwtWGYP</td>\n      <td>0.638873</td>\n      <td>Open Your Heart</td>\n      <td>Europe</td>\n      <td>Wings Of Tomorrow</td>\n    </tr>\n    <tr>\n      <th>996</th>\n      <td>OvWUN6tNDYIxgrn8</td>\n      <td>0.638819</td>\n      <td>Drain The Blood</td>\n      <td>The Distillers</td>\n      <td>Coral Fang (Alternate Cover PA Version)</td>\n    </tr>\n    <tr>\n      <th>997</th>\n      <td>5k0J8Khb6W0O7vt8</td>\n      <td>0.638795</td>\n      <td>Edge Of A Revolution</td>\n      <td>Nickelback</td>\n      <td>No Fixed Address</td>\n    </tr>\n    <tr>\n      <th>998</th>\n      <td>Z4W9fn9FHHNMtdPh</td>\n      <td>0.638787</td>\n      <td>Stratford-on-Guy</td>\n      <td>Liz Phair</td>\n      <td>Exile In Guyville (Remastered)</td>\n    </tr>\n    <tr>\n      <th>999</th>\n      <td>7s9HbLG6ol1RTlLv</td>\n      <td>0.638786</td>\n      <td>Spaceman</td>\n      <td>4 Non Blondes</td>\n      <td>Bigger, Better, Faster, More !</td>\n    </tr>\n  </tbody>\n</table>\n<p>1000 rows × 5 columns</p>\n</div>"
     },
     "execution_count": 19,
     "metadata": {},
     "output_type": "execute_result"
    }
   ],
   "source": [
    "Retrieval.create_df_from_tracks(retN.top_similar_tracks(query_row_id, dataset=datasets.vgg))"
   ],
   "metadata": {
    "collapsed": false,
    "ExecuteTime": {
     "end_time": "2024-01-17T19:15:58.743945285Z",
     "start_time": "2024-01-17T19:15:56.916705506Z"
    }
   },
   "id": "a4f17c6fd2ad528",
   "execution_count": 19
  },
  {
   "cell_type": "code",
   "outputs": [
    {
     "data": {
      "text/plain": "                   id  similarity               song           artist  \\\n0    2wPQxBfn7e7MjdWu    0.902862     Blue Eyed Hexe           Pixies   \n1    Dtf7ZV2mJSpyuvdD    0.901582         Hollow Man           R.E.M.   \n2    IKEsVgEXFbIw7xc0    0.900696      House Of Love          East 17   \n3    GY25og83Ng5O9s75    0.900293          Remind Me         Röyksopp   \n4    lQQp4nJxCBg0KYhP    0.898965  Looking For Clues    Robert Palmer   \n..                ...         ...                ...              ...   \n995  knCRp64TFxWO7HWZ    0.867551              Yoncé          Beyoncé   \n996  qGHDYOyP7HMPvxKJ    0.867532              Shout  Tears for Fears   \n997  P8ocVhSIrHZczAww    0.867516            Rapture          Blondie   \n998  4sZGmR6zthqYotiU    0.867504              Alive          Da Buzz   \n999  mBAxnGf7O8iHxl9y    0.867494           Generous      Olivia Holt   \n\n                         album_name  \n0                       Indie Cindy  \n1                        Accelerate  \n2                       Walthamstow  \n3                       Melody A.M.  \n4                             Clues  \n..                              ...  \n995         The Lion King: The Gift  \n996        Songs From The Big Chair  \n997          Greatest Hits: Blondie  \n998   The Best Of Da Buzz 1999-2007  \n999  Generous (Martin Jensen Remix)  \n\n[1000 rows x 5 columns]",
      "text/html": "<div>\n<style scoped>\n    .dataframe tbody tr th:only-of-type {\n        vertical-align: middle;\n    }\n\n    .dataframe tbody tr th {\n        vertical-align: top;\n    }\n\n    .dataframe thead th {\n        text-align: right;\n    }\n</style>\n<table border=\"1\" class=\"dataframe\">\n  <thead>\n    <tr style=\"text-align: right;\">\n      <th></th>\n      <th>id</th>\n      <th>similarity</th>\n      <th>song</th>\n      <th>artist</th>\n      <th>album_name</th>\n    </tr>\n  </thead>\n  <tbody>\n    <tr>\n      <th>0</th>\n      <td>2wPQxBfn7e7MjdWu</td>\n      <td>0.902862</td>\n      <td>Blue Eyed Hexe</td>\n      <td>Pixies</td>\n      <td>Indie Cindy</td>\n    </tr>\n    <tr>\n      <th>1</th>\n      <td>Dtf7ZV2mJSpyuvdD</td>\n      <td>0.901582</td>\n      <td>Hollow Man</td>\n      <td>R.E.M.</td>\n      <td>Accelerate</td>\n    </tr>\n    <tr>\n      <th>2</th>\n      <td>IKEsVgEXFbIw7xc0</td>\n      <td>0.900696</td>\n      <td>House Of Love</td>\n      <td>East 17</td>\n      <td>Walthamstow</td>\n    </tr>\n    <tr>\n      <th>3</th>\n      <td>GY25og83Ng5O9s75</td>\n      <td>0.900293</td>\n      <td>Remind Me</td>\n      <td>Röyksopp</td>\n      <td>Melody A.M.</td>\n    </tr>\n    <tr>\n      <th>4</th>\n      <td>lQQp4nJxCBg0KYhP</td>\n      <td>0.898965</td>\n      <td>Looking For Clues</td>\n      <td>Robert Palmer</td>\n      <td>Clues</td>\n    </tr>\n    <tr>\n      <th>...</th>\n      <td>...</td>\n      <td>...</td>\n      <td>...</td>\n      <td>...</td>\n      <td>...</td>\n    </tr>\n    <tr>\n      <th>995</th>\n      <td>knCRp64TFxWO7HWZ</td>\n      <td>0.867551</td>\n      <td>Yoncé</td>\n      <td>Beyoncé</td>\n      <td>The Lion King: The Gift</td>\n    </tr>\n    <tr>\n      <th>996</th>\n      <td>qGHDYOyP7HMPvxKJ</td>\n      <td>0.867532</td>\n      <td>Shout</td>\n      <td>Tears for Fears</td>\n      <td>Songs From The Big Chair</td>\n    </tr>\n    <tr>\n      <th>997</th>\n      <td>P8ocVhSIrHZczAww</td>\n      <td>0.867516</td>\n      <td>Rapture</td>\n      <td>Blondie</td>\n      <td>Greatest Hits: Blondie</td>\n    </tr>\n    <tr>\n      <th>998</th>\n      <td>4sZGmR6zthqYotiU</td>\n      <td>0.867504</td>\n      <td>Alive</td>\n      <td>Da Buzz</td>\n      <td>The Best Of Da Buzz 1999-2007</td>\n    </tr>\n    <tr>\n      <th>999</th>\n      <td>mBAxnGf7O8iHxl9y</td>\n      <td>0.867494</td>\n      <td>Generous</td>\n      <td>Olivia Holt</td>\n      <td>Generous (Martin Jensen Remix)</td>\n    </tr>\n  </tbody>\n</table>\n<p>1000 rows × 5 columns</p>\n</div>"
     },
     "execution_count": 20,
     "metadata": {},
     "output_type": "execute_result"
    }
   ],
   "source": [
    "Retrieval.create_df_from_tracks(retN.top_similar_tracks(query_row_id, dataset=datasets.incp))"
   ],
   "metadata": {
    "collapsed": false,
    "ExecuteTime": {
     "end_time": "2024-01-17T19:16:01.051741065Z",
     "start_time": "2024-01-17T19:16:00.324406964Z"
    }
   },
   "id": "3aab88b4dcc1d19d",
   "execution_count": 20
  },
  {
   "cell_type": "markdown",
   "id": "42a017e4",
   "metadata": {},
   "source": [
    "## Fusion-Based (\\<similarity\\>, \\<feature\\>)\n",
    "### Early Fusion"
   ]
  },
  {
   "cell_type": "code",
   "outputs": [],
   "source": [
    "def early_fusion_dataframe(d1: LocalDataset, d2: LocalDataset):\n",
    "    if len(d1.df) != len(d2.df):\n",
    "        raise ValueError(\"Both dataframes must have the same number of rows\")\n",
    "\n",
    "    # Concatenate dataframes along columns (axis=1)\n",
    "    df1_pca = pd.DataFrame(PCA(n_components=0.8).fit_transform(d1.df.iloc[:, 1:]))\n",
    "    df1_pca[\"id\"] = d1.df[\"id\"]\n",
    "\n",
    "    df2_pca = pd.DataFrame(PCA(n_components=0.8).fit_transform(d2.df.iloc[:, 1:]))\n",
    "    df2_pca[\"id\"] = d2.df[\"id\"]\n",
    "    \n",
    "    fused_df = pd.concat([df1_pca, df2_pca], axis=1)  \n",
    "    return fused_df\n",
    "\n",
    "\n",
    "df_ef = early_fusion_dataframe(datasets.musicnn, datasets.resnet)\n",
    "dataset_early_fusion = LocalDataset(\"early_fusion-musicnn_resnet\", df_ef)"
   ],
   "metadata": {
    "collapsed": false
   },
   "id": "49c78037",
   "execution_count": null
  },
  {
   "cell_type": "code",
   "outputs": [],
   "source": [
    "df_ef.head()"
   ],
   "metadata": {
    "collapsed": false
   },
   "id": "f844ef81b0bf263f",
   "execution_count": null
  },
  {
   "cell_type": "code",
   "outputs": [],
   "source": [
    "retN = Retrieval(n=num_top_similar)\n",
    "Retrieval.create_df_from_tracks(retN.top_similar_tracks(query_row_id, dataset=dataset_early_fusion))"
   ],
   "metadata": {
    "collapsed": false
   },
   "id": "d29cbc0c143a4690"
  },
  {
   "cell_type": "markdown",
   "id": "38fa1f6a",
   "metadata": {},
   "source": [
    "### Late Fusion"
   ]
  },
  {
   "cell_type": "code",
   "execution_count": null,
   "id": "46413a70",
   "metadata": {},
   "outputs": [],
   "source": [
    "#\n",
    "# Late fusion - Score Aggregation Fusion for two DataFrames (text and audio)\n",
    "#\n",
    "def late_fusion_df(d1: LocalDataset, d2: LocalDataset, d1_weight: float, d2_weight: float):\n",
    "    # Rename the 'similarity' column\n",
    "    df_1 = d1.df.copy().rename(columns={'similarity': 'similarity_d1'})\n",
    "    df_2 = d2.df.copy().rename(columns={'similarity': 'similarity_d2'})\n",
    "\n",
    "    # Merge DataFrames on 'id'\n",
    "    merged_df = pd.merge(df_2[['id', 'similarity_d2']], df_1, on='id')\n",
    "\n",
    "    # Assuming the scores are already normalized between 0 and 1\n",
    "    normalized_d1_scores = merged_df['similarity_d1'].values\n",
    "    normalized_d2_scores = merged_df['similarity_d2'].values\n",
    "\n",
    "    # Aggregate scores\n",
    "    aggregated_scores = d1_weight * normalized_d1_scores + d2_weight * normalized_d2_scores\n",
    "\n",
    "    # Add the aggregated scores to the DataFrame\n",
    "    merged_df['aggregated_score'] = aggregated_scores\n",
    "\n",
    "    # Sort DataFrame based on aggregated scores\n",
    "    sorted_fusion_df = merged_df.sort_values(by='aggregated_score', ascending=False)\n",
    "    return sorted_fusion_df\n",
    "\n",
    "fusion_results_df = late_fusion_df(\n",
    "    datasets.tf_idf,\n",
    "    datasets.musicnn,\n",
    "    d1_weight=0.6,\n",
    "    d2_weight=0.4\n",
    ")\n",
    "fusion_results_df"
   ]
  },
  {
   "cell_type": "code",
   "outputs": [],
   "source": [
    "#\n",
    "# Late fusion - Rank-Level Fusion for two DataFrames (video and audio)\n",
    "#\n",
    "def rank_level_fusion_video_audio(d1: LocalDataset, d2: LocalDataset, d1_weight: float, d2_weight: float):\n",
    "    # Rename the 'similarity' column\n",
    "    video_scores = d1.df.copy().rename(columns={'similarity': 'similarity_video'})\n",
    "    audio_scores = d2.df.copy().rename(columns={'similarity': 'similarity_audio'})\n",
    "\n",
    "    # Merge DataFrames on 'id'\n",
    "    merged_df = pd.merge(audio_scores[['id', 'similarity_audio']], video_scores, on='id')\n",
    "\n",
    "     # Assuming the scores are already normalized between 0 and 1\n",
    "    normalized_video_scores = merged_df['similarity_video'].values\n",
    "    normalized_audio_scores = merged_df['similarity_audio'].values\n",
    "\n",
    "    # Convert similarity scores to ranks using pandas Series\n",
    "    video_ranks = pd.Series(normalized_video_scores).rank(ascending=False)\n",
    "    audio_ranks = pd.Series(normalized_audio_scores).rank(ascending=False)\n",
    "\n",
    "    # Rank-level fusion: Combine the ranks using weighted sum\n",
    "    aggregated_ranks = d1_weight * video_ranks + d2_weight * audio_ranks\n",
    "\n",
    "    # Add the aggregated ranks to the DataFrame\n",
    "    merged_df['aggregated_rank'] = aggregated_ranks\n",
    "\n",
    "    # Sort DataFrame based on aggregated ranks\n",
    "    sorted_fusion_df = merged_df.sort_values(by='aggregated_rank')\n",
    "    return sorted_fusion_df\n",
    "\n",
    "# Example usage\n",
    "fusion_results_df = rank_level_fusion_video_audio(\n",
    "    datasets.resnet,\n",
    "    datasets.musicnn,\n",
    "    d1_weight=0.6,\n",
    "    d2_weight=0.4\n",
    ")\n"
   ],
   "metadata": {
    "collapsed": false
   },
   "id": "13ff4d42cc5c1346"
  },
  {
   "cell_type": "code",
   "outputs": [],
   "source": [
    "# Display the fused results\n",
    "print(\"Rank-Level Fusion Results:\")\n",
    "print(fusion_results_df[['id', 'similarity_video', 'similarity_audio', 'aggregated_rank']])"
   ],
   "metadata": {
    "collapsed": false
   },
   "id": "472ce2f270ab3861"
  },
  {
   "cell_type": "markdown",
   "id": "8cb3302c",
   "metadata": {},
   "source": [
    "# Evaluation"
   ]
  },
  {
   "cell_type": "code",
   "execution_count": null,
   "id": "6e6824179cc1b151",
   "metadata": {
    "collapsed": false
   },
   "outputs": [],
   "source": [
    "# Obtain necessary information and store for easy interop\n",
    "from genres import Genres\n",
    "\n",
    "genres = Genres()"
   ]
  },
  {
   "cell_type": "markdown",
   "id": "3bf5897c7fedaea1",
   "metadata": {
    "collapsed": false
   },
   "source": [
    "## Accuracy\n",
    "#### 1. Precision@k & Recall@k"
   ]
  },
  {
   "cell_type": "code",
   "execution_count": null,
   "id": "2ba8dc59e2dfdef4",
   "metadata": {
    "collapsed": false
   },
   "outputs": [],
   "source": [
    "from precision_recall import PrecisionRecall\n",
    "\n",
    "pr = PrecisionRecall(genres)\n",
    "pr.compute()"
   ]
  },
  {
   "cell_type": "code",
   "execution_count": null,
   "id": "f8eefbf2e9e0f232",
   "metadata": {
    "collapsed": false
   },
   "outputs": [],
   "source": [
    "pr.plot_each()"
   ]
  },
  {
   "cell_type": "code",
   "execution_count": null,
   "id": "e985534918f36752",
   "metadata": {
    "collapsed": false
   },
   "outputs": [],
   "source": [
    "pr.plot_all_single()"
   ]
  },
  {
   "cell_type": "markdown",
   "id": "8204c79fba844c92",
   "metadata": {
    "collapsed": false
   },
   "source": [
    "#### 2. nDCG@10"
   ]
  },
  {
   "cell_type": "code",
   "execution_count": null,
   "id": "653380de9d6cd112",
   "metadata": {
    "collapsed": false
   },
   "outputs": [],
   "source": [
    "from ndcg import Ndcg\n",
    "\n",
    "ndcg = Ndcg(genres)\n",
    "ndcg.compute()\n",
    "ndcg.plot()"
   ]
  },
  {
   "cell_type": "markdown",
   "id": "54dde3a324d213bf",
   "metadata": {
    "collapsed": false
   },
   "source": [
    "## Beyond Accuracy\n",
    "### 1. Genre Coverage@10"
   ]
  },
  {
   "cell_type": "code",
   "execution_count": null,
   "id": "5f192657e9b0f9fd",
   "metadata": {
    "collapsed": false
   },
   "outputs": [],
   "source": [
    "from genre_coverage import GenreCoverage\n",
    "\n",
    "genres_coverage = GenreCoverage(genres)\n",
    "genres_coverage.compute()\n",
    "genres_coverage.plot()"
   ]
  },
  {
   "cell_type": "markdown",
   "id": "8d0a3f92b2ebb66a",
   "metadata": {
    "collapsed": false
   },
   "source": [
    "### 2. Genre Diversity@10"
   ]
  },
  {
   "cell_type": "code",
   "execution_count": null,
   "id": "86431efc1621db4a",
   "metadata": {
    "collapsed": false
   },
   "outputs": [],
   "source": [
    "from genre_diversity import GenreDiversity\n",
    "\n",
    "genres_diversity = GenreDiversity(genres)\n",
    "genres_diversity.compute()\n",
    "genres_diversity.plot()"
   ]
  },
  {
   "cell_type": "markdown",
   "id": "02f13383",
   "metadata": {},
   "source": [
    "# Frontend"
   ]
  },
  {
   "cell_type": "code",
   "outputs": [],
   "source": [
    "# precompute retrievals (for frontend and chached lookup)\n",
    "\n",
    "# only do this if you want to recompute the retrieval\n",
    "\n",
    "#retrieval = Retrieval(n=100)\n",
    "#retrieval.precompute_all(threads=4)"
   ],
   "metadata": {
    "collapsed": false
   },
   "id": "4459a3d5daa479fa"
  },
  {
   "cell_type": "code",
   "execution_count": null,
   "id": "93d32489",
   "metadata": {},
   "outputs": [],
   "source": [
    "from utils import write_song_df_to_json_file\n",
    "\n",
    "write_song_df_to_json_file(\"frontend/static/songMeta.json\", datasets.information.df, datasets.url.df, datasets.genres.df)\n",
    "\n",
    "# frontend uses frontend/static/songMeta.json and retrievals/*.json\n"
   ]
  }
 ],
 "metadata": {
  "kernelspec": {
   "display_name": "Python 3 (ipykernel)",
   "language": "python",
   "name": "python3"
  },
  "language_info": {
   "codemirror_mode": {
    "name": "ipython",
    "version": 3
   },
   "file_extension": ".py",
   "mimetype": "text/x-python",
   "name": "python",
   "nbconvert_exporter": "python",
   "pygments_lexer": "ipython3",
   "version": "3.10.8"
  }
 },
 "nbformat": 4,
 "nbformat_minor": 5
}
