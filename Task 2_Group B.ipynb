{
 "cells": [
  {
   "cell_type": "markdown",
   "id": "4b45d764",
   "metadata": {},
   "source": [
    "<h1 style=\"color:rgb(0,120,170)\">344.038, KV Multimedia Search and Retrieval (WS2023/24)</h1>\n",
    "<h2 style=\"color:rgb(0,120,170)\">Task 2_Group B</h2>"
   ]
  },
  {
   "cell_type": "markdown",
   "id": "cf629014",
   "metadata": {},
   "source": [
    "| First Name | Family Name  | Matr.Nr   |\n",
    "|:-----------|:-------------|:----------|\n",
    "| Harald     | Eibensteiner | K01300179 |\n",
    "| Hadi       | Sanaei       | K11733444 |\n",
    "| Lukas      | Troyer       | K12006666 |\n",
    "| Lukas      | Wagner       | K01357626 |\n",
    "| Branko     | Paunović     | K12046370 |"
   ]
  },
  {
   "cell_type": "markdown",
   "id": "e37ef5cd",
   "metadata": {},
   "source": [
    "### Load Data & Imports"
   ]
  },
  {
   "cell_type": "code",
   "execution_count": 1,
   "id": "d6fe9727-ec04-4803-94d1-ed8d756e0db7",
   "metadata": {
    "ExecuteTime": {
     "end_time": "2023-11-14T10:09:07.018442437Z",
     "start_time": "2023-11-14T10:09:06.847374426Z"
    },
    "tags": []
   },
   "outputs": [],
   "source": [
    "import pandas as pd\n",
    "import numpy as np\n",
    "from sklearn.metrics.pairwise import cosine_similarity"
   ]
  },
  {
   "cell_type": "code",
   "execution_count": 2,
   "id": "3af338ed8dd6a1f1",
   "metadata": {
    "ExecuteTime": {
     "end_time": "2023-11-14T10:09:14.422295840Z",
     "start_time": "2023-11-14T10:09:14.355794732Z"
    }
   },
   "outputs": [],
   "source": [
    "information_data = pd.read_csv('datasets/id_information_mmsr.tsv', delimiter='\\t')\n",
    "\n",
    "blf_correlation_data = pd.read_csv('datasets/id_blf_correlation_mmsr.tsv', delimiter='\\t')\n",
    "blf_spectral_data = pd.read_csv('datasets/id_blf_spectral_mmsr.tsv', delimiter='\\t')\n",
    "\n",
    "mfcc_bow_data = pd.read_csv('datasets/id_mfcc_bow_mmsr.tsv', delimiter='\\t')\n",
    "mfcc_stats_data = pd.read_csv('datasets/id_mfcc_stats_mmsr.tsv', delimiter='\\t')\n",
    "\n",
    "ivec256_data = pd.read_csv('datasets/id_ivec256_mmsr.tsv', delimiter='\\t')\n",
    "ivec512_data = pd.read_csv('datasets/id_ivec512_mmsr.tsv', delimiter='\\t')\n",
    "\n",
    "musicnn_data = pd.read_csv('datasets/id_musicnn_mmsr.tsv', delimiter='\\t')\n"
   ]
  },
  {
   "cell_type": "markdown",
   "id": "6caa8a85",
   "metadata": {},
   "source": [
    "### Retrieve top N similar tracks"
   ]
  },
  {
   "cell_type": "code",
   "execution_count": 3,
   "id": "7ac9324a",
   "metadata": {},
   "outputs": [],
   "source": [
    "# Function to calculate similarity between two tracks\n",
    "def calculate_similarity(query_features, target_features):\n",
    "    similarity_matrix = cosine_similarity(query_features, target_features)\n",
    "    return similarity_matrix\n",
    "\n",
    "# Function to retrieve top N similar tracks\n",
    "def retrieve_top_similar_tracks(query_track_id, features_data, feature_columns, information_data, num_top_similar):\n",
    "    if query_track_id not in features_data['id'].values:\n",
    "        print(f\"Track ID {query_track_id} not found in the data.\")\n",
    "        return\n",
    "    \n",
    "    query_track_features = features_data[features_data['id'] == query_track_id].iloc[:, 1:].values\n",
    "\n",
    "    # Calculate similarity with the given features\n",
    "    similarity_matrix = calculate_similarity(query_track_features, features_data.iloc[:, 1:].values)\n",
    "\n",
    "    # Get the indices of the top N similar tracks\n",
    "    top_indices = np.argsort(similarity_matrix[0])[-num_top_similar:][::-1]\n",
    "\n",
    "    # Create a DataFrame to store the results\n",
    "    result_df = pd.DataFrame(columns=['Track ID', 'Similarity', 'Artist', 'Song'])\n",
    "\n",
    "\n",
    "    # Create a list to store rows\n",
    "    result_rows = []\n",
    "\n",
    "    # Populate the list with song and artist information\n",
    "    for track_index in top_indices:\n",
    "        track_id = features_data.loc[track_index, 'id']\n",
    "\n",
    "        info_row = information_data[information_data['id'] == track_id]\n",
    "        if not info_row.empty:\n",
    "            artist = info_row['artist'].values[0]\n",
    "            song = info_row['song'].values[0]\n",
    "\n",
    "            result_rows.append({\n",
    "                'Track ID': track_id,\n",
    "                'Similarity': similarity_matrix[0][track_index],\n",
    "                'Artist': artist,\n",
    "                'Song': song\n",
    "            })\n",
    "            \n",
    "    # Create the DataFrame from the list of dictionaries\n",
    "    result_df = pd.DataFrame(result_rows)\n",
    "\n",
    "    # Sort the DataFrame based on \"Similarity\" column\n",
    "    result_df = result_df.sort_values(by='Similarity', ascending=False)\n",
    "\n",
    "    # Display sorted results\n",
    "    print(f\"\\nTop {num_top_similar} Similar Tracks:\")\n",
    "    print(result_df)\n"
   ]
  },
  {
   "cell_type": "markdown",
   "id": "8b2d780f",
   "metadata": {},
   "source": [
    "### Audio-based(similarity, MFCC)"
   ]
  },
  {
   "cell_type": "code",
   "execution_count": 4,
   "id": "956303de",
   "metadata": {},
   "outputs": [
    {
     "name": "stdout",
     "output_type": "stream",
     "text": [
      "Enter the number of top similar tracks: 5\n",
      "\n",
      "Top 5 Similar Tracks:\n",
      "           Track ID  Similarity          Artist  \\\n",
      "0  GDGURAgKxNPEuXzM    1.000000  Monster Magnet   \n",
      "1  1fmfftKuLUstbtui    0.940009     Iron Maiden   \n",
      "2  W0I0QY8ucb4NcE3y    0.931293         Placebo   \n",
      "3  P3zsw3IZzxbf237f    0.930562        Chevelle   \n",
      "4  dhqEiyEoMOEDFjZE    0.928979      Candlemass   \n",
      "\n",
      "                               Song  \n",
      "0  Look to Your Orb for the Warning  \n",
      "1          When the Wild Wind Blows  \n",
      "2                       Haemoglobin  \n",
      "3                           Enemies  \n",
      "4                The Dying Illusion  \n",
      "\n",
      "Top 5 Similar Tracks:\n",
      "           Track ID  Similarity                 Artist  \\\n",
      "0  GDGURAgKxNPEuXzM    1.000000         Monster Magnet   \n",
      "1  c0oTPqvKZKkIyvkx    0.907322               Ladytron   \n",
      "2  48mN3L6l1FWVFNUX    0.906402  The Birthday Massacre   \n",
      "3  yUh1QII9semRCo19    0.905528            The Mission   \n",
      "4  4tE73sPTNQvO0BkP    0.905316       Ringo Deathstarr   \n",
      "\n",
      "                               Song  \n",
      "0  Look to Your Orb for the Warning  \n",
      "1                         Deep Blue  \n",
      "2                         Goodnight  \n",
      "3                       Deliverance  \n",
      "4                      Kaleidoscope  \n"
     ]
    }
   ],
   "source": [
    "# Sample query ID:  GDGURAgKxNPEuXzM\n",
    "\n",
    "num_top_similar = int(input(\"Enter the number of top similar tracks: \"))\n",
    "retrieve_top_similar_tracks(\"GDGURAgKxNPEuXzM\", mfcc_bow_data, mfcc_bow_data.columns[1:], information_data, num_top_similar)\n",
    "retrieve_top_similar_tracks(\"GDGURAgKxNPEuXzM\", mfcc_stats_data, mfcc_stats_data.columns[1:], information_data, num_top_similar)\n"
   ]
  },
  {
   "cell_type": "code",
   "execution_count": 5,
   "id": "82c6d356",
   "metadata": {},
   "outputs": [
    {
     "name": "stdout",
     "output_type": "stream",
     "text": [
      "\n",
      "Top 5 Similar Tracks:\n",
      "           Track ID  Similarity          Artist  \\\n",
      "0  GDGURAgKxNPEuXzM    1.000000  Monster Magnet   \n",
      "1  1fmfftKuLUstbtui    0.940009     Iron Maiden   \n",
      "2  W0I0QY8ucb4NcE3y    0.931293         Placebo   \n",
      "3  P3zsw3IZzxbf237f    0.930562        Chevelle   \n",
      "4  dhqEiyEoMOEDFjZE    0.928979      Candlemass   \n",
      "\n",
      "                               Song  \n",
      "0  Look to Your Orb for the Warning  \n",
      "1          When the Wild Wind Blows  \n",
      "2                       Haemoglobin  \n",
      "3                           Enemies  \n",
      "4                The Dying Illusion  \n",
      "\n",
      "Top 5 Similar Tracks:\n",
      "           Track ID  Similarity                 Artist  \\\n",
      "0  GDGURAgKxNPEuXzM    1.000000         Monster Magnet   \n",
      "1  c0oTPqvKZKkIyvkx    0.907322               Ladytron   \n",
      "2  48mN3L6l1FWVFNUX    0.906402  The Birthday Massacre   \n",
      "3  yUh1QII9semRCo19    0.905528            The Mission   \n",
      "4  4tE73sPTNQvO0BkP    0.905316       Ringo Deathstarr   \n",
      "\n",
      "                               Song  \n",
      "0  Look to Your Orb for the Warning  \n",
      "1                         Deep Blue  \n",
      "2                         Goodnight  \n",
      "3                       Deliverance  \n",
      "4                      Kaleidoscope  \n"
     ]
    }
   ],
   "source": [
    "#num_top_similar = int(input(\"Enter the number of top similar tracks: \"))\n",
    "retrieve_top_similar_tracks(\"GDGURAgKxNPEuXzM\", mfcc_bow_data, mfcc_bow_data.columns[1:], information_data, num_top_similar)\n",
    "retrieve_top_similar_tracks(\"GDGURAgKxNPEuXzM\", mfcc_stats_data, mfcc_stats_data.columns[1:], information_data, num_top_similar)"
   ]
  },
  {
   "cell_type": "markdown",
   "id": "e34305db",
   "metadata": {},
   "source": [
    "### Audio-based(similarity, BLFs)"
   ]
  },
  {
   "cell_type": "code",
   "execution_count": 6,
   "id": "432205c8",
   "metadata": {},
   "outputs": [
    {
     "name": "stdout",
     "output_type": "stream",
     "text": [
      "\n",
      "Top 5 Similar Tracks:\n",
      "           Track ID  Similarity                 Artist  \\\n",
      "0  GDGURAgKxNPEuXzM    1.000000         Monster Magnet   \n",
      "1  6PtJA0gCyouQ1DQ3    0.774222          The Offspring   \n",
      "2  mqJkX1enaX9MwXoy    0.762280            Descendents   \n",
      "3  0K2vsBA9smDZxKno    0.753529           Bad Religion   \n",
      "4  NMLi17kclJbJxQjs    0.746089  The Pigeon Detectives   \n",
      "\n",
      "                               Song  \n",
      "0  Look to Your Orb for the Warning  \n",
      "1                Stuff Is Messed Up  \n",
      "2                      Victim Of Me  \n",
      "3                 Markovian Process  \n",
      "4                       I Found Out  \n",
      "\n",
      "Top 5 Similar Tracks:\n",
      "           Track ID  Similarity                    Artist  \\\n",
      "0  GDGURAgKxNPEuXzM    1.000000            Monster Magnet   \n",
      "1  N3lLuewmtmcilyLd    0.942433                 Motörhead   \n",
      "2  8ikd0gLo4sAMaBnE    0.939286  Unknown Mortal Orchestra   \n",
      "3  RRZEwA4gez2F70f7    0.932766           Omnium Gatherum   \n",
      "4  hXg4xQvc1sgGkw1B    0.930391             Paradise Lost   \n",
      "\n",
      "                               Song  \n",
      "0  Look to Your Orb for the Warning  \n",
      "1                  Lost Woman Blues  \n",
      "2                      From the Sun  \n",
      "3                      Living In Me  \n",
      "4                            Gothic  \n"
     ]
    }
   ],
   "source": [
    "#num_top_similar = int(input(\"Enter the number of top similar tracks: \"))\n",
    "retrieve_top_similar_tracks(\"GDGURAgKxNPEuXzM\", blf_correlation_data, blf_correlation_data.columns[1:], information_data, num_top_similar)\n",
    "retrieve_top_similar_tracks(\"GDGURAgKxNPEuXzM\", blf_spectral_data, blf_spectral_data.columns[1:], information_data, num_top_similar)"
   ]
  },
  {
   "cell_type": "markdown",
   "id": "13d40c3b",
   "metadata": {},
   "source": [
    "### Audio-based(similarity, i-vectors)"
   ]
  },
  {
   "cell_type": "code",
   "execution_count": 7,
   "id": "3142de1e",
   "metadata": {},
   "outputs": [
    {
     "name": "stdout",
     "output_type": "stream",
     "text": [
      "\n",
      "Top 5 Similar Tracks:\n",
      "           Track ID  Similarity           Artist  \\\n",
      "0  GDGURAgKxNPEuXzM    1.000000   Monster Magnet   \n",
      "1  DNjUvcL366eWefpl    0.427675        Sepultura   \n",
      "2  JT4j4AEG4zHM5Fjv    0.397676         Mudvayne   \n",
      "3  gurWvetupCQwYE83    0.380437  Jeff Rosenstock   \n",
      "4  v9b0jR48vKbO7HZa    0.376609     Manfred Mann   \n",
      "\n",
      "                               Song  \n",
      "0  Look to Your Orb for the Warning  \n",
      "1                      Straighthate  \n",
      "2                A Cinderella Story  \n",
      "3                  Darkness Records  \n",
      "4                   Pretty Flamingo  \n",
      "\n",
      "Top 5 Similar Tracks:\n",
      "           Track ID  Similarity          Artist  \\\n",
      "0  GDGURAgKxNPEuXzM    1.000000  Monster Magnet   \n",
      "1  ssLA8i7a6EryN9XM    0.310392          Thalía   \n",
      "2  JT4j4AEG4zHM5Fjv    0.295929        Mudvayne   \n",
      "3  DNjUvcL366eWefpl    0.281713       Sepultura   \n",
      "4  v9b0jR48vKbO7HZa    0.277520    Manfred Mann   \n",
      "\n",
      "                               Song  \n",
      "0  Look to Your Orb for the Warning  \n",
      "1             No Puedo Vivir Sin Ti  \n",
      "2                A Cinderella Story  \n",
      "3                      Straighthate  \n",
      "4                   Pretty Flamingo  \n"
     ]
    }
   ],
   "source": [
    "#num_top_similar = int(input(\"Enter the number of top similar tracks: \"))\n",
    "retrieve_top_similar_tracks(\"GDGURAgKxNPEuXzM\", ivec256_data, ivec256_data.columns[1:], information_data, num_top_similar)\n",
    "retrieve_top_similar_tracks(\"GDGURAgKxNPEuXzM\", ivec512_data, ivec512_data.columns[1:], information_data, num_top_similar)"
   ]
  },
  {
   "cell_type": "markdown",
   "id": "dc1c3186",
   "metadata": {},
   "source": [
    "### Audio-based(similarity, musicnn)"
   ]
  },
  {
   "cell_type": "code",
   "execution_count": 8,
   "id": "411e0b1b",
   "metadata": {},
   "outputs": [
    {
     "name": "stdout",
     "output_type": "stream",
     "text": [
      "\n",
      "Top 5 Similar Tracks:\n",
      "           Track ID  Similarity          Artist  \\\n",
      "0  GDGURAgKxNPEuXzM    1.000000  Monster Magnet   \n",
      "1  1fmfftKuLUstbtui    0.996261     Iron Maiden   \n",
      "2  qwGkARjoeH6k0JDy    0.995610         Ramones   \n",
      "3  UOuWHCEIps7Mjz3E    0.995505           Oasis   \n",
      "4  1X00fAREh70517ij    0.995283    Running Wild   \n",
      "\n",
      "                               Song  \n",
      "0  Look to Your Orb for the Warning  \n",
      "1          When the Wild Wind Blows  \n",
      "2                  Carbona Not Glue  \n",
      "3                       Shakermaker  \n",
      "4                   Bad to the Bone  \n"
     ]
    }
   ],
   "source": [
    "#num_top_similar = int(input(\"Enter the number of top similar tracks: \"))\n",
    "retrieve_top_similar_tracks(\"GDGURAgKxNPEuXzM\", musicnn_data, musicnn_data.columns[1:], information_data, num_top_similar)"
   ]
  },
  {
   "cell_type": "markdown",
   "id": "9f7eeaf3",
   "metadata": {},
   "source": [
    "### Evaluation"
   ]
  },
  {
   "cell_type": "code",
   "execution_count": null,
   "id": "1f0d0a67",
   "metadata": {},
   "outputs": [],
   "source": []
  }
 ],
 "metadata": {
  "kernelspec": {
   "display_name": "Python 3 (ipykernel)",
   "language": "python",
   "name": "python3"
  },
  "language_info": {
   "codemirror_mode": {
    "name": "ipython",
    "version": 3
   },
   "file_extension": ".py",
   "mimetype": "text/x-python",
   "name": "python",
   "nbconvert_exporter": "python",
   "pygments_lexer": "ipython3",
   "version": "3.10.12"
  }
 },
 "nbformat": 4,
 "nbformat_minor": 5
}
