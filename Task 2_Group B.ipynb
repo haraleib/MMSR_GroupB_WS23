{
 "cells": [
  {
   "cell_type": "markdown",
   "id": "4b45d764",
   "metadata": {},
   "source": [
    "<h1 style=\"color:rgb(0,120,170)\">344.038, KV Multimedia Search and Retrieval (WS2023/24)</h1>\n",
    "<h2 style=\"color:rgb(0,120,170)\">Task 2_Group B</h2>"
   ]
  },
  {
   "cell_type": "markdown",
   "id": "cf629014",
   "metadata": {},
   "source": [
    "| First Name | Family Name  | Matr.Nr   |\n",
    "|:-----------|:-------------|:----------|\n",
    "| Harald     | Eibensteiner | K01300179 |\n",
    "| Hadi       | Sanaei       | K11733444 |\n",
    "| Lukas      | Troyer       | K12006666 |\n",
    "| Lukas      | Wagner       | K01357626 |\n",
    "| Branko     | Paunović     | K12046370 |"
   ]
  },
  {
   "cell_type": "markdown",
   "id": "e37ef5cd",
   "metadata": {},
   "source": [
    "### Load Data & Imports"
   ]
  },
  {
   "cell_type": "code",
   "execution_count": 1,
   "id": "d6fe9727-ec04-4803-94d1-ed8d756e0db7",
   "metadata": {
    "ExecuteTime": {
     "end_time": "2023-11-14T10:09:07.018442437Z",
     "start_time": "2023-11-14T10:09:06.847374426Z"
    },
    "tags": []
   },
   "outputs": [],
   "source": [
    "import pandas as pd\n",
    "import numpy as np\n",
    "from sklearn.metrics.pairwise import cosine_similarity"
   ]
  },
  {
   "cell_type": "code",
   "execution_count": 2,
   "id": "3af338ed8dd6a1f1",
   "metadata": {
    "ExecuteTime": {
     "end_time": "2023-11-14T10:09:14.422295840Z",
     "start_time": "2023-11-14T10:09:14.355794732Z"
    }
   },
   "outputs": [],
   "source": [
    "information_data = pd.read_csv('datasets/id_information_mmsr.tsv', delimiter='\\t')\n",
    "mfcc_bow_data = pd.read_csv('datasets/id_mfcc_bow_mmsr.tsv', delimiter='\\t')\n",
    "mfcc_stats_data = pd.read_csv('datasets/id_mfcc_stats_mmsr.tsv', delimiter='\\t')"
   ]
  },
  {
   "cell_type": "markdown",
   "id": "7974b79d",
   "metadata": {},
   "source": [
    "### Audio-based(similarity, MFCC)"
   ]
  },
  {
   "cell_type": "code",
   "execution_count": 3,
   "id": "b77dede0",
   "metadata": {},
   "outputs": [
    {
     "name": "stdout",
     "output_type": "stream",
     "text": [
      "Enter the number of top similar tracks: 3\n",
      "\n",
      "Top 3 Similar Tracks:\n",
      "           Track ID  Similarity          Artist  \\\n",
      "0  GDGURAgKxNPEuXzM    1.000000  Monster Magnet   \n",
      "1  1fmfftKuLUstbtui    0.940009     Iron Maiden   \n",
      "2  W0I0QY8ucb4NcE3y    0.931293         Placebo   \n",
      "\n",
      "                               Song  \n",
      "0  Look to Your Orb for the Warning  \n",
      "1          When the Wild Wind Blows  \n",
      "2                       Haemoglobin  \n",
      "\n",
      "Top 3 Similar Tracks:\n",
      "           Track ID  Similarity                 Artist  \\\n",
      "0  GDGURAgKxNPEuXzM    1.000000         Monster Magnet   \n",
      "1  c0oTPqvKZKkIyvkx    0.907322               Ladytron   \n",
      "2  48mN3L6l1FWVFNUX    0.906402  The Birthday Massacre   \n",
      "\n",
      "                               Song  \n",
      "0  Look to Your Orb for the Warning  \n",
      "1                         Deep Blue  \n",
      "2                         Goodnight  \n"
     ]
    }
   ],
   "source": [
    "# Function to calculate similarity between two tracks\n",
    "def calculate_similarity(query_features, target_features):\n",
    "    similarity_matrix = cosine_similarity(query_features, target_features)\n",
    "    return similarity_matrix\n",
    "\n",
    "# Function to retrieve top N similar tracks\n",
    "def retrieve_top_similar_tracks(query_track_id, features_data, feature_columns, information_data, num_top_similar):\n",
    "    if query_track_id not in features_data['id'].values:\n",
    "        print(f\"Track ID {query_track_id} not found in the data.\")\n",
    "        return\n",
    "    \n",
    "    query_track_features = features_data[features_data['id'] == query_track_id].iloc[:, 1:].values\n",
    "\n",
    "    # Calculate similarity with the given features\n",
    "    similarity_matrix = calculate_similarity(query_track_features, features_data.iloc[:, 1:].values)\n",
    "\n",
    "    # Get the indices of the top N similar tracks\n",
    "    top_indices = np.argsort(similarity_matrix[0])[-num_top_similar:][::-1]\n",
    "\n",
    "    # Create a DataFrame to store the results\n",
    "    result_df = pd.DataFrame(columns=['Track ID', 'Similarity', 'Artist', 'Song'])\n",
    "\n",
    "\n",
    "    # Create a list to store rows\n",
    "    result_rows = []\n",
    "\n",
    "    # Populate the list with song and artist information\n",
    "    for track_index in top_indices:\n",
    "        track_id = features_data.loc[track_index, 'id']\n",
    "\n",
    "        info_row = information_data[information_data['id'] == track_id]\n",
    "        if not info_row.empty:\n",
    "            artist = info_row['artist'].values[0]\n",
    "            song = info_row['song'].values[0]\n",
    "\n",
    "            result_rows.append({\n",
    "                'Track ID': track_id,\n",
    "                'Similarity': similarity_matrix[0][track_index],\n",
    "                'Artist': artist,\n",
    "                'Song': song\n",
    "            })\n",
    "            \n",
    "    # Create the DataFrame from the list of dictionaries\n",
    "    result_df = pd.DataFrame(result_rows)\n",
    "\n",
    "    # Sort the DataFrame based on \"Similarity\" column\n",
    "    result_df = result_df.sort_values(by='Similarity', ascending=False)\n",
    "\n",
    "    # Display sorted results\n",
    "    print(f\"\\nTop {num_top_similar} Similar Tracks:\")\n",
    "    print(result_df)\n",
    "\n",
    "\n",
    "def main():\n",
    "\n",
    "    num_top_similar = int(input(\"Enter the number of top similar tracks: \"))\n",
    "    retrieve_top_similar_tracks(\"GDGURAgKxNPEuXzM\", mfcc_bow_data, mfcc_bow_data.columns[1:], information_data, num_top_similar)\n",
    "    retrieve_top_similar_tracks(\"GDGURAgKxNPEuXzM\", mfcc_stats_data, mfcc_stats_data.columns[1:], information_data, num_top_similar)\n",
    "\n",
    "if __name__ == \"__main__\":\n",
    "    main()\n",
    "\n",
    "    \n",
    "# Sample query ID:  GDGURAgKxNPEuXzM"
   ]
  },
  {
   "cell_type": "markdown",
   "id": "ebf56042",
   "metadata": {},
   "source": [
    "### Audio-based(similarity, BLFs)"
   ]
  },
  {
   "cell_type": "code",
   "execution_count": null,
   "id": "9e97d4b1",
   "metadata": {},
   "outputs": [],
   "source": []
  },
  {
   "cell_type": "markdown",
   "id": "5c1dda90",
   "metadata": {},
   "source": [
    "### Audio-based(similarity, i-vectors)"
   ]
  },
  {
   "cell_type": "code",
   "execution_count": null,
   "id": "2f34de64",
   "metadata": {},
   "outputs": [],
   "source": []
  },
  {
   "cell_type": "markdown",
   "id": "1dca8104",
   "metadata": {},
   "source": [
    "### Audio-based(similarity, musicnn)"
   ]
  },
  {
   "cell_type": "code",
   "execution_count": null,
   "id": "f83acc82",
   "metadata": {},
   "outputs": [],
   "source": []
  },
  {
   "cell_type": "markdown",
   "id": "a78c98d1",
   "metadata": {},
   "source": [
    "### Evaluation"
   ]
  },
  {
   "cell_type": "code",
   "execution_count": null,
   "id": "93e0a258",
   "metadata": {},
   "outputs": [],
   "source": []
  }
 ],
 "metadata": {
  "kernelspec": {
   "display_name": "Python 3 (ipykernel)",
   "language": "python",
   "name": "python3"
  },
  "language_info": {
   "codemirror_mode": {
    "name": "ipython",
    "version": 3
   },
   "file_extension": ".py",
   "mimetype": "text/x-python",
   "name": "python",
   "nbconvert_exporter": "python",
   "pygments_lexer": "ipython3",
   "version": "3.10.12"
  }
 },
 "nbformat": 4,
 "nbformat_minor": 5
}
